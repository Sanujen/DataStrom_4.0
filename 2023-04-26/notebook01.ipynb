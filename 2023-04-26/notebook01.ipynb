{
 "cells": [
  {
   "cell_type": "code",
   "execution_count": 1,
   "id": "4552e40c",
   "metadata": {
    "_cell_guid": "b1076dfc-b9ad-4769-8c92-a6c4dae69d19",
    "_uuid": "8f2839f25d086af736a60e9eeb907d3b93b6e0e5",
    "execution": {
     "iopub.execute_input": "2023-04-26T15:16:50.532778Z",
     "iopub.status.busy": "2023-04-26T15:16:50.532297Z",
     "iopub.status.idle": "2023-04-26T15:16:52.437537Z",
     "shell.execute_reply": "2023-04-26T15:16:52.435319Z"
    },
    "papermill": {
     "duration": 1.926572,
     "end_time": "2023-04-26T15:16:52.441188",
     "exception": false,
     "start_time": "2023-04-26T15:16:50.514616",
     "status": "completed"
    },
    "tags": []
   },
   "outputs": [
    {
     "name": "stdout",
     "output_type": "stream",
     "text": [
      "/kaggle/input/data-storm-4/Data-dictionary.xlsx\n",
      "/kaggle/input/data-storm-4/DataStorm4.0_KaggleProblemStatement.pdf\n",
      "/kaggle/input/data-storm-4/Store-info.csv\n",
      "/kaggle/input/data-storm-4/Testing-data.csv\n",
      "/kaggle/input/data-storm-4/Historical-transaction-data.csv\n"
     ]
    }
   ],
   "source": [
    "# This Python 3 environment comes with many helpful analytics libraries installed\n",
    "# It is defined by the kaggle/python Docker image: https://github.com/kaggle/docker-python\n",
    "# For example, here's several helpful packages to load\n",
    "\n",
    "import numpy as np\n",
    "import pandas as pd\n",
    "import matplotlib.pyplot as plt\n",
    "import seaborn as sns\n",
    "#%matplotlib inline\n",
    "sns.set()\n",
    "from sklearn.feature_selection import mutual_info_regression\n",
    "import seaborn as sns\n",
    "from sklearn.model_selection import train_test_split\n",
    "from sklearn.preprocessing import StandardScaler\n",
    "from sklearn.ensemble import RandomForestClassifier\n",
    "from sklearn.model_selection import cross_val_score\n",
    "from sklearn.metrics import accuracy_score\n",
    "from sklearn.metrics import accuracy_score, precision_score, recall_score, f1_score\n",
    "from sklearn.preprocessing import LabelEncoder\n",
    "# Input data files are available in the read-only \"../input/\" directory\n",
    "# For example, running this (by clicking run or pressing Shift+Enter) will list all files under the input directory\n",
    "\n",
    "import os\n",
    "for dirname, _, filenames in os.walk('/kaggle/input'):\n",
    "    for filename in filenames:\n",
    "        print(os.path.join(dirname, filename))\n",
    "\n",
    "# You can write up to 20GB to the current directory (/kaggle/working/) that gets preserved as output when you create a version using \"Save & Run All\" \n",
    "# You can also write temporary files to /kaggle/temp/, but they won't be saved outside of the current session"
   ]
  },
  {
   "cell_type": "code",
   "execution_count": 2,
   "id": "3fb3a682",
   "metadata": {
    "execution": {
     "iopub.execute_input": "2023-04-26T15:16:52.473840Z",
     "iopub.status.busy": "2023-04-26T15:16:52.473282Z",
     "iopub.status.idle": "2023-04-26T15:16:53.730729Z",
     "shell.execute_reply": "2023-04-26T15:16:53.728616Z"
    },
    "papermill": {
     "duration": 1.278,
     "end_time": "2023-04-26T15:16:53.734240",
     "exception": false,
     "start_time": "2023-04-26T15:16:52.456240",
     "status": "completed"
    },
    "tags": []
   },
   "outputs": [],
   "source": [
    "df = pd.read_csv('/kaggle/input/data-storm-4/Historical-transaction-data.csv')\n",
    "store_info_data = pd.read_csv('/kaggle/input/data-storm-4/Store-info.csv')\n",
    "test_data = pd.read_csv('/kaggle/input/data-storm-4/Testing-data.csv')"
   ]
  },
  {
   "cell_type": "code",
   "execution_count": 3,
   "id": "8b62de75",
   "metadata": {
    "execution": {
     "iopub.execute_input": "2023-04-26T15:16:53.765280Z",
     "iopub.status.busy": "2023-04-26T15:16:53.764782Z",
     "iopub.status.idle": "2023-04-26T15:16:53.784946Z",
     "shell.execute_reply": "2023-04-26T15:16:53.783564Z"
    },
    "papermill": {
     "duration": 0.038835,
     "end_time": "2023-04-26T15:16:53.787745",
     "exception": false,
     "start_time": "2023-04-26T15:16:53.748910",
     "status": "completed"
    },
    "tags": []
   },
   "outputs": [
    {
     "data": {
      "text/plain": [
       "shop_id         24\n",
       "shop_profile     0\n",
       "dtype: int64"
      ]
     },
     "execution_count": 3,
     "metadata": {},
     "output_type": "execute_result"
    }
   ],
   "source": [
    "test_data.count()"
   ]
  },
  {
   "cell_type": "code",
   "execution_count": 4,
   "id": "6b97c291",
   "metadata": {
    "execution": {
     "iopub.execute_input": "2023-04-26T15:16:53.820652Z",
     "iopub.status.busy": "2023-04-26T15:16:53.820156Z",
     "iopub.status.idle": "2023-04-26T15:16:53.830865Z",
     "shell.execute_reply": "2023-04-26T15:16:53.829325Z"
    },
    "papermill": {
     "duration": 0.029817,
     "end_time": "2023-04-26T15:16:53.833706",
     "exception": false,
     "start_time": "2023-04-26T15:16:53.803889",
     "status": "completed"
    },
    "tags": []
   },
   "outputs": [
    {
     "data": {
      "text/plain": [
       "shop_id             0\n",
       "shop_area_sq_ft     0\n",
       "shop_profile       24\n",
       "dtype: int64"
      ]
     },
     "execution_count": 4,
     "metadata": {},
     "output_type": "execute_result"
    }
   ],
   "source": [
    "store_info_data.isna().sum()"
   ]
  },
  {
   "cell_type": "code",
   "execution_count": 5,
   "id": "c378bf4b",
   "metadata": {
    "execution": {
     "iopub.execute_input": "2023-04-26T15:16:53.864818Z",
     "iopub.status.busy": "2023-04-26T15:16:53.864357Z",
     "iopub.status.idle": "2023-04-26T15:16:53.869738Z",
     "shell.execute_reply": "2023-04-26T15:16:53.868211Z"
    },
    "papermill": {
     "duration": 0.024015,
     "end_time": "2023-04-26T15:16:53.872351",
     "exception": false,
     "start_time": "2023-04-26T15:16:53.848336",
     "status": "completed"
    },
    "tags": []
   },
   "outputs": [],
   "source": [
    "# # Create a mapping between item_price values and item_description values\n",
    "# price_to_description = df.groupby('item_description')['item_price'].apply(lambda x: x.mode()[0]).to_dict()\n",
    "\n",
    "# # Fill missing values in 'item_description' column using mapping\n",
    "# df['item_description'].fillna(df['item_price'].map(price_to_description), inplace=True)"
   ]
  },
  {
   "cell_type": "code",
   "execution_count": 6,
   "id": "55c201ad",
   "metadata": {
    "execution": {
     "iopub.execute_input": "2023-04-26T15:16:53.903378Z",
     "iopub.status.busy": "2023-04-26T15:16:53.902945Z",
     "iopub.status.idle": "2023-04-26T15:16:54.031014Z",
     "shell.execute_reply": "2023-04-26T15:16:54.029103Z"
    },
    "papermill": {
     "duration": 0.147473,
     "end_time": "2023-04-26T15:16:54.034372",
     "exception": false,
     "start_time": "2023-04-26T15:16:53.886899",
     "status": "completed"
    },
    "tags": []
   },
   "outputs": [
    {
     "name": "stdout",
     "output_type": "stream",
     "text": [
      "<class 'pandas.core.frame.DataFrame'>\n",
      "RangeIndex: 473974 entries, 0 to 473973\n",
      "Data columns (total 7 columns):\n",
      " #   Column            Non-Null Count   Dtype  \n",
      "---  ------            --------------   -----  \n",
      " 0   item_description  438046 non-null  object \n",
      " 1   transaction_date  473974 non-null  object \n",
      " 2   invoice_id        467654 non-null  float64\n",
      " 3   customer_id       473974 non-null  object \n",
      " 4   shop_id           473974 non-null  object \n",
      " 5   item_price        473974 non-null  int64  \n",
      " 6   quantity_sold     473974 non-null  int64  \n",
      "dtypes: float64(1), int64(2), object(4)\n",
      "memory usage: 25.3+ MB\n"
     ]
    }
   ],
   "source": [
    "df.info()"
   ]
  },
  {
   "cell_type": "code",
   "execution_count": 7,
   "id": "b9d92d12",
   "metadata": {
    "execution": {
     "iopub.execute_input": "2023-04-26T15:16:54.065646Z",
     "iopub.status.busy": "2023-04-26T15:16:54.065121Z",
     "iopub.status.idle": "2023-04-26T15:16:54.397880Z",
     "shell.execute_reply": "2023-04-26T15:16:54.395979Z"
    },
    "papermill": {
     "duration": 0.352248,
     "end_time": "2023-04-26T15:16:54.401240",
     "exception": false,
     "start_time": "2023-04-26T15:16:54.048992",
     "status": "completed"
    },
    "tags": []
   },
   "outputs": [
    {
     "name": "stdout",
     "output_type": "stream",
     "text": [
      "item_description    35928\n",
      "transaction_date        0\n",
      "invoice_id           6320\n",
      "customer_id             0\n",
      "shop_id                 0\n",
      "item_price              0\n",
      "quantity_sold           0\n",
      "dtype: int64\n",
      "item_description    0\n",
      "transaction_date    0\n",
      "invoice_id          0\n",
      "customer_id         0\n",
      "shop_id             0\n",
      "item_price          0\n",
      "quantity_sold       0\n",
      "dtype: int64\n"
     ]
    }
   ],
   "source": [
    "print(df.isnull().sum())\n",
    "df.fillna(method='ffill',inplace=True)\n",
    "print(df.isnull().sum())"
   ]
  },
  {
   "cell_type": "code",
   "execution_count": 8,
   "id": "a48af6a3",
   "metadata": {
    "execution": {
     "iopub.execute_input": "2023-04-26T15:16:54.433697Z",
     "iopub.status.busy": "2023-04-26T15:16:54.433168Z",
     "iopub.status.idle": "2023-04-26T15:16:54.444480Z",
     "shell.execute_reply": "2023-04-26T15:16:54.442766Z"
    },
    "papermill": {
     "duration": 0.030915,
     "end_time": "2023-04-26T15:16:54.447628",
     "exception": false,
     "start_time": "2023-04-26T15:16:54.416713",
     "status": "completed"
    },
    "tags": []
   },
   "outputs": [],
   "source": [
    "df['quantity_sold'] = df.quantity_sold.abs()"
   ]
  },
  {
   "cell_type": "code",
   "execution_count": 9,
   "id": "d859775d",
   "metadata": {
    "execution": {
     "iopub.execute_input": "2023-04-26T15:16:54.482318Z",
     "iopub.status.busy": "2023-04-26T15:16:54.481817Z",
     "iopub.status.idle": "2023-04-26T15:16:55.900247Z",
     "shell.execute_reply": "2023-04-26T15:16:55.898572Z"
    },
    "papermill": {
     "duration": 1.439761,
     "end_time": "2023-04-26T15:16:55.903265",
     "exception": false,
     "start_time": "2023-04-26T15:16:54.463504",
     "status": "completed"
    },
    "tags": []
   },
   "outputs": [
    {
     "name": "stdout",
     "output_type": "stream",
     "text": [
      "0\n"
     ]
    }
   ],
   "source": [
    "df[df.duplicated()].shape[0]\n",
    "df.drop_duplicates(inplace=True)\n",
    "print(df[df.duplicated()].shape[0])"
   ]
  },
  {
   "cell_type": "code",
   "execution_count": 10,
   "id": "04cfc737",
   "metadata": {
    "execution": {
     "iopub.execute_input": "2023-04-26T15:16:55.937271Z",
     "iopub.status.busy": "2023-04-26T15:16:55.935605Z",
     "iopub.status.idle": "2023-04-26T15:16:56.054309Z",
     "shell.execute_reply": "2023-04-26T15:16:56.052887Z"
    },
    "papermill": {
     "duration": 0.140148,
     "end_time": "2023-04-26T15:16:56.058520",
     "exception": false,
     "start_time": "2023-04-26T15:16:55.918372",
     "status": "completed"
    },
    "tags": []
   },
   "outputs": [
    {
     "name": "stdout",
     "output_type": "stream",
     "text": [
      "<class 'pandas.core.frame.DataFrame'>\n",
      "Int64Index: 442747 entries, 0 to 473973\n",
      "Data columns (total 7 columns):\n",
      " #   Column            Non-Null Count   Dtype  \n",
      "---  ------            --------------   -----  \n",
      " 0   item_description  442747 non-null  object \n",
      " 1   transaction_date  442747 non-null  object \n",
      " 2   invoice_id        442747 non-null  float64\n",
      " 3   customer_id       442747 non-null  object \n",
      " 4   shop_id           442747 non-null  object \n",
      " 5   item_price        442747 non-null  int64  \n",
      " 6   quantity_sold     442747 non-null  int64  \n",
      "dtypes: float64(1), int64(2), object(4)\n",
      "memory usage: 27.0+ MB\n"
     ]
    }
   ],
   "source": [
    "df.info()"
   ]
  },
  {
   "cell_type": "code",
   "execution_count": 11,
   "id": "1a023ed0",
   "metadata": {
    "execution": {
     "iopub.execute_input": "2023-04-26T15:16:56.091495Z",
     "iopub.status.busy": "2023-04-26T15:16:56.091023Z",
     "iopub.status.idle": "2023-04-26T15:16:56.262896Z",
     "shell.execute_reply": "2023-04-26T15:16:56.261295Z"
    },
    "papermill": {
     "duration": 0.193322,
     "end_time": "2023-04-26T15:16:56.267132",
     "exception": false,
     "start_time": "2023-04-26T15:16:56.073810",
     "status": "completed"
    },
    "tags": []
   },
   "outputs": [],
   "source": [
    "# Group transactions by item description\n",
    "grouped = df.groupby('item_description')\n",
    "\n",
    "# Add a new column for item price with the mode value of each group\n",
    "df['item_price'] = grouped['item_price'].transform(lambda x: x.mode()[0])"
   ]
  },
  {
   "cell_type": "code",
   "execution_count": 12,
   "id": "8a32f4fb",
   "metadata": {
    "execution": {
     "iopub.execute_input": "2023-04-26T15:16:56.300791Z",
     "iopub.status.busy": "2023-04-26T15:16:56.299586Z",
     "iopub.status.idle": "2023-04-26T15:16:56.339826Z",
     "shell.execute_reply": "2023-04-26T15:16:56.338332Z"
    },
    "papermill": {
     "duration": 0.060799,
     "end_time": "2023-04-26T15:16:56.343377",
     "exception": false,
     "start_time": "2023-04-26T15:16:56.282578",
     "status": "completed"
    },
    "tags": []
   },
   "outputs": [
    {
     "name": "stdout",
     "output_type": "stream",
     "text": [
      "            item_description          transaction_date  invoice_id  \\\n",
      "0         ORANGE BARLEY 1.5L  2021-12-11T00:00:00.000Z       147.0   \n",
      "1           GINGER BEER 1.5L  2021-10-17T00:00:00.000Z       371.0   \n",
      "2            TONIC PET 500ML  2021-12-13T00:00:00.000Z       484.0   \n",
      "3              CREAM SODA 1L  2021-12-13T00:00:00.000Z       484.0   \n",
      "4      STRAWBERRY MILK 180ML  2021-10-23T00:00:00.000Z      1310.0   \n",
      "...                      ...                       ...         ...   \n",
      "65149   CHOCOLATE MILK 180ML  2021-12-14T00:00:00.000Z   2007816.0   \n",
      "65151   CHOCOLATE MILK 180ML  2021-10-22T00:00:00.000Z   2016254.0   \n",
      "75311    LIME CRUSH JUICE 1L  2021-12-04T00:00:00.000Z   1310839.0   \n",
      "75313    LIME CRUSH JUICE 1L  2021-12-04T00:00:00.000Z   1310839.0   \n",
      "75314    LIME CRUSH JUICE 1L  2021-12-04T00:00:00.000Z   1310839.0   \n",
      "\n",
      "      customer_id  shop_id  item_price  quantity_sold  \n",
      "0            BGXA  SHOP008         220              2  \n",
      "1            IA25  SHOP112         220              2  \n",
      "2            VN7V  SHOP008         160              2  \n",
      "3            VN7V  SHOP008         150              2  \n",
      "4            7S00  SHOP112          70              5  \n",
      "...           ...      ...         ...            ...  \n",
      "65149        7ZOS  SHOP055         140              2  \n",
      "65151        CVW6  SHOP003         140              3  \n",
      "75311        Y3OX  SHOP089         650              2  \n",
      "75313        Y3OX  SHOP089         650              1  \n",
      "75314        Y3OX  SHOP089         650              0  \n",
      "\n",
      "[185 rows x 7 columns]\n"
     ]
    }
   ],
   "source": [
    "print(grouped.head())"
   ]
  },
  {
   "cell_type": "code",
   "execution_count": 13,
   "id": "d16704e0",
   "metadata": {
    "execution": {
     "iopub.execute_input": "2023-04-26T15:16:56.375315Z",
     "iopub.status.busy": "2023-04-26T15:16:56.374829Z",
     "iopub.status.idle": "2023-04-26T15:16:56.388996Z",
     "shell.execute_reply": "2023-04-26T15:16:56.387316Z"
    },
    "papermill": {
     "duration": 0.033542,
     "end_time": "2023-04-26T15:16:56.391900",
     "exception": false,
     "start_time": "2023-04-26T15:16:56.358358",
     "status": "completed"
    },
    "tags": []
   },
   "outputs": [
    {
     "data": {
      "text/plain": [
       "array([220, 160, 150,  70, 270,  60, 290, 120, 100,  35, 110,  80, 140,\n",
       "       650])"
      ]
     },
     "execution_count": 13,
     "metadata": {},
     "output_type": "execute_result"
    }
   ],
   "source": [
    "df.item_price.unique()"
   ]
  },
  {
   "cell_type": "code",
   "execution_count": 14,
   "id": "3ce0bd37",
   "metadata": {
    "execution": {
     "iopub.execute_input": "2023-04-26T15:16:56.424100Z",
     "iopub.status.busy": "2023-04-26T15:16:56.423616Z",
     "iopub.status.idle": "2023-04-26T15:16:56.429904Z",
     "shell.execute_reply": "2023-04-26T15:16:56.428164Z"
    },
    "papermill": {
     "duration": 0.025598,
     "end_time": "2023-04-26T15:16:56.432470",
     "exception": false,
     "start_time": "2023-04-26T15:16:56.406872",
     "status": "completed"
    },
    "tags": []
   },
   "outputs": [],
   "source": [
    "# df_test = dataframe[dataframe['shop_profile'].isnull()]"
   ]
  },
  {
   "cell_type": "code",
   "execution_count": 15,
   "id": "5997fc70",
   "metadata": {
    "execution": {
     "iopub.execute_input": "2023-04-26T15:16:56.465389Z",
     "iopub.status.busy": "2023-04-26T15:16:56.464547Z",
     "iopub.status.idle": "2023-04-26T15:16:56.469946Z",
     "shell.execute_reply": "2023-04-26T15:16:56.468542Z"
    },
    "papermill": {
     "duration": 0.025167,
     "end_time": "2023-04-26T15:16:56.472727",
     "exception": false,
     "start_time": "2023-04-26T15:16:56.447560",
     "status": "completed"
    },
    "tags": []
   },
   "outputs": [],
   "source": [
    "# df_train = dataframe[dataframe['shop_profile'].notnull()]"
   ]
  },
  {
   "cell_type": "code",
   "execution_count": 16,
   "id": "0e58ea29",
   "metadata": {
    "execution": {
     "iopub.execute_input": "2023-04-26T15:16:56.506282Z",
     "iopub.status.busy": "2023-04-26T15:16:56.505565Z",
     "iopub.status.idle": "2023-04-26T15:16:56.509851Z",
     "shell.execute_reply": "2023-04-26T15:16:56.508850Z"
    },
    "papermill": {
     "duration": 0.02376,
     "end_time": "2023-04-26T15:16:56.512232",
     "exception": false,
     "start_time": "2023-04-26T15:16:56.488472",
     "status": "completed"
    },
    "tags": []
   },
   "outputs": [],
   "source": [
    "# df = df_train"
   ]
  },
  {
   "cell_type": "code",
   "execution_count": 17,
   "id": "4143f498",
   "metadata": {
    "execution": {
     "iopub.execute_input": "2023-04-26T15:16:56.544505Z",
     "iopub.status.busy": "2023-04-26T15:16:56.543778Z",
     "iopub.status.idle": "2023-04-26T15:16:56.548026Z",
     "shell.execute_reply": "2023-04-26T15:16:56.547039Z"
    },
    "papermill": {
     "duration": 0.022999,
     "end_time": "2023-04-26T15:16:56.550297",
     "exception": false,
     "start_time": "2023-04-26T15:16:56.527298",
     "status": "completed"
    },
    "tags": []
   },
   "outputs": [],
   "source": [
    "# df =  df.reset_index(drop=True)"
   ]
  },
  {
   "cell_type": "code",
   "execution_count": 18,
   "id": "b66f6fa0",
   "metadata": {
    "execution": {
     "iopub.execute_input": "2023-04-26T15:16:56.583265Z",
     "iopub.status.busy": "2023-04-26T15:16:56.582536Z",
     "iopub.status.idle": "2023-04-26T15:17:04.040935Z",
     "shell.execute_reply": "2023-04-26T15:17:04.039372Z"
    },
    "papermill": {
     "duration": 7.478996,
     "end_time": "2023-04-26T15:17:04.044382",
     "exception": false,
     "start_time": "2023-04-26T15:16:56.565386",
     "status": "completed"
    },
    "tags": []
   },
   "outputs": [],
   "source": [
    "from datetime import datetime\n",
    "\n",
    "def extract_date(date_str):\n",
    "    date_obj = datetime.strptime(date_str, \"%Y-%m-%dT%H:%M:%S.%fZ\")\n",
    "    return date_obj.strftime(\"%Y-%m-%d\")\n",
    "\n",
    "df[\"transaction_date\"] = df[\"transaction_date\"].apply(extract_date)"
   ]
  },
  {
   "cell_type": "code",
   "execution_count": 19,
   "id": "5fdf45c3",
   "metadata": {
    "execution": {
     "iopub.execute_input": "2023-04-26T15:17:04.077125Z",
     "iopub.status.busy": "2023-04-26T15:17:04.075978Z",
     "iopub.status.idle": "2023-04-26T15:17:04.426566Z",
     "shell.execute_reply": "2023-04-26T15:17:04.425111Z"
    },
    "papermill": {
     "duration": 0.3709,
     "end_time": "2023-04-26T15:17:04.430536",
     "exception": false,
     "start_time": "2023-04-26T15:17:04.059636",
     "status": "completed"
    },
    "tags": []
   },
   "outputs": [],
   "source": [
    "# Convert the date column to a Pandas datetime object\n",
    "df[\"transaction_date\"] = pd.to_datetime(df[\"transaction_date\"])\n",
    "\n",
    "# Extract the year, month, day, and week of the year into separate columns\n",
    "df[\"month\"] = df[\"transaction_date\"].dt.month\n",
    "df[\"day\"] = df[\"transaction_date\"].dt.day\n",
    "df[\"week\"] = df[\"transaction_date\"].dt.isocalendar().week"
   ]
  },
  {
   "cell_type": "code",
   "execution_count": 20,
   "id": "e965b0d5",
   "metadata": {
    "execution": {
     "iopub.execute_input": "2023-04-26T15:17:04.465757Z",
     "iopub.status.busy": "2023-04-26T15:17:04.464500Z",
     "iopub.status.idle": "2023-04-26T15:17:04.471157Z",
     "shell.execute_reply": "2023-04-26T15:17:04.469438Z"
    },
    "papermill": {
     "duration": 0.026437,
     "end_time": "2023-04-26T15:17:04.474175",
     "exception": false,
     "start_time": "2023-04-26T15:17:04.447738",
     "status": "completed"
    },
    "tags": []
   },
   "outputs": [],
   "source": [
    "# for colname in df.select_dtypes([\"category\", \"object\"]):\n",
    "#         df[colname], _ = df[colname].factorize()"
   ]
  },
  {
   "cell_type": "code",
   "execution_count": 21,
   "id": "a315535e",
   "metadata": {
    "execution": {
     "iopub.execute_input": "2023-04-26T15:17:04.508611Z",
     "iopub.status.busy": "2023-04-26T15:17:04.508066Z",
     "iopub.status.idle": "2023-04-26T15:17:05.486372Z",
     "shell.execute_reply": "2023-04-26T15:17:05.484727Z"
    },
    "papermill": {
     "duration": 1.000031,
     "end_time": "2023-04-26T15:17:05.489615",
     "exception": false,
     "start_time": "2023-04-26T15:17:04.489584",
     "status": "completed"
    },
    "tags": []
   },
   "outputs": [],
   "source": [
    "# Group the data by shop and customer, and count the number of transactions\n",
    "transactions = df.groupby([\"shop_id\", \"customer_id\"])[\"invoice_id\"].nunique()\n",
    "\n",
    "# Count the number of customers who made more than one transaction at each shop\n",
    "repeat_customers = transactions[transactions > 1].groupby(\"shop_id\").count()\n",
    "\n",
    "# Count the total number of unique customers who made a transaction at each shop\n",
    "total_customers = transactions.groupby(\"shop_id\").count()\n",
    "\n",
    "# Calculate the customer loyalty rate for each shop\n",
    "loyalty_rate = repeat_customers / total_customers\n",
    "\n",
    "# Reset the index of the loyalty_rate Series and rename the columns\n",
    "loyalty_rate = loyalty_rate.reset_index()\n",
    "loyalty_rate.columns = [\"shop_id\", \"loyalty_rate\"]\n",
    "\n",
    "# Merge the loyalty rate with the original DataFrame on the \"shop_id\" column\n",
    "df = pd.merge(df, loyalty_rate, on=\"shop_id\")"
   ]
  },
  {
   "cell_type": "code",
   "execution_count": 22,
   "id": "98becf80",
   "metadata": {
    "execution": {
     "iopub.execute_input": "2023-04-26T15:17:05.523124Z",
     "iopub.status.busy": "2023-04-26T15:17:05.521835Z",
     "iopub.status.idle": "2023-04-26T15:17:05.626493Z",
     "shell.execute_reply": "2023-04-26T15:17:05.625160Z"
    },
    "papermill": {
     "duration": 0.125109,
     "end_time": "2023-04-26T15:17:05.629753",
     "exception": false,
     "start_time": "2023-04-26T15:17:05.504644",
     "status": "completed"
    },
    "tags": []
   },
   "outputs": [],
   "source": [
    "df = df.drop([\"transaction_date\",\"invoice_id\"], axis= 1)"
   ]
  },
  {
   "cell_type": "code",
   "execution_count": 23,
   "id": "7f4af98b",
   "metadata": {
    "execution": {
     "iopub.execute_input": "2023-04-26T15:17:05.662418Z",
     "iopub.status.busy": "2023-04-26T15:17:05.661973Z",
     "iopub.status.idle": "2023-04-26T15:17:05.696256Z",
     "shell.execute_reply": "2023-04-26T15:17:05.694908Z"
    },
    "papermill": {
     "duration": 0.055603,
     "end_time": "2023-04-26T15:17:05.699992",
     "exception": false,
     "start_time": "2023-04-26T15:17:05.644389",
     "status": "completed"
    },
    "tags": []
   },
   "outputs": [
    {
     "data": {
      "text/plain": [
       "<IntegerArray>\n",
       "[49, 50, 41, 42, 43, 44, 45, 46, 47, 48]\n",
       "Length: 10, dtype: UInt32"
      ]
     },
     "execution_count": 23,
     "metadata": {},
     "output_type": "execute_result"
    }
   ],
   "source": [
    "df.week.unique()"
   ]
  },
  {
   "cell_type": "code",
   "execution_count": 24,
   "id": "acb4b9e3",
   "metadata": {
    "execution": {
     "iopub.execute_input": "2023-04-26T15:17:05.734963Z",
     "iopub.status.busy": "2023-04-26T15:17:05.734440Z",
     "iopub.status.idle": "2023-04-26T15:17:05.777658Z",
     "shell.execute_reply": "2023-04-26T15:17:05.776057Z"
    },
    "papermill": {
     "duration": 0.064613,
     "end_time": "2023-04-26T15:17:05.780755",
     "exception": false,
     "start_time": "2023-04-26T15:17:05.716142",
     "status": "completed"
    },
    "tags": []
   },
   "outputs": [
    {
     "data": {
      "text/plain": [
       "array(['SHOP008', 'SHOP112', 'SHOP055', 'SHOP003', 'SHOP071', 'SHOP123',\n",
       "       'SHOP087', 'SHOP090', 'SHOP022', 'SHOP047', 'SHOP012', 'SHOP054',\n",
       "       'SHOP040', 'SHOP023', 'SHOP115', 'SHOP104', 'SHOP097', 'SHOP103',\n",
       "       'SHOP125', 'SHOP034', 'SHOP061', 'SHOP001', 'SHOP080', 'SHOP116',\n",
       "       'SHOP075', 'SHOP093', 'SHOP096', 'SHOP026', 'SHOP032', 'SHOP107',\n",
       "       'SHOP044', 'SHOP017', 'SHOP037', 'SHOP099', 'SHOP051', 'SHOP122',\n",
       "       'SHOP088', 'SHOP121', 'SHOP046', 'SHOP067', 'SHOP098', 'SHOP065',\n",
       "       'SHOP094', 'SHOP095', 'SHOP091', 'SHOP041', 'SHOP049', 'SHOP042',\n",
       "       'SHOP004', 'SHOP076', 'SHOP073', 'SHOP027', 'SHOP083', 'SHOP043',\n",
       "       'SHOP089', 'SHOP025', 'SHOP024', 'SHOP005', 'SHOP078', 'SHOP063',\n",
       "       'SHOP021', 'SHOP086', 'SHOP105', 'SHOP074', 'SHOP062', 'SHOP079',\n",
       "       'SHOP068', 'SHOP011', 'SHOP066', 'SHOP028', 'SHOP108', 'SHOP085',\n",
       "       'SHOP038', 'SHOP060', 'SHOP111', 'SHOP059', 'SHOP118', 'SHOP013',\n",
       "       'SHOP014', 'SHOP052', 'SHOP007', 'SHOP119', 'SHOP015', 'SHOP120',\n",
       "       'SHOP053', 'SHOP019', 'SHOP036', 'SHOP010', 'SHOP009', 'SHOP124',\n",
       "       'SHOP045', 'SHOP106', 'SHOP018', 'SHOP102', 'SHOP084', 'SHOP020',\n",
       "       'SHOP100', 'SHOP092', 'SHOP033', 'SHOP048', 'SHOP069', 'SHOP056',\n",
       "       'SHOP117', 'SHOP113', 'SHOP101', 'SHOP081', 'SHOP039', 'SHOP006',\n",
       "       'SHOP077', 'SHOP029', 'SHOP035', 'SHOP058', 'SHOP050', 'SHOP114',\n",
       "       'SHOP016', 'SHOP030', 'SHOP057', 'SHOP031', 'SHOP082', 'SHOP126',\n",
       "       'SHOP070', 'SHOP002', 'SHOP127', 'SHOP072'], dtype=object)"
      ]
     },
     "execution_count": 24,
     "metadata": {},
     "output_type": "execute_result"
    }
   ],
   "source": [
    "df.shop_id.unique()"
   ]
  },
  {
   "cell_type": "code",
   "execution_count": 25,
   "id": "0d0f3aaa",
   "metadata": {
    "execution": {
     "iopub.execute_input": "2023-04-26T15:17:05.815580Z",
     "iopub.status.busy": "2023-04-26T15:17:05.815095Z",
     "iopub.status.idle": "2023-04-26T15:17:05.825819Z",
     "shell.execute_reply": "2023-04-26T15:17:05.824046Z"
    },
    "papermill": {
     "duration": 0.031809,
     "end_time": "2023-04-26T15:17:05.828999",
     "exception": false,
     "start_time": "2023-04-26T15:17:05.797190",
     "status": "completed"
    },
    "tags": []
   },
   "outputs": [],
   "source": [
    "import pandas as pd\n",
    "from sklearn.preprocessing import StandardScaler\n",
    "\n",
    "df['total_sales'] = df['item_price'] * df['quantity_sold']\n",
    "#df['last_month_sale'] = df['']\n",
    "# scaler = StandardScaler()\n",
    "# scaled_data = scaler.fit_transform(df[['shop_area_sq_ft', 'item_price', 'quantity_sold', 'total_sales']])\n",
    "\n",
    "# df = df.drop(['shop_area_sq_ft', 'item_price', 'quantity_sold', 'total_sales'], axis=1)\n",
    "\n",
    "# scaled_df = pd.DataFrame(scaled_data, columns=['shop_area_sq_ft', 'item_price', 'quantity_sold', 'total_sales'])\n",
    "\n",
    "# df = pd.concat([df, scaled_df], axis=1)\n",
    "\n",
    "# print(df.head())"
   ]
  },
  {
   "cell_type": "code",
   "execution_count": 26,
   "id": "b1b84c0f",
   "metadata": {
    "execution": {
     "iopub.execute_input": "2023-04-26T15:17:05.864574Z",
     "iopub.status.busy": "2023-04-26T15:17:05.864036Z",
     "iopub.status.idle": "2023-04-26T15:17:05.891391Z",
     "shell.execute_reply": "2023-04-26T15:17:05.890164Z"
    },
    "papermill": {
     "duration": 0.05003,
     "end_time": "2023-04-26T15:17:05.895237",
     "exception": false,
     "start_time": "2023-04-26T15:17:05.845207",
     "status": "completed"
    },
    "tags": []
   },
   "outputs": [
    {
     "data": {
      "text/html": [
       "<div>\n",
       "<style scoped>\n",
       "    .dataframe tbody tr th:only-of-type {\n",
       "        vertical-align: middle;\n",
       "    }\n",
       "\n",
       "    .dataframe tbody tr th {\n",
       "        vertical-align: top;\n",
       "    }\n",
       "\n",
       "    .dataframe thead th {\n",
       "        text-align: right;\n",
       "    }\n",
       "</style>\n",
       "<table border=\"1\" class=\"dataframe\">\n",
       "  <thead>\n",
       "    <tr style=\"text-align: right;\">\n",
       "      <th></th>\n",
       "      <th>item_description</th>\n",
       "      <th>customer_id</th>\n",
       "      <th>shop_id</th>\n",
       "      <th>item_price</th>\n",
       "      <th>quantity_sold</th>\n",
       "      <th>month</th>\n",
       "      <th>day</th>\n",
       "      <th>week</th>\n",
       "      <th>loyalty_rate</th>\n",
       "      <th>total_sales</th>\n",
       "    </tr>\n",
       "  </thead>\n",
       "  <tbody>\n",
       "    <tr>\n",
       "      <th>0</th>\n",
       "      <td>ORANGE BARLEY 1.5L</td>\n",
       "      <td>BGXA</td>\n",
       "      <td>SHOP008</td>\n",
       "      <td>220</td>\n",
       "      <td>2</td>\n",
       "      <td>12</td>\n",
       "      <td>11</td>\n",
       "      <td>49</td>\n",
       "      <td>0.058201</td>\n",
       "      <td>440</td>\n",
       "    </tr>\n",
       "    <tr>\n",
       "      <th>1</th>\n",
       "      <td>TONIC PET 500ML</td>\n",
       "      <td>VN7V</td>\n",
       "      <td>SHOP008</td>\n",
       "      <td>160</td>\n",
       "      <td>2</td>\n",
       "      <td>12</td>\n",
       "      <td>13</td>\n",
       "      <td>50</td>\n",
       "      <td>0.058201</td>\n",
       "      <td>320</td>\n",
       "    </tr>\n",
       "    <tr>\n",
       "      <th>2</th>\n",
       "      <td>CREAM SODA 1L</td>\n",
       "      <td>VN7V</td>\n",
       "      <td>SHOP008</td>\n",
       "      <td>150</td>\n",
       "      <td>2</td>\n",
       "      <td>12</td>\n",
       "      <td>13</td>\n",
       "      <td>50</td>\n",
       "      <td>0.058201</td>\n",
       "      <td>300</td>\n",
       "    </tr>\n",
       "    <tr>\n",
       "      <th>3</th>\n",
       "      <td>GINGER BEER 1.5L</td>\n",
       "      <td>VT9C</td>\n",
       "      <td>SHOP008</td>\n",
       "      <td>220</td>\n",
       "      <td>1</td>\n",
       "      <td>12</td>\n",
       "      <td>10</td>\n",
       "      <td>49</td>\n",
       "      <td>0.058201</td>\n",
       "      <td>220</td>\n",
       "    </tr>\n",
       "    <tr>\n",
       "      <th>4</th>\n",
       "      <td>GINGER BEER 1.5L</td>\n",
       "      <td>8QLS</td>\n",
       "      <td>SHOP008</td>\n",
       "      <td>220</td>\n",
       "      <td>1</td>\n",
       "      <td>12</td>\n",
       "      <td>10</td>\n",
       "      <td>49</td>\n",
       "      <td>0.058201</td>\n",
       "      <td>220</td>\n",
       "    </tr>\n",
       "  </tbody>\n",
       "</table>\n",
       "</div>"
      ],
      "text/plain": [
       "     item_description customer_id  shop_id  item_price  quantity_sold  month  \\\n",
       "0  ORANGE BARLEY 1.5L        BGXA  SHOP008         220              2     12   \n",
       "1     TONIC PET 500ML        VN7V  SHOP008         160              2     12   \n",
       "2       CREAM SODA 1L        VN7V  SHOP008         150              2     12   \n",
       "3    GINGER BEER 1.5L        VT9C  SHOP008         220              1     12   \n",
       "4    GINGER BEER 1.5L        8QLS  SHOP008         220              1     12   \n",
       "\n",
       "   day  week  loyalty_rate  total_sales  \n",
       "0   11    49      0.058201          440  \n",
       "1   13    50      0.058201          320  \n",
       "2   13    50      0.058201          300  \n",
       "3   10    49      0.058201          220  \n",
       "4   10    49      0.058201          220  "
      ]
     },
     "execution_count": 26,
     "metadata": {},
     "output_type": "execute_result"
    }
   ],
   "source": [
    "df.head()"
   ]
  },
  {
   "cell_type": "code",
   "execution_count": 27,
   "id": "0096f435",
   "metadata": {
    "execution": {
     "iopub.execute_input": "2023-04-26T15:17:05.935484Z",
     "iopub.status.busy": "2023-04-26T15:17:05.934259Z",
     "iopub.status.idle": "2023-04-26T15:17:05.997737Z",
     "shell.execute_reply": "2023-04-26T15:17:05.995953Z"
    },
    "papermill": {
     "duration": 0.08729,
     "end_time": "2023-04-26T15:17:06.001875",
     "exception": false,
     "start_time": "2023-04-26T15:17:05.914585",
     "status": "completed"
    },
    "tags": []
   },
   "outputs": [],
   "source": [
    "# Filter for week 50\n",
    "# total_sales_week_50 = df[(df['week'] == 49) | (df['week'] == 50)].groupby('shop_id')['total_sales'].sum()\n",
    "total_sales_week_50 = df.loc[df.week.isin ([48,49,50])].groupby('shop_id')['total_sales'].sum()\n",
    "\n",
    "# Display the result\n",
    "# print(total_sales_week_50)"
   ]
  },
  {
   "cell_type": "code",
   "execution_count": null,
   "id": "6295fbe2",
   "metadata": {
    "papermill": {
     "duration": 0.015012,
     "end_time": "2023-04-26T15:17:06.032963",
     "exception": false,
     "start_time": "2023-04-26T15:17:06.017951",
     "status": "completed"
    },
    "tags": []
   },
   "outputs": [],
   "source": []
  },
  {
   "cell_type": "code",
   "execution_count": 28,
   "id": "0232e3e5",
   "metadata": {
    "execution": {
     "iopub.execute_input": "2023-04-26T15:17:06.066599Z",
     "iopub.status.busy": "2023-04-26T15:17:06.066064Z",
     "iopub.status.idle": "2023-04-26T15:17:06.303435Z",
     "shell.execute_reply": "2023-04-26T15:17:06.301983Z"
    },
    "papermill": {
     "duration": 0.25814,
     "end_time": "2023-04-26T15:17:06.307068",
     "exception": false,
     "start_time": "2023-04-26T15:17:06.048928",
     "status": "completed"
    },
    "tags": []
   },
   "outputs": [],
   "source": [
    "# Group transactions by shop_id\n",
    "shop_transactions = df.groupby('shop_id')\n",
    "\n",
    "# Calculate summary statistics for each shop\n",
    "shop_summary = shop_transactions.agg({\n",
    "    'item_description': 'nunique', # number of unique items sold\n",
    "    'quantity_sold': 'sum', # total quantity sold\n",
    "    'total_sales': 'sum', # total sales\n",
    "})\n",
    "\n",
    "# Calculate loyalty rate mean for each shop\n",
    "loyalty_rate_mean = df.groupby('shop_id')['loyalty_rate'].mean()\n",
    "\n",
    "# Merge loyalty rate mean into shop_summary\n",
    "shop_summary = shop_summary.merge(loyalty_rate_mean, on='shop_id')\n",
    "\n",
    "# Group the data by shop and calculate the average item price\n",
    "avg_item_price = df.groupby(\"shop_id\")[\"item_price\"].mean()\n",
    "\n",
    "# Reset the index of the avg_item_price Series and rename the columns\n",
    "avg_item_price = avg_item_price.reset_index()\n",
    "avg_item_price.columns = [\"shop_id\", \"avg_item_price\"]\n",
    "\n",
    "# Merge the avg_item_price with the original DataFrame on the \"shop_id\" column\n",
    "shop_summary = shop_summary.merge(avg_item_price, on='shop_id')\n",
    "\n"
   ]
  },
  {
   "cell_type": "code",
   "execution_count": 29,
   "id": "712353a4",
   "metadata": {
    "execution": {
     "iopub.execute_input": "2023-04-26T15:17:06.343394Z",
     "iopub.status.busy": "2023-04-26T15:17:06.341591Z",
     "iopub.status.idle": "2023-04-26T15:17:06.353137Z",
     "shell.execute_reply": "2023-04-26T15:17:06.351754Z"
    },
    "papermill": {
     "duration": 0.033056,
     "end_time": "2023-04-26T15:17:06.356101",
     "exception": false,
     "start_time": "2023-04-26T15:17:06.323045",
     "status": "completed"
    },
    "tags": []
   },
   "outputs": [],
   "source": [
    "shop_summary = shop_summary.merge(total_sales_week_50, on='shop_id')\n",
    "shop_summary = shop_summary.rename(columns={'total_sales_x': 'total_sales', 'total_sales_y': 'total_sales_week_50'})"
   ]
  },
  {
   "cell_type": "code",
   "execution_count": 30,
   "id": "250c6764",
   "metadata": {
    "execution": {
     "iopub.execute_input": "2023-04-26T15:17:06.390163Z",
     "iopub.status.busy": "2023-04-26T15:17:06.389278Z",
     "iopub.status.idle": "2023-04-26T15:17:06.398629Z",
     "shell.execute_reply": "2023-04-26T15:17:06.397098Z"
    },
    "papermill": {
     "duration": 0.029255,
     "end_time": "2023-04-26T15:17:06.401144",
     "exception": false,
     "start_time": "2023-04-26T15:17:06.371889",
     "status": "completed"
    },
    "tags": []
   },
   "outputs": [],
   "source": [
    "# Flatten column names\n",
    "shop_summary.columns = [''.join(col).strip() for col in shop_summary.columns.values]\n",
    "\n",
    "# Reset index to make shop_id a column again\n",
    "shop_summary = shop_summary.reset_index()"
   ]
  },
  {
   "cell_type": "code",
   "execution_count": 31,
   "id": "3e958878",
   "metadata": {
    "execution": {
     "iopub.execute_input": "2023-04-26T15:17:06.437248Z",
     "iopub.status.busy": "2023-04-26T15:17:06.436705Z",
     "iopub.status.idle": "2023-04-26T15:17:06.459343Z",
     "shell.execute_reply": "2023-04-26T15:17:06.457706Z"
    },
    "papermill": {
     "duration": 0.044923,
     "end_time": "2023-04-26T15:17:06.462733",
     "exception": false,
     "start_time": "2023-04-26T15:17:06.417810",
     "status": "completed"
    },
    "tags": []
   },
   "outputs": [
    {
     "data": {
      "text/html": [
       "<div>\n",
       "<style scoped>\n",
       "    .dataframe tbody tr th:only-of-type {\n",
       "        vertical-align: middle;\n",
       "    }\n",
       "\n",
       "    .dataframe tbody tr th {\n",
       "        vertical-align: top;\n",
       "    }\n",
       "\n",
       "    .dataframe thead th {\n",
       "        text-align: right;\n",
       "    }\n",
       "</style>\n",
       "<table border=\"1\" class=\"dataframe\">\n",
       "  <thead>\n",
       "    <tr style=\"text-align: right;\">\n",
       "      <th></th>\n",
       "      <th>index</th>\n",
       "      <th>shop_id</th>\n",
       "      <th>item_description</th>\n",
       "      <th>quantity_sold</th>\n",
       "      <th>total_sales</th>\n",
       "      <th>loyalty_rate</th>\n",
       "      <th>avg_item_price</th>\n",
       "      <th>total_sales_week_50</th>\n",
       "    </tr>\n",
       "  </thead>\n",
       "  <tbody>\n",
       "    <tr>\n",
       "      <th>0</th>\n",
       "      <td>0</td>\n",
       "      <td>SHOP001</td>\n",
       "      <td>35</td>\n",
       "      <td>3752</td>\n",
       "      <td>615770</td>\n",
       "      <td>0.231664</td>\n",
       "      <td>173.788038</td>\n",
       "      <td>247650</td>\n",
       "    </tr>\n",
       "    <tr>\n",
       "      <th>1</th>\n",
       "      <td>1</td>\n",
       "      <td>SHOP002</td>\n",
       "      <td>35</td>\n",
       "      <td>9042</td>\n",
       "      <td>1532655</td>\n",
       "      <td>0.234381</td>\n",
       "      <td>172.369125</td>\n",
       "      <td>611790</td>\n",
       "    </tr>\n",
       "    <tr>\n",
       "      <th>2</th>\n",
       "      <td>2</td>\n",
       "      <td>SHOP003</td>\n",
       "      <td>36</td>\n",
       "      <td>6548</td>\n",
       "      <td>1063720</td>\n",
       "      <td>0.218023</td>\n",
       "      <td>164.849547</td>\n",
       "      <td>366665</td>\n",
       "    </tr>\n",
       "    <tr>\n",
       "      <th>3</th>\n",
       "      <td>3</td>\n",
       "      <td>SHOP004</td>\n",
       "      <td>35</td>\n",
       "      <td>5969</td>\n",
       "      <td>971270</td>\n",
       "      <td>0.270069</td>\n",
       "      <td>165.656991</td>\n",
       "      <td>380155</td>\n",
       "    </tr>\n",
       "    <tr>\n",
       "      <th>4</th>\n",
       "      <td>4</td>\n",
       "      <td>SHOP005</td>\n",
       "      <td>36</td>\n",
       "      <td>7301</td>\n",
       "      <td>1245750</td>\n",
       "      <td>0.261916</td>\n",
       "      <td>172.435865</td>\n",
       "      <td>385900</td>\n",
       "    </tr>\n",
       "    <tr>\n",
       "      <th>...</th>\n",
       "      <td>...</td>\n",
       "      <td>...</td>\n",
       "      <td>...</td>\n",
       "      <td>...</td>\n",
       "      <td>...</td>\n",
       "      <td>...</td>\n",
       "      <td>...</td>\n",
       "      <td>...</td>\n",
       "    </tr>\n",
       "    <tr>\n",
       "      <th>119</th>\n",
       "      <td>119</td>\n",
       "      <td>SHOP123</td>\n",
       "      <td>36</td>\n",
       "      <td>3631</td>\n",
       "      <td>590900</td>\n",
       "      <td>0.238136</td>\n",
       "      <td>169.319710</td>\n",
       "      <td>202225</td>\n",
       "    </tr>\n",
       "    <tr>\n",
       "      <th>120</th>\n",
       "      <td>120</td>\n",
       "      <td>SHOP124</td>\n",
       "      <td>35</td>\n",
       "      <td>8506</td>\n",
       "      <td>1309570</td>\n",
       "      <td>0.248575</td>\n",
       "      <td>164.398193</td>\n",
       "      <td>448430</td>\n",
       "    </tr>\n",
       "    <tr>\n",
       "      <th>121</th>\n",
       "      <td>121</td>\n",
       "      <td>SHOP125</td>\n",
       "      <td>36</td>\n",
       "      <td>4101</td>\n",
       "      <td>530815</td>\n",
       "      <td>0.212766</td>\n",
       "      <td>138.121336</td>\n",
       "      <td>198555</td>\n",
       "    </tr>\n",
       "    <tr>\n",
       "      <th>122</th>\n",
       "      <td>122</td>\n",
       "      <td>SHOP126</td>\n",
       "      <td>33</td>\n",
       "      <td>6246</td>\n",
       "      <td>919030</td>\n",
       "      <td>0.219333</td>\n",
       "      <td>156.981070</td>\n",
       "      <td>296315</td>\n",
       "    </tr>\n",
       "    <tr>\n",
       "      <th>123</th>\n",
       "      <td>123</td>\n",
       "      <td>SHOP127</td>\n",
       "      <td>36</td>\n",
       "      <td>8724</td>\n",
       "      <td>1278645</td>\n",
       "      <td>0.201113</td>\n",
       "      <td>159.285714</td>\n",
       "      <td>481360</td>\n",
       "    </tr>\n",
       "  </tbody>\n",
       "</table>\n",
       "<p>124 rows × 8 columns</p>\n",
       "</div>"
      ],
      "text/plain": [
       "     index  shop_id  item_description  quantity_sold  total_sales  \\\n",
       "0        0  SHOP001                35           3752       615770   \n",
       "1        1  SHOP002                35           9042      1532655   \n",
       "2        2  SHOP003                36           6548      1063720   \n",
       "3        3  SHOP004                35           5969       971270   \n",
       "4        4  SHOP005                36           7301      1245750   \n",
       "..     ...      ...               ...            ...          ...   \n",
       "119    119  SHOP123                36           3631       590900   \n",
       "120    120  SHOP124                35           8506      1309570   \n",
       "121    121  SHOP125                36           4101       530815   \n",
       "122    122  SHOP126                33           6246       919030   \n",
       "123    123  SHOP127                36           8724      1278645   \n",
       "\n",
       "     loyalty_rate  avg_item_price  total_sales_week_50  \n",
       "0        0.231664      173.788038               247650  \n",
       "1        0.234381      172.369125               611790  \n",
       "2        0.218023      164.849547               366665  \n",
       "3        0.270069      165.656991               380155  \n",
       "4        0.261916      172.435865               385900  \n",
       "..            ...             ...                  ...  \n",
       "119      0.238136      169.319710               202225  \n",
       "120      0.248575      164.398193               448430  \n",
       "121      0.212766      138.121336               198555  \n",
       "122      0.219333      156.981070               296315  \n",
       "123      0.201113      159.285714               481360  \n",
       "\n",
       "[124 rows x 8 columns]"
      ]
     },
     "execution_count": 31,
     "metadata": {},
     "output_type": "execute_result"
    }
   ],
   "source": [
    "shop_summary"
   ]
  },
  {
   "cell_type": "code",
   "execution_count": 32,
   "id": "d669d165",
   "metadata": {
    "execution": {
     "iopub.execute_input": "2023-04-26T15:17:06.500083Z",
     "iopub.status.busy": "2023-04-26T15:17:06.498401Z",
     "iopub.status.idle": "2023-04-26T15:17:06.510040Z",
     "shell.execute_reply": "2023-04-26T15:17:06.508669Z"
    },
    "papermill": {
     "duration": 0.033586,
     "end_time": "2023-04-26T15:17:06.512935",
     "exception": false,
     "start_time": "2023-04-26T15:17:06.479349",
     "status": "completed"
    },
    "tags": []
   },
   "outputs": [],
   "source": [
    "shop_summary = pd.merge(shop_summary, store_info_data, on='shop_id')"
   ]
  },
  {
   "cell_type": "code",
   "execution_count": 33,
   "id": "2703c56c",
   "metadata": {
    "execution": {
     "iopub.execute_input": "2023-04-26T15:17:06.550044Z",
     "iopub.status.busy": "2023-04-26T15:17:06.549508Z",
     "iopub.status.idle": "2023-04-26T15:17:06.571486Z",
     "shell.execute_reply": "2023-04-26T15:17:06.569825Z"
    },
    "papermill": {
     "duration": 0.04397,
     "end_time": "2023-04-26T15:17:06.574335",
     "exception": false,
     "start_time": "2023-04-26T15:17:06.530365",
     "status": "completed"
    },
    "tags": []
   },
   "outputs": [
    {
     "data": {
      "text/html": [
       "<div>\n",
       "<style scoped>\n",
       "    .dataframe tbody tr th:only-of-type {\n",
       "        vertical-align: middle;\n",
       "    }\n",
       "\n",
       "    .dataframe tbody tr th {\n",
       "        vertical-align: top;\n",
       "    }\n",
       "\n",
       "    .dataframe thead th {\n",
       "        text-align: right;\n",
       "    }\n",
       "</style>\n",
       "<table border=\"1\" class=\"dataframe\">\n",
       "  <thead>\n",
       "    <tr style=\"text-align: right;\">\n",
       "      <th></th>\n",
       "      <th>index</th>\n",
       "      <th>shop_id</th>\n",
       "      <th>item_description</th>\n",
       "      <th>quantity_sold</th>\n",
       "      <th>total_sales</th>\n",
       "      <th>loyalty_rate</th>\n",
       "      <th>avg_item_price</th>\n",
       "      <th>total_sales_week_50</th>\n",
       "      <th>shop_area_sq_ft</th>\n",
       "      <th>shop_profile</th>\n",
       "    </tr>\n",
       "  </thead>\n",
       "  <tbody>\n",
       "    <tr>\n",
       "      <th>0</th>\n",
       "      <td>0</td>\n",
       "      <td>SHOP001</td>\n",
       "      <td>35</td>\n",
       "      <td>3752</td>\n",
       "      <td>615770</td>\n",
       "      <td>0.231664</td>\n",
       "      <td>173.788038</td>\n",
       "      <td>247650</td>\n",
       "      <td>580</td>\n",
       "      <td>Low</td>\n",
       "    </tr>\n",
       "    <tr>\n",
       "      <th>1</th>\n",
       "      <td>1</td>\n",
       "      <td>SHOP002</td>\n",
       "      <td>35</td>\n",
       "      <td>9042</td>\n",
       "      <td>1532655</td>\n",
       "      <td>0.234381</td>\n",
       "      <td>172.369125</td>\n",
       "      <td>611790</td>\n",
       "      <td>637</td>\n",
       "      <td>NaN</td>\n",
       "    </tr>\n",
       "    <tr>\n",
       "      <th>2</th>\n",
       "      <td>2</td>\n",
       "      <td>SHOP003</td>\n",
       "      <td>36</td>\n",
       "      <td>6548</td>\n",
       "      <td>1063720</td>\n",
       "      <td>0.218023</td>\n",
       "      <td>164.849547</td>\n",
       "      <td>366665</td>\n",
       "      <td>810</td>\n",
       "      <td>High</td>\n",
       "    </tr>\n",
       "    <tr>\n",
       "      <th>3</th>\n",
       "      <td>3</td>\n",
       "      <td>SHOP004</td>\n",
       "      <td>35</td>\n",
       "      <td>5969</td>\n",
       "      <td>971270</td>\n",
       "      <td>0.270069</td>\n",
       "      <td>165.656991</td>\n",
       "      <td>380155</td>\n",
       "      <td>516</td>\n",
       "      <td>Low</td>\n",
       "    </tr>\n",
       "    <tr>\n",
       "      <th>4</th>\n",
       "      <td>4</td>\n",
       "      <td>SHOP005</td>\n",
       "      <td>36</td>\n",
       "      <td>7301</td>\n",
       "      <td>1245750</td>\n",
       "      <td>0.261916</td>\n",
       "      <td>172.435865</td>\n",
       "      <td>385900</td>\n",
       "      <td>617</td>\n",
       "      <td>Low</td>\n",
       "    </tr>\n",
       "    <tr>\n",
       "      <th>...</th>\n",
       "      <td>...</td>\n",
       "      <td>...</td>\n",
       "      <td>...</td>\n",
       "      <td>...</td>\n",
       "      <td>...</td>\n",
       "      <td>...</td>\n",
       "      <td>...</td>\n",
       "      <td>...</td>\n",
       "      <td>...</td>\n",
       "      <td>...</td>\n",
       "    </tr>\n",
       "    <tr>\n",
       "      <th>119</th>\n",
       "      <td>119</td>\n",
       "      <td>SHOP123</td>\n",
       "      <td>36</td>\n",
       "      <td>3631</td>\n",
       "      <td>590900</td>\n",
       "      <td>0.238136</td>\n",
       "      <td>169.319710</td>\n",
       "      <td>202225</td>\n",
       "      <td>735</td>\n",
       "      <td>Moderate</td>\n",
       "    </tr>\n",
       "    <tr>\n",
       "      <th>120</th>\n",
       "      <td>120</td>\n",
       "      <td>SHOP124</td>\n",
       "      <td>35</td>\n",
       "      <td>8506</td>\n",
       "      <td>1309570</td>\n",
       "      <td>0.248575</td>\n",
       "      <td>164.398193</td>\n",
       "      <td>448430</td>\n",
       "      <td>606</td>\n",
       "      <td>High</td>\n",
       "    </tr>\n",
       "    <tr>\n",
       "      <th>121</th>\n",
       "      <td>121</td>\n",
       "      <td>SHOP125</td>\n",
       "      <td>36</td>\n",
       "      <td>4101</td>\n",
       "      <td>530815</td>\n",
       "      <td>0.212766</td>\n",
       "      <td>138.121336</td>\n",
       "      <td>198555</td>\n",
       "      <td>1028</td>\n",
       "      <td>High</td>\n",
       "    </tr>\n",
       "    <tr>\n",
       "      <th>122</th>\n",
       "      <td>122</td>\n",
       "      <td>SHOP126</td>\n",
       "      <td>33</td>\n",
       "      <td>6246</td>\n",
       "      <td>919030</td>\n",
       "      <td>0.219333</td>\n",
       "      <td>156.981070</td>\n",
       "      <td>296315</td>\n",
       "      <td>328</td>\n",
       "      <td>Moderate</td>\n",
       "    </tr>\n",
       "    <tr>\n",
       "      <th>123</th>\n",
       "      <td>123</td>\n",
       "      <td>SHOP127</td>\n",
       "      <td>36</td>\n",
       "      <td>8724</td>\n",
       "      <td>1278645</td>\n",
       "      <td>0.201113</td>\n",
       "      <td>159.285714</td>\n",
       "      <td>481360</td>\n",
       "      <td>848</td>\n",
       "      <td>High</td>\n",
       "    </tr>\n",
       "  </tbody>\n",
       "</table>\n",
       "<p>124 rows × 10 columns</p>\n",
       "</div>"
      ],
      "text/plain": [
       "     index  shop_id  item_description  quantity_sold  total_sales  \\\n",
       "0        0  SHOP001                35           3752       615770   \n",
       "1        1  SHOP002                35           9042      1532655   \n",
       "2        2  SHOP003                36           6548      1063720   \n",
       "3        3  SHOP004                35           5969       971270   \n",
       "4        4  SHOP005                36           7301      1245750   \n",
       "..     ...      ...               ...            ...          ...   \n",
       "119    119  SHOP123                36           3631       590900   \n",
       "120    120  SHOP124                35           8506      1309570   \n",
       "121    121  SHOP125                36           4101       530815   \n",
       "122    122  SHOP126                33           6246       919030   \n",
       "123    123  SHOP127                36           8724      1278645   \n",
       "\n",
       "     loyalty_rate  avg_item_price  total_sales_week_50  shop_area_sq_ft  \\\n",
       "0        0.231664      173.788038               247650              580   \n",
       "1        0.234381      172.369125               611790              637   \n",
       "2        0.218023      164.849547               366665              810   \n",
       "3        0.270069      165.656991               380155              516   \n",
       "4        0.261916      172.435865               385900              617   \n",
       "..            ...             ...                  ...              ...   \n",
       "119      0.238136      169.319710               202225              735   \n",
       "120      0.248575      164.398193               448430              606   \n",
       "121      0.212766      138.121336               198555             1028   \n",
       "122      0.219333      156.981070               296315              328   \n",
       "123      0.201113      159.285714               481360              848   \n",
       "\n",
       "    shop_profile  \n",
       "0            Low  \n",
       "1            NaN  \n",
       "2           High  \n",
       "3            Low  \n",
       "4            Low  \n",
       "..           ...  \n",
       "119     Moderate  \n",
       "120         High  \n",
       "121         High  \n",
       "122     Moderate  \n",
       "123         High  \n",
       "\n",
       "[124 rows x 10 columns]"
      ]
     },
     "execution_count": 33,
     "metadata": {},
     "output_type": "execute_result"
    }
   ],
   "source": [
    "shop_summary"
   ]
  },
  {
   "cell_type": "code",
   "execution_count": null,
   "id": "acf2e7c7",
   "metadata": {
    "papermill": {
     "duration": 0.01539,
     "end_time": "2023-04-26T15:17:06.606423",
     "exception": false,
     "start_time": "2023-04-26T15:17:06.591033",
     "status": "completed"
    },
    "tags": []
   },
   "outputs": [],
   "source": []
  },
  {
   "cell_type": "code",
   "execution_count": null,
   "id": "e2817e59",
   "metadata": {
    "papermill": {
     "duration": 0.015526,
     "end_time": "2023-04-26T15:17:06.637791",
     "exception": false,
     "start_time": "2023-04-26T15:17:06.622265",
     "status": "completed"
    },
    "tags": []
   },
   "outputs": [],
   "source": []
  },
  {
   "cell_type": "code",
   "execution_count": 34,
   "id": "4fb546d0",
   "metadata": {
    "execution": {
     "iopub.execute_input": "2023-04-26T15:17:06.673215Z",
     "iopub.status.busy": "2023-04-26T15:17:06.672711Z",
     "iopub.status.idle": "2023-04-26T15:17:06.694478Z",
     "shell.execute_reply": "2023-04-26T15:17:06.692913Z"
    },
    "papermill": {
     "duration": 0.044311,
     "end_time": "2023-04-26T15:17:06.697900",
     "exception": false,
     "start_time": "2023-04-26T15:17:06.653589",
     "status": "completed"
    },
    "tags": []
   },
   "outputs": [
    {
     "data": {
      "text/html": [
       "<div>\n",
       "<style scoped>\n",
       "    .dataframe tbody tr th:only-of-type {\n",
       "        vertical-align: middle;\n",
       "    }\n",
       "\n",
       "    .dataframe tbody tr th {\n",
       "        vertical-align: top;\n",
       "    }\n",
       "\n",
       "    .dataframe thead th {\n",
       "        text-align: right;\n",
       "    }\n",
       "</style>\n",
       "<table border=\"1\" class=\"dataframe\">\n",
       "  <thead>\n",
       "    <tr style=\"text-align: right;\">\n",
       "      <th></th>\n",
       "      <th>index</th>\n",
       "      <th>shop_id</th>\n",
       "      <th>item_description</th>\n",
       "      <th>quantity_sold</th>\n",
       "      <th>total_sales</th>\n",
       "      <th>loyalty_rate</th>\n",
       "      <th>avg_item_price</th>\n",
       "      <th>total_sales_week_50</th>\n",
       "      <th>shop_area_sq_ft</th>\n",
       "      <th>shop_profile</th>\n",
       "    </tr>\n",
       "  </thead>\n",
       "  <tbody>\n",
       "    <tr>\n",
       "      <th>0</th>\n",
       "      <td>0</td>\n",
       "      <td>SHOP001</td>\n",
       "      <td>35</td>\n",
       "      <td>3752</td>\n",
       "      <td>615770</td>\n",
       "      <td>0.231664</td>\n",
       "      <td>173.788038</td>\n",
       "      <td>247650</td>\n",
       "      <td>580</td>\n",
       "      <td>Low</td>\n",
       "    </tr>\n",
       "    <tr>\n",
       "      <th>1</th>\n",
       "      <td>1</td>\n",
       "      <td>SHOP002</td>\n",
       "      <td>35</td>\n",
       "      <td>9042</td>\n",
       "      <td>1532655</td>\n",
       "      <td>0.234381</td>\n",
       "      <td>172.369125</td>\n",
       "      <td>611790</td>\n",
       "      <td>637</td>\n",
       "      <td>NaN</td>\n",
       "    </tr>\n",
       "    <tr>\n",
       "      <th>2</th>\n",
       "      <td>2</td>\n",
       "      <td>SHOP003</td>\n",
       "      <td>36</td>\n",
       "      <td>6548</td>\n",
       "      <td>1063720</td>\n",
       "      <td>0.218023</td>\n",
       "      <td>164.849547</td>\n",
       "      <td>366665</td>\n",
       "      <td>810</td>\n",
       "      <td>High</td>\n",
       "    </tr>\n",
       "    <tr>\n",
       "      <th>3</th>\n",
       "      <td>3</td>\n",
       "      <td>SHOP004</td>\n",
       "      <td>35</td>\n",
       "      <td>5969</td>\n",
       "      <td>971270</td>\n",
       "      <td>0.270069</td>\n",
       "      <td>165.656991</td>\n",
       "      <td>380155</td>\n",
       "      <td>516</td>\n",
       "      <td>Low</td>\n",
       "    </tr>\n",
       "    <tr>\n",
       "      <th>4</th>\n",
       "      <td>4</td>\n",
       "      <td>SHOP005</td>\n",
       "      <td>36</td>\n",
       "      <td>7301</td>\n",
       "      <td>1245750</td>\n",
       "      <td>0.261916</td>\n",
       "      <td>172.435865</td>\n",
       "      <td>385900</td>\n",
       "      <td>617</td>\n",
       "      <td>Low</td>\n",
       "    </tr>\n",
       "    <tr>\n",
       "      <th>...</th>\n",
       "      <td>...</td>\n",
       "      <td>...</td>\n",
       "      <td>...</td>\n",
       "      <td>...</td>\n",
       "      <td>...</td>\n",
       "      <td>...</td>\n",
       "      <td>...</td>\n",
       "      <td>...</td>\n",
       "      <td>...</td>\n",
       "      <td>...</td>\n",
       "    </tr>\n",
       "    <tr>\n",
       "      <th>119</th>\n",
       "      <td>119</td>\n",
       "      <td>SHOP123</td>\n",
       "      <td>36</td>\n",
       "      <td>3631</td>\n",
       "      <td>590900</td>\n",
       "      <td>0.238136</td>\n",
       "      <td>169.319710</td>\n",
       "      <td>202225</td>\n",
       "      <td>735</td>\n",
       "      <td>Moderate</td>\n",
       "    </tr>\n",
       "    <tr>\n",
       "      <th>120</th>\n",
       "      <td>120</td>\n",
       "      <td>SHOP124</td>\n",
       "      <td>35</td>\n",
       "      <td>8506</td>\n",
       "      <td>1309570</td>\n",
       "      <td>0.248575</td>\n",
       "      <td>164.398193</td>\n",
       "      <td>448430</td>\n",
       "      <td>606</td>\n",
       "      <td>High</td>\n",
       "    </tr>\n",
       "    <tr>\n",
       "      <th>121</th>\n",
       "      <td>121</td>\n",
       "      <td>SHOP125</td>\n",
       "      <td>36</td>\n",
       "      <td>4101</td>\n",
       "      <td>530815</td>\n",
       "      <td>0.212766</td>\n",
       "      <td>138.121336</td>\n",
       "      <td>198555</td>\n",
       "      <td>1028</td>\n",
       "      <td>High</td>\n",
       "    </tr>\n",
       "    <tr>\n",
       "      <th>122</th>\n",
       "      <td>122</td>\n",
       "      <td>SHOP126</td>\n",
       "      <td>33</td>\n",
       "      <td>6246</td>\n",
       "      <td>919030</td>\n",
       "      <td>0.219333</td>\n",
       "      <td>156.981070</td>\n",
       "      <td>296315</td>\n",
       "      <td>328</td>\n",
       "      <td>Moderate</td>\n",
       "    </tr>\n",
       "    <tr>\n",
       "      <th>123</th>\n",
       "      <td>123</td>\n",
       "      <td>SHOP127</td>\n",
       "      <td>36</td>\n",
       "      <td>8724</td>\n",
       "      <td>1278645</td>\n",
       "      <td>0.201113</td>\n",
       "      <td>159.285714</td>\n",
       "      <td>481360</td>\n",
       "      <td>848</td>\n",
       "      <td>High</td>\n",
       "    </tr>\n",
       "  </tbody>\n",
       "</table>\n",
       "<p>124 rows × 10 columns</p>\n",
       "</div>"
      ],
      "text/plain": [
       "     index  shop_id  item_description  quantity_sold  total_sales  \\\n",
       "0        0  SHOP001                35           3752       615770   \n",
       "1        1  SHOP002                35           9042      1532655   \n",
       "2        2  SHOP003                36           6548      1063720   \n",
       "3        3  SHOP004                35           5969       971270   \n",
       "4        4  SHOP005                36           7301      1245750   \n",
       "..     ...      ...               ...            ...          ...   \n",
       "119    119  SHOP123                36           3631       590900   \n",
       "120    120  SHOP124                35           8506      1309570   \n",
       "121    121  SHOP125                36           4101       530815   \n",
       "122    122  SHOP126                33           6246       919030   \n",
       "123    123  SHOP127                36           8724      1278645   \n",
       "\n",
       "     loyalty_rate  avg_item_price  total_sales_week_50  shop_area_sq_ft  \\\n",
       "0        0.231664      173.788038               247650              580   \n",
       "1        0.234381      172.369125               611790              637   \n",
       "2        0.218023      164.849547               366665              810   \n",
       "3        0.270069      165.656991               380155              516   \n",
       "4        0.261916      172.435865               385900              617   \n",
       "..            ...             ...                  ...              ...   \n",
       "119      0.238136      169.319710               202225              735   \n",
       "120      0.248575      164.398193               448430              606   \n",
       "121      0.212766      138.121336               198555             1028   \n",
       "122      0.219333      156.981070               296315              328   \n",
       "123      0.201113      159.285714               481360              848   \n",
       "\n",
       "    shop_profile  \n",
       "0            Low  \n",
       "1            NaN  \n",
       "2           High  \n",
       "3            Low  \n",
       "4            Low  \n",
       "..           ...  \n",
       "119     Moderate  \n",
       "120         High  \n",
       "121         High  \n",
       "122     Moderate  \n",
       "123         High  \n",
       "\n",
       "[124 rows x 10 columns]"
      ]
     },
     "execution_count": 34,
     "metadata": {},
     "output_type": "execute_result"
    }
   ],
   "source": [
    "shop_summary"
   ]
  },
  {
   "cell_type": "code",
   "execution_count": 35,
   "id": "002afa54",
   "metadata": {
    "execution": {
     "iopub.execute_input": "2023-04-26T15:17:06.735773Z",
     "iopub.status.busy": "2023-04-26T15:17:06.734307Z",
     "iopub.status.idle": "2023-04-26T15:17:06.745315Z",
     "shell.execute_reply": "2023-04-26T15:17:06.743568Z"
    },
    "papermill": {
     "duration": 0.032624,
     "end_time": "2023-04-26T15:17:06.748728",
     "exception": false,
     "start_time": "2023-04-26T15:17:06.716104",
     "status": "completed"
    },
    "tags": []
   },
   "outputs": [],
   "source": [
    "shop_summary['sales_per_feet'] = shop_summary['total_sales'] / shop_summary['shop_area_sq_ft']\n",
    "shop_summary['sales_per_week'] = shop_summary['total_sales_week_50'] / 3\n",
    "shop_summary['sales_per_week_total'] = shop_summary['total_sales'] / 10\n",
    "\n",
    "# shop_summary.to_csv('shop.csv', index=False)"
   ]
  },
  {
   "cell_type": "code",
   "execution_count": 36,
   "id": "60ec5f33",
   "metadata": {
    "execution": {
     "iopub.execute_input": "2023-04-26T15:17:06.787219Z",
     "iopub.status.busy": "2023-04-26T15:17:06.785732Z",
     "iopub.status.idle": "2023-04-26T15:17:06.813070Z",
     "shell.execute_reply": "2023-04-26T15:17:06.811423Z"
    },
    "papermill": {
     "duration": 0.048744,
     "end_time": "2023-04-26T15:17:06.816218",
     "exception": false,
     "start_time": "2023-04-26T15:17:06.767474",
     "status": "completed"
    },
    "scrolled": true,
    "tags": []
   },
   "outputs": [
    {
     "data": {
      "text/html": [
       "<div>\n",
       "<style scoped>\n",
       "    .dataframe tbody tr th:only-of-type {\n",
       "        vertical-align: middle;\n",
       "    }\n",
       "\n",
       "    .dataframe tbody tr th {\n",
       "        vertical-align: top;\n",
       "    }\n",
       "\n",
       "    .dataframe thead th {\n",
       "        text-align: right;\n",
       "    }\n",
       "</style>\n",
       "<table border=\"1\" class=\"dataframe\">\n",
       "  <thead>\n",
       "    <tr style=\"text-align: right;\">\n",
       "      <th></th>\n",
       "      <th>index</th>\n",
       "      <th>shop_id</th>\n",
       "      <th>item_description</th>\n",
       "      <th>quantity_sold</th>\n",
       "      <th>total_sales</th>\n",
       "      <th>loyalty_rate</th>\n",
       "      <th>avg_item_price</th>\n",
       "      <th>total_sales_week_50</th>\n",
       "      <th>shop_area_sq_ft</th>\n",
       "      <th>shop_profile</th>\n",
       "      <th>sales_per_feet</th>\n",
       "      <th>sales_per_week</th>\n",
       "      <th>sales_per_week_total</th>\n",
       "    </tr>\n",
       "  </thead>\n",
       "  <tbody>\n",
       "    <tr>\n",
       "      <th>0</th>\n",
       "      <td>0</td>\n",
       "      <td>SHOP001</td>\n",
       "      <td>35</td>\n",
       "      <td>3752</td>\n",
       "      <td>615770</td>\n",
       "      <td>0.231664</td>\n",
       "      <td>173.788038</td>\n",
       "      <td>247650</td>\n",
       "      <td>580</td>\n",
       "      <td>Low</td>\n",
       "      <td>1061.672414</td>\n",
       "      <td>82550.000000</td>\n",
       "      <td>61577.0</td>\n",
       "    </tr>\n",
       "    <tr>\n",
       "      <th>1</th>\n",
       "      <td>1</td>\n",
       "      <td>SHOP002</td>\n",
       "      <td>35</td>\n",
       "      <td>9042</td>\n",
       "      <td>1532655</td>\n",
       "      <td>0.234381</td>\n",
       "      <td>172.369125</td>\n",
       "      <td>611790</td>\n",
       "      <td>637</td>\n",
       "      <td>NaN</td>\n",
       "      <td>2406.051805</td>\n",
       "      <td>203930.000000</td>\n",
       "      <td>153265.5</td>\n",
       "    </tr>\n",
       "    <tr>\n",
       "      <th>2</th>\n",
       "      <td>2</td>\n",
       "      <td>SHOP003</td>\n",
       "      <td>36</td>\n",
       "      <td>6548</td>\n",
       "      <td>1063720</td>\n",
       "      <td>0.218023</td>\n",
       "      <td>164.849547</td>\n",
       "      <td>366665</td>\n",
       "      <td>810</td>\n",
       "      <td>High</td>\n",
       "      <td>1313.234568</td>\n",
       "      <td>122221.666667</td>\n",
       "      <td>106372.0</td>\n",
       "    </tr>\n",
       "    <tr>\n",
       "      <th>3</th>\n",
       "      <td>3</td>\n",
       "      <td>SHOP004</td>\n",
       "      <td>35</td>\n",
       "      <td>5969</td>\n",
       "      <td>971270</td>\n",
       "      <td>0.270069</td>\n",
       "      <td>165.656991</td>\n",
       "      <td>380155</td>\n",
       "      <td>516</td>\n",
       "      <td>Low</td>\n",
       "      <td>1882.306202</td>\n",
       "      <td>126718.333333</td>\n",
       "      <td>97127.0</td>\n",
       "    </tr>\n",
       "    <tr>\n",
       "      <th>4</th>\n",
       "      <td>4</td>\n",
       "      <td>SHOP005</td>\n",
       "      <td>36</td>\n",
       "      <td>7301</td>\n",
       "      <td>1245750</td>\n",
       "      <td>0.261916</td>\n",
       "      <td>172.435865</td>\n",
       "      <td>385900</td>\n",
       "      <td>617</td>\n",
       "      <td>Low</td>\n",
       "      <td>2019.043760</td>\n",
       "      <td>128633.333333</td>\n",
       "      <td>124575.0</td>\n",
       "    </tr>\n",
       "    <tr>\n",
       "      <th>...</th>\n",
       "      <td>...</td>\n",
       "      <td>...</td>\n",
       "      <td>...</td>\n",
       "      <td>...</td>\n",
       "      <td>...</td>\n",
       "      <td>...</td>\n",
       "      <td>...</td>\n",
       "      <td>...</td>\n",
       "      <td>...</td>\n",
       "      <td>...</td>\n",
       "      <td>...</td>\n",
       "      <td>...</td>\n",
       "      <td>...</td>\n",
       "    </tr>\n",
       "    <tr>\n",
       "      <th>119</th>\n",
       "      <td>119</td>\n",
       "      <td>SHOP123</td>\n",
       "      <td>36</td>\n",
       "      <td>3631</td>\n",
       "      <td>590900</td>\n",
       "      <td>0.238136</td>\n",
       "      <td>169.319710</td>\n",
       "      <td>202225</td>\n",
       "      <td>735</td>\n",
       "      <td>Moderate</td>\n",
       "      <td>803.945578</td>\n",
       "      <td>67408.333333</td>\n",
       "      <td>59090.0</td>\n",
       "    </tr>\n",
       "    <tr>\n",
       "      <th>120</th>\n",
       "      <td>120</td>\n",
       "      <td>SHOP124</td>\n",
       "      <td>35</td>\n",
       "      <td>8506</td>\n",
       "      <td>1309570</td>\n",
       "      <td>0.248575</td>\n",
       "      <td>164.398193</td>\n",
       "      <td>448430</td>\n",
       "      <td>606</td>\n",
       "      <td>High</td>\n",
       "      <td>2161.006601</td>\n",
       "      <td>149476.666667</td>\n",
       "      <td>130957.0</td>\n",
       "    </tr>\n",
       "    <tr>\n",
       "      <th>121</th>\n",
       "      <td>121</td>\n",
       "      <td>SHOP125</td>\n",
       "      <td>36</td>\n",
       "      <td>4101</td>\n",
       "      <td>530815</td>\n",
       "      <td>0.212766</td>\n",
       "      <td>138.121336</td>\n",
       "      <td>198555</td>\n",
       "      <td>1028</td>\n",
       "      <td>High</td>\n",
       "      <td>516.357004</td>\n",
       "      <td>66185.000000</td>\n",
       "      <td>53081.5</td>\n",
       "    </tr>\n",
       "    <tr>\n",
       "      <th>122</th>\n",
       "      <td>122</td>\n",
       "      <td>SHOP126</td>\n",
       "      <td>33</td>\n",
       "      <td>6246</td>\n",
       "      <td>919030</td>\n",
       "      <td>0.219333</td>\n",
       "      <td>156.981070</td>\n",
       "      <td>296315</td>\n",
       "      <td>328</td>\n",
       "      <td>Moderate</td>\n",
       "      <td>2801.920732</td>\n",
       "      <td>98771.666667</td>\n",
       "      <td>91903.0</td>\n",
       "    </tr>\n",
       "    <tr>\n",
       "      <th>123</th>\n",
       "      <td>123</td>\n",
       "      <td>SHOP127</td>\n",
       "      <td>36</td>\n",
       "      <td>8724</td>\n",
       "      <td>1278645</td>\n",
       "      <td>0.201113</td>\n",
       "      <td>159.285714</td>\n",
       "      <td>481360</td>\n",
       "      <td>848</td>\n",
       "      <td>High</td>\n",
       "      <td>1507.836085</td>\n",
       "      <td>160453.333333</td>\n",
       "      <td>127864.5</td>\n",
       "    </tr>\n",
       "  </tbody>\n",
       "</table>\n",
       "<p>124 rows × 13 columns</p>\n",
       "</div>"
      ],
      "text/plain": [
       "     index  shop_id  item_description  quantity_sold  total_sales  \\\n",
       "0        0  SHOP001                35           3752       615770   \n",
       "1        1  SHOP002                35           9042      1532655   \n",
       "2        2  SHOP003                36           6548      1063720   \n",
       "3        3  SHOP004                35           5969       971270   \n",
       "4        4  SHOP005                36           7301      1245750   \n",
       "..     ...      ...               ...            ...          ...   \n",
       "119    119  SHOP123                36           3631       590900   \n",
       "120    120  SHOP124                35           8506      1309570   \n",
       "121    121  SHOP125                36           4101       530815   \n",
       "122    122  SHOP126                33           6246       919030   \n",
       "123    123  SHOP127                36           8724      1278645   \n",
       "\n",
       "     loyalty_rate  avg_item_price  total_sales_week_50  shop_area_sq_ft  \\\n",
       "0        0.231664      173.788038               247650              580   \n",
       "1        0.234381      172.369125               611790              637   \n",
       "2        0.218023      164.849547               366665              810   \n",
       "3        0.270069      165.656991               380155              516   \n",
       "4        0.261916      172.435865               385900              617   \n",
       "..            ...             ...                  ...              ...   \n",
       "119      0.238136      169.319710               202225              735   \n",
       "120      0.248575      164.398193               448430              606   \n",
       "121      0.212766      138.121336               198555             1028   \n",
       "122      0.219333      156.981070               296315              328   \n",
       "123      0.201113      159.285714               481360              848   \n",
       "\n",
       "    shop_profile  sales_per_feet  sales_per_week  sales_per_week_total  \n",
       "0            Low     1061.672414    82550.000000               61577.0  \n",
       "1            NaN     2406.051805   203930.000000              153265.5  \n",
       "2           High     1313.234568   122221.666667              106372.0  \n",
       "3            Low     1882.306202   126718.333333               97127.0  \n",
       "4            Low     2019.043760   128633.333333              124575.0  \n",
       "..           ...             ...             ...                   ...  \n",
       "119     Moderate      803.945578    67408.333333               59090.0  \n",
       "120         High     2161.006601   149476.666667              130957.0  \n",
       "121         High      516.357004    66185.000000               53081.5  \n",
       "122     Moderate     2801.920732    98771.666667               91903.0  \n",
       "123         High     1507.836085   160453.333333              127864.5  \n",
       "\n",
       "[124 rows x 13 columns]"
      ]
     },
     "execution_count": 36,
     "metadata": {},
     "output_type": "execute_result"
    }
   ],
   "source": [
    "shop_summary"
   ]
  },
  {
   "cell_type": "code",
   "execution_count": 37,
   "id": "c4181eb0",
   "metadata": {
    "execution": {
     "iopub.execute_input": "2023-04-26T15:17:06.854225Z",
     "iopub.status.busy": "2023-04-26T15:17:06.852975Z",
     "iopub.status.idle": "2023-04-26T15:17:06.862746Z",
     "shell.execute_reply": "2023-04-26T15:17:06.861465Z"
    },
    "papermill": {
     "duration": 0.031376,
     "end_time": "2023-04-26T15:17:06.865371",
     "exception": false,
     "start_time": "2023-04-26T15:17:06.833995",
     "status": "completed"
    },
    "tags": []
   },
   "outputs": [
    {
     "data": {
      "text/plain": [
       "array([35, 36, 31, 32, 33, 34])"
      ]
     },
     "execution_count": 37,
     "metadata": {},
     "output_type": "execute_result"
    }
   ],
   "source": [
    "shop_summary.item_description.unique()"
   ]
  },
  {
   "cell_type": "code",
   "execution_count": 38,
   "id": "74808b2e",
   "metadata": {
    "execution": {
     "iopub.execute_input": "2023-04-26T15:17:06.902775Z",
     "iopub.status.busy": "2023-04-26T15:17:06.902235Z",
     "iopub.status.idle": "2023-04-26T15:17:06.922281Z",
     "shell.execute_reply": "2023-04-26T15:17:06.920627Z"
    },
    "papermill": {
     "duration": 0.041684,
     "end_time": "2023-04-26T15:17:06.925271",
     "exception": false,
     "start_time": "2023-04-26T15:17:06.883587",
     "status": "completed"
    },
    "tags": []
   },
   "outputs": [],
   "source": [
    "scaler = StandardScaler()\n",
    "scaled_data = scaler.fit_transform(shop_summary[['quantity_sold', 'total_sales','shop_area_sq_ft', \"avg_item_price\",'sales_per_feet','loyalty_rate','sales_per_week','sales_per_week_total']])\n",
    "\n",
    "shop_summary = shop_summary.drop(['quantity_sold', 'total_sales','shop_area_sq_ft','sales_per_feet', \"avg_item_price\",'loyalty_rate','sales_per_week','sales_per_week_total'], axis=1)\n",
    "\n",
    "scaled_df = pd.DataFrame(scaled_data, columns=['quantity_sold', 'total_sales', 'shop_area_sq_ft', \"avg_item_price\",'sales_per_feet','loyalty_rate','sales_per_week','sales_per_week_total'])\n",
    "\n",
    "shop_summary = pd.concat([shop_summary, scaled_df], axis=1)"
   ]
  },
  {
   "cell_type": "code",
   "execution_count": 39,
   "id": "691edd6d",
   "metadata": {
    "execution": {
     "iopub.execute_input": "2023-04-26T15:17:06.962898Z",
     "iopub.status.busy": "2023-04-26T15:17:06.962325Z",
     "iopub.status.idle": "2023-04-26T15:17:06.971940Z",
     "shell.execute_reply": "2023-04-26T15:17:06.970343Z"
    },
    "papermill": {
     "duration": 0.032295,
     "end_time": "2023-04-26T15:17:06.974886",
     "exception": false,
     "start_time": "2023-04-26T15:17:06.942591",
     "status": "completed"
    },
    "tags": []
   },
   "outputs": [],
   "source": [
    "df_test = shop_summary[shop_summary['shop_profile'].isnull()]\n",
    "df_test =  df_test.reset_index(drop=True)"
   ]
  },
  {
   "cell_type": "code",
   "execution_count": 40,
   "id": "59c19341",
   "metadata": {
    "execution": {
     "iopub.execute_input": "2023-04-26T15:17:07.013404Z",
     "iopub.status.busy": "2023-04-26T15:17:07.012922Z",
     "iopub.status.idle": "2023-04-26T15:17:07.021171Z",
     "shell.execute_reply": "2023-04-26T15:17:07.019515Z"
    },
    "papermill": {
     "duration": 0.031819,
     "end_time": "2023-04-26T15:17:07.023985",
     "exception": false,
     "start_time": "2023-04-26T15:17:06.992166",
     "status": "completed"
    },
    "tags": []
   },
   "outputs": [],
   "source": [
    "df_train = shop_summary[shop_summary['shop_profile'].notnull()]\n",
    "df_train =  df_train.reset_index(drop=True)"
   ]
  },
  {
   "cell_type": "code",
   "execution_count": 41,
   "id": "7130c741",
   "metadata": {
    "execution": {
     "iopub.execute_input": "2023-04-26T15:17:07.060848Z",
     "iopub.status.busy": "2023-04-26T15:17:07.060317Z",
     "iopub.status.idle": "2023-04-26T15:17:07.069375Z",
     "shell.execute_reply": "2023-04-26T15:17:07.067398Z"
    },
    "papermill": {
     "duration": 0.030951,
     "end_time": "2023-04-26T15:17:07.072007",
     "exception": false,
     "start_time": "2023-04-26T15:17:07.041056",
     "status": "completed"
    },
    "tags": []
   },
   "outputs": [],
   "source": [
    "df_x = df_train.drop('shop_profile', axis =1)\n",
    "df_y = df_train['shop_profile']"
   ]
  },
  {
   "cell_type": "code",
   "execution_count": 42,
   "id": "f36706f0",
   "metadata": {
    "execution": {
     "iopub.execute_input": "2023-04-26T15:17:07.107853Z",
     "iopub.status.busy": "2023-04-26T15:17:07.107404Z",
     "iopub.status.idle": "2023-04-26T15:17:07.114702Z",
     "shell.execute_reply": "2023-04-26T15:17:07.113125Z"
    },
    "papermill": {
     "duration": 0.028251,
     "end_time": "2023-04-26T15:17:07.117306",
     "exception": false,
     "start_time": "2023-04-26T15:17:07.089055",
     "status": "completed"
    },
    "tags": []
   },
   "outputs": [],
   "source": [
    "df_x = df_x[['shop_id', 'sales_per_feet', \"avg_item_price\",'loyalty_rate','sales_per_week','sales_per_week_total']]"
   ]
  },
  {
   "cell_type": "code",
   "execution_count": 43,
   "id": "565e1eff",
   "metadata": {
    "execution": {
     "iopub.execute_input": "2023-04-26T15:17:07.154589Z",
     "iopub.status.busy": "2023-04-26T15:17:07.153806Z",
     "iopub.status.idle": "2023-04-26T15:17:07.162550Z",
     "shell.execute_reply": "2023-04-26T15:17:07.160995Z"
    },
    "papermill": {
     "duration": 0.031086,
     "end_time": "2023-04-26T15:17:07.165265",
     "exception": false,
     "start_time": "2023-04-26T15:17:07.134179",
     "status": "completed"
    },
    "tags": []
   },
   "outputs": [],
   "source": [
    "df1_x = df_test.drop('shop_profile', axis =1)\n",
    "df1_x = df1_x[['shop_id','sales_per_feet', \"avg_item_price\",'loyalty_rate','sales_per_week','sales_per_week_total']]"
   ]
  },
  {
   "cell_type": "code",
   "execution_count": 44,
   "id": "d669abd1",
   "metadata": {
    "execution": {
     "iopub.execute_input": "2023-04-26T15:17:07.203096Z",
     "iopub.status.busy": "2023-04-26T15:17:07.202063Z",
     "iopub.status.idle": "2023-04-26T15:17:07.209194Z",
     "shell.execute_reply": "2023-04-26T15:17:07.208093Z"
    },
    "papermill": {
     "duration": 0.029124,
     "end_time": "2023-04-26T15:17:07.211807",
     "exception": false,
     "start_time": "2023-04-26T15:17:07.182683",
     "status": "completed"
    },
    "tags": []
   },
   "outputs": [],
   "source": [
    "X_train = df_x.drop('shop_id', axis =1 )\n",
    "X_test = df1_x.drop('shop_id', axis =1 )\n",
    "# X_train = df_x\n",
    "# X_test = df1_x"
   ]
  },
  {
   "cell_type": "code",
   "execution_count": 45,
   "id": "c87777b2",
   "metadata": {
    "execution": {
     "iopub.execute_input": "2023-04-26T15:17:07.249564Z",
     "iopub.status.busy": "2023-04-26T15:17:07.249037Z",
     "iopub.status.idle": "2023-04-26T15:17:07.256502Z",
     "shell.execute_reply": "2023-04-26T15:17:07.254473Z"
    },
    "papermill": {
     "duration": 0.030464,
     "end_time": "2023-04-26T15:17:07.260016",
     "exception": false,
     "start_time": "2023-04-26T15:17:07.229552",
     "status": "completed"
    },
    "tags": []
   },
   "outputs": [],
   "source": [
    "# np.random.seed(123) \n",
    "\n",
    "# X_train, X_test, y_train, y_test = train_test_split(df_x, df_y,\n",
    "#                                                    test_size= 0.2,\n",
    "#                                                    shuffle= True, #shuffle the data to avoid bias\n",
    "#                                                    random_state= 5)\n",
    "\n",
    "# print(f'training set size: {X_train.shape[0]} samples \\ntest set size: {X_test.shape[0]} samples')\n",
    "\n",
    "y_train = df_y"
   ]
  },
  {
   "cell_type": "code",
   "execution_count": 46,
   "id": "fa15dc04",
   "metadata": {
    "execution": {
     "iopub.execute_input": "2023-04-26T15:17:07.297345Z",
     "iopub.status.busy": "2023-04-26T15:17:07.296930Z",
     "iopub.status.idle": "2023-04-26T15:17:07.314016Z",
     "shell.execute_reply": "2023-04-26T15:17:07.312751Z"
    },
    "papermill": {
     "duration": 0.039173,
     "end_time": "2023-04-26T15:17:07.316927",
     "exception": false,
     "start_time": "2023-04-26T15:17:07.277754",
     "status": "completed"
    },
    "tags": []
   },
   "outputs": [
    {
     "data": {
      "text/html": [
       "<div>\n",
       "<style scoped>\n",
       "    .dataframe tbody tr th:only-of-type {\n",
       "        vertical-align: middle;\n",
       "    }\n",
       "\n",
       "    .dataframe tbody tr th {\n",
       "        vertical-align: top;\n",
       "    }\n",
       "\n",
       "    .dataframe thead th {\n",
       "        text-align: right;\n",
       "    }\n",
       "</style>\n",
       "<table border=\"1\" class=\"dataframe\">\n",
       "  <thead>\n",
       "    <tr style=\"text-align: right;\">\n",
       "      <th></th>\n",
       "      <th>sales_per_feet</th>\n",
       "      <th>avg_item_price</th>\n",
       "      <th>loyalty_rate</th>\n",
       "      <th>sales_per_week</th>\n",
       "      <th>sales_per_week_total</th>\n",
       "    </tr>\n",
       "  </thead>\n",
       "  <tbody>\n",
       "    <tr>\n",
       "      <th>0</th>\n",
       "      <td>0.851941</td>\n",
       "      <td>0.712769</td>\n",
       "      <td>-0.140741</td>\n",
       "      <td>1.918410</td>\n",
       "      <td>1.295365</td>\n",
       "    </tr>\n",
       "    <tr>\n",
       "      <th>1</th>\n",
       "      <td>1.684692</td>\n",
       "      <td>1.323037</td>\n",
       "      <td>1.369126</td>\n",
       "      <td>0.486918</td>\n",
       "      <td>0.292583</td>\n",
       "    </tr>\n",
       "    <tr>\n",
       "      <th>2</th>\n",
       "      <td>0.301220</td>\n",
       "      <td>0.867482</td>\n",
       "      <td>-0.369936</td>\n",
       "      <td>0.396334</td>\n",
       "      <td>0.482730</td>\n",
       "    </tr>\n",
       "    <tr>\n",
       "      <th>3</th>\n",
       "      <td>-1.054332</td>\n",
       "      <td>-0.199199</td>\n",
       "      <td>0.161172</td>\n",
       "      <td>-1.208169</td>\n",
       "      <td>-0.936680</td>\n",
       "    </tr>\n",
       "    <tr>\n",
       "      <th>4</th>\n",
       "      <td>0.011691</td>\n",
       "      <td>0.513987</td>\n",
       "      <td>-0.501396</td>\n",
       "      <td>0.352629</td>\n",
       "      <td>0.018189</td>\n",
       "    </tr>\n",
       "    <tr>\n",
       "      <th>5</th>\n",
       "      <td>0.561888</td>\n",
       "      <td>-0.107126</td>\n",
       "      <td>1.972401</td>\n",
       "      <td>0.065616</td>\n",
       "      <td>0.202938</td>\n",
       "    </tr>\n",
       "    <tr>\n",
       "      <th>6</th>\n",
       "      <td>0.497379</td>\n",
       "      <td>0.308617</td>\n",
       "      <td>0.412835</td>\n",
       "      <td>-0.547616</td>\n",
       "      <td>-0.661931</td>\n",
       "    </tr>\n",
       "    <tr>\n",
       "      <th>7</th>\n",
       "      <td>-1.303611</td>\n",
       "      <td>-0.913561</td>\n",
       "      <td>-1.190945</td>\n",
       "      <td>-1.229249</td>\n",
       "      <td>-1.142157</td>\n",
       "    </tr>\n",
       "    <tr>\n",
       "      <th>8</th>\n",
       "      <td>-0.024560</td>\n",
       "      <td>-0.643993</td>\n",
       "      <td>1.009538</td>\n",
       "      <td>-0.157802</td>\n",
       "      <td>-0.319757</td>\n",
       "    </tr>\n",
       "    <tr>\n",
       "      <th>9</th>\n",
       "      <td>2.056268</td>\n",
       "      <td>1.512728</td>\n",
       "      <td>3.054998</td>\n",
       "      <td>1.153425</td>\n",
       "      <td>0.591304</td>\n",
       "    </tr>\n",
       "    <tr>\n",
       "      <th>10</th>\n",
       "      <td>1.524287</td>\n",
       "      <td>0.250542</td>\n",
       "      <td>0.745975</td>\n",
       "      <td>2.095919</td>\n",
       "      <td>1.784524</td>\n",
       "    </tr>\n",
       "    <tr>\n",
       "      <th>11</th>\n",
       "      <td>-0.754198</td>\n",
       "      <td>1.208645</td>\n",
       "      <td>-0.451564</td>\n",
       "      <td>-0.170283</td>\n",
       "      <td>-0.441893</td>\n",
       "    </tr>\n",
       "    <tr>\n",
       "      <th>12</th>\n",
       "      <td>-1.017329</td>\n",
       "      <td>1.188499</td>\n",
       "      <td>1.197182</td>\n",
       "      <td>-0.666337</td>\n",
       "      <td>-0.887751</td>\n",
       "    </tr>\n",
       "    <tr>\n",
       "      <th>13</th>\n",
       "      <td>0.929267</td>\n",
       "      <td>0.816653</td>\n",
       "      <td>-0.063577</td>\n",
       "      <td>1.043348</td>\n",
       "      <td>1.240701</td>\n",
       "    </tr>\n",
       "    <tr>\n",
       "      <th>14</th>\n",
       "      <td>-0.329146</td>\n",
       "      <td>0.332908</td>\n",
       "      <td>-0.023794</td>\n",
       "      <td>0.151438</td>\n",
       "      <td>0.022217</td>\n",
       "    </tr>\n",
       "    <tr>\n",
       "      <th>15</th>\n",
       "      <td>-0.831109</td>\n",
       "      <td>0.590414</td>\n",
       "      <td>-0.809974</td>\n",
       "      <td>-0.916172</td>\n",
       "      <td>-1.142602</td>\n",
       "    </tr>\n",
       "    <tr>\n",
       "      <th>16</th>\n",
       "      <td>-1.096117</td>\n",
       "      <td>-1.583621</td>\n",
       "      <td>-2.320358</td>\n",
       "      <td>-0.728167</td>\n",
       "      <td>-0.640220</td>\n",
       "    </tr>\n",
       "    <tr>\n",
       "      <th>17</th>\n",
       "      <td>-1.165496</td>\n",
       "      <td>0.694786</td>\n",
       "      <td>-0.089630</td>\n",
       "      <td>-1.552293</td>\n",
       "      <td>-1.598194</td>\n",
       "    </tr>\n",
       "    <tr>\n",
       "      <th>18</th>\n",
       "      <td>-0.100651</td>\n",
       "      <td>0.177211</td>\n",
       "      <td>-1.297236</td>\n",
       "      <td>-0.274142</td>\n",
       "      <td>-0.002277</td>\n",
       "    </tr>\n",
       "    <tr>\n",
       "      <th>19</th>\n",
       "      <td>0.511736</td>\n",
       "      <td>1.151643</td>\n",
       "      <td>0.798574</td>\n",
       "      <td>1.730053</td>\n",
       "      <td>1.134096</td>\n",
       "    </tr>\n",
       "    <tr>\n",
       "      <th>20</th>\n",
       "      <td>2.340270</td>\n",
       "      <td>-0.398961</td>\n",
       "      <td>0.285339</td>\n",
       "      <td>-0.320360</td>\n",
       "      <td>-0.221747</td>\n",
       "    </tr>\n",
       "    <tr>\n",
       "      <th>21</th>\n",
       "      <td>-1.278627</td>\n",
       "      <td>-1.646011</td>\n",
       "      <td>0.362621</td>\n",
       "      <td>-1.486890</td>\n",
       "      <td>-1.517667</td>\n",
       "    </tr>\n",
       "    <tr>\n",
       "      <th>22</th>\n",
       "      <td>-0.172900</td>\n",
       "      <td>0.812235</td>\n",
       "      <td>0.661619</td>\n",
       "      <td>0.462883</td>\n",
       "      <td>0.228817</td>\n",
       "    </tr>\n",
       "    <tr>\n",
       "      <th>23</th>\n",
       "      <td>0.632030</td>\n",
       "      <td>-0.543566</td>\n",
       "      <td>-1.339187</td>\n",
       "      <td>0.027557</td>\n",
       "      <td>0.157177</td>\n",
       "    </tr>\n",
       "  </tbody>\n",
       "</table>\n",
       "</div>"
      ],
      "text/plain": [
       "    sales_per_feet  avg_item_price  loyalty_rate  sales_per_week  \\\n",
       "0         0.851941        0.712769     -0.140741        1.918410   \n",
       "1         1.684692        1.323037      1.369126        0.486918   \n",
       "2         0.301220        0.867482     -0.369936        0.396334   \n",
       "3        -1.054332       -0.199199      0.161172       -1.208169   \n",
       "4         0.011691        0.513987     -0.501396        0.352629   \n",
       "5         0.561888       -0.107126      1.972401        0.065616   \n",
       "6         0.497379        0.308617      0.412835       -0.547616   \n",
       "7        -1.303611       -0.913561     -1.190945       -1.229249   \n",
       "8        -0.024560       -0.643993      1.009538       -0.157802   \n",
       "9         2.056268        1.512728      3.054998        1.153425   \n",
       "10        1.524287        0.250542      0.745975        2.095919   \n",
       "11       -0.754198        1.208645     -0.451564       -0.170283   \n",
       "12       -1.017329        1.188499      1.197182       -0.666337   \n",
       "13        0.929267        0.816653     -0.063577        1.043348   \n",
       "14       -0.329146        0.332908     -0.023794        0.151438   \n",
       "15       -0.831109        0.590414     -0.809974       -0.916172   \n",
       "16       -1.096117       -1.583621     -2.320358       -0.728167   \n",
       "17       -1.165496        0.694786     -0.089630       -1.552293   \n",
       "18       -0.100651        0.177211     -1.297236       -0.274142   \n",
       "19        0.511736        1.151643      0.798574        1.730053   \n",
       "20        2.340270       -0.398961      0.285339       -0.320360   \n",
       "21       -1.278627       -1.646011      0.362621       -1.486890   \n",
       "22       -0.172900        0.812235      0.661619        0.462883   \n",
       "23        0.632030       -0.543566     -1.339187        0.027557   \n",
       "\n",
       "    sales_per_week_total  \n",
       "0               1.295365  \n",
       "1               0.292583  \n",
       "2               0.482730  \n",
       "3              -0.936680  \n",
       "4               0.018189  \n",
       "5               0.202938  \n",
       "6              -0.661931  \n",
       "7              -1.142157  \n",
       "8              -0.319757  \n",
       "9               0.591304  \n",
       "10              1.784524  \n",
       "11             -0.441893  \n",
       "12             -0.887751  \n",
       "13              1.240701  \n",
       "14              0.022217  \n",
       "15             -1.142602  \n",
       "16             -0.640220  \n",
       "17             -1.598194  \n",
       "18             -0.002277  \n",
       "19              1.134096  \n",
       "20             -0.221747  \n",
       "21             -1.517667  \n",
       "22              0.228817  \n",
       "23              0.157177  "
      ]
     },
     "execution_count": 46,
     "metadata": {},
     "output_type": "execute_result"
    }
   ],
   "source": [
    "X_test"
   ]
  },
  {
   "cell_type": "code",
   "execution_count": 47,
   "id": "8d8aa353",
   "metadata": {
    "execution": {
     "iopub.execute_input": "2023-04-26T15:17:07.355987Z",
     "iopub.status.busy": "2023-04-26T15:17:07.355432Z",
     "iopub.status.idle": "2023-04-26T15:17:07.361368Z",
     "shell.execute_reply": "2023-04-26T15:17:07.360116Z"
    },
    "papermill": {
     "duration": 0.029324,
     "end_time": "2023-04-26T15:17:07.364247",
     "exception": false,
     "start_time": "2023-04-26T15:17:07.334923",
     "status": "completed"
    },
    "tags": []
   },
   "outputs": [],
   "source": [
    "# max_depths = [2*i for i in range(1,15)]\n",
    "# min_samples_splits = [2,4,8]\n",
    "# min_samples_leafs =  [1,2,4]\n",
    "# n_estimator = 100\n",
    "# best_score = 0\n",
    "\n",
    "# for max_depth in max_depths:\n",
    "#     for min_samples_split in min_samples_splits:\n",
    "#         for min_samples_leaf in min_samples_leafs:\n",
    "#             random_forest = RandomForestClassifier( max_depth=max_depth, min_samples_split=min_samples_split, min_samples_leaf=min_samples_leaf)\n",
    "\n",
    "#             accuracy_list = cross_val_score(random_forest, X_train, y_train, cv=10)\n",
    "#             accuracy = accuracy_list.mean()\n",
    "\n",
    "#             if accuracy > best_score:\n",
    "#                 best_score = accuracy\n",
    "#                 best_params = {'max_depth': max_depth, 'min_samples_split': min_samples_split, 'min_samples_leaf': min_samples_leaf}\n",
    "#                 print(f'Best hyperparameters: {best_params}')\n",
    "#                 print(f'Accuracy: {best_score}')\n",
    "\n",
    "\n",
    "# print(f'Best hyperparameters: {best_params}')\n",
    "# print(f'Accuracy: {best_score}')"
   ]
  },
  {
   "cell_type": "code",
   "execution_count": 48,
   "id": "e352bd70",
   "metadata": {
    "execution": {
     "iopub.execute_input": "2023-04-26T15:17:07.401027Z",
     "iopub.status.busy": "2023-04-26T15:17:07.400607Z",
     "iopub.status.idle": "2023-04-26T15:17:07.574594Z",
     "shell.execute_reply": "2023-04-26T15:17:07.573284Z"
    },
    "papermill": {
     "duration": 0.196049,
     "end_time": "2023-04-26T15:17:07.577722",
     "exception": false,
     "start_time": "2023-04-26T15:17:07.381673",
     "status": "completed"
    },
    "tags": []
   },
   "outputs": [],
   "source": [
    "randomForest = RandomForestClassifier(max_depth= 12, min_samples_split= 4, min_samples_leaf= 1)\n",
    "# max_depth= 6, min_samples_split= 4, min_samples_leaf= 1\n",
    "# n_estimators = 100, max_depth=16, min_samples_split=2, min_samples_leaf=1\n",
    "\n",
    "randomForest.fit(X_train, y_train)\n",
    "y_pred = randomForest.predict(X_test)"
   ]
  },
  {
   "cell_type": "code",
   "execution_count": 49,
   "id": "152c2295",
   "metadata": {
    "execution": {
     "iopub.execute_input": "2023-04-26T15:17:07.614419Z",
     "iopub.status.busy": "2023-04-26T15:17:07.614015Z",
     "iopub.status.idle": "2023-04-26T15:17:09.165872Z",
     "shell.execute_reply": "2023-04-26T15:17:09.164545Z"
    },
    "papermill": {
     "duration": 1.574992,
     "end_time": "2023-04-26T15:17:09.169868",
     "exception": false,
     "start_time": "2023-04-26T15:17:07.594876",
     "status": "completed"
    },
    "tags": []
   },
   "outputs": [
    {
     "name": "stdout",
     "output_type": "stream",
     "text": [
      "Cross-validation scores: [0.7 0.6 0.7 0.4 0.5 0.5 0.8 0.6 0.7 0.7]\n",
      "Mean cross-validation score: 0.62\n"
     ]
    }
   ],
   "source": [
    "from sklearn.model_selection import cross_val_score\n",
    "\n",
    "scores = cross_val_score(randomForest, X_train, y_train, cv=10)                                   \n",
    "print(\"Cross-validation scores:\", scores)\n",
    "print(\"Mean cross-validation score:\", scores.mean())"
   ]
  },
  {
   "cell_type": "code",
   "execution_count": 50,
   "id": "efe75aef",
   "metadata": {
    "execution": {
     "iopub.execute_input": "2023-04-26T15:17:09.209937Z",
     "iopub.status.busy": "2023-04-26T15:17:09.208365Z",
     "iopub.status.idle": "2023-04-26T15:17:09.215436Z",
     "shell.execute_reply": "2023-04-26T15:17:09.213744Z"
    },
    "papermill": {
     "duration": 0.030692,
     "end_time": "2023-04-26T15:17:09.218568",
     "exception": false,
     "start_time": "2023-04-26T15:17:09.187876",
     "status": "completed"
    },
    "tags": []
   },
   "outputs": [],
   "source": [
    "# import xgboost as xgb\n",
    "# from sklearn.datasets import load_breast_cancer\n",
    "# from sklearn.model_selection import train_test_split\n",
    "# from sklearn.metrics import accuracy_score, precision_score, recall_score, f1_score\n",
    "\n",
    "# model = xgb.XGBClassifier()\n",
    "\n",
    "# model.fit(X_train, y_train)\n",
    "\n",
    "# y_pred = model.predict(X_test)"
   ]
  },
  {
   "cell_type": "code",
   "execution_count": 51,
   "id": "63ca5d83",
   "metadata": {
    "execution": {
     "iopub.execute_input": "2023-04-26T15:17:09.258811Z",
     "iopub.status.busy": "2023-04-26T15:17:09.258333Z",
     "iopub.status.idle": "2023-04-26T15:17:09.266058Z",
     "shell.execute_reply": "2023-04-26T15:17:09.264268Z"
    },
    "papermill": {
     "duration": 0.029914,
     "end_time": "2023-04-26T15:17:09.268993",
     "exception": false,
     "start_time": "2023-04-26T15:17:09.239079",
     "status": "completed"
    },
    "scrolled": true,
    "tags": []
   },
   "outputs": [],
   "source": [
    "shop_profile = pd.DataFrame({'shop_profile': y_pred})\n",
    "\n",
    "df_concat = pd.concat([df1_x, shop_profile], axis=1)\n"
   ]
  },
  {
   "cell_type": "code",
   "execution_count": 52,
   "id": "d4368981",
   "metadata": {
    "execution": {
     "iopub.execute_input": "2023-04-26T15:17:09.307390Z",
     "iopub.status.busy": "2023-04-26T15:17:09.306815Z",
     "iopub.status.idle": "2023-04-26T15:17:09.318482Z",
     "shell.execute_reply": "2023-04-26T15:17:09.316734Z"
    },
    "papermill": {
     "duration": 0.035008,
     "end_time": "2023-04-26T15:17:09.321688",
     "exception": false,
     "start_time": "2023-04-26T15:17:09.286680",
     "status": "completed"
    },
    "tags": []
   },
   "outputs": [
    {
     "name": "stdout",
     "output_type": "stream",
     "text": [
      "    shop_id shop_profile\n",
      "0   SHOP002         High\n",
      "1   SHOP019          Low\n",
      "2   SHOP023         High\n",
      "3   SHOP024          Low\n",
      "4   SHOP029          Low\n",
      "5   SHOP030          Low\n",
      "6   SHOP038          Low\n",
      "7   SHOP044     Moderate\n",
      "8   SHOP046     Moderate\n",
      "9   SHOP050     Moderate\n",
      "10  SHOP056          Low\n",
      "11  SHOP061          Low\n",
      "12  SHOP070     Moderate\n",
      "13  SHOP074     Moderate\n",
      "14  SHOP076          Low\n",
      "15  SHOP080          Low\n",
      "16  SHOP081         High\n",
      "17  SHOP087     Moderate\n",
      "18  SHOP092          Low\n",
      "19  SHOP096          Low\n",
      "20  SHOP097     Moderate\n",
      "21  SHOP107         High\n",
      "22  SHOP108          Low\n",
      "23  SHOP114     Moderate\n"
     ]
    }
   ],
   "source": [
    "output = df_concat[['shop_id','shop_profile']]\n",
    "print(output)"
   ]
  },
  {
   "cell_type": "code",
   "execution_count": 53,
   "id": "a3458167",
   "metadata": {
    "execution": {
     "iopub.execute_input": "2023-04-26T15:17:09.360271Z",
     "iopub.status.busy": "2023-04-26T15:17:09.359382Z",
     "iopub.status.idle": "2023-04-26T15:17:09.372557Z",
     "shell.execute_reply": "2023-04-26T15:17:09.370887Z"
    },
    "papermill": {
     "duration": 0.036007,
     "end_time": "2023-04-26T15:17:09.375636",
     "exception": false,
     "start_time": "2023-04-26T15:17:09.339629",
     "status": "completed"
    },
    "tags": []
   },
   "outputs": [],
   "source": [
    "# Save test predictions to file\n",
    "\n",
    "output.to_csv('submission.csv', index=False)"
   ]
  },
  {
   "cell_type": "code",
   "execution_count": 54,
   "id": "a0af5a94",
   "metadata": {
    "execution": {
     "iopub.execute_input": "2023-04-26T15:17:09.417762Z",
     "iopub.status.busy": "2023-04-26T15:17:09.416914Z",
     "iopub.status.idle": "2023-04-26T15:17:09.421929Z",
     "shell.execute_reply": "2023-04-26T15:17:09.420759Z"
    },
    "papermill": {
     "duration": 0.029973,
     "end_time": "2023-04-26T15:17:09.424644",
     "exception": false,
     "start_time": "2023-04-26T15:17:09.394671",
     "status": "completed"
    },
    "tags": []
   },
   "outputs": [],
   "source": [
    "# accuracy = accuracy_score(y_test, y_pred)\n",
    "# precision = precision_score(y_test, y_pred, average='weighted')\n",
    "# recall = recall_score(y_test, y_pred, average='weighted')\n",
    "# f1score = f1_score(y_test, y_pred, average='weighted')\n",
    "\n",
    "# print(\"Accuracy:\", accuracy)\n",
    "# print(\"Precision:\", precision)\n",
    "# print(\"Recall:\", recall)\n",
    "# print(\"F1-score:\", f1score)"
   ]
  },
  {
   "cell_type": "code",
   "execution_count": 55,
   "id": "4ea968f3",
   "metadata": {
    "execution": {
     "iopub.execute_input": "2023-04-26T15:17:09.462020Z",
     "iopub.status.busy": "2023-04-26T15:17:09.461095Z",
     "iopub.status.idle": "2023-04-26T15:17:09.466087Z",
     "shell.execute_reply": "2023-04-26T15:17:09.465152Z"
    },
    "papermill": {
     "duration": 0.026758,
     "end_time": "2023-04-26T15:17:09.468634",
     "exception": false,
     "start_time": "2023-04-26T15:17:09.441876",
     "status": "completed"
    },
    "tags": []
   },
   "outputs": [],
   "source": [
    "# from sklearn.datasets import load_iris\n",
    "# from sklearn.model_selection import cross_val_score\n",
    "# from sklearn.neighbors import KNeighborsClassifier\n",
    "\n",
    "# knn = KNeighborsClassifier(n_neighbors=5)\n",
    "\n",
    "# # Fit the model to the training data\n",
    "# knn.fit(X_train, y_train)\n",
    "\n",
    "# # Use the fitted model to make predictions on the test data\n",
    "# y_pred = knn.predict(X_test)"
   ]
  },
  {
   "cell_type": "code",
   "execution_count": 56,
   "id": "d8459c0c",
   "metadata": {
    "execution": {
     "iopub.execute_input": "2023-04-26T15:17:09.506399Z",
     "iopub.status.busy": "2023-04-26T15:17:09.505870Z",
     "iopub.status.idle": "2023-04-26T15:17:09.511594Z",
     "shell.execute_reply": "2023-04-26T15:17:09.510439Z"
    },
    "papermill": {
     "duration": 0.028633,
     "end_time": "2023-04-26T15:17:09.514484",
     "exception": false,
     "start_time": "2023-04-26T15:17:09.485851",
     "status": "completed"
    },
    "tags": []
   },
   "outputs": [],
   "source": [
    "# accuracy = accuracy_score(y_test, y_pred)\n",
    "# precision = precision_score(y_test, y_pred, average='weighted')\n",
    "# recall = recall_score(y_test, y_pred, average='weighted')\n",
    "# f1score = f1_score(y_test, y_pred, average='weighted')\n",
    "\n",
    "# print(\"Accuracy:\", accuracy)\n",
    "# print(\"Precision:\", precision)\n",
    "# print(\"Recall:\", recall)\n",
    "# print(\"F1-score:\", f1score)"
   ]
  },
  {
   "cell_type": "code",
   "execution_count": null,
   "id": "2a791735",
   "metadata": {
    "papermill": {
     "duration": 0.017736,
     "end_time": "2023-04-26T15:17:09.550059",
     "exception": false,
     "start_time": "2023-04-26T15:17:09.532323",
     "status": "completed"
    },
    "tags": []
   },
   "outputs": [],
   "source": []
  }
 ],
 "metadata": {
  "kernelspec": {
   "display_name": "Python 3",
   "language": "python",
   "name": "python3"
  },
  "language_info": {
   "codemirror_mode": {
    "name": "ipython",
    "version": 3
   },
   "file_extension": ".py",
   "mimetype": "text/x-python",
   "name": "python",
   "nbconvert_exporter": "python",
   "pygments_lexer": "ipython3",
   "version": "3.7.12"
  },
  "papermill": {
   "default_parameters": {},
   "duration": 31.180995,
   "end_time": "2023-04-26T15:17:10.796288",
   "environment_variables": {},
   "exception": null,
   "input_path": "__notebook__.ipynb",
   "output_path": "__notebook__.ipynb",
   "parameters": {},
   "start_time": "2023-04-26T15:16:39.615293",
   "version": "2.4.0"
  }
 },
 "nbformat": 4,
 "nbformat_minor": 5
}
