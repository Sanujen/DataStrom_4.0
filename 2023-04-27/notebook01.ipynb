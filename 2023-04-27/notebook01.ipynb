{
 "cells": [
  {
   "cell_type": "code",
   "execution_count": 1,
   "id": "21534d74",
   "metadata": {
    "_cell_guid": "b1076dfc-b9ad-4769-8c92-a6c4dae69d19",
    "_uuid": "8f2839f25d086af736a60e9eeb907d3b93b6e0e5",
    "execution": {
     "iopub.execute_input": "2023-04-27T20:56:50.579438Z",
     "iopub.status.busy": "2023-04-27T20:56:50.578788Z",
     "iopub.status.idle": "2023-04-27T20:56:51.940762Z",
     "shell.execute_reply": "2023-04-27T20:56:51.939785Z"
    },
    "papermill": {
     "duration": 1.379897,
     "end_time": "2023-04-27T20:56:51.943114",
     "exception": false,
     "start_time": "2023-04-27T20:56:50.563217",
     "status": "completed"
    },
    "tags": []
   },
   "outputs": [
    {
     "name": "stdout",
     "output_type": "stream",
     "text": [
      "/kaggle/input/data-storm-4/Data-dictionary.xlsx\n",
      "/kaggle/input/data-storm-4/DataStorm4.0_KaggleProblemStatement.pdf\n",
      "/kaggle/input/data-storm-4/Store-info.csv\n",
      "/kaggle/input/data-storm-4/Testing-data.csv\n",
      "/kaggle/input/data-storm-4/Historical-transaction-data.csv\n"
     ]
    }
   ],
   "source": [
    "# This Python 3 environment comes with many helpful analytics libraries installed\n",
    "# It is defined by the kaggle/python Docker image: https://github.com/kaggle/docker-python\n",
    "# For example, here's several helpful packages to load\n",
    "\n",
    "import numpy as np\n",
    "import pandas as pd\n",
    "import matplotlib.pyplot as plt\n",
    "import seaborn as sns\n",
    "#%matplotlib inline\n",
    "sns.set()\n",
    "from sklearn.feature_selection import mutual_info_regression\n",
    "import seaborn as sns\n",
    "from sklearn.model_selection import train_test_split\n",
    "from sklearn.preprocessing import StandardScaler\n",
    "from sklearn.ensemble import RandomForestClassifier\n",
    "from sklearn.model_selection import cross_val_score\n",
    "from sklearn.metrics import accuracy_score\n",
    "from sklearn.metrics import accuracy_score, precision_score, recall_score, f1_score\n",
    "from sklearn.preprocessing import LabelEncoder\n",
    "# Input data files are available in the read-only \"../input/\" directory\n",
    "# For example, running this (by clicking run or pressing Shift+Enter) will list all files under the input directory\n",
    "\n",
    "import os\n",
    "for dirname, _, filenames in os.walk('/kaggle/input'):\n",
    "    for filename in filenames:\n",
    "        print(os.path.join(dirname, filename))\n",
    "\n",
    "# You can write up to 20GB to the current directory (/kaggle/working/) that gets preserved as output when you create a version using \"Save & Run All\" \n",
    "# You can also write temporary files to /kaggle/temp/, but they won't be saved outside of the current session"
   ]
  },
  {
   "cell_type": "code",
   "execution_count": 2,
   "id": "16fb7e9f",
   "metadata": {
    "execution": {
     "iopub.execute_input": "2023-04-27T20:56:51.967393Z",
     "iopub.status.busy": "2023-04-27T20:56:51.966802Z",
     "iopub.status.idle": "2023-04-27T20:56:52.809734Z",
     "shell.execute_reply": "2023-04-27T20:56:52.808773Z"
    },
    "papermill": {
     "duration": 0.857781,
     "end_time": "2023-04-27T20:56:52.812423",
     "exception": false,
     "start_time": "2023-04-27T20:56:51.954642",
     "status": "completed"
    },
    "tags": []
   },
   "outputs": [],
   "source": [
    "df = pd.read_csv('/kaggle/input/data-storm-4/Historical-transaction-data.csv')\n",
    "store_info_data = pd.read_csv('/kaggle/input/data-storm-4/Store-info.csv')\n",
    "test_data = pd.read_csv('/kaggle/input/data-storm-4/Testing-data.csv')\n",
    "# /kaggle/input/data-storm-4/"
   ]
  },
  {
   "cell_type": "code",
   "execution_count": 3,
   "id": "7a77488d",
   "metadata": {
    "execution": {
     "iopub.execute_input": "2023-04-27T20:56:52.838153Z",
     "iopub.status.busy": "2023-04-27T20:56:52.837507Z",
     "iopub.status.idle": "2023-04-27T20:56:52.894951Z",
     "shell.execute_reply": "2023-04-27T20:56:52.894056Z"
    },
    "papermill": {
     "duration": 0.072514,
     "end_time": "2023-04-27T20:56:52.897620",
     "exception": false,
     "start_time": "2023-04-27T20:56:52.825106",
     "status": "completed"
    },
    "tags": []
   },
   "outputs": [],
   "source": [
    "df = df[df['quantity_sold'] > 0]"
   ]
  },
  {
   "cell_type": "code",
   "execution_count": 4,
   "id": "8df1ffe6",
   "metadata": {
    "execution": {
     "iopub.execute_input": "2023-04-27T20:56:52.924170Z",
     "iopub.status.busy": "2023-04-27T20:56:52.923506Z",
     "iopub.status.idle": "2023-04-27T20:56:53.158307Z",
     "shell.execute_reply": "2023-04-27T20:56:53.157362Z"
    },
    "papermill": {
     "duration": 0.250098,
     "end_time": "2023-04-27T20:56:53.160943",
     "exception": false,
     "start_time": "2023-04-27T20:56:52.910845",
     "status": "completed"
    },
    "tags": []
   },
   "outputs": [],
   "source": [
    "df = df[~df['customer_id'].str.contains('-')]"
   ]
  },
  {
   "cell_type": "code",
   "execution_count": 5,
   "id": "6329a483",
   "metadata": {
    "execution": {
     "iopub.execute_input": "2023-04-27T20:56:53.186020Z",
     "iopub.status.busy": "2023-04-27T20:56:53.185687Z",
     "iopub.status.idle": "2023-04-27T20:56:53.190161Z",
     "shell.execute_reply": "2023-04-27T20:56:53.189224Z"
    },
    "papermill": {
     "duration": 0.019741,
     "end_time": "2023-04-27T20:56:53.192188",
     "exception": false,
     "start_time": "2023-04-27T20:56:53.172447",
     "status": "completed"
    },
    "tags": []
   },
   "outputs": [],
   "source": [
    "# # Create a mapping between item_price values and item_description values\n",
    "# price_to_description = df.groupby('item_description')['item_price'].apply(lambda x: x.mode()[0]).to_dict()\n",
    "\n",
    "# # Fill missing values in 'item_description' column using mapping\n",
    "# df['item_description'].fillna(df['item_price'].map(price_to_description), inplace=True)"
   ]
  },
  {
   "cell_type": "code",
   "execution_count": 6,
   "id": "c701dec5",
   "metadata": {
    "execution": {
     "iopub.execute_input": "2023-04-27T20:56:53.216694Z",
     "iopub.status.busy": "2023-04-27T20:56:53.216160Z",
     "iopub.status.idle": "2023-04-27T20:56:53.372742Z",
     "shell.execute_reply": "2023-04-27T20:56:53.371646Z"
    },
    "papermill": {
     "duration": 0.171074,
     "end_time": "2023-04-27T20:56:53.374957",
     "exception": false,
     "start_time": "2023-04-27T20:56:53.203883",
     "status": "completed"
    },
    "tags": []
   },
   "outputs": [
    {
     "data": {
      "text/html": [
       "<div>\n",
       "<style scoped>\n",
       "    .dataframe tbody tr th:only-of-type {\n",
       "        vertical-align: middle;\n",
       "    }\n",
       "\n",
       "    .dataframe tbody tr th {\n",
       "        vertical-align: top;\n",
       "    }\n",
       "\n",
       "    .dataframe thead th {\n",
       "        text-align: right;\n",
       "    }\n",
       "</style>\n",
       "<table border=\"1\" class=\"dataframe\">\n",
       "  <thead>\n",
       "    <tr style=\"text-align: right;\">\n",
       "      <th></th>\n",
       "      <th>item_description</th>\n",
       "      <th>transaction_date</th>\n",
       "      <th>invoice_id</th>\n",
       "      <th>customer_id</th>\n",
       "      <th>shop_id</th>\n",
       "      <th>item_price</th>\n",
       "      <th>quantity_sold</th>\n",
       "    </tr>\n",
       "  </thead>\n",
       "  <tbody>\n",
       "    <tr>\n",
       "      <th>0</th>\n",
       "      <td>ORANGE BARLEY 1.5L</td>\n",
       "      <td>2021-12-11T00:00:00.000Z</td>\n",
       "      <td>147.0</td>\n",
       "      <td>BGXA</td>\n",
       "      <td>SHOP008</td>\n",
       "      <td>220</td>\n",
       "      <td>2</td>\n",
       "    </tr>\n",
       "    <tr>\n",
       "      <th>1</th>\n",
       "      <td>GINGER BEER 1.5L</td>\n",
       "      <td>2021-10-17T00:00:00.000Z</td>\n",
       "      <td>371.0</td>\n",
       "      <td>IA25</td>\n",
       "      <td>SHOP112</td>\n",
       "      <td>220</td>\n",
       "      <td>2</td>\n",
       "    </tr>\n",
       "    <tr>\n",
       "      <th>2</th>\n",
       "      <td>TONIC PET 500ML</td>\n",
       "      <td>2021-12-13T00:00:00.000Z</td>\n",
       "      <td>484.0</td>\n",
       "      <td>VN7V</td>\n",
       "      <td>SHOP008</td>\n",
       "      <td>160</td>\n",
       "      <td>2</td>\n",
       "    </tr>\n",
       "    <tr>\n",
       "      <th>3</th>\n",
       "      <td>CREAM SODA 1L</td>\n",
       "      <td>2021-12-13T00:00:00.000Z</td>\n",
       "      <td>484.0</td>\n",
       "      <td>VN7V</td>\n",
       "      <td>SHOP008</td>\n",
       "      <td>150</td>\n",
       "      <td>2</td>\n",
       "    </tr>\n",
       "    <tr>\n",
       "      <th>4</th>\n",
       "      <td>STRAWBERRY MILK 180ML</td>\n",
       "      <td>2021-10-23T00:00:00.000Z</td>\n",
       "      <td>1310.0</td>\n",
       "      <td>7S00</td>\n",
       "      <td>SHOP112</td>\n",
       "      <td>210</td>\n",
       "      <td>5</td>\n",
       "    </tr>\n",
       "    <tr>\n",
       "      <th>...</th>\n",
       "      <td>...</td>\n",
       "      <td>...</td>\n",
       "      <td>...</td>\n",
       "      <td>...</td>\n",
       "      <td>...</td>\n",
       "      <td>...</td>\n",
       "      <td>...</td>\n",
       "    </tr>\n",
       "    <tr>\n",
       "      <th>473820</th>\n",
       "      <td>FIT O ORANGE 200ML</td>\n",
       "      <td>2021-11-14T00:00:00.000Z</td>\n",
       "      <td>8014206.0</td>\n",
       "      <td>ZEBZ</td>\n",
       "      <td>SHOP003</td>\n",
       "      <td>60</td>\n",
       "      <td>2</td>\n",
       "    </tr>\n",
       "    <tr>\n",
       "      <th>473821</th>\n",
       "      <td>BOTTLED DRINKING WATER 500ML</td>\n",
       "      <td>2021-10-16T00:00:00.000Z</td>\n",
       "      <td>8304754.0</td>\n",
       "      <td>AFR6</td>\n",
       "      <td>SHOP127</td>\n",
       "      <td>35</td>\n",
       "      <td>2</td>\n",
       "    </tr>\n",
       "    <tr>\n",
       "      <th>473822</th>\n",
       "      <td>GINGER BEER 1.5L</td>\n",
       "      <td>2021-10-16T00:00:00.000Z</td>\n",
       "      <td>8304807.0</td>\n",
       "      <td>J2A6</td>\n",
       "      <td>SHOP127</td>\n",
       "      <td>220</td>\n",
       "      <td>1</td>\n",
       "    </tr>\n",
       "    <tr>\n",
       "      <th>473823</th>\n",
       "      <td>BOTTLED DRINKING WATER 500ML</td>\n",
       "      <td>2021-11-07T00:00:00.000Z</td>\n",
       "      <td>8313570.0</td>\n",
       "      <td>1S0U</td>\n",
       "      <td>SHOP127</td>\n",
       "      <td>35</td>\n",
       "      <td>1</td>\n",
       "    </tr>\n",
       "    <tr>\n",
       "      <th>473824</th>\n",
       "      <td>CREAM SODA 1.5L</td>\n",
       "      <td>2021-12-02T00:00:00.000Z</td>\n",
       "      <td>8325631.0</td>\n",
       "      <td>2C85</td>\n",
       "      <td>SHOP127</td>\n",
       "      <td>220</td>\n",
       "      <td>2</td>\n",
       "    </tr>\n",
       "  </tbody>\n",
       "</table>\n",
       "<p>424210 rows × 7 columns</p>\n",
       "</div>"
      ],
      "text/plain": [
       "                    item_description          transaction_date  invoice_id  \\\n",
       "0                 ORANGE BARLEY 1.5L  2021-12-11T00:00:00.000Z       147.0   \n",
       "1                   GINGER BEER 1.5L  2021-10-17T00:00:00.000Z       371.0   \n",
       "2                    TONIC PET 500ML  2021-12-13T00:00:00.000Z       484.0   \n",
       "3                      CREAM SODA 1L  2021-12-13T00:00:00.000Z       484.0   \n",
       "4              STRAWBERRY MILK 180ML  2021-10-23T00:00:00.000Z      1310.0   \n",
       "...                              ...                       ...         ...   \n",
       "473820            FIT O ORANGE 200ML  2021-11-14T00:00:00.000Z   8014206.0   \n",
       "473821  BOTTLED DRINKING WATER 500ML  2021-10-16T00:00:00.000Z   8304754.0   \n",
       "473822              GINGER BEER 1.5L  2021-10-16T00:00:00.000Z   8304807.0   \n",
       "473823  BOTTLED DRINKING WATER 500ML  2021-11-07T00:00:00.000Z   8313570.0   \n",
       "473824               CREAM SODA 1.5L  2021-12-02T00:00:00.000Z   8325631.0   \n",
       "\n",
       "       customer_id  shop_id  item_price  quantity_sold  \n",
       "0             BGXA  SHOP008         220              2  \n",
       "1             IA25  SHOP112         220              2  \n",
       "2             VN7V  SHOP008         160              2  \n",
       "3             VN7V  SHOP008         150              2  \n",
       "4             7S00  SHOP112         210              5  \n",
       "...            ...      ...         ...            ...  \n",
       "473820        ZEBZ  SHOP003          60              2  \n",
       "473821        AFR6  SHOP127          35              2  \n",
       "473822        J2A6  SHOP127         220              1  \n",
       "473823        1S0U  SHOP127          35              1  \n",
       "473824        2C85  SHOP127         220              2  \n",
       "\n",
       "[424210 rows x 7 columns]"
      ]
     },
     "execution_count": 6,
     "metadata": {},
     "output_type": "execute_result"
    }
   ],
   "source": [
    "df.dropna()\n",
    "# df.fillna(method='ffill',inplace=True)\n",
    "# df['quantity_sold'] = df.quantity_sold.abs()"
   ]
  },
  {
   "cell_type": "code",
   "execution_count": 7,
   "id": "ef64276c",
   "metadata": {
    "execution": {
     "iopub.execute_input": "2023-04-27T20:56:53.399727Z",
     "iopub.status.busy": "2023-04-27T20:56:53.399120Z",
     "iopub.status.idle": "2023-04-27T20:56:53.993594Z",
     "shell.execute_reply": "2023-04-27T20:56:53.992740Z"
    },
    "papermill": {
     "duration": 0.609442,
     "end_time": "2023-04-27T20:56:53.996009",
     "exception": false,
     "start_time": "2023-04-27T20:56:53.386567",
     "status": "completed"
    },
    "tags": []
   },
   "outputs": [],
   "source": [
    "df[df.duplicated()].shape[0]\n",
    "df.drop_duplicates(inplace=True)"
   ]
  },
  {
   "cell_type": "code",
   "execution_count": 8,
   "id": "373e6fe4",
   "metadata": {
    "execution": {
     "iopub.execute_input": "2023-04-27T20:56:54.020296Z",
     "iopub.status.busy": "2023-04-27T20:56:54.019693Z",
     "iopub.status.idle": "2023-04-27T20:56:54.140174Z",
     "shell.execute_reply": "2023-04-27T20:56:54.139306Z"
    },
    "papermill": {
     "duration": 0.13519,
     "end_time": "2023-04-27T20:56:54.142641",
     "exception": false,
     "start_time": "2023-04-27T20:56:54.007451",
     "status": "completed"
    },
    "tags": []
   },
   "outputs": [],
   "source": [
    "# Group transactions by item description\n",
    "grouped = df.groupby('item_description')\n",
    "\n",
    "# Add a new column for item price with the mode value of each group\n",
    "df['item_price'] = grouped['item_price'].transform(lambda x: x.mode()[0])"
   ]
  },
  {
   "cell_type": "code",
   "execution_count": 9,
   "id": "4de74930",
   "metadata": {
    "execution": {
     "iopub.execute_input": "2023-04-27T20:56:54.168406Z",
     "iopub.status.busy": "2023-04-27T20:56:54.167716Z",
     "iopub.status.idle": "2023-04-27T20:57:00.635516Z",
     "shell.execute_reply": "2023-04-27T20:57:00.634166Z"
    },
    "papermill": {
     "duration": 6.48392,
     "end_time": "2023-04-27T20:57:00.638587",
     "exception": false,
     "start_time": "2023-04-27T20:56:54.154667",
     "status": "completed"
    },
    "tags": []
   },
   "outputs": [],
   "source": [
    "from datetime import datetime\n",
    "\n",
    "def extract_date(date_str):\n",
    "    date_obj = datetime.strptime(date_str, \"%Y-%m-%dT%H:%M:%S.%fZ\")\n",
    "    return date_obj.strftime(\"%Y-%m-%d\")\n",
    "\n",
    "df[\"transaction_date\"] = df[\"transaction_date\"].apply(extract_date)\n",
    "\n",
    "# Convert the date column to a Pandas datetime object\n",
    "df[\"transaction_date\"] = pd.to_datetime(df[\"transaction_date\"])\n",
    "\n",
    "# Extract the year, month, day, and week of the year into separate columns\n",
    "df[\"month\"] = df[\"transaction_date\"].dt.month\n",
    "df[\"day\"] = df[\"transaction_date\"].dt.day\n",
    "df[\"week\"] = df[\"transaction_date\"].dt.isocalendar().week"
   ]
  },
  {
   "cell_type": "code",
   "execution_count": 10,
   "id": "5140b494",
   "metadata": {
    "execution": {
     "iopub.execute_input": "2023-04-27T20:57:00.666360Z",
     "iopub.status.busy": "2023-04-27T20:57:00.665590Z",
     "iopub.status.idle": "2023-04-27T20:57:01.299787Z",
     "shell.execute_reply": "2023-04-27T20:57:01.298665Z"
    },
    "papermill": {
     "duration": 0.65062,
     "end_time": "2023-04-27T20:57:01.302169",
     "exception": false,
     "start_time": "2023-04-27T20:57:00.651549",
     "status": "completed"
    },
    "tags": []
   },
   "outputs": [],
   "source": [
    "# Group the data by shop and customer, and count the number of transactions\n",
    "transactions = df.groupby([\"shop_id\", \"customer_id\"])[\"invoice_id\"].nunique()\n",
    "\n",
    "# Count the number of customers who made more than one transaction at each shop\n",
    "repeat_customers = transactions[transactions > 1].groupby(\"shop_id\").count()\n",
    "\n",
    "# Count the total number of unique customers who made a transaction at each shop\n",
    "total_customers = transactions.groupby(\"shop_id\").count()\n",
    "\n",
    "total_invoices = transactions.groupby(\"shop_id\").sum()\n",
    "\n",
    "# Calculate the customer loyalty rate for each shop\n",
    "loyalty_rate = repeat_customers / total_customers\n",
    "\n",
    "# Reset the index of the loyalty_rate Series and rename the columns\n",
    "loyalty_rate = loyalty_rate.reset_index()\n",
    "loyalty_rate.columns = [\"shop_id\", \"loyalty_rate\"]\n",
    "\n",
    "# Merge the loyalty rate with the original DataFrame on the \"shop_id\" column\n",
    "df = pd.merge(df, loyalty_rate, on=\"shop_id\")"
   ]
  },
  {
   "cell_type": "code",
   "execution_count": 11,
   "id": "36202332",
   "metadata": {
    "execution": {
     "iopub.execute_input": "2023-04-27T20:57:01.327279Z",
     "iopub.status.busy": "2023-04-27T20:57:01.326377Z",
     "iopub.status.idle": "2023-04-27T20:57:01.337349Z",
     "shell.execute_reply": "2023-04-27T20:57:01.336490Z"
    },
    "papermill": {
     "duration": 0.025508,
     "end_time": "2023-04-27T20:57:01.339443",
     "exception": false,
     "start_time": "2023-04-27T20:57:01.313935",
     "status": "completed"
    },
    "tags": []
   },
   "outputs": [],
   "source": [
    "total_customers = total_customers.reset_index()\n",
    "\n",
    "total_customers.columns = [\"shop_id\", \"no_customers\"]\n",
    "\n",
    "\n",
    "total_invoices = total_invoices.reset_index()\n",
    "\n",
    "total_invoices.columns = [\"shop_id\", \"no_invoices\"]\n",
    "\n",
    "number = pd.merge(total_customers, total_invoices, on=\"shop_id\")"
   ]
  },
  {
   "cell_type": "code",
   "execution_count": 12,
   "id": "1bf80723",
   "metadata": {
    "execution": {
     "iopub.execute_input": "2023-04-27T20:57:01.362876Z",
     "iopub.status.busy": "2023-04-27T20:57:01.362560Z",
     "iopub.status.idle": "2023-04-27T20:57:01.443807Z",
     "shell.execute_reply": "2023-04-27T20:57:01.442946Z"
    },
    "papermill": {
     "duration": 0.09567,
     "end_time": "2023-04-27T20:57:01.446192",
     "exception": false,
     "start_time": "2023-04-27T20:57:01.350522",
     "status": "completed"
    },
    "tags": []
   },
   "outputs": [],
   "source": [
    "df = df.drop([\"transaction_date\",\"invoice_id\"], axis= 1)"
   ]
  },
  {
   "cell_type": "code",
   "execution_count": 13,
   "id": "5499a9a6",
   "metadata": {
    "execution": {
     "iopub.execute_input": "2023-04-27T20:57:01.470482Z",
     "iopub.status.busy": "2023-04-27T20:57:01.470144Z",
     "iopub.status.idle": "2023-04-27T20:57:01.476601Z",
     "shell.execute_reply": "2023-04-27T20:57:01.475875Z"
    },
    "papermill": {
     "duration": 0.020814,
     "end_time": "2023-04-27T20:57:01.478543",
     "exception": false,
     "start_time": "2023-04-27T20:57:01.457729",
     "status": "completed"
    },
    "tags": []
   },
   "outputs": [],
   "source": [
    "df['total_sales'] = df['item_price'] * df['quantity_sold']"
   ]
  },
  {
   "cell_type": "code",
   "execution_count": 14,
   "id": "b84b2067",
   "metadata": {
    "execution": {
     "iopub.execute_input": "2023-04-27T20:57:01.502164Z",
     "iopub.status.busy": "2023-04-27T20:57:01.501890Z",
     "iopub.status.idle": "2023-04-27T20:57:01.567995Z",
     "shell.execute_reply": "2023-04-27T20:57:01.567214Z"
    },
    "papermill": {
     "duration": 0.080802,
     "end_time": "2023-04-27T20:57:01.570459",
     "exception": false,
     "start_time": "2023-04-27T20:57:01.489657",
     "status": "completed"
    },
    "tags": []
   },
   "outputs": [],
   "source": [
    "df['week_group'] = pd.cut(df['week'], bins=[40, 45, 50], labels=['first5', 'last5'])\n",
    "\n",
    "# df['week_group'] = pd.cut(df['week'], bins=[40, 42, 44, 46, 48, 50], labels=['week1', 'week2', 'week3', 'week4', 'week5'])\n",
    "\n",
    "# Group by shop id and week group\n",
    "grouped_df = df.groupby(['shop_id', 'week_group']).agg({'total_sales': 'sum'}).reset_index()\n",
    "\n",
    "# Pivot the table to have first5 and last5 as columns\n",
    "pivot_df = grouped_df.pivot(index='shop_id', columns='week_group', values='total_sales')\n",
    "\n",
    "# Add a column to indicate whether a shop's total sales increased in the last 5 weeks compared to the first 5 weeks\n",
    "pivot_df['increased'] = pivot_df['last5'] > pivot_df['first5']\n",
    "\n",
    "# Reset the index and rename columns\n",
    "result_df = pivot_df.reset_index()\n",
    "\n",
    "result_df['percentage_increase'] = (result_df['last5'] - result_df['first5']) / result_df['first5'] * 100\n",
    "\n",
    "# result_df.to_csv('result_df.csv', index=False)\n",
    "\n",
    "# print(result_df)\n",
    "\n",
    "result_df = result_df[['shop_id','increased','percentage_increase']]\n",
    "\n"
   ]
  },
  {
   "cell_type": "code",
   "execution_count": 15,
   "id": "9fb8b553",
   "metadata": {
    "execution": {
     "iopub.execute_input": "2023-04-27T20:57:01.596373Z",
     "iopub.status.busy": "2023-04-27T20:57:01.595412Z",
     "iopub.status.idle": "2023-04-27T20:57:01.602797Z",
     "shell.execute_reply": "2023-04-27T20:57:01.601760Z"
    },
    "papermill": {
     "duration": 0.024142,
     "end_time": "2023-04-27T20:57:01.606618",
     "exception": false,
     "start_time": "2023-04-27T20:57:01.582476",
     "status": "completed"
    },
    "tags": []
   },
   "outputs": [],
   "source": [
    "result_df.replace([np.inf, -np.inf], np.nan, inplace=True)\n",
    "\n",
    "# Calculate the mean of the percentage_increase column\n",
    "mean_val = result_df['percentage_increase'].mean()\n",
    "\n",
    "result_df.fillna(mean_val, inplace=True)"
   ]
  },
  {
   "cell_type": "code",
   "execution_count": 16,
   "id": "4660d00b",
   "metadata": {
    "execution": {
     "iopub.execute_input": "2023-04-27T20:57:01.632922Z",
     "iopub.status.busy": "2023-04-27T20:57:01.632439Z",
     "iopub.status.idle": "2023-04-27T20:57:01.640174Z",
     "shell.execute_reply": "2023-04-27T20:57:01.639339Z"
    },
    "papermill": {
     "duration": 0.022491,
     "end_time": "2023-04-27T20:57:01.642192",
     "exception": false,
     "start_time": "2023-04-27T20:57:01.619701",
     "status": "completed"
    },
    "tags": []
   },
   "outputs": [
    {
     "data": {
      "text/plain": [
       "array([44.13549153, 55.46933195, 24.75173297, 40.62326173, -3.590074  ,\n",
       "       38.41884322, 66.97004415, 29.947187  , 35.78920553, 17.45027494,\n",
       "       13.53280457, 60.42501912, 35.09726283, 25.48004339, 52.45849539,\n",
       "        5.34835364, 33.62264606, 29.65530103, 45.56830595, 30.76120228,\n",
       "       49.04359259, 19.37373946, 36.00690546, 21.4488593 , 40.0486544 ,\n",
       "       41.25144348, 22.39285534, 37.30343735, 56.71751807, 12.99475766,\n",
       "       10.59606202, 19.91548833, 15.84911377, 42.18719212, 20.08935639,\n",
       "       20.41583649, 20.38752835, 29.37971615, 12.523283  , 22.47336706,\n",
       "       25.46681073, 23.16162585, 18.4184526 , 28.86103374, 31.60184821,\n",
       "       37.43390203, -7.33531157, 14.98252911, 58.81915643, 49.72198107,\n",
       "       11.65238325, 39.52016129, 22.5305958 ,  4.70491233, 42.7846176 ,\n",
       "       33.71741025, 24.61924848, 15.99238874, 35.07718149, 33.01727196,\n",
       "       44.74401127, 42.90056638, 30.63853561, 11.66930906, 55.00684837,\n",
       "       20.41660165, 29.29158318, 49.77208733, 41.59767286, 24.84920872,\n",
       "        5.99063263, 35.09872586, 22.29297823, 13.41918955, 33.50205215,\n",
       "       22.6597182 , 42.67149929, 46.73592307, 59.87311178, 15.52706353,\n",
       "       29.36190603, 18.30046508, 18.13312283,  6.98355561,  8.58625796,\n",
       "       27.86710658, 20.92379973, 25.557349  , 42.08874048, 31.86330171,\n",
       "       21.5401877 , 11.42574502, 32.0476253 , 27.88705584, 43.44894472,\n",
       "       23.09807966, 55.12963242, 39.49396492, 38.38817358, 23.53879879,\n",
       "       17.99574128, 33.8713965 , 34.01407675, 65.54252819, 20.88309493,\n",
       "       23.65735201, 27.2136005 , 10.59063272, 21.40213446, 16.34841883,\n",
       "       19.31998001, 25.32119295, 12.3810703 , 27.04966844, 27.61569846,\n",
       "       52.7339122 , 39.81133226, 38.46664183, 33.95320113, 22.61507093,\n",
       "       26.19730043, 78.77671798, 14.90300413, 51.40464911])"
      ]
     },
     "execution_count": 16,
     "metadata": {},
     "output_type": "execute_result"
    }
   ],
   "source": [
    "result_df.percentage_increase.unique()"
   ]
  },
  {
   "cell_type": "code",
   "execution_count": 17,
   "id": "63fd4995",
   "metadata": {
    "execution": {
     "iopub.execute_input": "2023-04-27T20:57:01.667184Z",
     "iopub.status.busy": "2023-04-27T20:57:01.666670Z",
     "iopub.status.idle": "2023-04-27T20:57:01.709553Z",
     "shell.execute_reply": "2023-04-27T20:57:01.708655Z"
    },
    "papermill": {
     "duration": 0.057642,
     "end_time": "2023-04-27T20:57:01.711918",
     "exception": false,
     "start_time": "2023-04-27T20:57:01.654276",
     "status": "completed"
    },
    "tags": []
   },
   "outputs": [],
   "source": [
    "total_sales_3_week = df.loc[df.week.isin ([48,49,50])].groupby('shop_id')['total_sales'].sum()"
   ]
  },
  {
   "cell_type": "code",
   "execution_count": 18,
   "id": "9f3dcce6",
   "metadata": {
    "execution": {
     "iopub.execute_input": "2023-04-27T20:57:01.736074Z",
     "iopub.status.busy": "2023-04-27T20:57:01.735562Z",
     "iopub.status.idle": "2023-04-27T20:57:01.916780Z",
     "shell.execute_reply": "2023-04-27T20:57:01.915819Z"
    },
    "papermill": {
     "duration": 0.196103,
     "end_time": "2023-04-27T20:57:01.919416",
     "exception": false,
     "start_time": "2023-04-27T20:57:01.723313",
     "status": "completed"
    },
    "tags": []
   },
   "outputs": [],
   "source": [
    "# Group transactions by shop_id\n",
    "shop_transactions = df.groupby('shop_id')\n",
    "\n",
    "# Calculate summary statistics for each shop\n",
    "shop_summary = shop_transactions.agg({\n",
    "    'item_description': 'nunique', # number of unique items sold\n",
    "    'quantity_sold': 'sum', # total quantity sold\n",
    "    'total_sales': 'sum', # total sales\n",
    "})\n",
    "\n",
    "# Calculate loyalty rate mean for each shop\n",
    "loyalty_rate_mean = df.groupby('shop_id')['loyalty_rate'].mean()\n",
    "\n",
    "# Merge loyalty rate mean into shop_summary\n",
    "shop_summary = shop_summary.merge(loyalty_rate_mean, on='shop_id')\n",
    "\n",
    "# Group the data by shop and calculate the average item price\n",
    "avg_item_price = df.groupby(\"shop_id\")[\"item_price\"].mean()\n",
    "\n",
    "# Reset the index of the avg_item_price Series and rename the columns\n",
    "avg_item_price = avg_item_price.reset_index()\n",
    "avg_item_price.columns = [\"shop_id\", \"avg_item_price\"]\n",
    "\n",
    "# Merge the avg_item_price with the original DataFrame on the \"shop_id\" column\n",
    "shop_summary = shop_summary.merge(avg_item_price, on='shop_id')"
   ]
  },
  {
   "cell_type": "code",
   "execution_count": 19,
   "id": "f492b1d9",
   "metadata": {
    "execution": {
     "iopub.execute_input": "2023-04-27T20:57:01.945113Z",
     "iopub.status.busy": "2023-04-27T20:57:01.944782Z",
     "iopub.status.idle": "2023-04-27T20:57:01.952624Z",
     "shell.execute_reply": "2023-04-27T20:57:01.951761Z"
    },
    "papermill": {
     "duration": 0.023036,
     "end_time": "2023-04-27T20:57:01.954451",
     "exception": false,
     "start_time": "2023-04-27T20:57:01.931415",
     "status": "completed"
    },
    "tags": []
   },
   "outputs": [],
   "source": [
    "shop_summary = shop_summary.merge(total_sales_3_week, on='shop_id')\n",
    "shop_summary = shop_summary.rename(columns={'total_sales_x': 'total_sales', 'total_sales_y': 'total_sales_3_week'})"
   ]
  },
  {
   "cell_type": "code",
   "execution_count": 20,
   "id": "99463252",
   "metadata": {
    "execution": {
     "iopub.execute_input": "2023-04-27T20:57:01.979282Z",
     "iopub.status.busy": "2023-04-27T20:57:01.978322Z",
     "iopub.status.idle": "2023-04-27T20:57:01.983506Z",
     "shell.execute_reply": "2023-04-27T20:57:01.982855Z"
    },
    "papermill": {
     "duration": 0.019127,
     "end_time": "2023-04-27T20:57:01.985134",
     "exception": false,
     "start_time": "2023-04-27T20:57:01.966007",
     "status": "completed"
    },
    "tags": []
   },
   "outputs": [],
   "source": [
    "# Flatten column names\n",
    "shop_summary.columns = [''.join(col).strip() for col in shop_summary.columns.values]\n",
    "\n",
    "# Reset index to make shop_id a column again\n",
    "shop_summary = shop_summary.reset_index()"
   ]
  },
  {
   "cell_type": "code",
   "execution_count": 21,
   "id": "8e3c4e63",
   "metadata": {
    "execution": {
     "iopub.execute_input": "2023-04-27T20:57:02.009298Z",
     "iopub.status.busy": "2023-04-27T20:57:02.008979Z",
     "iopub.status.idle": "2023-04-27T20:57:02.024981Z",
     "shell.execute_reply": "2023-04-27T20:57:02.023905Z"
    },
    "papermill": {
     "duration": 0.030555,
     "end_time": "2023-04-27T20:57:02.026973",
     "exception": false,
     "start_time": "2023-04-27T20:57:01.996418",
     "status": "completed"
    },
    "tags": []
   },
   "outputs": [
    {
     "data": {
      "text/html": [
       "<div>\n",
       "<style scoped>\n",
       "    .dataframe tbody tr th:only-of-type {\n",
       "        vertical-align: middle;\n",
       "    }\n",
       "\n",
       "    .dataframe tbody tr th {\n",
       "        vertical-align: top;\n",
       "    }\n",
       "\n",
       "    .dataframe thead th {\n",
       "        text-align: right;\n",
       "    }\n",
       "</style>\n",
       "<table border=\"1\" class=\"dataframe\">\n",
       "  <thead>\n",
       "    <tr style=\"text-align: right;\">\n",
       "      <th></th>\n",
       "      <th>index</th>\n",
       "      <th>shop_id</th>\n",
       "      <th>item_description</th>\n",
       "      <th>quantity_sold</th>\n",
       "      <th>total_sales</th>\n",
       "      <th>loyalty_rate</th>\n",
       "      <th>avg_item_price</th>\n",
       "      <th>total_sales_3_week</th>\n",
       "    </tr>\n",
       "  </thead>\n",
       "  <tbody>\n",
       "    <tr>\n",
       "      <th>0</th>\n",
       "      <td>0</td>\n",
       "      <td>SHOP001</td>\n",
       "      <td>35</td>\n",
       "      <td>3751</td>\n",
       "      <td>545240.0</td>\n",
       "      <td>0.225136</td>\n",
       "      <td>173.231707</td>\n",
       "      <td>227885.0</td>\n",
       "    </tr>\n",
       "    <tr>\n",
       "      <th>1</th>\n",
       "      <td>1</td>\n",
       "      <td>SHOP002</td>\n",
       "      <td>35</td>\n",
       "      <td>9040</td>\n",
       "      <td>1354690.0</td>\n",
       "      <td>0.232613</td>\n",
       "      <td>172.196560</td>\n",
       "      <td>553210.0</td>\n",
       "    </tr>\n",
       "    <tr>\n",
       "      <th>2</th>\n",
       "      <td>2</td>\n",
       "      <td>SHOP003</td>\n",
       "      <td>35</td>\n",
       "      <td>6546</td>\n",
       "      <td>974310.0</td>\n",
       "      <td>0.214426</td>\n",
       "      <td>165.106952</td>\n",
       "      <td>335535.0</td>\n",
       "    </tr>\n",
       "    <tr>\n",
       "      <th>3</th>\n",
       "      <td>3</td>\n",
       "      <td>SHOP004</td>\n",
       "      <td>35</td>\n",
       "      <td>5969</td>\n",
       "      <td>908425.0</td>\n",
       "      <td>0.265661</td>\n",
       "      <td>165.658915</td>\n",
       "      <td>358445.0</td>\n",
       "    </tr>\n",
       "    <tr>\n",
       "      <th>4</th>\n",
       "      <td>4</td>\n",
       "      <td>SHOP005</td>\n",
       "      <td>36</td>\n",
       "      <td>7301</td>\n",
       "      <td>1036465.0</td>\n",
       "      <td>0.252170</td>\n",
       "      <td>172.759930</td>\n",
       "      <td>331045.0</td>\n",
       "    </tr>\n",
       "    <tr>\n",
       "      <th>...</th>\n",
       "      <td>...</td>\n",
       "      <td>...</td>\n",
       "      <td>...</td>\n",
       "      <td>...</td>\n",
       "      <td>...</td>\n",
       "      <td>...</td>\n",
       "      <td>...</td>\n",
       "      <td>...</td>\n",
       "    </tr>\n",
       "    <tr>\n",
       "      <th>119</th>\n",
       "      <td>119</td>\n",
       "      <td>SHOP123</td>\n",
       "      <td>36</td>\n",
       "      <td>3629</td>\n",
       "      <td>513150.0</td>\n",
       "      <td>0.229694</td>\n",
       "      <td>169.976540</td>\n",
       "      <td>180265.0</td>\n",
       "    </tr>\n",
       "    <tr>\n",
       "      <th>120</th>\n",
       "      <td>120</td>\n",
       "      <td>SHOP124</td>\n",
       "      <td>35</td>\n",
       "      <td>8506</td>\n",
       "      <td>1140385.0</td>\n",
       "      <td>0.241670</td>\n",
       "      <td>163.341830</td>\n",
       "      <td>404615.0</td>\n",
       "    </tr>\n",
       "    <tr>\n",
       "      <th>121</th>\n",
       "      <td>121</td>\n",
       "      <td>SHOP125</td>\n",
       "      <td>36</td>\n",
       "      <td>4079</td>\n",
       "      <td>442795.0</td>\n",
       "      <td>0.199095</td>\n",
       "      <td>136.849730</td>\n",
       "      <td>170510.0</td>\n",
       "    </tr>\n",
       "    <tr>\n",
       "      <th>122</th>\n",
       "      <td>122</td>\n",
       "      <td>SHOP126</td>\n",
       "      <td>31</td>\n",
       "      <td>6246</td>\n",
       "      <td>803705.0</td>\n",
       "      <td>0.216418</td>\n",
       "      <td>156.544091</td>\n",
       "      <td>268150.0</td>\n",
       "    </tr>\n",
       "    <tr>\n",
       "      <th>123</th>\n",
       "      <td>123</td>\n",
       "      <td>SHOP127</td>\n",
       "      <td>36</td>\n",
       "      <td>8722</td>\n",
       "      <td>1141000.0</td>\n",
       "      <td>0.182213</td>\n",
       "      <td>159.860188</td>\n",
       "      <td>453550.0</td>\n",
       "    </tr>\n",
       "  </tbody>\n",
       "</table>\n",
       "<p>124 rows × 8 columns</p>\n",
       "</div>"
      ],
      "text/plain": [
       "     index  shop_id  item_description  quantity_sold  total_sales  \\\n",
       "0        0  SHOP001                35           3751     545240.0   \n",
       "1        1  SHOP002                35           9040    1354690.0   \n",
       "2        2  SHOP003                35           6546     974310.0   \n",
       "3        3  SHOP004                35           5969     908425.0   \n",
       "4        4  SHOP005                36           7301    1036465.0   \n",
       "..     ...      ...               ...            ...          ...   \n",
       "119    119  SHOP123                36           3629     513150.0   \n",
       "120    120  SHOP124                35           8506    1140385.0   \n",
       "121    121  SHOP125                36           4079     442795.0   \n",
       "122    122  SHOP126                31           6246     803705.0   \n",
       "123    123  SHOP127                36           8722    1141000.0   \n",
       "\n",
       "     loyalty_rate  avg_item_price  total_sales_3_week  \n",
       "0        0.225136      173.231707            227885.0  \n",
       "1        0.232613      172.196560            553210.0  \n",
       "2        0.214426      165.106952            335535.0  \n",
       "3        0.265661      165.658915            358445.0  \n",
       "4        0.252170      172.759930            331045.0  \n",
       "..            ...             ...                 ...  \n",
       "119      0.229694      169.976540            180265.0  \n",
       "120      0.241670      163.341830            404615.0  \n",
       "121      0.199095      136.849730            170510.0  \n",
       "122      0.216418      156.544091            268150.0  \n",
       "123      0.182213      159.860188            453550.0  \n",
       "\n",
       "[124 rows x 8 columns]"
      ]
     },
     "execution_count": 21,
     "metadata": {},
     "output_type": "execute_result"
    }
   ],
   "source": [
    "shop_summary"
   ]
  },
  {
   "cell_type": "code",
   "execution_count": 22,
   "id": "9ce4e77b",
   "metadata": {
    "execution": {
     "iopub.execute_input": "2023-04-27T20:57:02.051216Z",
     "iopub.status.busy": "2023-04-27T20:57:02.050925Z",
     "iopub.status.idle": "2023-04-27T20:57:02.058598Z",
     "shell.execute_reply": "2023-04-27T20:57:02.057625Z"
    },
    "papermill": {
     "duration": 0.021838,
     "end_time": "2023-04-27T20:57:02.060611",
     "exception": false,
     "start_time": "2023-04-27T20:57:02.038773",
     "status": "completed"
    },
    "tags": []
   },
   "outputs": [],
   "source": [
    "shop_summary = pd.merge(shop_summary, store_info_data, on='shop_id')"
   ]
  },
  {
   "cell_type": "code",
   "execution_count": 23,
   "id": "9d8355e9",
   "metadata": {
    "execution": {
     "iopub.execute_input": "2023-04-27T20:57:02.084567Z",
     "iopub.status.busy": "2023-04-27T20:57:02.084116Z",
     "iopub.status.idle": "2023-04-27T20:57:02.091503Z",
     "shell.execute_reply": "2023-04-27T20:57:02.090527Z"
    },
    "papermill": {
     "duration": 0.02152,
     "end_time": "2023-04-27T20:57:02.093541",
     "exception": false,
     "start_time": "2023-04-27T20:57:02.072021",
     "status": "completed"
    },
    "tags": []
   },
   "outputs": [],
   "source": [
    "shop_summary = pd.merge(shop_summary, number, on='shop_id')"
   ]
  },
  {
   "cell_type": "code",
   "execution_count": 24,
   "id": "42f402e4",
   "metadata": {
    "execution": {
     "iopub.execute_input": "2023-04-27T20:57:02.118536Z",
     "iopub.status.busy": "2023-04-27T20:57:02.118223Z",
     "iopub.status.idle": "2023-04-27T20:57:02.125528Z",
     "shell.execute_reply": "2023-04-27T20:57:02.124496Z"
    },
    "papermill": {
     "duration": 0.022131,
     "end_time": "2023-04-27T20:57:02.127456",
     "exception": false,
     "start_time": "2023-04-27T20:57:02.105325",
     "status": "completed"
    },
    "tags": []
   },
   "outputs": [],
   "source": [
    "shop_summary = pd.merge(shop_summary, result_df, on='shop_id')"
   ]
  },
  {
   "cell_type": "code",
   "execution_count": 25,
   "id": "a471d620",
   "metadata": {
    "execution": {
     "iopub.execute_input": "2023-04-27T20:57:02.152482Z",
     "iopub.status.busy": "2023-04-27T20:57:02.152201Z",
     "iopub.status.idle": "2023-04-27T20:57:02.157232Z",
     "shell.execute_reply": "2023-04-27T20:57:02.156321Z"
    },
    "papermill": {
     "duration": 0.019599,
     "end_time": "2023-04-27T20:57:02.159188",
     "exception": false,
     "start_time": "2023-04-27T20:57:02.139589",
     "status": "completed"
    },
    "tags": []
   },
   "outputs": [],
   "source": [
    "le = LabelEncoder()\n",
    "\n",
    "shop_summary['increased'] = le.fit_transform(shop_summary['increased'])"
   ]
  },
  {
   "cell_type": "code",
   "execution_count": 26,
   "id": "a7e93ddf",
   "metadata": {
    "execution": {
     "iopub.execute_input": "2023-04-27T20:57:02.183262Z",
     "iopub.status.busy": "2023-04-27T20:57:02.182593Z",
     "iopub.status.idle": "2023-04-27T20:57:02.187252Z",
     "shell.execute_reply": "2023-04-27T20:57:02.186599Z"
    },
    "papermill": {
     "duration": 0.0184,
     "end_time": "2023-04-27T20:57:02.188844",
     "exception": false,
     "start_time": "2023-04-27T20:57:02.170444",
     "status": "completed"
    },
    "tags": []
   },
   "outputs": [],
   "source": [
    "shop_summary['sales_per_feet'] = shop_summary['total_sales'] / shop_summary['shop_area_sq_ft']\n",
    "# shop_summary['sales_per_week'] = shop_summary['total_sales_3_week'] / 3\n",
    "# shop_summary['sales_per_week_total'] = shop_summary['total_sales'] / 10\n",
    "\n",
    "# shop_summary.to_csv('shop.csv', index=False)"
   ]
  },
  {
   "cell_type": "code",
   "execution_count": 27,
   "id": "7fe3f667",
   "metadata": {
    "execution": {
     "iopub.execute_input": "2023-04-27T20:57:02.212658Z",
     "iopub.status.busy": "2023-04-27T20:57:02.212399Z",
     "iopub.status.idle": "2023-04-27T20:57:02.231312Z",
     "shell.execute_reply": "2023-04-27T20:57:02.230382Z"
    },
    "papermill": {
     "duration": 0.033009,
     "end_time": "2023-04-27T20:57:02.233237",
     "exception": false,
     "start_time": "2023-04-27T20:57:02.200228",
     "status": "completed"
    },
    "scrolled": true,
    "tags": []
   },
   "outputs": [
    {
     "data": {
      "text/html": [
       "<div>\n",
       "<style scoped>\n",
       "    .dataframe tbody tr th:only-of-type {\n",
       "        vertical-align: middle;\n",
       "    }\n",
       "\n",
       "    .dataframe tbody tr th {\n",
       "        vertical-align: top;\n",
       "    }\n",
       "\n",
       "    .dataframe thead th {\n",
       "        text-align: right;\n",
       "    }\n",
       "</style>\n",
       "<table border=\"1\" class=\"dataframe\">\n",
       "  <thead>\n",
       "    <tr style=\"text-align: right;\">\n",
       "      <th></th>\n",
       "      <th>index</th>\n",
       "      <th>shop_id</th>\n",
       "      <th>item_description</th>\n",
       "      <th>quantity_sold</th>\n",
       "      <th>total_sales</th>\n",
       "      <th>loyalty_rate</th>\n",
       "      <th>avg_item_price</th>\n",
       "      <th>total_sales_3_week</th>\n",
       "      <th>shop_area_sq_ft</th>\n",
       "      <th>shop_profile</th>\n",
       "      <th>no_customers</th>\n",
       "      <th>no_invoices</th>\n",
       "      <th>increased</th>\n",
       "      <th>percentage_increase</th>\n",
       "      <th>sales_per_feet</th>\n",
       "    </tr>\n",
       "  </thead>\n",
       "  <tbody>\n",
       "    <tr>\n",
       "      <th>0</th>\n",
       "      <td>0</td>\n",
       "      <td>SHOP001</td>\n",
       "      <td>35</td>\n",
       "      <td>3751</td>\n",
       "      <td>545240.0</td>\n",
       "      <td>0.225136</td>\n",
       "      <td>173.231707</td>\n",
       "      <td>227885.0</td>\n",
       "      <td>580</td>\n",
       "      <td>Low</td>\n",
       "      <td>1106</td>\n",
       "      <td>1514</td>\n",
       "      <td>1</td>\n",
       "      <td>44.135492</td>\n",
       "      <td>940.068966</td>\n",
       "    </tr>\n",
       "    <tr>\n",
       "      <th>1</th>\n",
       "      <td>1</td>\n",
       "      <td>SHOP002</td>\n",
       "      <td>35</td>\n",
       "      <td>9040</td>\n",
       "      <td>1354690.0</td>\n",
       "      <td>0.232613</td>\n",
       "      <td>172.196560</td>\n",
       "      <td>553210.0</td>\n",
       "      <td>637</td>\n",
       "      <td>NaN</td>\n",
       "      <td>2545</td>\n",
       "      <td>3715</td>\n",
       "      <td>1</td>\n",
       "      <td>55.469332</td>\n",
       "      <td>2126.671900</td>\n",
       "    </tr>\n",
       "    <tr>\n",
       "      <th>2</th>\n",
       "      <td>2</td>\n",
       "      <td>SHOP003</td>\n",
       "      <td>35</td>\n",
       "      <td>6546</td>\n",
       "      <td>974310.0</td>\n",
       "      <td>0.214426</td>\n",
       "      <td>165.106952</td>\n",
       "      <td>335535.0</td>\n",
       "      <td>810</td>\n",
       "      <td>High</td>\n",
       "      <td>2038</td>\n",
       "      <td>2828</td>\n",
       "      <td>1</td>\n",
       "      <td>24.751733</td>\n",
       "      <td>1202.851852</td>\n",
       "    </tr>\n",
       "    <tr>\n",
       "      <th>3</th>\n",
       "      <td>3</td>\n",
       "      <td>SHOP004</td>\n",
       "      <td>35</td>\n",
       "      <td>5969</td>\n",
       "      <td>908425.0</td>\n",
       "      <td>0.265661</td>\n",
       "      <td>165.658915</td>\n",
       "      <td>358445.0</td>\n",
       "      <td>516</td>\n",
       "      <td>Low</td>\n",
       "      <td>1724</td>\n",
       "      <td>2598</td>\n",
       "      <td>1</td>\n",
       "      <td>40.623262</td>\n",
       "      <td>1760.513566</td>\n",
       "    </tr>\n",
       "    <tr>\n",
       "      <th>4</th>\n",
       "      <td>4</td>\n",
       "      <td>SHOP005</td>\n",
       "      <td>36</td>\n",
       "      <td>7301</td>\n",
       "      <td>1036465.0</td>\n",
       "      <td>0.252170</td>\n",
       "      <td>172.759930</td>\n",
       "      <td>331045.0</td>\n",
       "      <td>617</td>\n",
       "      <td>Low</td>\n",
       "      <td>2189</td>\n",
       "      <td>3143</td>\n",
       "      <td>0</td>\n",
       "      <td>-3.590074</td>\n",
       "      <td>1679.846029</td>\n",
       "    </tr>\n",
       "    <tr>\n",
       "      <th>...</th>\n",
       "      <td>...</td>\n",
       "      <td>...</td>\n",
       "      <td>...</td>\n",
       "      <td>...</td>\n",
       "      <td>...</td>\n",
       "      <td>...</td>\n",
       "      <td>...</td>\n",
       "      <td>...</td>\n",
       "      <td>...</td>\n",
       "      <td>...</td>\n",
       "      <td>...</td>\n",
       "      <td>...</td>\n",
       "      <td>...</td>\n",
       "      <td>...</td>\n",
       "      <td>...</td>\n",
       "    </tr>\n",
       "    <tr>\n",
       "      <th>119</th>\n",
       "      <td>119</td>\n",
       "      <td>SHOP123</td>\n",
       "      <td>36</td>\n",
       "      <td>3629</td>\n",
       "      <td>513150.0</td>\n",
       "      <td>0.229694</td>\n",
       "      <td>169.976540</td>\n",
       "      <td>180265.0</td>\n",
       "      <td>735</td>\n",
       "      <td>Moderate</td>\n",
       "      <td>1145</td>\n",
       "      <td>1584</td>\n",
       "      <td>1</td>\n",
       "      <td>22.615071</td>\n",
       "      <td>698.163265</td>\n",
       "    </tr>\n",
       "    <tr>\n",
       "      <th>120</th>\n",
       "      <td>120</td>\n",
       "      <td>SHOP124</td>\n",
       "      <td>35</td>\n",
       "      <td>8506</td>\n",
       "      <td>1140385.0</td>\n",
       "      <td>0.241670</td>\n",
       "      <td>163.341830</td>\n",
       "      <td>404615.0</td>\n",
       "      <td>606</td>\n",
       "      <td>High</td>\n",
       "      <td>2251</td>\n",
       "      <td>3195</td>\n",
       "      <td>1</td>\n",
       "      <td>26.197300</td>\n",
       "      <td>1881.823432</td>\n",
       "    </tr>\n",
       "    <tr>\n",
       "      <th>121</th>\n",
       "      <td>121</td>\n",
       "      <td>SHOP125</td>\n",
       "      <td>36</td>\n",
       "      <td>4079</td>\n",
       "      <td>442795.0</td>\n",
       "      <td>0.199095</td>\n",
       "      <td>136.849730</td>\n",
       "      <td>170510.0</td>\n",
       "      <td>1028</td>\n",
       "      <td>High</td>\n",
       "      <td>884</td>\n",
       "      <td>1259</td>\n",
       "      <td>1</td>\n",
       "      <td>78.776718</td>\n",
       "      <td>430.734436</td>\n",
       "    </tr>\n",
       "    <tr>\n",
       "      <th>122</th>\n",
       "      <td>122</td>\n",
       "      <td>SHOP126</td>\n",
       "      <td>31</td>\n",
       "      <td>6246</td>\n",
       "      <td>803705.0</td>\n",
       "      <td>0.216418</td>\n",
       "      <td>156.544091</td>\n",
       "      <td>268150.0</td>\n",
       "      <td>328</td>\n",
       "      <td>Moderate</td>\n",
       "      <td>1742</td>\n",
       "      <td>2518</td>\n",
       "      <td>1</td>\n",
       "      <td>14.903004</td>\n",
       "      <td>2450.320122</td>\n",
       "    </tr>\n",
       "    <tr>\n",
       "      <th>123</th>\n",
       "      <td>123</td>\n",
       "      <td>SHOP127</td>\n",
       "      <td>36</td>\n",
       "      <td>8722</td>\n",
       "      <td>1141000.0</td>\n",
       "      <td>0.182213</td>\n",
       "      <td>159.860188</td>\n",
       "      <td>453550.0</td>\n",
       "      <td>848</td>\n",
       "      <td>High</td>\n",
       "      <td>2305</td>\n",
       "      <td>3022</td>\n",
       "      <td>1</td>\n",
       "      <td>51.404649</td>\n",
       "      <td>1345.518868</td>\n",
       "    </tr>\n",
       "  </tbody>\n",
       "</table>\n",
       "<p>124 rows × 15 columns</p>\n",
       "</div>"
      ],
      "text/plain": [
       "     index  shop_id  item_description  quantity_sold  total_sales  \\\n",
       "0        0  SHOP001                35           3751     545240.0   \n",
       "1        1  SHOP002                35           9040    1354690.0   \n",
       "2        2  SHOP003                35           6546     974310.0   \n",
       "3        3  SHOP004                35           5969     908425.0   \n",
       "4        4  SHOP005                36           7301    1036465.0   \n",
       "..     ...      ...               ...            ...          ...   \n",
       "119    119  SHOP123                36           3629     513150.0   \n",
       "120    120  SHOP124                35           8506    1140385.0   \n",
       "121    121  SHOP125                36           4079     442795.0   \n",
       "122    122  SHOP126                31           6246     803705.0   \n",
       "123    123  SHOP127                36           8722    1141000.0   \n",
       "\n",
       "     loyalty_rate  avg_item_price  total_sales_3_week  shop_area_sq_ft  \\\n",
       "0        0.225136      173.231707            227885.0              580   \n",
       "1        0.232613      172.196560            553210.0              637   \n",
       "2        0.214426      165.106952            335535.0              810   \n",
       "3        0.265661      165.658915            358445.0              516   \n",
       "4        0.252170      172.759930            331045.0              617   \n",
       "..            ...             ...                 ...              ...   \n",
       "119      0.229694      169.976540            180265.0              735   \n",
       "120      0.241670      163.341830            404615.0              606   \n",
       "121      0.199095      136.849730            170510.0             1028   \n",
       "122      0.216418      156.544091            268150.0              328   \n",
       "123      0.182213      159.860188            453550.0              848   \n",
       "\n",
       "    shop_profile  no_customers  no_invoices  increased  percentage_increase  \\\n",
       "0            Low          1106         1514          1            44.135492   \n",
       "1            NaN          2545         3715          1            55.469332   \n",
       "2           High          2038         2828          1            24.751733   \n",
       "3            Low          1724         2598          1            40.623262   \n",
       "4            Low          2189         3143          0            -3.590074   \n",
       "..           ...           ...          ...        ...                  ...   \n",
       "119     Moderate          1145         1584          1            22.615071   \n",
       "120         High          2251         3195          1            26.197300   \n",
       "121         High           884         1259          1            78.776718   \n",
       "122     Moderate          1742         2518          1            14.903004   \n",
       "123         High          2305         3022          1            51.404649   \n",
       "\n",
       "     sales_per_feet  \n",
       "0        940.068966  \n",
       "1       2126.671900  \n",
       "2       1202.851852  \n",
       "3       1760.513566  \n",
       "4       1679.846029  \n",
       "..              ...  \n",
       "119      698.163265  \n",
       "120     1881.823432  \n",
       "121      430.734436  \n",
       "122     2450.320122  \n",
       "123     1345.518868  \n",
       "\n",
       "[124 rows x 15 columns]"
      ]
     },
     "execution_count": 27,
     "metadata": {},
     "output_type": "execute_result"
    }
   ],
   "source": [
    "shop_summary"
   ]
  },
  {
   "cell_type": "code",
   "execution_count": 28,
   "id": "52158ed4",
   "metadata": {
    "execution": {
     "iopub.execute_input": "2023-04-27T20:57:02.258152Z",
     "iopub.status.busy": "2023-04-27T20:57:02.257849Z",
     "iopub.status.idle": "2023-04-27T20:57:02.264944Z",
     "shell.execute_reply": "2023-04-27T20:57:02.264030Z"
    },
    "papermill": {
     "duration": 0.021716,
     "end_time": "2023-04-27T20:57:02.266902",
     "exception": false,
     "start_time": "2023-04-27T20:57:02.245186",
     "status": "completed"
    },
    "tags": []
   },
   "outputs": [],
   "source": [
    "from sklearn.metrics.pairwise import rbf_kernel\n",
    "\n",
    "\n",
    "# Compute the age similarity feature using the RBF kernel\n",
    "simil_617 = rbf_kernel(shop_summary[[\"shop_area_sq_ft\"]], [[617]], gamma=0.1)\n",
    "\n",
    "# Add the age similarity feature to the housing dataset\n",
    "shop_summary['simil_617'] = np.squeeze(simil_617)"
   ]
  },
  {
   "cell_type": "code",
   "execution_count": 29,
   "id": "356b2f1b",
   "metadata": {
    "execution": {
     "iopub.execute_input": "2023-04-27T20:57:02.292372Z",
     "iopub.status.busy": "2023-04-27T20:57:02.292052Z",
     "iopub.status.idle": "2023-04-27T20:57:02.298030Z",
     "shell.execute_reply": "2023-04-27T20:57:02.297355Z"
    },
    "papermill": {
     "duration": 0.020644,
     "end_time": "2023-04-27T20:57:02.299704",
     "exception": false,
     "start_time": "2023-04-27T20:57:02.279060",
     "status": "completed"
    },
    "tags": []
   },
   "outputs": [],
   "source": [
    "# Compute the similarity feature using the RBF kernel with center at 676\n",
    "simil_676 = rbf_kernel(shop_summary[[\"shop_area_sq_ft\"]], [[676]], gamma=0.1)\n",
    "\n",
    "# Add the similarity feature to the shop_summary dataset\n",
    "shop_summary['simil_676'] = np.squeeze(simil_676)\n"
   ]
  },
  {
   "cell_type": "code",
   "execution_count": 30,
   "id": "057f0e7a",
   "metadata": {
    "execution": {
     "iopub.execute_input": "2023-04-27T20:57:02.325628Z",
     "iopub.status.busy": "2023-04-27T20:57:02.325261Z",
     "iopub.status.idle": "2023-04-27T20:57:02.337756Z",
     "shell.execute_reply": "2023-04-27T20:57:02.336920Z"
    },
    "papermill": {
     "duration": 0.028465,
     "end_time": "2023-04-27T20:57:02.339902",
     "exception": false,
     "start_time": "2023-04-27T20:57:02.311437",
     "status": "completed"
    },
    "tags": []
   },
   "outputs": [],
   "source": [
    "shop_summary.to_csv('shop.csv', index=False)\n",
    "\n",
    "shop_summary['log_item_price'] = np.log(shop_summary['avg_item_price'])\n",
    "\n",
    "shop_summary['sqrt_avg_item_price'] = np.sqrt(shop_summary['avg_item_price'])"
   ]
  },
  {
   "cell_type": "code",
   "execution_count": null,
   "id": "f310e2ce",
   "metadata": {
    "papermill": {
     "duration": 0.014951,
     "end_time": "2023-04-27T20:57:02.367556",
     "exception": false,
     "start_time": "2023-04-27T20:57:02.352605",
     "status": "completed"
    },
    "tags": []
   },
   "outputs": [],
   "source": []
  },
  {
   "cell_type": "code",
   "execution_count": 31,
   "id": "bdd26a8b",
   "metadata": {
    "execution": {
     "iopub.execute_input": "2023-04-27T20:57:02.393222Z",
     "iopub.status.busy": "2023-04-27T20:57:02.392924Z",
     "iopub.status.idle": "2023-04-27T20:57:02.396895Z",
     "shell.execute_reply": "2023-04-27T20:57:02.396022Z"
    },
    "papermill": {
     "duration": 0.018989,
     "end_time": "2023-04-27T20:57:02.398912",
     "exception": false,
     "start_time": "2023-04-27T20:57:02.379923",
     "status": "completed"
    },
    "tags": []
   },
   "outputs": [],
   "source": [
    "# import matplotlib.pyplot as plt\n",
    "# shop_summary.hist(bins=100, figsize=(12,8))\n",
    "# plt.show()"
   ]
  },
  {
   "cell_type": "code",
   "execution_count": 32,
   "id": "2f2f19ce",
   "metadata": {
    "execution": {
     "iopub.execute_input": "2023-04-27T20:57:02.424010Z",
     "iopub.status.busy": "2023-04-27T20:57:02.423748Z",
     "iopub.status.idle": "2023-04-27T20:57:02.435901Z",
     "shell.execute_reply": "2023-04-27T20:57:02.434945Z"
    },
    "papermill": {
     "duration": 0.027319,
     "end_time": "2023-04-27T20:57:02.438024",
     "exception": false,
     "start_time": "2023-04-27T20:57:02.410705",
     "status": "completed"
    },
    "tags": []
   },
   "outputs": [],
   "source": [
    "scaler = StandardScaler()\n",
    "\n",
    "features = ['shop_area_sq_ft', \"sqrt_avg_item_price\",'loyalty_rate','total_sales','sales_per_feet', 'percentage_increase', \"simil_617\",\"simil_676\"]\n",
    "\n",
    "scaled_data = scaler.fit_transform(shop_summary[features])\n",
    "\n",
    "shop_summary = shop_summary.drop(features, axis=1)\n",
    "\n",
    "scaled_df = pd.DataFrame(scaled_data, columns=features)\n",
    "\n",
    "shop_summary = pd.concat([shop_summary, scaled_df], axis=1)"
   ]
  },
  {
   "cell_type": "code",
   "execution_count": 33,
   "id": "50f229ca",
   "metadata": {
    "execution": {
     "iopub.execute_input": "2023-04-27T20:57:02.463807Z",
     "iopub.status.busy": "2023-04-27T20:57:02.463491Z",
     "iopub.status.idle": "2023-04-27T20:57:02.467729Z",
     "shell.execute_reply": "2023-04-27T20:57:02.466921Z"
    },
    "papermill": {
     "duration": 0.019401,
     "end_time": "2023-04-27T20:57:02.469885",
     "exception": false,
     "start_time": "2023-04-27T20:57:02.450484",
     "status": "completed"
    },
    "tags": []
   },
   "outputs": [],
   "source": [
    "# # define a function to cap the values in a column using the IQR method\n",
    "# def cap_values(col):\n",
    "#     q1 = col.quantile(0.25)\n",
    "#     q3 = col.quantile(0.75)\n",
    "#     iqr = q3 - q1\n",
    "#     lower_bound = q1 - 1.5 * iqr\n",
    "#     upper_bound = q3 + 1.5 * iqr\n",
    "#     col_capped = col.clip(lower_bound, upper_bound)\n",
    "#     return col_capped\n",
    "\n",
    "# # specify the columns to cap\n",
    "# cols_to_cap = ['sales_per_feet', \"avg_item_price\",'loyalty_rate','total_sales','total_sales_3_week']\n",
    "\n",
    "# # cap the values in each specified column\n",
    "# for col in cols_to_cap:\n",
    "#     shop_summary[col] = cap_values(shop_summary[col])"
   ]
  },
  {
   "cell_type": "code",
   "execution_count": 34,
   "id": "a19909a1",
   "metadata": {
    "execution": {
     "iopub.execute_input": "2023-04-27T20:57:02.495577Z",
     "iopub.status.busy": "2023-04-27T20:57:02.494679Z",
     "iopub.status.idle": "2023-04-27T20:57:02.501230Z",
     "shell.execute_reply": "2023-04-27T20:57:02.500447Z"
    },
    "papermill": {
     "duration": 0.021128,
     "end_time": "2023-04-27T20:57:02.503123",
     "exception": false,
     "start_time": "2023-04-27T20:57:02.481995",
     "status": "completed"
    },
    "tags": []
   },
   "outputs": [],
   "source": [
    "df_test = shop_summary[shop_summary['shop_profile'].isnull()]\n",
    "df_test =  df_test.reset_index(drop=True)"
   ]
  },
  {
   "cell_type": "code",
   "execution_count": 35,
   "id": "3eea0019",
   "metadata": {
    "execution": {
     "iopub.execute_input": "2023-04-27T20:57:02.527860Z",
     "iopub.status.busy": "2023-04-27T20:57:02.527563Z",
     "iopub.status.idle": "2023-04-27T20:57:02.532637Z",
     "shell.execute_reply": "2023-04-27T20:57:02.531787Z"
    },
    "papermill": {
     "duration": 0.01963,
     "end_time": "2023-04-27T20:57:02.534701",
     "exception": false,
     "start_time": "2023-04-27T20:57:02.515071",
     "status": "completed"
    },
    "tags": []
   },
   "outputs": [],
   "source": [
    "df_train = shop_summary[shop_summary['shop_profile'].notnull()]\n",
    "df_train =  df_train.reset_index(drop=True)"
   ]
  },
  {
   "cell_type": "code",
   "execution_count": null,
   "id": "f34a7fe6",
   "metadata": {
    "papermill": {
     "duration": 0.011406,
     "end_time": "2023-04-27T20:57:02.557875",
     "exception": false,
     "start_time": "2023-04-27T20:57:02.546469",
     "status": "completed"
    },
    "tags": []
   },
   "outputs": [],
   "source": []
  },
  {
   "cell_type": "code",
   "execution_count": 36,
   "id": "42bb0668",
   "metadata": {
    "execution": {
     "iopub.execute_input": "2023-04-27T20:57:02.582721Z",
     "iopub.status.busy": "2023-04-27T20:57:02.582142Z",
     "iopub.status.idle": "2023-04-27T20:57:02.602075Z",
     "shell.execute_reply": "2023-04-27T20:57:02.601054Z"
    },
    "papermill": {
     "duration": 0.034682,
     "end_time": "2023-04-27T20:57:02.604006",
     "exception": false,
     "start_time": "2023-04-27T20:57:02.569324",
     "status": "completed"
    },
    "tags": []
   },
   "outputs": [],
   "source": [
    "from scipy import stats\n",
    "\n",
    "# define a function to remove outliers using Z-score method\n",
    "def remove_outliers_zscore(df, col):\n",
    "    # calculate the Z-score for each value in the column\n",
    "    z = np.abs(stats.zscore(df[col]))\n",
    "    # create a boolean mask where True = outlier\n",
    "    mask = (z < 3)\n",
    "    # return the dataframe with the outliers removed\n",
    "    return df[mask]\n",
    "\n",
    "# specify the columns to remove outliers\n",
    "cols_to_remove_outliers = [ 'sales_per_feet','shop_area_sq_ft', \"sqrt_avg_item_price\",'loyalty_rate', 'no_invoices','total_sales','total_sales_3_week','percentage_increase']\n",
    "\n",
    "# remove outliers using Z-score method for each specified column\n",
    "for col in cols_to_remove_outliers:\n",
    "    df_train = remove_outliers_zscore(df_train, col)\n"
   ]
  },
  {
   "cell_type": "code",
   "execution_count": 37,
   "id": "8dbfc22b",
   "metadata": {
    "execution": {
     "iopub.execute_input": "2023-04-27T20:57:02.630983Z",
     "iopub.status.busy": "2023-04-27T20:57:02.630417Z",
     "iopub.status.idle": "2023-04-27T20:57:02.633967Z",
     "shell.execute_reply": "2023-04-27T20:57:02.633179Z"
    },
    "papermill": {
     "duration": 0.018782,
     "end_time": "2023-04-27T20:57:02.635860",
     "exception": false,
     "start_time": "2023-04-27T20:57:02.617078",
     "status": "completed"
    },
    "tags": []
   },
   "outputs": [],
   "source": [
    "# df_train.corr()"
   ]
  },
  {
   "cell_type": "code",
   "execution_count": 38,
   "id": "e33018dd",
   "metadata": {
    "execution": {
     "iopub.execute_input": "2023-04-27T20:57:02.662133Z",
     "iopub.status.busy": "2023-04-27T20:57:02.661578Z",
     "iopub.status.idle": "2023-04-27T20:57:02.666467Z",
     "shell.execute_reply": "2023-04-27T20:57:02.665754Z"
    },
    "papermill": {
     "duration": 0.020714,
     "end_time": "2023-04-27T20:57:02.668244",
     "exception": false,
     "start_time": "2023-04-27T20:57:02.647530",
     "status": "completed"
    },
    "tags": []
   },
   "outputs": [],
   "source": [
    "df_x = df_train.drop('shop_profile', axis =1)\n",
    "df_y = df_train['shop_profile']"
   ]
  },
  {
   "cell_type": "code",
   "execution_count": 39,
   "id": "2dac04f5",
   "metadata": {
    "execution": {
     "iopub.execute_input": "2023-04-27T20:57:02.694587Z",
     "iopub.status.busy": "2023-04-27T20:57:02.694038Z",
     "iopub.status.idle": "2023-04-27T20:57:02.700553Z",
     "shell.execute_reply": "2023-04-27T20:57:02.699866Z"
    },
    "papermill": {
     "duration": 0.022326,
     "end_time": "2023-04-27T20:57:02.702520",
     "exception": false,
     "start_time": "2023-04-27T20:57:02.680194",
     "status": "completed"
    },
    "tags": []
   },
   "outputs": [],
   "source": [
    "selected_features = ['shop_id','shop_area_sq_ft', \"sqrt_avg_item_price\",'loyalty_rate','total_sales','sales_per_feet', 'percentage_increase', \"simil_617\",\"simil_676\"]\n",
    "df_x = df_x[selected_features]\n",
    "\n",
    "df1_x = df_test.drop('shop_profile', axis =1)\n",
    "df1_x = df1_x[selected_features]"
   ]
  },
  {
   "cell_type": "code",
   "execution_count": 40,
   "id": "ea59126d",
   "metadata": {
    "execution": {
     "iopub.execute_input": "2023-04-27T20:57:02.727809Z",
     "iopub.status.busy": "2023-04-27T20:57:02.727132Z",
     "iopub.status.idle": "2023-04-27T20:57:02.730979Z",
     "shell.execute_reply": "2023-04-27T20:57:02.730292Z"
    },
    "papermill": {
     "duration": 0.018376,
     "end_time": "2023-04-27T20:57:02.732851",
     "exception": false,
     "start_time": "2023-04-27T20:57:02.714475",
     "status": "completed"
    },
    "tags": []
   },
   "outputs": [],
   "source": [
    "# import seaborn as sns\n",
    "# import matplotlib.pyplot as plt\n",
    "\n",
    "# corr = df_x.corr()\n",
    "\n",
    "# fig, ax = plt.subplots(figsize=(10, 8))\n",
    "# sns.heatmap(corr, annot=True, cmap='coolwarm', ax=ax)\n",
    "# plt.title('Correlation Heatmap')\n",
    "# plt.show()\n"
   ]
  },
  {
   "cell_type": "code",
   "execution_count": 41,
   "id": "10493466",
   "metadata": {
    "execution": {
     "iopub.execute_input": "2023-04-27T20:57:02.759068Z",
     "iopub.status.busy": "2023-04-27T20:57:02.758548Z",
     "iopub.status.idle": "2023-04-27T20:57:02.764972Z",
     "shell.execute_reply": "2023-04-27T20:57:02.763947Z"
    },
    "papermill": {
     "duration": 0.021978,
     "end_time": "2023-04-27T20:57:02.767077",
     "exception": false,
     "start_time": "2023-04-27T20:57:02.745099",
     "status": "completed"
    },
    "tags": []
   },
   "outputs": [],
   "source": [
    "X_train = df_x.drop('shop_id', axis =1 )\n",
    "X_test = df1_x.drop('shop_id', axis =1 )"
   ]
  },
  {
   "cell_type": "code",
   "execution_count": 42,
   "id": "025b718a",
   "metadata": {
    "execution": {
     "iopub.execute_input": "2023-04-27T20:57:02.793901Z",
     "iopub.status.busy": "2023-04-27T20:57:02.793244Z",
     "iopub.status.idle": "2023-04-27T20:57:02.797394Z",
     "shell.execute_reply": "2023-04-27T20:57:02.796734Z"
    },
    "papermill": {
     "duration": 0.020173,
     "end_time": "2023-04-27T20:57:02.799523",
     "exception": false,
     "start_time": "2023-04-27T20:57:02.779350",
     "status": "completed"
    },
    "tags": []
   },
   "outputs": [],
   "source": [
    "lableEncoder = LabelEncoder()\n",
    "\n",
    "y_train = df_y\n",
    "\n",
    "y_train = lableEncoder.fit_transform(y_train)"
   ]
  },
  {
   "cell_type": "code",
   "execution_count": 43,
   "id": "b80a9db9",
   "metadata": {
    "execution": {
     "iopub.execute_input": "2023-04-27T20:57:02.827330Z",
     "iopub.status.busy": "2023-04-27T20:57:02.826977Z",
     "iopub.status.idle": "2023-04-27T20:57:02.831678Z",
     "shell.execute_reply": "2023-04-27T20:57:02.830626Z"
    },
    "papermill": {
     "duration": 0.021165,
     "end_time": "2023-04-27T20:57:02.833769",
     "exception": false,
     "start_time": "2023-04-27T20:57:02.812604",
     "status": "completed"
    },
    "tags": []
   },
   "outputs": [],
   "source": [
    "# import matplotlib.pyplot as plt\n",
    "# df_train.hist(bins=100, figsize=(12,8))\n",
    "# plt.show()"
   ]
  },
  {
   "cell_type": "code",
   "execution_count": 44,
   "id": "82146c9a",
   "metadata": {
    "execution": {
     "iopub.execute_input": "2023-04-27T20:57:02.859802Z",
     "iopub.status.busy": "2023-04-27T20:57:02.859439Z",
     "iopub.status.idle": "2023-04-27T20:57:02.863685Z",
     "shell.execute_reply": "2023-04-27T20:57:02.862633Z"
    },
    "papermill": {
     "duration": 0.019576,
     "end_time": "2023-04-27T20:57:02.865729",
     "exception": false,
     "start_time": "2023-04-27T20:57:02.846153",
     "status": "completed"
    },
    "tags": []
   },
   "outputs": [],
   "source": [
    "# X_train[\"increased\"].value_counts()"
   ]
  },
  {
   "cell_type": "code",
   "execution_count": 45,
   "id": "b004619d",
   "metadata": {
    "execution": {
     "iopub.execute_input": "2023-04-27T20:57:02.891084Z",
     "iopub.status.busy": "2023-04-27T20:57:02.890718Z",
     "iopub.status.idle": "2023-04-27T20:57:02.908888Z",
     "shell.execute_reply": "2023-04-27T20:57:02.907506Z"
    },
    "papermill": {
     "duration": 0.033232,
     "end_time": "2023-04-27T20:57:02.910910",
     "exception": false,
     "start_time": "2023-04-27T20:57:02.877678",
     "status": "completed"
    },
    "tags": []
   },
   "outputs": [
    {
     "data": {
      "text/html": [
       "<div>\n",
       "<style scoped>\n",
       "    .dataframe tbody tr th:only-of-type {\n",
       "        vertical-align: middle;\n",
       "    }\n",
       "\n",
       "    .dataframe tbody tr th {\n",
       "        vertical-align: top;\n",
       "    }\n",
       "\n",
       "    .dataframe thead th {\n",
       "        text-align: right;\n",
       "    }\n",
       "</style>\n",
       "<table border=\"1\" class=\"dataframe\">\n",
       "  <thead>\n",
       "    <tr style=\"text-align: right;\">\n",
       "      <th></th>\n",
       "      <th>shop_area_sq_ft</th>\n",
       "      <th>sqrt_avg_item_price</th>\n",
       "      <th>loyalty_rate</th>\n",
       "      <th>total_sales</th>\n",
       "      <th>sales_per_feet</th>\n",
       "      <th>percentage_increase</th>\n",
       "      <th>simil_617</th>\n",
       "      <th>simil_676</th>\n",
       "    </tr>\n",
       "  </thead>\n",
       "  <tbody>\n",
       "    <tr>\n",
       "      <th>0</th>\n",
       "      <td>-0.316748</td>\n",
       "      <td>0.734546</td>\n",
       "      <td>-0.240969</td>\n",
       "      <td>-1.508701</td>\n",
       "      <td>-1.243324</td>\n",
       "      <td>0.936488</td>\n",
       "      <td>-0.502519</td>\n",
       "      <td>-0.538772</td>\n",
       "    </tr>\n",
       "    <tr>\n",
       "      <th>1</th>\n",
       "      <td>1.504919</td>\n",
       "      <td>-0.111150</td>\n",
       "      <td>-0.512133</td>\n",
       "      <td>-0.042718</td>\n",
       "      <td>-0.787568</td>\n",
       "      <td>-0.342922</td>\n",
       "      <td>-0.502519</td>\n",
       "      <td>-0.538772</td>\n",
       "    </tr>\n",
       "    <tr>\n",
       "      <th>2</th>\n",
       "      <td>-0.823647</td>\n",
       "      <td>-0.053047</td>\n",
       "      <td>0.785114</td>\n",
       "      <td>-0.267824</td>\n",
       "      <td>0.179611</td>\n",
       "      <td>0.704666</td>\n",
       "      <td>-0.502519</td>\n",
       "      <td>-0.538772</td>\n",
       "    </tr>\n",
       "    <tr>\n",
       "      <th>3</th>\n",
       "      <td>-0.023697</td>\n",
       "      <td>0.685989</td>\n",
       "      <td>0.443523</td>\n",
       "      <td>0.169645</td>\n",
       "      <td>0.039706</td>\n",
       "      <td>-2.213602</td>\n",
       "      <td>1.989975</td>\n",
       "      <td>-0.538772</td>\n",
       "    </tr>\n",
       "    <tr>\n",
       "      <th>4</th>\n",
       "      <td>0.443600</td>\n",
       "      <td>0.212811</td>\n",
       "      <td>0.045833</td>\n",
       "      <td>-0.179486</td>\n",
       "      <td>-0.476739</td>\n",
       "      <td>0.559165</td>\n",
       "      <td>-0.502519</td>\n",
       "      <td>1.875500</td>\n",
       "    </tr>\n",
       "    <tr>\n",
       "      <th>...</th>\n",
       "      <td>...</td>\n",
       "      <td>...</td>\n",
       "      <td>...</td>\n",
       "      <td>...</td>\n",
       "      <td>...</td>\n",
       "      <td>...</td>\n",
       "      <td>...</td>\n",
       "      <td>...</td>\n",
       "    </tr>\n",
       "    <tr>\n",
       "      <th>94</th>\n",
       "      <td>-0.118741</td>\n",
       "      <td>-0.765417</td>\n",
       "      <td>-0.105621</td>\n",
       "      <td>-0.459412</td>\n",
       "      <td>-0.430308</td>\n",
       "      <td>0.264414</td>\n",
       "      <td>-0.502518</td>\n",
       "      <td>-0.538772</td>\n",
       "    </tr>\n",
       "    <tr>\n",
       "      <th>95</th>\n",
       "      <td>0.910898</td>\n",
       "      <td>0.398153</td>\n",
       "      <td>-0.125546</td>\n",
       "      <td>-1.618341</td>\n",
       "      <td>-1.662873</td>\n",
       "      <td>-0.483951</td>\n",
       "      <td>-0.502519</td>\n",
       "      <td>-0.538772</td>\n",
       "    </tr>\n",
       "    <tr>\n",
       "      <th>96</th>\n",
       "      <td>-0.110820</td>\n",
       "      <td>-0.297612</td>\n",
       "      <td>0.177680</td>\n",
       "      <td>0.524703</td>\n",
       "      <td>0.390005</td>\n",
       "      <td>-0.247508</td>\n",
       "      <td>-0.502505</td>\n",
       "      <td>-0.538772</td>\n",
       "    </tr>\n",
       "    <tr>\n",
       "      <th>98</th>\n",
       "      <td>-2.312662</td>\n",
       "      <td>-1.025292</td>\n",
       "      <td>-0.461696</td>\n",
       "      <td>-0.625616</td>\n",
       "      <td>1.375975</td>\n",
       "      <td>-0.992980</td>\n",
       "      <td>-0.502519</td>\n",
       "      <td>-0.538772</td>\n",
       "    </tr>\n",
       "    <tr>\n",
       "      <th>99</th>\n",
       "      <td>1.805891</td>\n",
       "      <td>-0.668380</td>\n",
       "      <td>-1.327754</td>\n",
       "      <td>0.526804</td>\n",
       "      <td>-0.540133</td>\n",
       "      <td>1.416284</td>\n",
       "      <td>-0.502519</td>\n",
       "      <td>-0.538772</td>\n",
       "    </tr>\n",
       "  </tbody>\n",
       "</table>\n",
       "<p>95 rows × 8 columns</p>\n",
       "</div>"
      ],
      "text/plain": [
       "    shop_area_sq_ft  sqrt_avg_item_price  loyalty_rate  total_sales  \\\n",
       "0         -0.316748             0.734546     -0.240969    -1.508701   \n",
       "1          1.504919            -0.111150     -0.512133    -0.042718   \n",
       "2         -0.823647            -0.053047      0.785114    -0.267824   \n",
       "3         -0.023697             0.685989      0.443523     0.169645   \n",
       "4          0.443600             0.212811      0.045833    -0.179486   \n",
       "..              ...                  ...           ...          ...   \n",
       "94        -0.118741            -0.765417     -0.105621    -0.459412   \n",
       "95         0.910898             0.398153     -0.125546    -1.618341   \n",
       "96        -0.110820            -0.297612      0.177680     0.524703   \n",
       "98        -2.312662            -1.025292     -0.461696    -0.625616   \n",
       "99         1.805891            -0.668380     -1.327754     0.526804   \n",
       "\n",
       "    sales_per_feet  percentage_increase  simil_617  simil_676  \n",
       "0        -1.243324             0.936488  -0.502519  -0.538772  \n",
       "1        -0.787568            -0.342922  -0.502519  -0.538772  \n",
       "2         0.179611             0.704666  -0.502519  -0.538772  \n",
       "3         0.039706            -2.213602   1.989975  -0.538772  \n",
       "4        -0.476739             0.559165  -0.502519   1.875500  \n",
       "..             ...                  ...        ...        ...  \n",
       "94       -0.430308             0.264414  -0.502518  -0.538772  \n",
       "95       -1.662873            -0.483951  -0.502519  -0.538772  \n",
       "96        0.390005            -0.247508  -0.502505  -0.538772  \n",
       "98        1.375975            -0.992980  -0.502519  -0.538772  \n",
       "99       -0.540133             1.416284  -0.502519  -0.538772  \n",
       "\n",
       "[95 rows x 8 columns]"
      ]
     },
     "execution_count": 45,
     "metadata": {},
     "output_type": "execute_result"
    }
   ],
   "source": [
    "X_train"
   ]
  },
  {
   "cell_type": "code",
   "execution_count": 46,
   "id": "c8631894",
   "metadata": {
    "execution": {
     "iopub.execute_input": "2023-04-27T20:57:02.937419Z",
     "iopub.status.busy": "2023-04-27T20:57:02.937107Z",
     "iopub.status.idle": "2023-04-27T20:57:02.941655Z",
     "shell.execute_reply": "2023-04-27T20:57:02.940601Z"
    },
    "papermill": {
     "duration": 0.020029,
     "end_time": "2023-04-27T20:57:02.943652",
     "exception": false,
     "start_time": "2023-04-27T20:57:02.923623",
     "status": "completed"
    },
    "tags": []
   },
   "outputs": [],
   "source": [
    "# X_test"
   ]
  },
  {
   "cell_type": "code",
   "execution_count": 47,
   "id": "8b3e42f0",
   "metadata": {
    "execution": {
     "iopub.execute_input": "2023-04-27T20:57:02.970130Z",
     "iopub.status.busy": "2023-04-27T20:57:02.969810Z",
     "iopub.status.idle": "2023-04-27T20:57:02.974789Z",
     "shell.execute_reply": "2023-04-27T20:57:02.973768Z"
    },
    "papermill": {
     "duration": 0.020773,
     "end_time": "2023-04-27T20:57:02.976786",
     "exception": false,
     "start_time": "2023-04-27T20:57:02.956013",
     "status": "completed"
    },
    "tags": []
   },
   "outputs": [],
   "source": [
    "# max_depths = [2*i for i in range(1,15)]\n",
    "# min_samples_splits = [2,4,8]\n",
    "# min_samples_leafs =  [1,2,4]\n",
    "# n_estimator = 100\n",
    "# best_score = 0\n",
    "\n",
    "# for max_depth in max_depths:\n",
    "#     for min_samples_split in min_samples_splits:\n",
    "#         for min_samples_leaf in min_samples_leafs:\n",
    "#             random_forest = RandomForestClassifier( max_depth=max_depth, min_samples_split=min_samples_split, min_samples_leaf=min_samples_leaf)\n",
    "\n",
    "#             accuracy_list = cross_val_score(random_forest, X_train, y_train, cv=10)\n",
    "#             accuracy = accuracy_list.mean()\n",
    "\n",
    "#             if accuracy > best_score:\n",
    "#                 best_score = accuracy\n",
    "#                 best_params = {'max_depth': max_depth, 'min_samples_split': min_samples_split, 'min_samples_leaf': min_samples_leaf}\n",
    "#                 print(f'Best hyperparameters: {best_params}')\n",
    "#                 print(f'Accuracy: {best_score}')\n",
    "\n",
    "\n",
    "# print(f'Best hyperparameters: {best_params}')\n",
    "# print(f'Accuracy: {best_score}')"
   ]
  },
  {
   "cell_type": "code",
   "execution_count": 48,
   "id": "14e959f3",
   "metadata": {
    "execution": {
     "iopub.execute_input": "2023-04-27T20:57:03.002935Z",
     "iopub.status.busy": "2023-04-27T20:57:03.002607Z",
     "iopub.status.idle": "2023-04-27T20:57:03.143749Z",
     "shell.execute_reply": "2023-04-27T20:57:03.142766Z"
    },
    "papermill": {
     "duration": 0.156711,
     "end_time": "2023-04-27T20:57:03.146069",
     "exception": false,
     "start_time": "2023-04-27T20:57:02.989358",
     "status": "completed"
    },
    "tags": []
   },
   "outputs": [],
   "source": [
    "model = RandomForestClassifier()\n",
    "# max_depth= 6, min_samples_split= 4, min_samples_leaf= 1\n",
    "# n_estimators = 100, max_depth=16, min_samples_split=2, min_samples_leaf=1\n",
    "\n",
    "model.fit(X_train, y_train)\n",
    "y_pred = model.predict(X_test)"
   ]
  },
  {
   "cell_type": "code",
   "execution_count": 49,
   "id": "b6b707c7",
   "metadata": {
    "execution": {
     "iopub.execute_input": "2023-04-27T20:57:03.172709Z",
     "iopub.status.busy": "2023-04-27T20:57:03.172386Z",
     "iopub.status.idle": "2023-04-27T20:57:03.183969Z",
     "shell.execute_reply": "2023-04-27T20:57:03.182678Z"
    },
    "papermill": {
     "duration": 0.027227,
     "end_time": "2023-04-27T20:57:03.185955",
     "exception": false,
     "start_time": "2023-04-27T20:57:03.158728",
     "status": "completed"
    },
    "tags": []
   },
   "outputs": [
    {
     "name": "stdout",
     "output_type": "stream",
     "text": [
      "<class 'pandas.core.frame.DataFrame'>\n",
      "Int64Index: 95 entries, 0 to 99\n",
      "Data columns (total 8 columns):\n",
      " #   Column               Non-Null Count  Dtype  \n",
      "---  ------               --------------  -----  \n",
      " 0   shop_area_sq_ft      95 non-null     float64\n",
      " 1   sqrt_avg_item_price  95 non-null     float64\n",
      " 2   loyalty_rate         95 non-null     float64\n",
      " 3   total_sales          95 non-null     float64\n",
      " 4   sales_per_feet       95 non-null     float64\n",
      " 5   percentage_increase  95 non-null     float64\n",
      " 6   simil_617            95 non-null     float64\n",
      " 7   simil_676            95 non-null     float64\n",
      "dtypes: float64(8)\n",
      "memory usage: 6.7 KB\n"
     ]
    }
   ],
   "source": [
    "X_train.info()"
   ]
  },
  {
   "cell_type": "code",
   "execution_count": 50,
   "id": "f8c9defd",
   "metadata": {
    "execution": {
     "iopub.execute_input": "2023-04-27T20:57:03.212925Z",
     "iopub.status.busy": "2023-04-27T20:57:03.212613Z",
     "iopub.status.idle": "2023-04-27T20:57:03.216273Z",
     "shell.execute_reply": "2023-04-27T20:57:03.215586Z"
    },
    "papermill": {
     "duration": 0.01907,
     "end_time": "2023-04-27T20:57:03.217968",
     "exception": false,
     "start_time": "2023-04-27T20:57:03.198898",
     "status": "completed"
    },
    "tags": []
   },
   "outputs": [],
   "source": [
    "# import xgboost as xgb\n",
    "# from sklearn.metrics import accuracy_score, precision_score, recall_score, f1_score\n",
    "\n",
    "# model = xgb.XGBClassifier()\n",
    "# # colsample_bytree = 0.75, learning_rate= 0.1, max_depth= 3, n_estimators = 100, subsample= 0.75\n",
    "# model.fit(X_train, y_train)\n",
    "# y_pred = model.predict(X_test)"
   ]
  },
  {
   "cell_type": "code",
   "execution_count": 51,
   "id": "fda434ad",
   "metadata": {
    "execution": {
     "iopub.execute_input": "2023-04-27T20:57:03.242775Z",
     "iopub.status.busy": "2023-04-27T20:57:03.242468Z",
     "iopub.status.idle": "2023-04-27T20:57:03.924759Z",
     "shell.execute_reply": "2023-04-27T20:57:03.923436Z"
    },
    "papermill": {
     "duration": 0.697388,
     "end_time": "2023-04-27T20:57:03.927262",
     "exception": false,
     "start_time": "2023-04-27T20:57:03.229874",
     "status": "completed"
    },
    "tags": []
   },
   "outputs": [
    {
     "name": "stdout",
     "output_type": "stream",
     "text": [
      "Cross-validation scores: [0.63157895 0.78947368 0.47368421 0.47368421 0.57894737]\n",
      "Mean cross-validation score: 0.5894736842105263\n"
     ]
    }
   ],
   "source": [
    "scores = cross_val_score(model, X_train, y_train, cv=5)                                   \n",
    "print(\"Cross-validation scores:\", scores)\n",
    "print(\"Mean cross-validation score:\", scores.mean())"
   ]
  },
  {
   "cell_type": "code",
   "execution_count": 52,
   "id": "f3ffe0b9",
   "metadata": {
    "execution": {
     "iopub.execute_input": "2023-04-27T20:57:03.954617Z",
     "iopub.status.busy": "2023-04-27T20:57:03.954291Z",
     "iopub.status.idle": "2023-04-27T20:57:03.964691Z",
     "shell.execute_reply": "2023-04-27T20:57:03.964035Z"
    },
    "papermill": {
     "duration": 0.025682,
     "end_time": "2023-04-27T20:57:03.966499",
     "exception": false,
     "start_time": "2023-04-27T20:57:03.940817",
     "status": "completed"
    },
    "scrolled": true,
    "tags": []
   },
   "outputs": [],
   "source": [
    "y_pred = lableEncoder.inverse_transform(y_pred)\n",
    "\n",
    "shop_profile = pd.DataFrame({'shop_profile': y_pred})\n",
    "\n",
    "df_concat = pd.concat([df1_x, shop_profile], axis=1)\n",
    "\n",
    "store_info = store_info_data.drop('shop_profile', axis =1)\n",
    "\n",
    "df_concat = pd.merge(df_concat, store_info , on=\"shop_id\" , how=\"left\")"
   ]
  },
  {
   "cell_type": "code",
   "execution_count": 53,
   "id": "03eae3e2",
   "metadata": {
    "execution": {
     "iopub.execute_input": "2023-04-27T20:57:03.991648Z",
     "iopub.status.busy": "2023-04-27T20:57:03.991375Z",
     "iopub.status.idle": "2023-04-27T20:57:03.998044Z",
     "shell.execute_reply": "2023-04-27T20:57:03.996923Z"
    },
    "papermill": {
     "duration": 0.021665,
     "end_time": "2023-04-27T20:57:04.000128",
     "exception": false,
     "start_time": "2023-04-27T20:57:03.978463",
     "status": "completed"
    },
    "tags": []
   },
   "outputs": [
    {
     "name": "stdout",
     "output_type": "stream",
     "text": [
      "    shop_id shop_profile\n",
      "0   SHOP002          Low\n",
      "1   SHOP019     Moderate\n",
      "2   SHOP023          Low\n",
      "3   SHOP024          Low\n",
      "4   SHOP029          Low\n",
      "5   SHOP030          Low\n",
      "6   SHOP038     Moderate\n",
      "7   SHOP044     Moderate\n",
      "8   SHOP046          Low\n",
      "9   SHOP050     Moderate\n",
      "10  SHOP056         High\n",
      "11  SHOP061          Low\n",
      "12  SHOP070          Low\n",
      "13  SHOP074         High\n",
      "14  SHOP076          Low\n",
      "15  SHOP080          Low\n",
      "16  SHOP081         High\n",
      "17  SHOP087          Low\n",
      "18  SHOP092     Moderate\n",
      "19  SHOP096          Low\n",
      "20  SHOP097     Moderate\n",
      "21  SHOP107     Moderate\n",
      "22  SHOP108          Low\n",
      "23  SHOP114     Moderate\n"
     ]
    }
   ],
   "source": [
    "output = df_concat[['shop_id','shop_profile']]\n",
    "print(output)"
   ]
  },
  {
   "cell_type": "code",
   "execution_count": 54,
   "id": "b40a1cd8",
   "metadata": {
    "execution": {
     "iopub.execute_input": "2023-04-27T20:57:04.025787Z",
     "iopub.status.busy": "2023-04-27T20:57:04.025160Z",
     "iopub.status.idle": "2023-04-27T20:57:04.712131Z",
     "shell.execute_reply": "2023-04-27T20:57:04.710110Z"
    },
    "papermill": {
     "duration": 0.702052,
     "end_time": "2023-04-27T20:57:04.714242",
     "exception": false,
     "start_time": "2023-04-27T20:57:04.012190",
     "status": "completed"
    },
    "tags": []
   },
   "outputs": [
    {
     "name": "stdout",
     "output_type": "stream",
     "text": [
      "Mean F1-score: 0.6145156259862142\n",
      "Standard deviation: 0.12457642760363223\n"
     ]
    }
   ],
   "source": [
    "from sklearn.model_selection import cross_val_score\n",
    "from sklearn.metrics import f1_score, make_scorer\n",
    "\n",
    "# define cross-validation\n",
    "cv = 5\n",
    "\n",
    "# define F1-score with macro averaging as scoring metric\n",
    "scoring = make_scorer(f1_score, average='macro')\n",
    "\n",
    "# perform cross-validation\n",
    "scores = cross_val_score(model, X_train, y_train, cv=cv, scoring=scoring)\n",
    "\n",
    "# print mean F1-score and standard deviation\n",
    "print('Mean F1-score:', scores.mean())\n",
    "print('Standard deviation:', scores.std())"
   ]
  },
  {
   "cell_type": "code",
   "execution_count": 55,
   "id": "41399a6e",
   "metadata": {
    "execution": {
     "iopub.execute_input": "2023-04-27T20:57:04.742003Z",
     "iopub.status.busy": "2023-04-27T20:57:04.741329Z",
     "iopub.status.idle": "2023-04-27T20:57:04.747059Z",
     "shell.execute_reply": "2023-04-27T20:57:04.745909Z"
    },
    "papermill": {
     "duration": 0.021939,
     "end_time": "2023-04-27T20:57:04.749302",
     "exception": false,
     "start_time": "2023-04-27T20:57:04.727363",
     "status": "completed"
    },
    "tags": []
   },
   "outputs": [],
   "source": [
    "# Save test predictions to file\n",
    "\n",
    "output.to_csv('submission.csv', index=False)"
   ]
  },
  {
   "cell_type": "code",
   "execution_count": null,
   "id": "7ccc9509",
   "metadata": {
    "papermill": {
     "duration": 0.012281,
     "end_time": "2023-04-27T20:57:04.774338",
     "exception": false,
     "start_time": "2023-04-27T20:57:04.762057",
     "status": "completed"
    },
    "tags": []
   },
   "outputs": [],
   "source": []
  }
 ],
 "metadata": {
  "kernelspec": {
   "display_name": "Python 3",
   "language": "python",
   "name": "python3"
  },
  "language_info": {
   "codemirror_mode": {
    "name": "ipython",
    "version": 3
   },
   "file_extension": ".py",
   "mimetype": "text/x-python",
   "name": "python",
   "nbconvert_exporter": "python",
   "pygments_lexer": "ipython3",
   "version": "3.7.12"
  },
  "papermill": {
   "default_parameters": {},
   "duration": 23.033415,
   "end_time": "2023-04-27T20:57:05.405810",
   "environment_variables": {},
   "exception": null,
   "input_path": "__notebook__.ipynb",
   "output_path": "__notebook__.ipynb",
   "parameters": {},
   "start_time": "2023-04-27T20:56:42.372395",
   "version": "2.4.0"
  }
 },
 "nbformat": 4,
 "nbformat_minor": 5
}
