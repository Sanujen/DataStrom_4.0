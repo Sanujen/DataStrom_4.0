{
 "cells": [
  {
   "cell_type": "code",
   "execution_count": 1,
   "id": "624b331c",
   "metadata": {
    "_cell_guid": "b1076dfc-b9ad-4769-8c92-a6c4dae69d19",
    "_uuid": "8f2839f25d086af736a60e9eeb907d3b93b6e0e5",
    "execution": {
     "iopub.execute_input": "2023-04-25T18:33:28.157822Z",
     "iopub.status.busy": "2023-04-25T18:33:28.157267Z",
     "iopub.status.idle": "2023-04-25T18:33:30.124417Z",
     "shell.execute_reply": "2023-04-25T18:33:30.122871Z"
    },
    "papermill": {
     "duration": 1.985089,
     "end_time": "2023-04-25T18:33:30.127492",
     "exception": false,
     "start_time": "2023-04-25T18:33:28.142403",
     "status": "completed"
    },
    "tags": []
   },
   "outputs": [
    {
     "name": "stdout",
     "output_type": "stream",
     "text": [
      "/kaggle/input/data-storm-4/Data-dictionary.xlsx\n",
      "/kaggle/input/data-storm-4/DataStorm4.0_KaggleProblemStatement.pdf\n",
      "/kaggle/input/data-storm-4/Store-info.csv\n",
      "/kaggle/input/data-storm-4/Testing-data.csv\n",
      "/kaggle/input/data-storm-4/Historical-transaction-data.csv\n"
     ]
    }
   ],
   "source": [
    "# This Python 3 environment comes with many helpful analytics libraries installed\n",
    "# It is defined by the kaggle/python Docker image: https://github.com/kaggle/docker-python\n",
    "# For example, here's several helpful packages to load\n",
    "\n",
    "import numpy as np\n",
    "import pandas as pd\n",
    "import matplotlib.pyplot as plt\n",
    "import seaborn as sns\n",
    "#%matplotlib inline\n",
    "sns.set()\n",
    "from sklearn.feature_selection import mutual_info_regression\n",
    "import seaborn as sns\n",
    "from sklearn.model_selection import train_test_split\n",
    "from sklearn.preprocessing import StandardScaler\n",
    "from sklearn.ensemble import RandomForestClassifier\n",
    "from sklearn.model_selection import cross_val_score\n",
    "from sklearn.metrics import accuracy_score\n",
    "from sklearn.metrics import accuracy_score, precision_score, recall_score, f1_score\n",
    "from sklearn.preprocessing import LabelEncoder\n",
    "# Input data files are available in the read-only \"../input/\" directory\n",
    "# For example, running this (by clicking run or pressing Shift+Enter) will list all files under the input directory\n",
    "\n",
    "import os\n",
    "for dirname, _, filenames in os.walk('/kaggle/input'):\n",
    "    for filename in filenames:\n",
    "        print(os.path.join(dirname, filename))\n",
    "\n",
    "# You can write up to 20GB to the current directory (/kaggle/working/) that gets preserved as output when you create a version using \"Save & Run All\" \n",
    "# You can also write temporary files to /kaggle/temp/, but they won't be saved outside of the current session"
   ]
  },
  {
   "cell_type": "code",
   "execution_count": 2,
   "id": "bb453b93",
   "metadata": {
    "execution": {
     "iopub.execute_input": "2023-04-25T18:33:30.153481Z",
     "iopub.status.busy": "2023-04-25T18:33:30.152672Z",
     "iopub.status.idle": "2023-04-25T18:33:31.136186Z",
     "shell.execute_reply": "2023-04-25T18:33:31.134958Z"
    },
    "papermill": {
     "duration": 0.999715,
     "end_time": "2023-04-25T18:33:31.139054",
     "exception": false,
     "start_time": "2023-04-25T18:33:30.139339",
     "status": "completed"
    },
    "tags": []
   },
   "outputs": [],
   "source": [
    "df = pd.read_csv('/kaggle/input/data-storm-4/Historical-transaction-data.csv')\n",
    "store_info_data = pd.read_csv('/kaggle/input/data-storm-4/Store-info.csv')\n",
    "test_data = pd.read_csv('/kaggle/input/data-storm-4/Testing-data.csv')"
   ]
  },
  {
   "cell_type": "code",
   "execution_count": 3,
   "id": "e4e3ce53",
   "metadata": {
    "execution": {
     "iopub.execute_input": "2023-04-25T18:33:31.164508Z",
     "iopub.status.busy": "2023-04-25T18:33:31.164094Z",
     "iopub.status.idle": "2023-04-25T18:33:31.183474Z",
     "shell.execute_reply": "2023-04-25T18:33:31.182181Z"
    },
    "papermill": {
     "duration": 0.035502,
     "end_time": "2023-04-25T18:33:31.186421",
     "exception": false,
     "start_time": "2023-04-25T18:33:31.150919",
     "status": "completed"
    },
    "tags": []
   },
   "outputs": [
    {
     "data": {
      "text/plain": [
       "shop_id         24\n",
       "shop_profile     0\n",
       "dtype: int64"
      ]
     },
     "execution_count": 3,
     "metadata": {},
     "output_type": "execute_result"
    }
   ],
   "source": [
    "test_data.count()"
   ]
  },
  {
   "cell_type": "code",
   "execution_count": 4,
   "id": "70008a1a",
   "metadata": {
    "execution": {
     "iopub.execute_input": "2023-04-25T18:33:31.212337Z",
     "iopub.status.busy": "2023-04-25T18:33:31.211901Z",
     "iopub.status.idle": "2023-04-25T18:33:31.222075Z",
     "shell.execute_reply": "2023-04-25T18:33:31.220891Z"
    },
    "papermill": {
     "duration": 0.025453,
     "end_time": "2023-04-25T18:33:31.224575",
     "exception": false,
     "start_time": "2023-04-25T18:33:31.199122",
     "status": "completed"
    },
    "tags": []
   },
   "outputs": [
    {
     "data": {
      "text/plain": [
       "shop_id             0\n",
       "shop_area_sq_ft     0\n",
       "shop_profile       24\n",
       "dtype: int64"
      ]
     },
     "execution_count": 4,
     "metadata": {},
     "output_type": "execute_result"
    }
   ],
   "source": [
    "store_info_data.isna().sum()"
   ]
  },
  {
   "cell_type": "code",
   "execution_count": 5,
   "id": "8eb71c10",
   "metadata": {
    "execution": {
     "iopub.execute_input": "2023-04-25T18:33:31.250166Z",
     "iopub.status.busy": "2023-04-25T18:33:31.249155Z",
     "iopub.status.idle": "2023-04-25T18:33:31.254462Z",
     "shell.execute_reply": "2023-04-25T18:33:31.253388Z"
    },
    "papermill": {
     "duration": 0.020959,
     "end_time": "2023-04-25T18:33:31.257072",
     "exception": false,
     "start_time": "2023-04-25T18:33:31.236113",
     "status": "completed"
    },
    "tags": []
   },
   "outputs": [],
   "source": [
    "# df = pd.merge(transaction_data, store_info_data, on='shop_id')"
   ]
  },
  {
   "cell_type": "code",
   "execution_count": 6,
   "id": "a2526de0",
   "metadata": {
    "execution": {
     "iopub.execute_input": "2023-04-25T18:33:31.282471Z",
     "iopub.status.busy": "2023-04-25T18:33:31.281643Z",
     "iopub.status.idle": "2023-04-25T18:33:31.286574Z",
     "shell.execute_reply": "2023-04-25T18:33:31.285373Z"
    },
    "papermill": {
     "duration": 0.020263,
     "end_time": "2023-04-25T18:33:31.288974",
     "exception": false,
     "start_time": "2023-04-25T18:33:31.268711",
     "status": "completed"
    },
    "tags": []
   },
   "outputs": [],
   "source": [
    "# df_test = dataframe[dataframe['shop_profile'].isnull()]"
   ]
  },
  {
   "cell_type": "code",
   "execution_count": 7,
   "id": "25dcda1e",
   "metadata": {
    "execution": {
     "iopub.execute_input": "2023-04-25T18:33:31.314262Z",
     "iopub.status.busy": "2023-04-25T18:33:31.313510Z",
     "iopub.status.idle": "2023-04-25T18:33:31.317831Z",
     "shell.execute_reply": "2023-04-25T18:33:31.316798Z"
    },
    "papermill": {
     "duration": 0.019546,
     "end_time": "2023-04-25T18:33:31.320114",
     "exception": false,
     "start_time": "2023-04-25T18:33:31.300568",
     "status": "completed"
    },
    "tags": []
   },
   "outputs": [],
   "source": [
    "# df_train = dataframe[dataframe['shop_profile'].notnull()]"
   ]
  },
  {
   "cell_type": "code",
   "execution_count": 8,
   "id": "f882e34c",
   "metadata": {
    "execution": {
     "iopub.execute_input": "2023-04-25T18:33:31.345178Z",
     "iopub.status.busy": "2023-04-25T18:33:31.344736Z",
     "iopub.status.idle": "2023-04-25T18:33:31.350590Z",
     "shell.execute_reply": "2023-04-25T18:33:31.349028Z"
    },
    "papermill": {
     "duration": 0.021461,
     "end_time": "2023-04-25T18:33:31.353216",
     "exception": false,
     "start_time": "2023-04-25T18:33:31.331755",
     "status": "completed"
    },
    "tags": []
   },
   "outputs": [],
   "source": [
    "# df = df_train"
   ]
  },
  {
   "cell_type": "code",
   "execution_count": 9,
   "id": "7de6c448",
   "metadata": {
    "execution": {
     "iopub.execute_input": "2023-04-25T18:33:31.378063Z",
     "iopub.status.busy": "2023-04-25T18:33:31.377641Z",
     "iopub.status.idle": "2023-04-25T18:33:31.382529Z",
     "shell.execute_reply": "2023-04-25T18:33:31.381451Z"
    },
    "papermill": {
     "duration": 0.020222,
     "end_time": "2023-04-25T18:33:31.385027",
     "exception": false,
     "start_time": "2023-04-25T18:33:31.364805",
     "status": "completed"
    },
    "tags": []
   },
   "outputs": [],
   "source": [
    "# df =  df.reset_index(drop=True)"
   ]
  },
  {
   "cell_type": "code",
   "execution_count": 10,
   "id": "43accc53",
   "metadata": {
    "execution": {
     "iopub.execute_input": "2023-04-25T18:33:31.409871Z",
     "iopub.status.busy": "2023-04-25T18:33:31.409408Z",
     "iopub.status.idle": "2023-04-25T18:33:39.064872Z",
     "shell.execute_reply": "2023-04-25T18:33:39.063665Z"
    },
    "papermill": {
     "duration": 7.67112,
     "end_time": "2023-04-25T18:33:39.067727",
     "exception": false,
     "start_time": "2023-04-25T18:33:31.396607",
     "status": "completed"
    },
    "tags": []
   },
   "outputs": [],
   "source": [
    "from datetime import datetime\n",
    "\n",
    "def extract_date(date_str):\n",
    "    date_obj = datetime.strptime(date_str, \"%Y-%m-%dT%H:%M:%S.%fZ\")\n",
    "    return date_obj.strftime(\"%Y-%m-%d\")\n",
    "\n",
    "df[\"transaction_date\"] = df[\"transaction_date\"].apply(extract_date)"
   ]
  },
  {
   "cell_type": "code",
   "execution_count": 11,
   "id": "d9c9370d",
   "metadata": {
    "execution": {
     "iopub.execute_input": "2023-04-25T18:33:39.093225Z",
     "iopub.status.busy": "2023-04-25T18:33:39.092547Z",
     "iopub.status.idle": "2023-04-25T18:33:39.479043Z",
     "shell.execute_reply": "2023-04-25T18:33:39.477761Z"
    },
    "papermill": {
     "duration": 0.402429,
     "end_time": "2023-04-25T18:33:39.481898",
     "exception": false,
     "start_time": "2023-04-25T18:33:39.079469",
     "status": "completed"
    },
    "tags": []
   },
   "outputs": [],
   "source": [
    "# Convert the date column to a Pandas datetime object\n",
    "df[\"transaction_date\"] = pd.to_datetime(df[\"transaction_date\"])\n",
    "\n",
    "# Extract the year, month, day, and week of the year into separate columns\n",
    "df[\"month\"] = df[\"transaction_date\"].dt.month\n",
    "df[\"day\"] = df[\"transaction_date\"].dt.day\n",
    "df[\"week\"] = df[\"transaction_date\"].dt.isocalendar().week"
   ]
  },
  {
   "cell_type": "code",
   "execution_count": 12,
   "id": "a1213997",
   "metadata": {
    "execution": {
     "iopub.execute_input": "2023-04-25T18:33:39.507870Z",
     "iopub.status.busy": "2023-04-25T18:33:39.506800Z",
     "iopub.status.idle": "2023-04-25T18:33:39.512150Z",
     "shell.execute_reply": "2023-04-25T18:33:39.510829Z"
    },
    "papermill": {
     "duration": 0.020883,
     "end_time": "2023-04-25T18:33:39.514516",
     "exception": false,
     "start_time": "2023-04-25T18:33:39.493633",
     "status": "completed"
    },
    "tags": []
   },
   "outputs": [],
   "source": [
    "# for colname in df.select_dtypes([\"category\", \"object\"]):\n",
    "#         df[colname], _ = df[colname].factorize()"
   ]
  },
  {
   "cell_type": "code",
   "execution_count": 13,
   "id": "bd2cf72d",
   "metadata": {
    "execution": {
     "iopub.execute_input": "2023-04-25T18:33:39.539868Z",
     "iopub.status.busy": "2023-04-25T18:33:39.539441Z",
     "iopub.status.idle": "2023-04-25T18:33:40.373040Z",
     "shell.execute_reply": "2023-04-25T18:33:40.371779Z"
    },
    "papermill": {
     "duration": 0.849465,
     "end_time": "2023-04-25T18:33:40.376087",
     "exception": false,
     "start_time": "2023-04-25T18:33:39.526622",
     "status": "completed"
    },
    "tags": []
   },
   "outputs": [],
   "source": [
    "# Group the data by shop and customer, and count the number of transactions\n",
    "transactions = df.groupby([\"shop_id\", \"customer_id\"])[\"invoice_id\"].nunique()\n",
    "\n",
    "# Count the number of customers who made more than one transaction at each shop\n",
    "repeat_customers = transactions[transactions > 1].groupby(\"shop_id\").count()\n",
    "\n",
    "# Count the total number of unique customers who made a transaction at each shop\n",
    "total_customers = transactions.groupby(\"shop_id\").count()\n",
    "\n",
    "# Calculate the customer loyalty rate for each shop\n",
    "loyalty_rate = repeat_customers / total_customers\n",
    "\n",
    "# Reset the index of the loyalty_rate Series and rename the columns\n",
    "loyalty_rate = loyalty_rate.reset_index()\n",
    "loyalty_rate.columns = [\"shop_id\", \"loyalty_rate\"]\n",
    "\n",
    "# Merge the loyalty rate with the original DataFrame on the \"shop_id\" column\n",
    "df = pd.merge(df, loyalty_rate, on=\"shop_id\")"
   ]
  },
  {
   "cell_type": "code",
   "execution_count": 14,
   "id": "63bc071b",
   "metadata": {
    "execution": {
     "iopub.execute_input": "2023-04-25T18:33:40.401797Z",
     "iopub.status.busy": "2023-04-25T18:33:40.401379Z",
     "iopub.status.idle": "2023-04-25T18:33:40.505153Z",
     "shell.execute_reply": "2023-04-25T18:33:40.503669Z"
    },
    "papermill": {
     "duration": 0.119854,
     "end_time": "2023-04-25T18:33:40.507891",
     "exception": false,
     "start_time": "2023-04-25T18:33:40.388037",
     "status": "completed"
    },
    "tags": []
   },
   "outputs": [],
   "source": [
    "df = df.drop([\"transaction_date\",\"invoice_id\"], axis= 1)"
   ]
  },
  {
   "cell_type": "code",
   "execution_count": 15,
   "id": "edd38bef",
   "metadata": {
    "execution": {
     "iopub.execute_input": "2023-04-25T18:33:40.533253Z",
     "iopub.status.busy": "2023-04-25T18:33:40.532810Z",
     "iopub.status.idle": "2023-04-25T18:33:40.566868Z",
     "shell.execute_reply": "2023-04-25T18:33:40.565653Z"
    },
    "papermill": {
     "duration": 0.049815,
     "end_time": "2023-04-25T18:33:40.569408",
     "exception": false,
     "start_time": "2023-04-25T18:33:40.519593",
     "status": "completed"
    },
    "tags": []
   },
   "outputs": [
    {
     "data": {
      "text/plain": [
       "<IntegerArray>\n",
       "[49, 50, 41, 42, 43, 44, 45, 46, 47, 48]\n",
       "Length: 10, dtype: UInt32"
      ]
     },
     "execution_count": 15,
     "metadata": {},
     "output_type": "execute_result"
    }
   ],
   "source": [
    "df.week.unique()"
   ]
  },
  {
   "cell_type": "code",
   "execution_count": 16,
   "id": "43d551ee",
   "metadata": {
    "execution": {
     "iopub.execute_input": "2023-04-25T18:33:40.595005Z",
     "iopub.status.busy": "2023-04-25T18:33:40.594582Z",
     "iopub.status.idle": "2023-04-25T18:33:40.633928Z",
     "shell.execute_reply": "2023-04-25T18:33:40.632670Z"
    },
    "papermill": {
     "duration": 0.055538,
     "end_time": "2023-04-25T18:33:40.636639",
     "exception": false,
     "start_time": "2023-04-25T18:33:40.581101",
     "status": "completed"
    },
    "tags": []
   },
   "outputs": [
    {
     "data": {
      "text/plain": [
       "array(['SHOP008', 'SHOP112', 'SHOP055', 'SHOP003', 'SHOP071', 'SHOP123',\n",
       "       'SHOP087', 'SHOP090', 'SHOP022', 'SHOP047', 'SHOP012', 'SHOP054',\n",
       "       'SHOP040', 'SHOP023', 'SHOP115', 'SHOP104', 'SHOP097', 'SHOP103',\n",
       "       'SHOP125', 'SHOP034', 'SHOP061', 'SHOP001', 'SHOP080', 'SHOP116',\n",
       "       'SHOP075', 'SHOP093', 'SHOP096', 'SHOP026', 'SHOP032', 'SHOP107',\n",
       "       'SHOP044', 'SHOP017', 'SHOP037', 'SHOP099', 'SHOP051', 'SHOP122',\n",
       "       'SHOP088', 'SHOP121', 'SHOP046', 'SHOP067', 'SHOP098', 'SHOP065',\n",
       "       'SHOP094', 'SHOP095', 'SHOP091', 'SHOP041', 'SHOP049', 'SHOP042',\n",
       "       'SHOP004', 'SHOP076', 'SHOP073', 'SHOP027', 'SHOP083', 'SHOP043',\n",
       "       'SHOP089', 'SHOP025', 'SHOP024', 'SHOP005', 'SHOP078', 'SHOP063',\n",
       "       'SHOP021', 'SHOP086', 'SHOP105', 'SHOP074', 'SHOP062', 'SHOP079',\n",
       "       'SHOP068', 'SHOP011', 'SHOP066', 'SHOP028', 'SHOP108', 'SHOP085',\n",
       "       'SHOP038', 'SHOP060', 'SHOP111', 'SHOP059', 'SHOP118', 'SHOP013',\n",
       "       'SHOP014', 'SHOP052', 'SHOP007', 'SHOP119', 'SHOP015', 'SHOP120',\n",
       "       'SHOP053', 'SHOP019', 'SHOP036', 'SHOP010', 'SHOP009', 'SHOP124',\n",
       "       'SHOP045', 'SHOP106', 'SHOP018', 'SHOP102', 'SHOP084', 'SHOP020',\n",
       "       'SHOP100', 'SHOP092', 'SHOP033', 'SHOP048', 'SHOP069', 'SHOP056',\n",
       "       'SHOP117', 'SHOP113', 'SHOP101', 'SHOP081', 'SHOP039', 'SHOP006',\n",
       "       'SHOP077', 'SHOP029', 'SHOP035', 'SHOP058', 'SHOP050', 'SHOP114',\n",
       "       'SHOP016', 'SHOP030', 'SHOP057', 'SHOP031', 'SHOP082', 'SHOP126',\n",
       "       'SHOP070', 'SHOP002', 'SHOP127', 'SHOP072'], dtype=object)"
      ]
     },
     "execution_count": 16,
     "metadata": {},
     "output_type": "execute_result"
    }
   ],
   "source": [
    "df.shop_id.unique()"
   ]
  },
  {
   "cell_type": "code",
   "execution_count": 17,
   "id": "9ab6acc0",
   "metadata": {
    "execution": {
     "iopub.execute_input": "2023-04-25T18:33:40.662161Z",
     "iopub.status.busy": "2023-04-25T18:33:40.661737Z",
     "iopub.status.idle": "2023-04-25T18:33:40.670681Z",
     "shell.execute_reply": "2023-04-25T18:33:40.669360Z"
    },
    "papermill": {
     "duration": 0.024817,
     "end_time": "2023-04-25T18:33:40.673399",
     "exception": false,
     "start_time": "2023-04-25T18:33:40.648582",
     "status": "completed"
    },
    "tags": []
   },
   "outputs": [],
   "source": [
    "import pandas as pd\n",
    "from sklearn.preprocessing import StandardScaler\n",
    "\n",
    "df['total_sales'] = df['item_price'] * df['quantity_sold']\n",
    "\n",
    "# scaler = StandardScaler()\n",
    "# scaled_data = scaler.fit_transform(df[['shop_area_sq_ft', 'item_price', 'quantity_sold', 'total_sales']])\n",
    "\n",
    "# df = df.drop(['shop_area_sq_ft', 'item_price', 'quantity_sold', 'total_sales'], axis=1)\n",
    "\n",
    "# scaled_df = pd.DataFrame(scaled_data, columns=['shop_area_sq_ft', 'item_price', 'quantity_sold', 'total_sales'])\n",
    "\n",
    "# df = pd.concat([df, scaled_df], axis=1)\n",
    "\n",
    "# print(df.head())"
   ]
  },
  {
   "cell_type": "code",
   "execution_count": 18,
   "id": "b9e76a23",
   "metadata": {
    "execution": {
     "iopub.execute_input": "2023-04-25T18:33:40.699434Z",
     "iopub.status.busy": "2023-04-25T18:33:40.699019Z",
     "iopub.status.idle": "2023-04-25T18:33:40.726155Z",
     "shell.execute_reply": "2023-04-25T18:33:40.724726Z"
    },
    "papermill": {
     "duration": 0.043315,
     "end_time": "2023-04-25T18:33:40.728851",
     "exception": false,
     "start_time": "2023-04-25T18:33:40.685536",
     "status": "completed"
    },
    "tags": []
   },
   "outputs": [
    {
     "data": {
      "text/html": [
       "<div>\n",
       "<style scoped>\n",
       "    .dataframe tbody tr th:only-of-type {\n",
       "        vertical-align: middle;\n",
       "    }\n",
       "\n",
       "    .dataframe tbody tr th {\n",
       "        vertical-align: top;\n",
       "    }\n",
       "\n",
       "    .dataframe thead th {\n",
       "        text-align: right;\n",
       "    }\n",
       "</style>\n",
       "<table border=\"1\" class=\"dataframe\">\n",
       "  <thead>\n",
       "    <tr style=\"text-align: right;\">\n",
       "      <th></th>\n",
       "      <th>item_description</th>\n",
       "      <th>customer_id</th>\n",
       "      <th>shop_id</th>\n",
       "      <th>item_price</th>\n",
       "      <th>quantity_sold</th>\n",
       "      <th>month</th>\n",
       "      <th>day</th>\n",
       "      <th>week</th>\n",
       "      <th>loyalty_rate</th>\n",
       "      <th>total_sales</th>\n",
       "    </tr>\n",
       "  </thead>\n",
       "  <tbody>\n",
       "    <tr>\n",
       "      <th>0</th>\n",
       "      <td>ORANGE BARLEY 1.5L</td>\n",
       "      <td>BGXA</td>\n",
       "      <td>SHOP008</td>\n",
       "      <td>220</td>\n",
       "      <td>2</td>\n",
       "      <td>12</td>\n",
       "      <td>11</td>\n",
       "      <td>49</td>\n",
       "      <td>0.058201</td>\n",
       "      <td>440</td>\n",
       "    </tr>\n",
       "    <tr>\n",
       "      <th>1</th>\n",
       "      <td>TONIC PET 500ML</td>\n",
       "      <td>VN7V</td>\n",
       "      <td>SHOP008</td>\n",
       "      <td>160</td>\n",
       "      <td>2</td>\n",
       "      <td>12</td>\n",
       "      <td>13</td>\n",
       "      <td>50</td>\n",
       "      <td>0.058201</td>\n",
       "      <td>320</td>\n",
       "    </tr>\n",
       "    <tr>\n",
       "      <th>2</th>\n",
       "      <td>CREAM SODA 1L</td>\n",
       "      <td>VN7V</td>\n",
       "      <td>SHOP008</td>\n",
       "      <td>150</td>\n",
       "      <td>2</td>\n",
       "      <td>12</td>\n",
       "      <td>13</td>\n",
       "      <td>50</td>\n",
       "      <td>0.058201</td>\n",
       "      <td>300</td>\n",
       "    </tr>\n",
       "    <tr>\n",
       "      <th>3</th>\n",
       "      <td>GINGER BEER 1.5L</td>\n",
       "      <td>VT9C</td>\n",
       "      <td>SHOP008</td>\n",
       "      <td>220</td>\n",
       "      <td>1</td>\n",
       "      <td>12</td>\n",
       "      <td>10</td>\n",
       "      <td>49</td>\n",
       "      <td>0.058201</td>\n",
       "      <td>220</td>\n",
       "    </tr>\n",
       "    <tr>\n",
       "      <th>4</th>\n",
       "      <td>GINGER BEER 1.5L</td>\n",
       "      <td>8QLS</td>\n",
       "      <td>SHOP008</td>\n",
       "      <td>440</td>\n",
       "      <td>1</td>\n",
       "      <td>12</td>\n",
       "      <td>10</td>\n",
       "      <td>49</td>\n",
       "      <td>0.058201</td>\n",
       "      <td>440</td>\n",
       "    </tr>\n",
       "  </tbody>\n",
       "</table>\n",
       "</div>"
      ],
      "text/plain": [
       "     item_description customer_id  shop_id  item_price  quantity_sold  month  \\\n",
       "0  ORANGE BARLEY 1.5L        BGXA  SHOP008         220              2     12   \n",
       "1     TONIC PET 500ML        VN7V  SHOP008         160              2     12   \n",
       "2       CREAM SODA 1L        VN7V  SHOP008         150              2     12   \n",
       "3    GINGER BEER 1.5L        VT9C  SHOP008         220              1     12   \n",
       "4    GINGER BEER 1.5L        8QLS  SHOP008         440              1     12   \n",
       "\n",
       "   day  week  loyalty_rate  total_sales  \n",
       "0   11    49      0.058201          440  \n",
       "1   13    50      0.058201          320  \n",
       "2   13    50      0.058201          300  \n",
       "3   10    49      0.058201          220  \n",
       "4   10    49      0.058201          440  "
      ]
     },
     "execution_count": 18,
     "metadata": {},
     "output_type": "execute_result"
    }
   ],
   "source": [
    "df.head()"
   ]
  },
  {
   "cell_type": "code",
   "execution_count": null,
   "id": "c8d392ba",
   "metadata": {
    "papermill": {
     "duration": 0.01204,
     "end_time": "2023-04-25T18:33:40.753130",
     "exception": false,
     "start_time": "2023-04-25T18:33:40.741090",
     "status": "completed"
    },
    "tags": []
   },
   "outputs": [],
   "source": []
  },
  {
   "cell_type": "code",
   "execution_count": null,
   "id": "5e176136",
   "metadata": {
    "papermill": {
     "duration": 0.011748,
     "end_time": "2023-04-25T18:33:40.776996",
     "exception": false,
     "start_time": "2023-04-25T18:33:40.765248",
     "status": "completed"
    },
    "tags": []
   },
   "outputs": [],
   "source": []
  },
  {
   "cell_type": "code",
   "execution_count": 19,
   "id": "d53f44af",
   "metadata": {
    "execution": {
     "iopub.execute_input": "2023-04-25T18:33:40.805136Z",
     "iopub.status.busy": "2023-04-25T18:33:40.804707Z",
     "iopub.status.idle": "2023-04-25T18:33:41.036429Z",
     "shell.execute_reply": "2023-04-25T18:33:41.035344Z"
    },
    "papermill": {
     "duration": 0.248718,
     "end_time": "2023-04-25T18:33:41.039156",
     "exception": false,
     "start_time": "2023-04-25T18:33:40.790438",
     "status": "completed"
    },
    "tags": []
   },
   "outputs": [],
   "source": [
    "# Group transactions by shop_id\n",
    "shop_transactions = df.groupby('shop_id')\n",
    "\n",
    "# Calculate summary statistics for each shop\n",
    "shop_summary = shop_transactions.agg({\n",
    "    'item_description': 'nunique', # number of unique items sold\n",
    "    'quantity_sold': 'sum', # total quantity sold\n",
    "    'total_sales': 'sum', # total sales\n",
    "})\n",
    "\n",
    "# Calculate loyalty rate mean for each shop\n",
    "loyalty_rate_mean = df.groupby('shop_id')['loyalty_rate'].mean()\n",
    "\n",
    "# Merge loyalty rate mean into shop_summary\n",
    "shop_summary = shop_summary.merge(loyalty_rate_mean, on='shop_id')\n",
    "\n",
    "# Group the data by shop and calculate the average item price\n",
    "avg_item_price = df.groupby(\"shop_id\")[\"item_price\"].mean()\n",
    "\n",
    "# Reset the index of the avg_item_price Series and rename the columns\n",
    "avg_item_price = avg_item_price.reset_index()\n",
    "avg_item_price.columns = [\"shop_id\", \"avg_item_price\"]\n",
    "\n",
    "# Merge the avg_item_price with the original DataFrame on the \"shop_id\" column\n",
    "shop_summary = shop_summary.merge(avg_item_price, on='shop_id')\n",
    "\n",
    "# Flatten column names\n",
    "shop_summary.columns = [''.join(col).strip() for col in shop_summary.columns.values]\n",
    "\n",
    "# Reset index to make shop_id a column again\n",
    "shop_summary = shop_summary.reset_index()\n"
   ]
  },
  {
   "cell_type": "code",
   "execution_count": 20,
   "id": "ea346303",
   "metadata": {
    "execution": {
     "iopub.execute_input": "2023-04-25T18:33:41.065643Z",
     "iopub.status.busy": "2023-04-25T18:33:41.065153Z",
     "iopub.status.idle": "2023-04-25T18:33:41.083313Z",
     "shell.execute_reply": "2023-04-25T18:33:41.082064Z"
    },
    "papermill": {
     "duration": 0.03436,
     "end_time": "2023-04-25T18:33:41.085762",
     "exception": false,
     "start_time": "2023-04-25T18:33:41.051402",
     "status": "completed"
    },
    "tags": []
   },
   "outputs": [
    {
     "data": {
      "text/html": [
       "<div>\n",
       "<style scoped>\n",
       "    .dataframe tbody tr th:only-of-type {\n",
       "        vertical-align: middle;\n",
       "    }\n",
       "\n",
       "    .dataframe tbody tr th {\n",
       "        vertical-align: top;\n",
       "    }\n",
       "\n",
       "    .dataframe thead th {\n",
       "        text-align: right;\n",
       "    }\n",
       "</style>\n",
       "<table border=\"1\" class=\"dataframe\">\n",
       "  <thead>\n",
       "    <tr style=\"text-align: right;\">\n",
       "      <th></th>\n",
       "      <th>index</th>\n",
       "      <th>shop_id</th>\n",
       "      <th>item_description</th>\n",
       "      <th>quantity_sold</th>\n",
       "      <th>total_sales</th>\n",
       "      <th>loyalty_rate</th>\n",
       "      <th>avg_item_price</th>\n",
       "    </tr>\n",
       "  </thead>\n",
       "  <tbody>\n",
       "    <tr>\n",
       "      <th>0</th>\n",
       "      <td>0</td>\n",
       "      <td>SHOP001</td>\n",
       "      <td>35</td>\n",
       "      <td>3942</td>\n",
       "      <td>1485285</td>\n",
       "      <td>0.228086</td>\n",
       "      <td>214.428218</td>\n",
       "    </tr>\n",
       "    <tr>\n",
       "      <th>1</th>\n",
       "      <td>1</td>\n",
       "      <td>SHOP002</td>\n",
       "      <td>35</td>\n",
       "      <td>9568</td>\n",
       "      <td>3084455</td>\n",
       "      <td>0.233605</td>\n",
       "      <td>227.111458</td>\n",
       "    </tr>\n",
       "    <tr>\n",
       "      <th>2</th>\n",
       "      <td>2</td>\n",
       "      <td>SHOP003</td>\n",
       "      <td>35</td>\n",
       "      <td>6959</td>\n",
       "      <td>1922995</td>\n",
       "      <td>0.215116</td>\n",
       "      <td>210.353922</td>\n",
       "    </tr>\n",
       "    <tr>\n",
       "      <th>3</th>\n",
       "      <td>3</td>\n",
       "      <td>SHOP004</td>\n",
       "      <td>35</td>\n",
       "      <td>6401</td>\n",
       "      <td>1571700</td>\n",
       "      <td>0.267202</td>\n",
       "      <td>205.565192</td>\n",
       "    </tr>\n",
       "    <tr>\n",
       "      <th>4</th>\n",
       "      <td>4</td>\n",
       "      <td>SHOP005</td>\n",
       "      <td>36</td>\n",
       "      <td>7784</td>\n",
       "      <td>2148520</td>\n",
       "      <td>0.256922</td>\n",
       "      <td>200.665318</td>\n",
       "    </tr>\n",
       "    <tr>\n",
       "      <th>...</th>\n",
       "      <td>...</td>\n",
       "      <td>...</td>\n",
       "      <td>...</td>\n",
       "      <td>...</td>\n",
       "      <td>...</td>\n",
       "      <td>...</td>\n",
       "      <td>...</td>\n",
       "    </tr>\n",
       "    <tr>\n",
       "      <th>119</th>\n",
       "      <td>119</td>\n",
       "      <td>SHOP123</td>\n",
       "      <td>36</td>\n",
       "      <td>3852</td>\n",
       "      <td>989775</td>\n",
       "      <td>0.231234</td>\n",
       "      <td>199.150169</td>\n",
       "    </tr>\n",
       "    <tr>\n",
       "      <th>120</th>\n",
       "      <td>120</td>\n",
       "      <td>SHOP124</td>\n",
       "      <td>35</td>\n",
       "      <td>9092</td>\n",
       "      <td>2967190</td>\n",
       "      <td>0.242438</td>\n",
       "      <td>212.094200</td>\n",
       "    </tr>\n",
       "    <tr>\n",
       "      <th>121</th>\n",
       "      <td>121</td>\n",
       "      <td>SHOP125</td>\n",
       "      <td>36</td>\n",
       "      <td>4402</td>\n",
       "      <td>1348395</td>\n",
       "      <td>0.200448</td>\n",
       "      <td>212.135584</td>\n",
       "    </tr>\n",
       "    <tr>\n",
       "      <th>122</th>\n",
       "      <td>122</td>\n",
       "      <td>SHOP126</td>\n",
       "      <td>31</td>\n",
       "      <td>6531</td>\n",
       "      <td>1893605</td>\n",
       "      <td>0.215941</td>\n",
       "      <td>203.701562</td>\n",
       "    </tr>\n",
       "    <tr>\n",
       "      <th>123</th>\n",
       "      <td>123</td>\n",
       "      <td>SHOP127</td>\n",
       "      <td>36</td>\n",
       "      <td>9129</td>\n",
       "      <td>3975045</td>\n",
       "      <td>0.183141</td>\n",
       "      <td>226.529454</td>\n",
       "    </tr>\n",
       "  </tbody>\n",
       "</table>\n",
       "<p>124 rows × 7 columns</p>\n",
       "</div>"
      ],
      "text/plain": [
       "     index  shop_id  item_description  quantity_sold  total_sales  \\\n",
       "0        0  SHOP001                35           3942      1485285   \n",
       "1        1  SHOP002                35           9568      3084455   \n",
       "2        2  SHOP003                35           6959      1922995   \n",
       "3        3  SHOP004                35           6401      1571700   \n",
       "4        4  SHOP005                36           7784      2148520   \n",
       "..     ...      ...               ...            ...          ...   \n",
       "119    119  SHOP123                36           3852       989775   \n",
       "120    120  SHOP124                35           9092      2967190   \n",
       "121    121  SHOP125                36           4402      1348395   \n",
       "122    122  SHOP126                31           6531      1893605   \n",
       "123    123  SHOP127                36           9129      3975045   \n",
       "\n",
       "     loyalty_rate  avg_item_price  \n",
       "0        0.228086      214.428218  \n",
       "1        0.233605      227.111458  \n",
       "2        0.215116      210.353922  \n",
       "3        0.267202      205.565192  \n",
       "4        0.256922      200.665318  \n",
       "..            ...             ...  \n",
       "119      0.231234      199.150169  \n",
       "120      0.242438      212.094200  \n",
       "121      0.200448      212.135584  \n",
       "122      0.215941      203.701562  \n",
       "123      0.183141      226.529454  \n",
       "\n",
       "[124 rows x 7 columns]"
      ]
     },
     "execution_count": 20,
     "metadata": {},
     "output_type": "execute_result"
    }
   ],
   "source": [
    "shop_summary"
   ]
  },
  {
   "cell_type": "code",
   "execution_count": 21,
   "id": "243cad91",
   "metadata": {
    "execution": {
     "iopub.execute_input": "2023-04-25T18:33:41.113355Z",
     "iopub.status.busy": "2023-04-25T18:33:41.112939Z",
     "iopub.status.idle": "2023-04-25T18:33:41.121757Z",
     "shell.execute_reply": "2023-04-25T18:33:41.120462Z"
    },
    "papermill": {
     "duration": 0.025318,
     "end_time": "2023-04-25T18:33:41.124042",
     "exception": false,
     "start_time": "2023-04-25T18:33:41.098724",
     "status": "completed"
    },
    "tags": []
   },
   "outputs": [],
   "source": [
    "shop_summary = pd.merge(shop_summary, store_info_data, on='shop_id')"
   ]
  },
  {
   "cell_type": "code",
   "execution_count": 22,
   "id": "7552a23a",
   "metadata": {
    "execution": {
     "iopub.execute_input": "2023-04-25T18:33:41.151133Z",
     "iopub.status.busy": "2023-04-25T18:33:41.150748Z",
     "iopub.status.idle": "2023-04-25T18:33:41.169757Z",
     "shell.execute_reply": "2023-04-25T18:33:41.168415Z"
    },
    "papermill": {
     "duration": 0.035818,
     "end_time": "2023-04-25T18:33:41.172210",
     "exception": false,
     "start_time": "2023-04-25T18:33:41.136392",
     "status": "completed"
    },
    "tags": []
   },
   "outputs": [
    {
     "data": {
      "text/html": [
       "<div>\n",
       "<style scoped>\n",
       "    .dataframe tbody tr th:only-of-type {\n",
       "        vertical-align: middle;\n",
       "    }\n",
       "\n",
       "    .dataframe tbody tr th {\n",
       "        vertical-align: top;\n",
       "    }\n",
       "\n",
       "    .dataframe thead th {\n",
       "        text-align: right;\n",
       "    }\n",
       "</style>\n",
       "<table border=\"1\" class=\"dataframe\">\n",
       "  <thead>\n",
       "    <tr style=\"text-align: right;\">\n",
       "      <th></th>\n",
       "      <th>index</th>\n",
       "      <th>shop_id</th>\n",
       "      <th>item_description</th>\n",
       "      <th>quantity_sold</th>\n",
       "      <th>total_sales</th>\n",
       "      <th>loyalty_rate</th>\n",
       "      <th>avg_item_price</th>\n",
       "      <th>shop_area_sq_ft</th>\n",
       "      <th>shop_profile</th>\n",
       "    </tr>\n",
       "  </thead>\n",
       "  <tbody>\n",
       "    <tr>\n",
       "      <th>0</th>\n",
       "      <td>0</td>\n",
       "      <td>SHOP001</td>\n",
       "      <td>35</td>\n",
       "      <td>3942</td>\n",
       "      <td>1485285</td>\n",
       "      <td>0.228086</td>\n",
       "      <td>214.428218</td>\n",
       "      <td>580</td>\n",
       "      <td>Low</td>\n",
       "    </tr>\n",
       "    <tr>\n",
       "      <th>1</th>\n",
       "      <td>1</td>\n",
       "      <td>SHOP002</td>\n",
       "      <td>35</td>\n",
       "      <td>9568</td>\n",
       "      <td>3084455</td>\n",
       "      <td>0.233605</td>\n",
       "      <td>227.111458</td>\n",
       "      <td>637</td>\n",
       "      <td>NaN</td>\n",
       "    </tr>\n",
       "    <tr>\n",
       "      <th>2</th>\n",
       "      <td>2</td>\n",
       "      <td>SHOP003</td>\n",
       "      <td>35</td>\n",
       "      <td>6959</td>\n",
       "      <td>1922995</td>\n",
       "      <td>0.215116</td>\n",
       "      <td>210.353922</td>\n",
       "      <td>810</td>\n",
       "      <td>High</td>\n",
       "    </tr>\n",
       "    <tr>\n",
       "      <th>3</th>\n",
       "      <td>3</td>\n",
       "      <td>SHOP004</td>\n",
       "      <td>35</td>\n",
       "      <td>6401</td>\n",
       "      <td>1571700</td>\n",
       "      <td>0.267202</td>\n",
       "      <td>205.565192</td>\n",
       "      <td>516</td>\n",
       "      <td>Low</td>\n",
       "    </tr>\n",
       "    <tr>\n",
       "      <th>4</th>\n",
       "      <td>4</td>\n",
       "      <td>SHOP005</td>\n",
       "      <td>36</td>\n",
       "      <td>7784</td>\n",
       "      <td>2148520</td>\n",
       "      <td>0.256922</td>\n",
       "      <td>200.665318</td>\n",
       "      <td>617</td>\n",
       "      <td>Low</td>\n",
       "    </tr>\n",
       "    <tr>\n",
       "      <th>...</th>\n",
       "      <td>...</td>\n",
       "      <td>...</td>\n",
       "      <td>...</td>\n",
       "      <td>...</td>\n",
       "      <td>...</td>\n",
       "      <td>...</td>\n",
       "      <td>...</td>\n",
       "      <td>...</td>\n",
       "      <td>...</td>\n",
       "    </tr>\n",
       "    <tr>\n",
       "      <th>119</th>\n",
       "      <td>119</td>\n",
       "      <td>SHOP123</td>\n",
       "      <td>36</td>\n",
       "      <td>3852</td>\n",
       "      <td>989775</td>\n",
       "      <td>0.231234</td>\n",
       "      <td>199.150169</td>\n",
       "      <td>735</td>\n",
       "      <td>Moderate</td>\n",
       "    </tr>\n",
       "    <tr>\n",
       "      <th>120</th>\n",
       "      <td>120</td>\n",
       "      <td>SHOP124</td>\n",
       "      <td>35</td>\n",
       "      <td>9092</td>\n",
       "      <td>2967190</td>\n",
       "      <td>0.242438</td>\n",
       "      <td>212.094200</td>\n",
       "      <td>606</td>\n",
       "      <td>High</td>\n",
       "    </tr>\n",
       "    <tr>\n",
       "      <th>121</th>\n",
       "      <td>121</td>\n",
       "      <td>SHOP125</td>\n",
       "      <td>36</td>\n",
       "      <td>4402</td>\n",
       "      <td>1348395</td>\n",
       "      <td>0.200448</td>\n",
       "      <td>212.135584</td>\n",
       "      <td>1028</td>\n",
       "      <td>High</td>\n",
       "    </tr>\n",
       "    <tr>\n",
       "      <th>122</th>\n",
       "      <td>122</td>\n",
       "      <td>SHOP126</td>\n",
       "      <td>31</td>\n",
       "      <td>6531</td>\n",
       "      <td>1893605</td>\n",
       "      <td>0.215941</td>\n",
       "      <td>203.701562</td>\n",
       "      <td>328</td>\n",
       "      <td>Moderate</td>\n",
       "    </tr>\n",
       "    <tr>\n",
       "      <th>123</th>\n",
       "      <td>123</td>\n",
       "      <td>SHOP127</td>\n",
       "      <td>36</td>\n",
       "      <td>9129</td>\n",
       "      <td>3975045</td>\n",
       "      <td>0.183141</td>\n",
       "      <td>226.529454</td>\n",
       "      <td>848</td>\n",
       "      <td>High</td>\n",
       "    </tr>\n",
       "  </tbody>\n",
       "</table>\n",
       "<p>124 rows × 9 columns</p>\n",
       "</div>"
      ],
      "text/plain": [
       "     index  shop_id  item_description  quantity_sold  total_sales  \\\n",
       "0        0  SHOP001                35           3942      1485285   \n",
       "1        1  SHOP002                35           9568      3084455   \n",
       "2        2  SHOP003                35           6959      1922995   \n",
       "3        3  SHOP004                35           6401      1571700   \n",
       "4        4  SHOP005                36           7784      2148520   \n",
       "..     ...      ...               ...            ...          ...   \n",
       "119    119  SHOP123                36           3852       989775   \n",
       "120    120  SHOP124                35           9092      2967190   \n",
       "121    121  SHOP125                36           4402      1348395   \n",
       "122    122  SHOP126                31           6531      1893605   \n",
       "123    123  SHOP127                36           9129      3975045   \n",
       "\n",
       "     loyalty_rate  avg_item_price  shop_area_sq_ft shop_profile  \n",
       "0        0.228086      214.428218              580          Low  \n",
       "1        0.233605      227.111458              637          NaN  \n",
       "2        0.215116      210.353922              810         High  \n",
       "3        0.267202      205.565192              516          Low  \n",
       "4        0.256922      200.665318              617          Low  \n",
       "..            ...             ...              ...          ...  \n",
       "119      0.231234      199.150169              735     Moderate  \n",
       "120      0.242438      212.094200              606         High  \n",
       "121      0.200448      212.135584             1028         High  \n",
       "122      0.215941      203.701562              328     Moderate  \n",
       "123      0.183141      226.529454              848         High  \n",
       "\n",
       "[124 rows x 9 columns]"
      ]
     },
     "execution_count": 22,
     "metadata": {},
     "output_type": "execute_result"
    }
   ],
   "source": [
    "shop_summary"
   ]
  },
  {
   "cell_type": "code",
   "execution_count": null,
   "id": "0c7868cb",
   "metadata": {
    "papermill": {
     "duration": 0.012361,
     "end_time": "2023-04-25T18:33:41.197326",
     "exception": false,
     "start_time": "2023-04-25T18:33:41.184965",
     "status": "completed"
    },
    "tags": []
   },
   "outputs": [],
   "source": []
  },
  {
   "cell_type": "code",
   "execution_count": null,
   "id": "ccaf035c",
   "metadata": {
    "papermill": {
     "duration": 0.012427,
     "end_time": "2023-04-25T18:33:41.222372",
     "exception": false,
     "start_time": "2023-04-25T18:33:41.209945",
     "status": "completed"
    },
    "tags": []
   },
   "outputs": [],
   "source": []
  },
  {
   "cell_type": "code",
   "execution_count": 23,
   "id": "b9f5089a",
   "metadata": {
    "execution": {
     "iopub.execute_input": "2023-04-25T18:33:41.249866Z",
     "iopub.status.busy": "2023-04-25T18:33:41.249100Z",
     "iopub.status.idle": "2023-04-25T18:33:41.268229Z",
     "shell.execute_reply": "2023-04-25T18:33:41.266947Z"
    },
    "papermill": {
     "duration": 0.03605,
     "end_time": "2023-04-25T18:33:41.270980",
     "exception": false,
     "start_time": "2023-04-25T18:33:41.234930",
     "status": "completed"
    },
    "tags": []
   },
   "outputs": [
    {
     "data": {
      "text/html": [
       "<div>\n",
       "<style scoped>\n",
       "    .dataframe tbody tr th:only-of-type {\n",
       "        vertical-align: middle;\n",
       "    }\n",
       "\n",
       "    .dataframe tbody tr th {\n",
       "        vertical-align: top;\n",
       "    }\n",
       "\n",
       "    .dataframe thead th {\n",
       "        text-align: right;\n",
       "    }\n",
       "</style>\n",
       "<table border=\"1\" class=\"dataframe\">\n",
       "  <thead>\n",
       "    <tr style=\"text-align: right;\">\n",
       "      <th></th>\n",
       "      <th>index</th>\n",
       "      <th>shop_id</th>\n",
       "      <th>item_description</th>\n",
       "      <th>quantity_sold</th>\n",
       "      <th>total_sales</th>\n",
       "      <th>loyalty_rate</th>\n",
       "      <th>avg_item_price</th>\n",
       "      <th>shop_area_sq_ft</th>\n",
       "      <th>shop_profile</th>\n",
       "    </tr>\n",
       "  </thead>\n",
       "  <tbody>\n",
       "    <tr>\n",
       "      <th>0</th>\n",
       "      <td>0</td>\n",
       "      <td>SHOP001</td>\n",
       "      <td>35</td>\n",
       "      <td>3942</td>\n",
       "      <td>1485285</td>\n",
       "      <td>0.228086</td>\n",
       "      <td>214.428218</td>\n",
       "      <td>580</td>\n",
       "      <td>Low</td>\n",
       "    </tr>\n",
       "    <tr>\n",
       "      <th>1</th>\n",
       "      <td>1</td>\n",
       "      <td>SHOP002</td>\n",
       "      <td>35</td>\n",
       "      <td>9568</td>\n",
       "      <td>3084455</td>\n",
       "      <td>0.233605</td>\n",
       "      <td>227.111458</td>\n",
       "      <td>637</td>\n",
       "      <td>NaN</td>\n",
       "    </tr>\n",
       "    <tr>\n",
       "      <th>2</th>\n",
       "      <td>2</td>\n",
       "      <td>SHOP003</td>\n",
       "      <td>35</td>\n",
       "      <td>6959</td>\n",
       "      <td>1922995</td>\n",
       "      <td>0.215116</td>\n",
       "      <td>210.353922</td>\n",
       "      <td>810</td>\n",
       "      <td>High</td>\n",
       "    </tr>\n",
       "    <tr>\n",
       "      <th>3</th>\n",
       "      <td>3</td>\n",
       "      <td>SHOP004</td>\n",
       "      <td>35</td>\n",
       "      <td>6401</td>\n",
       "      <td>1571700</td>\n",
       "      <td>0.267202</td>\n",
       "      <td>205.565192</td>\n",
       "      <td>516</td>\n",
       "      <td>Low</td>\n",
       "    </tr>\n",
       "    <tr>\n",
       "      <th>4</th>\n",
       "      <td>4</td>\n",
       "      <td>SHOP005</td>\n",
       "      <td>36</td>\n",
       "      <td>7784</td>\n",
       "      <td>2148520</td>\n",
       "      <td>0.256922</td>\n",
       "      <td>200.665318</td>\n",
       "      <td>617</td>\n",
       "      <td>Low</td>\n",
       "    </tr>\n",
       "    <tr>\n",
       "      <th>...</th>\n",
       "      <td>...</td>\n",
       "      <td>...</td>\n",
       "      <td>...</td>\n",
       "      <td>...</td>\n",
       "      <td>...</td>\n",
       "      <td>...</td>\n",
       "      <td>...</td>\n",
       "      <td>...</td>\n",
       "      <td>...</td>\n",
       "    </tr>\n",
       "    <tr>\n",
       "      <th>119</th>\n",
       "      <td>119</td>\n",
       "      <td>SHOP123</td>\n",
       "      <td>36</td>\n",
       "      <td>3852</td>\n",
       "      <td>989775</td>\n",
       "      <td>0.231234</td>\n",
       "      <td>199.150169</td>\n",
       "      <td>735</td>\n",
       "      <td>Moderate</td>\n",
       "    </tr>\n",
       "    <tr>\n",
       "      <th>120</th>\n",
       "      <td>120</td>\n",
       "      <td>SHOP124</td>\n",
       "      <td>35</td>\n",
       "      <td>9092</td>\n",
       "      <td>2967190</td>\n",
       "      <td>0.242438</td>\n",
       "      <td>212.094200</td>\n",
       "      <td>606</td>\n",
       "      <td>High</td>\n",
       "    </tr>\n",
       "    <tr>\n",
       "      <th>121</th>\n",
       "      <td>121</td>\n",
       "      <td>SHOP125</td>\n",
       "      <td>36</td>\n",
       "      <td>4402</td>\n",
       "      <td>1348395</td>\n",
       "      <td>0.200448</td>\n",
       "      <td>212.135584</td>\n",
       "      <td>1028</td>\n",
       "      <td>High</td>\n",
       "    </tr>\n",
       "    <tr>\n",
       "      <th>122</th>\n",
       "      <td>122</td>\n",
       "      <td>SHOP126</td>\n",
       "      <td>31</td>\n",
       "      <td>6531</td>\n",
       "      <td>1893605</td>\n",
       "      <td>0.215941</td>\n",
       "      <td>203.701562</td>\n",
       "      <td>328</td>\n",
       "      <td>Moderate</td>\n",
       "    </tr>\n",
       "    <tr>\n",
       "      <th>123</th>\n",
       "      <td>123</td>\n",
       "      <td>SHOP127</td>\n",
       "      <td>36</td>\n",
       "      <td>9129</td>\n",
       "      <td>3975045</td>\n",
       "      <td>0.183141</td>\n",
       "      <td>226.529454</td>\n",
       "      <td>848</td>\n",
       "      <td>High</td>\n",
       "    </tr>\n",
       "  </tbody>\n",
       "</table>\n",
       "<p>124 rows × 9 columns</p>\n",
       "</div>"
      ],
      "text/plain": [
       "     index  shop_id  item_description  quantity_sold  total_sales  \\\n",
       "0        0  SHOP001                35           3942      1485285   \n",
       "1        1  SHOP002                35           9568      3084455   \n",
       "2        2  SHOP003                35           6959      1922995   \n",
       "3        3  SHOP004                35           6401      1571700   \n",
       "4        4  SHOP005                36           7784      2148520   \n",
       "..     ...      ...               ...            ...          ...   \n",
       "119    119  SHOP123                36           3852       989775   \n",
       "120    120  SHOP124                35           9092      2967190   \n",
       "121    121  SHOP125                36           4402      1348395   \n",
       "122    122  SHOP126                31           6531      1893605   \n",
       "123    123  SHOP127                36           9129      3975045   \n",
       "\n",
       "     loyalty_rate  avg_item_price  shop_area_sq_ft shop_profile  \n",
       "0        0.228086      214.428218              580          Low  \n",
       "1        0.233605      227.111458              637          NaN  \n",
       "2        0.215116      210.353922              810         High  \n",
       "3        0.267202      205.565192              516          Low  \n",
       "4        0.256922      200.665318              617          Low  \n",
       "..            ...             ...              ...          ...  \n",
       "119      0.231234      199.150169              735     Moderate  \n",
       "120      0.242438      212.094200              606         High  \n",
       "121      0.200448      212.135584             1028         High  \n",
       "122      0.215941      203.701562              328     Moderate  \n",
       "123      0.183141      226.529454              848         High  \n",
       "\n",
       "[124 rows x 9 columns]"
      ]
     },
     "execution_count": 23,
     "metadata": {},
     "output_type": "execute_result"
    }
   ],
   "source": [
    "shop_summary"
   ]
  },
  {
   "cell_type": "code",
   "execution_count": 24,
   "id": "b4a71011",
   "metadata": {
    "execution": {
     "iopub.execute_input": "2023-04-25T18:33:41.300227Z",
     "iopub.status.busy": "2023-04-25T18:33:41.299408Z",
     "iopub.status.idle": "2023-04-25T18:33:41.306605Z",
     "shell.execute_reply": "2023-04-25T18:33:41.305225Z"
    },
    "papermill": {
     "duration": 0.025025,
     "end_time": "2023-04-25T18:33:41.309438",
     "exception": false,
     "start_time": "2023-04-25T18:33:41.284413",
     "status": "completed"
    },
    "tags": []
   },
   "outputs": [],
   "source": [
    "shop_summary['sales_per_feet'] = shop_summary['total_sales'] / shop_summary['shop_area_sq_ft']"
   ]
  },
  {
   "cell_type": "code",
   "execution_count": 25,
   "id": "5e174c9c",
   "metadata": {
    "execution": {
     "iopub.execute_input": "2023-04-25T18:33:41.337993Z",
     "iopub.status.busy": "2023-04-25T18:33:41.337556Z",
     "iopub.status.idle": "2023-04-25T18:33:41.358680Z",
     "shell.execute_reply": "2023-04-25T18:33:41.357363Z"
    },
    "papermill": {
     "duration": 0.038232,
     "end_time": "2023-04-25T18:33:41.361160",
     "exception": false,
     "start_time": "2023-04-25T18:33:41.322928",
     "status": "completed"
    },
    "scrolled": true,
    "tags": []
   },
   "outputs": [
    {
     "data": {
      "text/html": [
       "<div>\n",
       "<style scoped>\n",
       "    .dataframe tbody tr th:only-of-type {\n",
       "        vertical-align: middle;\n",
       "    }\n",
       "\n",
       "    .dataframe tbody tr th {\n",
       "        vertical-align: top;\n",
       "    }\n",
       "\n",
       "    .dataframe thead th {\n",
       "        text-align: right;\n",
       "    }\n",
       "</style>\n",
       "<table border=\"1\" class=\"dataframe\">\n",
       "  <thead>\n",
       "    <tr style=\"text-align: right;\">\n",
       "      <th></th>\n",
       "      <th>index</th>\n",
       "      <th>shop_id</th>\n",
       "      <th>item_description</th>\n",
       "      <th>quantity_sold</th>\n",
       "      <th>total_sales</th>\n",
       "      <th>loyalty_rate</th>\n",
       "      <th>avg_item_price</th>\n",
       "      <th>shop_area_sq_ft</th>\n",
       "      <th>shop_profile</th>\n",
       "      <th>sales_per_feet</th>\n",
       "    </tr>\n",
       "  </thead>\n",
       "  <tbody>\n",
       "    <tr>\n",
       "      <th>0</th>\n",
       "      <td>0</td>\n",
       "      <td>SHOP001</td>\n",
       "      <td>35</td>\n",
       "      <td>3942</td>\n",
       "      <td>1485285</td>\n",
       "      <td>0.228086</td>\n",
       "      <td>214.428218</td>\n",
       "      <td>580</td>\n",
       "      <td>Low</td>\n",
       "      <td>2560.836207</td>\n",
       "    </tr>\n",
       "    <tr>\n",
       "      <th>1</th>\n",
       "      <td>1</td>\n",
       "      <td>SHOP002</td>\n",
       "      <td>35</td>\n",
       "      <td>9568</td>\n",
       "      <td>3084455</td>\n",
       "      <td>0.233605</td>\n",
       "      <td>227.111458</td>\n",
       "      <td>637</td>\n",
       "      <td>NaN</td>\n",
       "      <td>4842.158556</td>\n",
       "    </tr>\n",
       "    <tr>\n",
       "      <th>2</th>\n",
       "      <td>2</td>\n",
       "      <td>SHOP003</td>\n",
       "      <td>35</td>\n",
       "      <td>6959</td>\n",
       "      <td>1922995</td>\n",
       "      <td>0.215116</td>\n",
       "      <td>210.353922</td>\n",
       "      <td>810</td>\n",
       "      <td>High</td>\n",
       "      <td>2374.067901</td>\n",
       "    </tr>\n",
       "    <tr>\n",
       "      <th>3</th>\n",
       "      <td>3</td>\n",
       "      <td>SHOP004</td>\n",
       "      <td>35</td>\n",
       "      <td>6401</td>\n",
       "      <td>1571700</td>\n",
       "      <td>0.267202</td>\n",
       "      <td>205.565192</td>\n",
       "      <td>516</td>\n",
       "      <td>Low</td>\n",
       "      <td>3045.930233</td>\n",
       "    </tr>\n",
       "    <tr>\n",
       "      <th>4</th>\n",
       "      <td>4</td>\n",
       "      <td>SHOP005</td>\n",
       "      <td>36</td>\n",
       "      <td>7784</td>\n",
       "      <td>2148520</td>\n",
       "      <td>0.256922</td>\n",
       "      <td>200.665318</td>\n",
       "      <td>617</td>\n",
       "      <td>Low</td>\n",
       "      <td>3482.204214</td>\n",
       "    </tr>\n",
       "    <tr>\n",
       "      <th>...</th>\n",
       "      <td>...</td>\n",
       "      <td>...</td>\n",
       "      <td>...</td>\n",
       "      <td>...</td>\n",
       "      <td>...</td>\n",
       "      <td>...</td>\n",
       "      <td>...</td>\n",
       "      <td>...</td>\n",
       "      <td>...</td>\n",
       "      <td>...</td>\n",
       "    </tr>\n",
       "    <tr>\n",
       "      <th>119</th>\n",
       "      <td>119</td>\n",
       "      <td>SHOP123</td>\n",
       "      <td>36</td>\n",
       "      <td>3852</td>\n",
       "      <td>989775</td>\n",
       "      <td>0.231234</td>\n",
       "      <td>199.150169</td>\n",
       "      <td>735</td>\n",
       "      <td>Moderate</td>\n",
       "      <td>1346.632653</td>\n",
       "    </tr>\n",
       "    <tr>\n",
       "      <th>120</th>\n",
       "      <td>120</td>\n",
       "      <td>SHOP124</td>\n",
       "      <td>35</td>\n",
       "      <td>9092</td>\n",
       "      <td>2967190</td>\n",
       "      <td>0.242438</td>\n",
       "      <td>212.094200</td>\n",
       "      <td>606</td>\n",
       "      <td>High</td>\n",
       "      <td>4896.353135</td>\n",
       "    </tr>\n",
       "    <tr>\n",
       "      <th>121</th>\n",
       "      <td>121</td>\n",
       "      <td>SHOP125</td>\n",
       "      <td>36</td>\n",
       "      <td>4402</td>\n",
       "      <td>1348395</td>\n",
       "      <td>0.200448</td>\n",
       "      <td>212.135584</td>\n",
       "      <td>1028</td>\n",
       "      <td>High</td>\n",
       "      <td>1311.668288</td>\n",
       "    </tr>\n",
       "    <tr>\n",
       "      <th>122</th>\n",
       "      <td>122</td>\n",
       "      <td>SHOP126</td>\n",
       "      <td>31</td>\n",
       "      <td>6531</td>\n",
       "      <td>1893605</td>\n",
       "      <td>0.215941</td>\n",
       "      <td>203.701562</td>\n",
       "      <td>328</td>\n",
       "      <td>Moderate</td>\n",
       "      <td>5773.185976</td>\n",
       "    </tr>\n",
       "    <tr>\n",
       "      <th>123</th>\n",
       "      <td>123</td>\n",
       "      <td>SHOP127</td>\n",
       "      <td>36</td>\n",
       "      <td>9129</td>\n",
       "      <td>3975045</td>\n",
       "      <td>0.183141</td>\n",
       "      <td>226.529454</td>\n",
       "      <td>848</td>\n",
       "      <td>High</td>\n",
       "      <td>4687.553066</td>\n",
       "    </tr>\n",
       "  </tbody>\n",
       "</table>\n",
       "<p>124 rows × 10 columns</p>\n",
       "</div>"
      ],
      "text/plain": [
       "     index  shop_id  item_description  quantity_sold  total_sales  \\\n",
       "0        0  SHOP001                35           3942      1485285   \n",
       "1        1  SHOP002                35           9568      3084455   \n",
       "2        2  SHOP003                35           6959      1922995   \n",
       "3        3  SHOP004                35           6401      1571700   \n",
       "4        4  SHOP005                36           7784      2148520   \n",
       "..     ...      ...               ...            ...          ...   \n",
       "119    119  SHOP123                36           3852       989775   \n",
       "120    120  SHOP124                35           9092      2967190   \n",
       "121    121  SHOP125                36           4402      1348395   \n",
       "122    122  SHOP126                31           6531      1893605   \n",
       "123    123  SHOP127                36           9129      3975045   \n",
       "\n",
       "     loyalty_rate  avg_item_price  shop_area_sq_ft shop_profile  \\\n",
       "0        0.228086      214.428218              580          Low   \n",
       "1        0.233605      227.111458              637          NaN   \n",
       "2        0.215116      210.353922              810         High   \n",
       "3        0.267202      205.565192              516          Low   \n",
       "4        0.256922      200.665318              617          Low   \n",
       "..            ...             ...              ...          ...   \n",
       "119      0.231234      199.150169              735     Moderate   \n",
       "120      0.242438      212.094200              606         High   \n",
       "121      0.200448      212.135584             1028         High   \n",
       "122      0.215941      203.701562              328     Moderate   \n",
       "123      0.183141      226.529454              848         High   \n",
       "\n",
       "     sales_per_feet  \n",
       "0       2560.836207  \n",
       "1       4842.158556  \n",
       "2       2374.067901  \n",
       "3       3045.930233  \n",
       "4       3482.204214  \n",
       "..              ...  \n",
       "119     1346.632653  \n",
       "120     4896.353135  \n",
       "121     1311.668288  \n",
       "122     5773.185976  \n",
       "123     4687.553066  \n",
       "\n",
       "[124 rows x 10 columns]"
      ]
     },
     "execution_count": 25,
     "metadata": {},
     "output_type": "execute_result"
    }
   ],
   "source": [
    "shop_summary"
   ]
  },
  {
   "cell_type": "code",
   "execution_count": 26,
   "id": "90469a37",
   "metadata": {
    "execution": {
     "iopub.execute_input": "2023-04-25T18:33:41.390120Z",
     "iopub.status.busy": "2023-04-25T18:33:41.389668Z",
     "iopub.status.idle": "2023-04-25T18:33:41.398920Z",
     "shell.execute_reply": "2023-04-25T18:33:41.397702Z"
    },
    "papermill": {
     "duration": 0.026713,
     "end_time": "2023-04-25T18:33:41.401205",
     "exception": false,
     "start_time": "2023-04-25T18:33:41.374492",
     "status": "completed"
    },
    "tags": []
   },
   "outputs": [
    {
     "data": {
      "text/plain": [
       "array([35, 36, 31, 32, 33])"
      ]
     },
     "execution_count": 26,
     "metadata": {},
     "output_type": "execute_result"
    }
   ],
   "source": [
    "shop_summary.item_description.unique()"
   ]
  },
  {
   "cell_type": "code",
   "execution_count": 27,
   "id": "4f09c1cc",
   "metadata": {
    "execution": {
     "iopub.execute_input": "2023-04-25T18:33:41.429924Z",
     "iopub.status.busy": "2023-04-25T18:33:41.429479Z",
     "iopub.status.idle": "2023-04-25T18:33:41.445322Z",
     "shell.execute_reply": "2023-04-25T18:33:41.443979Z"
    },
    "papermill": {
     "duration": 0.033225,
     "end_time": "2023-04-25T18:33:41.447804",
     "exception": false,
     "start_time": "2023-04-25T18:33:41.414579",
     "status": "completed"
    },
    "tags": []
   },
   "outputs": [],
   "source": [
    "scaler = StandardScaler()\n",
    "scaled_data = scaler.fit_transform(shop_summary[['quantity_sold', 'total_sales','shop_area_sq_ft', \"avg_item_price\",'sales_per_feet','loyalty_rate']])\n",
    "\n",
    "shop_summary = shop_summary.drop(['quantity_sold', 'total_sales','shop_area_sq_ft','sales_per_feet', \"avg_item_price\",'loyalty_rate'], axis=1)\n",
    "\n",
    "scaled_df = pd.DataFrame(scaled_data, columns=['quantity_sold', 'total_sales', 'shop_area_sq_ft', \"avg_item_price\",'sales_per_feet','loyalty_rate'])\n",
    "\n",
    "shop_summary = pd.concat([shop_summary, scaled_df], axis=1)"
   ]
  },
  {
   "cell_type": "code",
   "execution_count": 28,
   "id": "13c18fe3",
   "metadata": {
    "execution": {
     "iopub.execute_input": "2023-04-25T18:33:41.477690Z",
     "iopub.status.busy": "2023-04-25T18:33:41.476517Z",
     "iopub.status.idle": "2023-04-25T18:33:41.483736Z",
     "shell.execute_reply": "2023-04-25T18:33:41.482816Z"
    },
    "papermill": {
     "duration": 0.024811,
     "end_time": "2023-04-25T18:33:41.486363",
     "exception": false,
     "start_time": "2023-04-25T18:33:41.461552",
     "status": "completed"
    },
    "tags": []
   },
   "outputs": [],
   "source": [
    "df_test = shop_summary[shop_summary['shop_profile'].isnull()]\n",
    "df_test =  df_test.reset_index(drop=True)"
   ]
  },
  {
   "cell_type": "code",
   "execution_count": 29,
   "id": "a81fdac9",
   "metadata": {
    "execution": {
     "iopub.execute_input": "2023-04-25T18:33:41.516342Z",
     "iopub.status.busy": "2023-04-25T18:33:41.515879Z",
     "iopub.status.idle": "2023-04-25T18:33:41.522900Z",
     "shell.execute_reply": "2023-04-25T18:33:41.521602Z"
    },
    "papermill": {
     "duration": 0.024913,
     "end_time": "2023-04-25T18:33:41.525338",
     "exception": false,
     "start_time": "2023-04-25T18:33:41.500425",
     "status": "completed"
    },
    "tags": []
   },
   "outputs": [],
   "source": [
    "df_train = shop_summary[shop_summary['shop_profile'].notnull()]\n",
    "df_train =  df_train.reset_index(drop=True)"
   ]
  },
  {
   "cell_type": "code",
   "execution_count": 30,
   "id": "195d33ed",
   "metadata": {
    "execution": {
     "iopub.execute_input": "2023-04-25T18:33:41.555071Z",
     "iopub.status.busy": "2023-04-25T18:33:41.553896Z",
     "iopub.status.idle": "2023-04-25T18:33:41.560577Z",
     "shell.execute_reply": "2023-04-25T18:33:41.559547Z"
    },
    "papermill": {
     "duration": 0.023835,
     "end_time": "2023-04-25T18:33:41.562938",
     "exception": false,
     "start_time": "2023-04-25T18:33:41.539103",
     "status": "completed"
    },
    "tags": []
   },
   "outputs": [],
   "source": [
    "df_x = df_train.drop('shop_profile', axis =1)\n",
    "df_y = df_train['shop_profile']"
   ]
  },
  {
   "cell_type": "code",
   "execution_count": 31,
   "id": "bb954989",
   "metadata": {
    "execution": {
     "iopub.execute_input": "2023-04-25T18:33:41.591246Z",
     "iopub.status.busy": "2023-04-25T18:33:41.590832Z",
     "iopub.status.idle": "2023-04-25T18:33:41.597137Z",
     "shell.execute_reply": "2023-04-25T18:33:41.596023Z"
    },
    "papermill": {
     "duration": 0.023271,
     "end_time": "2023-04-25T18:33:41.599586",
     "exception": false,
     "start_time": "2023-04-25T18:33:41.576315",
     "status": "completed"
    },
    "tags": []
   },
   "outputs": [],
   "source": [
    "df_x = df_x[['shop_id', 'sales_per_feet', \"avg_item_price\",'loyalty_rate']]"
   ]
  },
  {
   "cell_type": "code",
   "execution_count": 32,
   "id": "2b07bc24",
   "metadata": {
    "execution": {
     "iopub.execute_input": "2023-04-25T18:33:41.628428Z",
     "iopub.status.busy": "2023-04-25T18:33:41.627952Z",
     "iopub.status.idle": "2023-04-25T18:33:41.635930Z",
     "shell.execute_reply": "2023-04-25T18:33:41.634521Z"
    },
    "papermill": {
     "duration": 0.025209,
     "end_time": "2023-04-25T18:33:41.638199",
     "exception": false,
     "start_time": "2023-04-25T18:33:41.612990",
     "status": "completed"
    },
    "tags": []
   },
   "outputs": [],
   "source": [
    "df1_x = df_test.drop('shop_profile', axis =1)\n",
    "df1_x = df1_x[['shop_id','sales_per_feet', \"avg_item_price\",'loyalty_rate']]"
   ]
  },
  {
   "cell_type": "code",
   "execution_count": 33,
   "id": "578fdec9",
   "metadata": {
    "execution": {
     "iopub.execute_input": "2023-04-25T18:33:41.666881Z",
     "iopub.status.busy": "2023-04-25T18:33:41.666484Z",
     "iopub.status.idle": "2023-04-25T18:33:41.674202Z",
     "shell.execute_reply": "2023-04-25T18:33:41.673127Z"
    },
    "papermill": {
     "duration": 0.025312,
     "end_time": "2023-04-25T18:33:41.677085",
     "exception": false,
     "start_time": "2023-04-25T18:33:41.651773",
     "status": "completed"
    },
    "tags": []
   },
   "outputs": [],
   "source": [
    "X_train = df_x.drop('shop_id', axis =1 )\n",
    "X_test = df1_x.drop('shop_id', axis =1 )\n",
    "# X_train = df_x\n",
    "# X_test = df1_x"
   ]
  },
  {
   "cell_type": "code",
   "execution_count": 34,
   "id": "abe3c143",
   "metadata": {
    "execution": {
     "iopub.execute_input": "2023-04-25T18:33:41.706026Z",
     "iopub.status.busy": "2023-04-25T18:33:41.705642Z",
     "iopub.status.idle": "2023-04-25T18:33:41.710604Z",
     "shell.execute_reply": "2023-04-25T18:33:41.709431Z"
    },
    "papermill": {
     "duration": 0.022361,
     "end_time": "2023-04-25T18:33:41.712833",
     "exception": false,
     "start_time": "2023-04-25T18:33:41.690472",
     "status": "completed"
    },
    "tags": []
   },
   "outputs": [],
   "source": [
    "# np.random.seed(123) \n",
    "\n",
    "# X_train, X_test, y_train, y_test = train_test_split(df_x, df_y,\n",
    "#                                                    test_size= 0.2,\n",
    "#                                                    shuffle= True, #shuffle the data to avoid bias\n",
    "#                                                    random_state= 5)\n",
    "\n",
    "# print(f'training set size: {X_train.shape[0]} samples \\ntest set size: {X_test.shape[0]} samples')\n",
    "\n",
    "y_train = df_y"
   ]
  },
  {
   "cell_type": "code",
   "execution_count": 35,
   "id": "cd9d9215",
   "metadata": {
    "execution": {
     "iopub.execute_input": "2023-04-25T18:33:41.741430Z",
     "iopub.status.busy": "2023-04-25T18:33:41.740957Z",
     "iopub.status.idle": "2023-04-25T18:33:41.754732Z",
     "shell.execute_reply": "2023-04-25T18:33:41.753855Z"
    },
    "papermill": {
     "duration": 0.030668,
     "end_time": "2023-04-25T18:33:41.756886",
     "exception": false,
     "start_time": "2023-04-25T18:33:41.726218",
     "status": "completed"
    },
    "tags": []
   },
   "outputs": [
    {
     "data": {
      "text/html": [
       "<div>\n",
       "<style scoped>\n",
       "    .dataframe tbody tr th:only-of-type {\n",
       "        vertical-align: middle;\n",
       "    }\n",
       "\n",
       "    .dataframe tbody tr th {\n",
       "        vertical-align: top;\n",
       "    }\n",
       "\n",
       "    .dataframe thead th {\n",
       "        text-align: right;\n",
       "    }\n",
       "</style>\n",
       "<table border=\"1\" class=\"dataframe\">\n",
       "  <thead>\n",
       "    <tr style=\"text-align: right;\">\n",
       "      <th></th>\n",
       "      <th>sales_per_feet</th>\n",
       "      <th>avg_item_price</th>\n",
       "      <th>loyalty_rate</th>\n",
       "    </tr>\n",
       "  </thead>\n",
       "  <tbody>\n",
       "    <tr>\n",
       "      <th>0</th>\n",
       "      <td>0.773431</td>\n",
       "      <td>1.283619</td>\n",
       "      <td>-0.068856</td>\n",
       "    </tr>\n",
       "    <tr>\n",
       "      <th>1</th>\n",
       "      <td>1.097912</td>\n",
       "      <td>1.791746</td>\n",
       "      <td>1.427703</td>\n",
       "    </tr>\n",
       "    <tr>\n",
       "      <th>2</th>\n",
       "      <td>0.344960</td>\n",
       "      <td>0.706167</td>\n",
       "      <td>-0.357302</td>\n",
       "    </tr>\n",
       "    <tr>\n",
       "      <th>3</th>\n",
       "      <td>-1.068113</td>\n",
       "      <td>-0.747022</td>\n",
       "      <td>0.204964</td>\n",
       "    </tr>\n",
       "    <tr>\n",
       "      <th>4</th>\n",
       "      <td>-0.199885</td>\n",
       "      <td>0.047733</td>\n",
       "      <td>-0.470205</td>\n",
       "    </tr>\n",
       "    <tr>\n",
       "      <th>5</th>\n",
       "      <td>1.128119</td>\n",
       "      <td>2.093147</td>\n",
       "      <td>2.039288</td>\n",
       "    </tr>\n",
       "    <tr>\n",
       "      <th>6</th>\n",
       "      <td>-0.068561</td>\n",
       "      <td>-0.251637</td>\n",
       "      <td>0.473480</td>\n",
       "    </tr>\n",
       "    <tr>\n",
       "      <th>7</th>\n",
       "      <td>-1.133576</td>\n",
       "      <td>-0.558368</td>\n",
       "      <td>-1.111133</td>\n",
       "    </tr>\n",
       "    <tr>\n",
       "      <th>8</th>\n",
       "      <td>0.737257</td>\n",
       "      <td>0.782262</td>\n",
       "      <td>1.052182</td>\n",
       "    </tr>\n",
       "    <tr>\n",
       "      <th>9</th>\n",
       "      <td>1.404033</td>\n",
       "      <td>1.819606</td>\n",
       "      <td>3.075457</td>\n",
       "    </tr>\n",
       "    <tr>\n",
       "      <th>10</th>\n",
       "      <td>0.914643</td>\n",
       "      <td>0.047204</td>\n",
       "      <td>0.671979</td>\n",
       "    </tr>\n",
       "    <tr>\n",
       "      <th>11</th>\n",
       "      <td>-0.381413</td>\n",
       "      <td>1.163197</td>\n",
       "      <td>-0.475192</td>\n",
       "    </tr>\n",
       "    <tr>\n",
       "      <th>12</th>\n",
       "      <td>-1.052857</td>\n",
       "      <td>0.382345</td>\n",
       "      <td>1.229334</td>\n",
       "    </tr>\n",
       "    <tr>\n",
       "      <th>13</th>\n",
       "      <td>0.384312</td>\n",
       "      <td>-0.000171</td>\n",
       "      <td>-0.083826</td>\n",
       "    </tr>\n",
       "    <tr>\n",
       "      <th>14</th>\n",
       "      <td>-0.160907</td>\n",
       "      <td>0.217132</td>\n",
       "      <td>-0.009328</td>\n",
       "    </tr>\n",
       "    <tr>\n",
       "      <th>15</th>\n",
       "      <td>-0.781927</td>\n",
       "      <td>1.146734</td>\n",
       "      <td>-0.735493</td>\n",
       "    </tr>\n",
       "    <tr>\n",
       "      <th>16</th>\n",
       "      <td>-0.602108</td>\n",
       "      <td>-0.919989</td>\n",
       "      <td>-2.257693</td>\n",
       "    </tr>\n",
       "    <tr>\n",
       "      <th>17</th>\n",
       "      <td>-0.937507</td>\n",
       "      <td>0.627353</td>\n",
       "      <td>-0.068719</td>\n",
       "    </tr>\n",
       "    <tr>\n",
       "      <th>18</th>\n",
       "      <td>-0.280702</td>\n",
       "      <td>-0.755922</td>\n",
       "      <td>-1.245869</td>\n",
       "    </tr>\n",
       "    <tr>\n",
       "      <th>19</th>\n",
       "      <td>0.143132</td>\n",
       "      <td>0.680028</td>\n",
       "      <td>0.855541</td>\n",
       "    </tr>\n",
       "    <tr>\n",
       "      <th>20</th>\n",
       "      <td>3.106450</td>\n",
       "      <td>1.654639</td>\n",
       "      <td>0.253121</td>\n",
       "    </tr>\n",
       "    <tr>\n",
       "      <th>21</th>\n",
       "      <td>0.469569</td>\n",
       "      <td>0.403190</td>\n",
       "      <td>0.037535</td>\n",
       "    </tr>\n",
       "    <tr>\n",
       "      <th>22</th>\n",
       "      <td>-0.325760</td>\n",
       "      <td>0.033725</td>\n",
       "      <td>0.688491</td>\n",
       "    </tr>\n",
       "    <tr>\n",
       "      <th>23</th>\n",
       "      <td>0.337777</td>\n",
       "      <td>-0.962494</td>\n",
       "      <td>-1.314171</td>\n",
       "    </tr>\n",
       "  </tbody>\n",
       "</table>\n",
       "</div>"
      ],
      "text/plain": [
       "    sales_per_feet  avg_item_price  loyalty_rate\n",
       "0         0.773431        1.283619     -0.068856\n",
       "1         1.097912        1.791746      1.427703\n",
       "2         0.344960        0.706167     -0.357302\n",
       "3        -1.068113       -0.747022      0.204964\n",
       "4        -0.199885        0.047733     -0.470205\n",
       "5         1.128119        2.093147      2.039288\n",
       "6        -0.068561       -0.251637      0.473480\n",
       "7        -1.133576       -0.558368     -1.111133\n",
       "8         0.737257        0.782262      1.052182\n",
       "9         1.404033        1.819606      3.075457\n",
       "10        0.914643        0.047204      0.671979\n",
       "11       -0.381413        1.163197     -0.475192\n",
       "12       -1.052857        0.382345      1.229334\n",
       "13        0.384312       -0.000171     -0.083826\n",
       "14       -0.160907        0.217132     -0.009328\n",
       "15       -0.781927        1.146734     -0.735493\n",
       "16       -0.602108       -0.919989     -2.257693\n",
       "17       -0.937507        0.627353     -0.068719\n",
       "18       -0.280702       -0.755922     -1.245869\n",
       "19        0.143132        0.680028      0.855541\n",
       "20        3.106450        1.654639      0.253121\n",
       "21        0.469569        0.403190      0.037535\n",
       "22       -0.325760        0.033725      0.688491\n",
       "23        0.337777       -0.962494     -1.314171"
      ]
     },
     "execution_count": 35,
     "metadata": {},
     "output_type": "execute_result"
    }
   ],
   "source": [
    "X_test"
   ]
  },
  {
   "cell_type": "code",
   "execution_count": 36,
   "id": "eec34aaf",
   "metadata": {
    "execution": {
     "iopub.execute_input": "2023-04-25T18:33:41.787256Z",
     "iopub.status.busy": "2023-04-25T18:33:41.786853Z",
     "iopub.status.idle": "2023-04-25T18:33:41.949558Z",
     "shell.execute_reply": "2023-04-25T18:33:41.948190Z"
    },
    "papermill": {
     "duration": 0.181303,
     "end_time": "2023-04-25T18:33:41.952469",
     "exception": false,
     "start_time": "2023-04-25T18:33:41.771166",
     "status": "completed"
    },
    "tags": []
   },
   "outputs": [],
   "source": [
    "randomForest = RandomForestClassifier(max_depth=16, min_samples_split=2, min_samples_leaf=1)\n",
    "# n_estimators = 100, max_depth=16, min_samples_split=2, min_samples_leaf=1\n",
    "\n",
    "randomForest.fit(X_train, y_train)\n",
    "y_pred = randomForest.predict(X_test)"
   ]
  },
  {
   "cell_type": "code",
   "execution_count": 37,
   "id": "34070473",
   "metadata": {
    "execution": {
     "iopub.execute_input": "2023-04-25T18:33:41.982101Z",
     "iopub.status.busy": "2023-04-25T18:33:41.981664Z",
     "iopub.status.idle": "2023-04-25T18:33:41.986703Z",
     "shell.execute_reply": "2023-04-25T18:33:41.985377Z"
    },
    "papermill": {
     "duration": 0.022903,
     "end_time": "2023-04-25T18:33:41.989137",
     "exception": false,
     "start_time": "2023-04-25T18:33:41.966234",
     "status": "completed"
    },
    "tags": []
   },
   "outputs": [],
   "source": [
    "# import xgboost as xgb\n",
    "# from sklearn.datasets import load_breast_cancer\n",
    "# from sklearn.model_selection import train_test_split\n",
    "# from sklearn.metrics import accuracy_score, precision_score, recall_score, f1_score\n",
    "\n",
    "# model = xgb.XGBClassifier()\n",
    "\n",
    "# model.fit(X_train, y_train)\n",
    "\n",
    "# y_pred = model.predict(X_test)"
   ]
  },
  {
   "cell_type": "code",
   "execution_count": 38,
   "id": "6f549063",
   "metadata": {
    "execution": {
     "iopub.execute_input": "2023-04-25T18:33:42.018445Z",
     "iopub.status.busy": "2023-04-25T18:33:42.017568Z",
     "iopub.status.idle": "2023-04-25T18:33:42.025073Z",
     "shell.execute_reply": "2023-04-25T18:33:42.023320Z"
    },
    "papermill": {
     "duration": 0.025029,
     "end_time": "2023-04-25T18:33:42.027818",
     "exception": false,
     "start_time": "2023-04-25T18:33:42.002789",
     "status": "completed"
    },
    "scrolled": true,
    "tags": []
   },
   "outputs": [],
   "source": [
    "shop_profile = pd.DataFrame({'shop_profile': y_pred})\n",
    "\n",
    "df_concat = pd.concat([df1_x, shop_profile], axis=1)\n"
   ]
  },
  {
   "cell_type": "code",
   "execution_count": 39,
   "id": "fab7c731",
   "metadata": {
    "execution": {
     "iopub.execute_input": "2023-04-25T18:33:42.057897Z",
     "iopub.status.busy": "2023-04-25T18:33:42.057153Z",
     "iopub.status.idle": "2023-04-25T18:33:42.064267Z",
     "shell.execute_reply": "2023-04-25T18:33:42.063052Z"
    },
    "papermill": {
     "duration": 0.024763,
     "end_time": "2023-04-25T18:33:42.066618",
     "exception": false,
     "start_time": "2023-04-25T18:33:42.041855",
     "status": "completed"
    },
    "tags": []
   },
   "outputs": [],
   "source": [
    "output = df_concat[['shop_id','shop_profile']]"
   ]
  },
  {
   "cell_type": "code",
   "execution_count": 40,
   "id": "705e974d",
   "metadata": {
    "execution": {
     "iopub.execute_input": "2023-04-25T18:33:42.097193Z",
     "iopub.status.busy": "2023-04-25T18:33:42.095906Z",
     "iopub.status.idle": "2023-04-25T18:33:42.108710Z",
     "shell.execute_reply": "2023-04-25T18:33:42.107529Z"
    },
    "papermill": {
     "duration": 0.030269,
     "end_time": "2023-04-25T18:33:42.110955",
     "exception": false,
     "start_time": "2023-04-25T18:33:42.080686",
     "status": "completed"
    },
    "tags": []
   },
   "outputs": [
    {
     "data": {
      "text/html": [
       "<div>\n",
       "<style scoped>\n",
       "    .dataframe tbody tr th:only-of-type {\n",
       "        vertical-align: middle;\n",
       "    }\n",
       "\n",
       "    .dataframe tbody tr th {\n",
       "        vertical-align: top;\n",
       "    }\n",
       "\n",
       "    .dataframe thead th {\n",
       "        text-align: right;\n",
       "    }\n",
       "</style>\n",
       "<table border=\"1\" class=\"dataframe\">\n",
       "  <thead>\n",
       "    <tr style=\"text-align: right;\">\n",
       "      <th></th>\n",
       "      <th>shop_id</th>\n",
       "      <th>shop_profile</th>\n",
       "    </tr>\n",
       "  </thead>\n",
       "  <tbody>\n",
       "    <tr>\n",
       "      <th>0</th>\n",
       "      <td>SHOP002</td>\n",
       "      <td>Moderate</td>\n",
       "    </tr>\n",
       "    <tr>\n",
       "      <th>1</th>\n",
       "      <td>SHOP019</td>\n",
       "      <td>Moderate</td>\n",
       "    </tr>\n",
       "    <tr>\n",
       "      <th>2</th>\n",
       "      <td>SHOP023</td>\n",
       "      <td>Moderate</td>\n",
       "    </tr>\n",
       "    <tr>\n",
       "      <th>3</th>\n",
       "      <td>SHOP024</td>\n",
       "      <td>Moderate</td>\n",
       "    </tr>\n",
       "    <tr>\n",
       "      <th>4</th>\n",
       "      <td>SHOP029</td>\n",
       "      <td>High</td>\n",
       "    </tr>\n",
       "    <tr>\n",
       "      <th>5</th>\n",
       "      <td>SHOP030</td>\n",
       "      <td>Low</td>\n",
       "    </tr>\n",
       "    <tr>\n",
       "      <th>6</th>\n",
       "      <td>SHOP038</td>\n",
       "      <td>Low</td>\n",
       "    </tr>\n",
       "    <tr>\n",
       "      <th>7</th>\n",
       "      <td>SHOP044</td>\n",
       "      <td>Moderate</td>\n",
       "    </tr>\n",
       "    <tr>\n",
       "      <th>8</th>\n",
       "      <td>SHOP046</td>\n",
       "      <td>Moderate</td>\n",
       "    </tr>\n",
       "    <tr>\n",
       "      <th>9</th>\n",
       "      <td>SHOP050</td>\n",
       "      <td>Low</td>\n",
       "    </tr>\n",
       "    <tr>\n",
       "      <th>10</th>\n",
       "      <td>SHOP056</td>\n",
       "      <td>High</td>\n",
       "    </tr>\n",
       "    <tr>\n",
       "      <th>11</th>\n",
       "      <td>SHOP061</td>\n",
       "      <td>Moderate</td>\n",
       "    </tr>\n",
       "    <tr>\n",
       "      <th>12</th>\n",
       "      <td>SHOP070</td>\n",
       "      <td>Moderate</td>\n",
       "    </tr>\n",
       "    <tr>\n",
       "      <th>13</th>\n",
       "      <td>SHOP074</td>\n",
       "      <td>High</td>\n",
       "    </tr>\n",
       "    <tr>\n",
       "      <th>14</th>\n",
       "      <td>SHOP076</td>\n",
       "      <td>High</td>\n",
       "    </tr>\n",
       "    <tr>\n",
       "      <th>15</th>\n",
       "      <td>SHOP080</td>\n",
       "      <td>High</td>\n",
       "    </tr>\n",
       "    <tr>\n",
       "      <th>16</th>\n",
       "      <td>SHOP081</td>\n",
       "      <td>High</td>\n",
       "    </tr>\n",
       "    <tr>\n",
       "      <th>17</th>\n",
       "      <td>SHOP087</td>\n",
       "      <td>Low</td>\n",
       "    </tr>\n",
       "    <tr>\n",
       "      <th>18</th>\n",
       "      <td>SHOP092</td>\n",
       "      <td>Moderate</td>\n",
       "    </tr>\n",
       "    <tr>\n",
       "      <th>19</th>\n",
       "      <td>SHOP096</td>\n",
       "      <td>Low</td>\n",
       "    </tr>\n",
       "    <tr>\n",
       "      <th>20</th>\n",
       "      <td>SHOP097</td>\n",
       "      <td>High</td>\n",
       "    </tr>\n",
       "    <tr>\n",
       "      <th>21</th>\n",
       "      <td>SHOP107</td>\n",
       "      <td>Low</td>\n",
       "    </tr>\n",
       "    <tr>\n",
       "      <th>22</th>\n",
       "      <td>SHOP108</td>\n",
       "      <td>Low</td>\n",
       "    </tr>\n",
       "    <tr>\n",
       "      <th>23</th>\n",
       "      <td>SHOP114</td>\n",
       "      <td>High</td>\n",
       "    </tr>\n",
       "  </tbody>\n",
       "</table>\n",
       "</div>"
      ],
      "text/plain": [
       "    shop_id shop_profile\n",
       "0   SHOP002     Moderate\n",
       "1   SHOP019     Moderate\n",
       "2   SHOP023     Moderate\n",
       "3   SHOP024     Moderate\n",
       "4   SHOP029         High\n",
       "5   SHOP030          Low\n",
       "6   SHOP038          Low\n",
       "7   SHOP044     Moderate\n",
       "8   SHOP046     Moderate\n",
       "9   SHOP050          Low\n",
       "10  SHOP056         High\n",
       "11  SHOP061     Moderate\n",
       "12  SHOP070     Moderate\n",
       "13  SHOP074         High\n",
       "14  SHOP076         High\n",
       "15  SHOP080         High\n",
       "16  SHOP081         High\n",
       "17  SHOP087          Low\n",
       "18  SHOP092     Moderate\n",
       "19  SHOP096          Low\n",
       "20  SHOP097         High\n",
       "21  SHOP107          Low\n",
       "22  SHOP108          Low\n",
       "23  SHOP114         High"
      ]
     },
     "execution_count": 40,
     "metadata": {},
     "output_type": "execute_result"
    }
   ],
   "source": [
    "output"
   ]
  },
  {
   "cell_type": "code",
   "execution_count": 41,
   "id": "8f1327e3",
   "metadata": {
    "execution": {
     "iopub.execute_input": "2023-04-25T18:33:42.141228Z",
     "iopub.status.busy": "2023-04-25T18:33:42.140764Z",
     "iopub.status.idle": "2023-04-25T18:33:42.152076Z",
     "shell.execute_reply": "2023-04-25T18:33:42.150696Z"
    },
    "papermill": {
     "duration": 0.029591,
     "end_time": "2023-04-25T18:33:42.154655",
     "exception": false,
     "start_time": "2023-04-25T18:33:42.125064",
     "status": "completed"
    },
    "tags": []
   },
   "outputs": [],
   "source": [
    "# Save test predictions to file\n",
    "\n",
    "output.to_csv('submission.csv', index=False)"
   ]
  },
  {
   "cell_type": "code",
   "execution_count": 42,
   "id": "311be461",
   "metadata": {
    "execution": {
     "iopub.execute_input": "2023-04-25T18:33:42.184891Z",
     "iopub.status.busy": "2023-04-25T18:33:42.184430Z",
     "iopub.status.idle": "2023-04-25T18:33:42.189482Z",
     "shell.execute_reply": "2023-04-25T18:33:42.188213Z"
    },
    "papermill": {
     "duration": 0.023246,
     "end_time": "2023-04-25T18:33:42.192225",
     "exception": false,
     "start_time": "2023-04-25T18:33:42.168979",
     "status": "completed"
    },
    "tags": []
   },
   "outputs": [],
   "source": [
    "# accuracy = accuracy_score(y_test, y_pred)\n",
    "# precision = precision_score(y_test, y_pred, average='weighted')\n",
    "# recall = recall_score(y_test, y_pred, average='weighted')\n",
    "# f1score = f1_score(y_test, y_pred, average='weighted')\n",
    "\n",
    "# print(\"Accuracy:\", accuracy)\n",
    "# print(\"Precision:\", precision)\n",
    "# print(\"Recall:\", recall)\n",
    "# print(\"F1-score:\", f1score)"
   ]
  },
  {
   "cell_type": "code",
   "execution_count": 43,
   "id": "4ee398e4",
   "metadata": {
    "execution": {
     "iopub.execute_input": "2023-04-25T18:33:42.222316Z",
     "iopub.status.busy": "2023-04-25T18:33:42.221913Z",
     "iopub.status.idle": "2023-04-25T18:33:42.226879Z",
     "shell.execute_reply": "2023-04-25T18:33:42.225692Z"
    },
    "papermill": {
     "duration": 0.022756,
     "end_time": "2023-04-25T18:33:42.229159",
     "exception": false,
     "start_time": "2023-04-25T18:33:42.206403",
     "status": "completed"
    },
    "tags": []
   },
   "outputs": [],
   "source": [
    "# from sklearn.datasets import load_iris\n",
    "# from sklearn.model_selection import cross_val_score\n",
    "# from sklearn.neighbors import KNeighborsClassifier\n",
    "\n",
    "# knn = KNeighborsClassifier(n_neighbors=5)\n",
    "\n",
    "# # Fit the model to the training data\n",
    "# knn.fit(X_train, y_train)\n",
    "\n",
    "# # Use the fitted model to make predictions on the test data\n",
    "# y_pred = knn.predict(X_test)"
   ]
  },
  {
   "cell_type": "code",
   "execution_count": 44,
   "id": "531c4176",
   "metadata": {
    "execution": {
     "iopub.execute_input": "2023-04-25T18:33:42.259372Z",
     "iopub.status.busy": "2023-04-25T18:33:42.258932Z",
     "iopub.status.idle": "2023-04-25T18:33:42.264342Z",
     "shell.execute_reply": "2023-04-25T18:33:42.263109Z"
    },
    "papermill": {
     "duration": 0.023442,
     "end_time": "2023-04-25T18:33:42.266941",
     "exception": false,
     "start_time": "2023-04-25T18:33:42.243499",
     "status": "completed"
    },
    "tags": []
   },
   "outputs": [],
   "source": [
    "# accuracy = accuracy_score(y_test, y_pred)\n",
    "# precision = precision_score(y_test, y_pred, average='weighted')\n",
    "# recall = recall_score(y_test, y_pred, average='weighted')\n",
    "# f1score = f1_score(y_test, y_pred, average='weighted')\n",
    "\n",
    "# print(\"Accuracy:\", accuracy)\n",
    "# print(\"Precision:\", precision)\n",
    "# print(\"Recall:\", recall)\n",
    "# print(\"F1-score:\", f1score)"
   ]
  },
  {
   "cell_type": "code",
   "execution_count": 45,
   "id": "12c83c36",
   "metadata": {
    "execution": {
     "iopub.execute_input": "2023-04-25T18:33:42.297409Z",
     "iopub.status.busy": "2023-04-25T18:33:42.296985Z",
     "iopub.status.idle": "2023-04-25T18:33:42.302568Z",
     "shell.execute_reply": "2023-04-25T18:33:42.301182Z"
    },
    "papermill": {
     "duration": 0.023876,
     "end_time": "2023-04-25T18:33:42.305265",
     "exception": false,
     "start_time": "2023-04-25T18:33:42.281389",
     "status": "completed"
    },
    "tags": []
   },
   "outputs": [],
   "source": [
    "# max_depths = [2*i for i in range(1,15)]\n",
    "# min_samples_splits = [2,4,8]\n",
    "# min_samples_leafs =  [1,2,4]\n",
    "# n_estimator = 100\n",
    "# best_score = 0\n",
    "\n",
    "# for max_depth in max_depths:\n",
    "#     for min_samples_split in min_samples_splits:\n",
    "#         for min_samples_leaf in min_samples_leafs:\n",
    "#             random_forest = RandomForestClassifier( max_depth=max_depth, min_samples_split=min_samples_split, min_samples_leaf=min_samples_leaf)\n",
    "\n",
    "#             accuracy_list = cross_val_score(random_forest, df_x, df_y, cv=5)\n",
    "#             accuracy = accuracy_list.mean()\n",
    "\n",
    "#             if accuracy > best_score:\n",
    "#                 best_score = accuracy\n",
    "#                 best_params = {'max_depth': max_depth, 'min_samples_split': min_samples_split, 'min_samples_leaf': min_samples_leaf}\n",
    "#                 print(f'Best hyperparameters: {best_params}')\n",
    "#                 print(f'Accuracy: {best_score}')\n",
    "\n",
    "\n",
    "# print(f'Best hyperparameters: {best_params}')\n",
    "# print(f'Accuracy: {best_score}')"
   ]
  },
  {
   "cell_type": "code",
   "execution_count": null,
   "id": "91580c00",
   "metadata": {
    "papermill": {
     "duration": 0.013472,
     "end_time": "2023-04-25T18:33:42.332831",
     "exception": false,
     "start_time": "2023-04-25T18:33:42.319359",
     "status": "completed"
    },
    "tags": []
   },
   "outputs": [],
   "source": []
  }
 ],
 "metadata": {
  "kernelspec": {
   "display_name": "Python 3",
   "language": "python",
   "name": "python3"
  },
  "language_info": {
   "codemirror_mode": {
    "name": "ipython",
    "version": 3
   },
   "file_extension": ".py",
   "mimetype": "text/x-python",
   "name": "python",
   "nbconvert_exporter": "python",
   "pygments_lexer": "ipython3",
   "version": "3.7.12"
  },
  "papermill": {
   "default_parameters": {},
   "duration": 25.863513,
   "end_time": "2023-04-25T18:33:43.169897",
   "environment_variables": {},
   "exception": null,
   "input_path": "__notebook__.ipynb",
   "output_path": "__notebook__.ipynb",
   "parameters": {},
   "start_time": "2023-04-25T18:33:17.306384",
   "version": "2.4.0"
  }
 },
 "nbformat": 4,
 "nbformat_minor": 5
}
