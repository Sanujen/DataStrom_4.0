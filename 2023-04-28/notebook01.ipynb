{
 "cells": [
  {
   "cell_type": "code",
   "execution_count": 1,
   "id": "b5c7c2d8",
   "metadata": {
    "_cell_guid": "b1076dfc-b9ad-4769-8c92-a6c4dae69d19",
    "_uuid": "8f2839f25d086af736a60e9eeb907d3b93b6e0e5",
    "execution": {
     "iopub.execute_input": "2023-04-28T14:52:10.136034Z",
     "iopub.status.busy": "2023-04-28T14:52:10.135499Z",
     "iopub.status.idle": "2023-04-28T14:52:11.863573Z",
     "shell.execute_reply": "2023-04-28T14:52:11.862259Z"
    },
    "papermill": {
     "duration": 1.751877,
     "end_time": "2023-04-28T14:52:11.866830",
     "exception": false,
     "start_time": "2023-04-28T14:52:10.114953",
     "status": "completed"
    },
    "tags": []
   },
   "outputs": [
    {
     "name": "stdout",
     "output_type": "stream",
     "text": [
      "/kaggle/input/data-storm-4/Data-dictionary.xlsx\n",
      "/kaggle/input/data-storm-4/DataStorm4.0_KaggleProblemStatement.pdf\n",
      "/kaggle/input/data-storm-4/Store-info.csv\n",
      "/kaggle/input/data-storm-4/Testing-data.csv\n",
      "/kaggle/input/data-storm-4/Historical-transaction-data.csv\n"
     ]
    }
   ],
   "source": [
    "# This Python 3 environment comes with many helpful analytics libraries installed\n",
    "# It is defined by the kaggle/python Docker image: https://github.com/kaggle/docker-python\n",
    "# For example, here's several helpful packages to load\n",
    "\n",
    "import numpy as np\n",
    "import pandas as pd\n",
    "import matplotlib.pyplot as plt\n",
    "import seaborn as sns\n",
    "#%matplotlib inline\n",
    "sns.set()\n",
    "from sklearn.feature_selection import mutual_info_regression\n",
    "import seaborn as sns\n",
    "from sklearn.model_selection import train_test_split\n",
    "from sklearn.preprocessing import StandardScaler\n",
    "from sklearn.ensemble import RandomForestClassifier\n",
    "from sklearn.tree import DecisionTreeClassifier\n",
    "from sklearn.model_selection import cross_val_score\n",
    "from sklearn.metrics import accuracy_score\n",
    "from sklearn.metrics import accuracy_score, precision_score, recall_score, f1_score\n",
    "from sklearn.preprocessing import LabelEncoder\n",
    "# Input data files are available in the read-only \"../input/\" directory\n",
    "# For example, running this (by clicking run or pressing Shift+Enter) will list all files under the input directory\n",
    "\n",
    "import os\n",
    "for dirname, _, filenames in os.walk('/kaggle/input'):\n",
    "    for filename in filenames:\n",
    "        print(os.path.join(dirname, filename))\n",
    "\n",
    "# You can write up to 20GB to the current directory (/kaggle/working/) that gets preserved as output when you create a version using \"Save & Run All\" \n",
    "# You can also write temporary files to /kaggle/temp/, but they won't be saved outside of the current session"
   ]
  },
  {
   "cell_type": "code",
   "execution_count": 2,
   "id": "b453fa28",
   "metadata": {
    "execution": {
     "iopub.execute_input": "2023-04-28T14:52:11.901786Z",
     "iopub.status.busy": "2023-04-28T14:52:11.901388Z",
     "iopub.status.idle": "2023-04-28T14:52:12.913460Z",
     "shell.execute_reply": "2023-04-28T14:52:12.912344Z"
    },
    "papermill": {
     "duration": 1.032843,
     "end_time": "2023-04-28T14:52:12.916352",
     "exception": false,
     "start_time": "2023-04-28T14:52:11.883509",
     "status": "completed"
    },
    "tags": []
   },
   "outputs": [],
   "source": [
    "df = pd.read_csv('/kaggle/input/data-storm-4/Historical-transaction-data.csv')\n",
    "store_info_data = pd.read_csv('/kaggle/input/data-storm-4/Store-info.csv')\n",
    "test_data = pd.read_csv('/kaggle/input/data-storm-4/Testing-data.csv')\n",
    "# /kaggle/input/data-storm-4/"
   ]
  },
  {
   "cell_type": "code",
   "execution_count": 3,
   "id": "efbd9da1",
   "metadata": {
    "execution": {
     "iopub.execute_input": "2023-04-28T14:52:12.953534Z",
     "iopub.status.busy": "2023-04-28T14:52:12.951564Z",
     "iopub.status.idle": "2023-04-28T14:52:12.957138Z",
     "shell.execute_reply": "2023-04-28T14:52:12.956179Z"
    },
    "papermill": {
     "duration": 0.026808,
     "end_time": "2023-04-28T14:52:12.959561",
     "exception": false,
     "start_time": "2023-04-28T14:52:12.932753",
     "status": "completed"
    },
    "tags": []
   },
   "outputs": [],
   "source": [
    "# df = df[df['quantity_sold'] > 0]"
   ]
  },
  {
   "cell_type": "code",
   "execution_count": 4,
   "id": "f8d6e330",
   "metadata": {
    "execution": {
     "iopub.execute_input": "2023-04-28T14:52:12.992878Z",
     "iopub.status.busy": "2023-04-28T14:52:12.992484Z",
     "iopub.status.idle": "2023-04-28T14:52:13.292473Z",
     "shell.execute_reply": "2023-04-28T14:52:13.291412Z"
    },
    "papermill": {
     "duration": 0.320005,
     "end_time": "2023-04-28T14:52:13.295431",
     "exception": false,
     "start_time": "2023-04-28T14:52:12.975426",
     "status": "completed"
    },
    "tags": []
   },
   "outputs": [],
   "source": [
    "df = df[~df['customer_id'].str.contains('-')]"
   ]
  },
  {
   "cell_type": "code",
   "execution_count": 5,
   "id": "259480ac",
   "metadata": {
    "execution": {
     "iopub.execute_input": "2023-04-28T14:52:13.329579Z",
     "iopub.status.busy": "2023-04-28T14:52:13.329158Z",
     "iopub.status.idle": "2023-04-28T14:52:13.333566Z",
     "shell.execute_reply": "2023-04-28T14:52:13.332369Z"
    },
    "papermill": {
     "duration": 0.024536,
     "end_time": "2023-04-28T14:52:13.336026",
     "exception": false,
     "start_time": "2023-04-28T14:52:13.311490",
     "status": "completed"
    },
    "tags": []
   },
   "outputs": [],
   "source": [
    "# # Create a mapping between item_price values and item_description values\n",
    "# price_to_description = df.groupby('item_description')['item_price'].apply(lambda x: x.mode()[0]).to_dict()\n",
    "\n",
    "# # Fill missing values in 'item_description' column using mapping\n",
    "# df['item_description'].fillna(df['item_price'].map(price_to_description), inplace=True)"
   ]
  },
  {
   "cell_type": "code",
   "execution_count": 6,
   "id": "6725c9af",
   "metadata": {
    "execution": {
     "iopub.execute_input": "2023-04-28T14:52:13.369932Z",
     "iopub.status.busy": "2023-04-28T14:52:13.369537Z",
     "iopub.status.idle": "2023-04-28T14:52:13.610365Z",
     "shell.execute_reply": "2023-04-28T14:52:13.609333Z"
    },
    "papermill": {
     "duration": 0.261647,
     "end_time": "2023-04-28T14:52:13.613656",
     "exception": false,
     "start_time": "2023-04-28T14:52:13.352009",
     "status": "completed"
    },
    "tags": []
   },
   "outputs": [],
   "source": [
    "# df.dropna()\n",
    "df.fillna(method='ffill',inplace=True)\n",
    "df['quantity_sold'] = df.quantity_sold.abs()\n",
    "\n",
    "df = df[df['quantity_sold'] > 0]"
   ]
  },
  {
   "cell_type": "code",
   "execution_count": 7,
   "id": "9b7be6b6",
   "metadata": {
    "execution": {
     "iopub.execute_input": "2023-04-28T14:52:13.648269Z",
     "iopub.status.busy": "2023-04-28T14:52:13.647842Z",
     "iopub.status.idle": "2023-04-28T14:52:14.349695Z",
     "shell.execute_reply": "2023-04-28T14:52:14.348620Z"
    },
    "papermill": {
     "duration": 0.722982,
     "end_time": "2023-04-28T14:52:14.352617",
     "exception": false,
     "start_time": "2023-04-28T14:52:13.629635",
     "status": "completed"
    },
    "tags": []
   },
   "outputs": [],
   "source": [
    "df[df.duplicated()].shape[0]\n",
    "df.drop_duplicates(inplace=True)"
   ]
  },
  {
   "cell_type": "code",
   "execution_count": 8,
   "id": "e61479d4",
   "metadata": {
    "execution": {
     "iopub.execute_input": "2023-04-28T14:52:14.387221Z",
     "iopub.status.busy": "2023-04-28T14:52:14.386740Z",
     "iopub.status.idle": "2023-04-28T14:52:14.518352Z",
     "shell.execute_reply": "2023-04-28T14:52:14.517338Z"
    },
    "papermill": {
     "duration": 0.152476,
     "end_time": "2023-04-28T14:52:14.521556",
     "exception": false,
     "start_time": "2023-04-28T14:52:14.369080",
     "status": "completed"
    },
    "tags": []
   },
   "outputs": [],
   "source": [
    "# Group transactions by item description\n",
    "grouped = df.groupby('item_description')\n",
    "\n",
    "# Add a new column for item price with the mode value of each group\n",
    "df['item_price'] = grouped['item_price'].transform(lambda x: x.mode()[0])"
   ]
  },
  {
   "cell_type": "code",
   "execution_count": 9,
   "id": "eb6559fa",
   "metadata": {
    "execution": {
     "iopub.execute_input": "2023-04-28T14:52:14.555258Z",
     "iopub.status.busy": "2023-04-28T14:52:14.554772Z",
     "iopub.status.idle": "2023-04-28T14:52:21.705620Z",
     "shell.execute_reply": "2023-04-28T14:52:21.704456Z"
    },
    "papermill": {
     "duration": 7.171163,
     "end_time": "2023-04-28T14:52:21.708738",
     "exception": false,
     "start_time": "2023-04-28T14:52:14.537575",
     "status": "completed"
    },
    "tags": []
   },
   "outputs": [],
   "source": [
    "from datetime import datetime\n",
    "\n",
    "def extract_date(date_str):\n",
    "    date_obj = datetime.strptime(date_str, \"%Y-%m-%dT%H:%M:%S.%fZ\")\n",
    "    return date_obj.strftime(\"%Y-%m-%d\")\n",
    "\n",
    "df[\"transaction_date\"] = df[\"transaction_date\"].apply(extract_date)\n",
    "\n",
    "# Convert the date column to a Pandas datetime object\n",
    "df[\"transaction_date\"] = pd.to_datetime(df[\"transaction_date\"])\n",
    "\n",
    "# Extract the year, month, day, and week of the year into separate columns\n",
    "df[\"month\"] = df[\"transaction_date\"].dt.month\n",
    "df[\"day\"] = df[\"transaction_date\"].dt.day\n",
    "df[\"week\"] = df[\"transaction_date\"].dt.isocalendar().week"
   ]
  },
  {
   "cell_type": "code",
   "execution_count": 10,
   "id": "82ab0eff",
   "metadata": {
    "execution": {
     "iopub.execute_input": "2023-04-28T14:52:21.743488Z",
     "iopub.status.busy": "2023-04-28T14:52:21.742652Z",
     "iopub.status.idle": "2023-04-28T14:52:22.537734Z",
     "shell.execute_reply": "2023-04-28T14:52:22.536528Z"
    },
    "papermill": {
     "duration": 0.815456,
     "end_time": "2023-04-28T14:52:22.540408",
     "exception": false,
     "start_time": "2023-04-28T14:52:21.724952",
     "status": "completed"
    },
    "tags": []
   },
   "outputs": [],
   "source": [
    "# Group the data by shop and customer, and count the number of transactions\n",
    "transactions = df.groupby([\"shop_id\", \"customer_id\"])[\"invoice_id\"].nunique()\n",
    "\n",
    "# Count the number of customers who made more than one transaction at each shop\n",
    "repeat_customers = transactions[transactions > 1].groupby(\"shop_id\").count()\n",
    "\n",
    "# Count the total number of unique customers who made a transaction at each shop\n",
    "total_customers = transactions.groupby(\"shop_id\").count()\n",
    "\n",
    "total_invoices = transactions.groupby(\"shop_id\").sum()\n",
    "\n",
    "# Calculate the customer loyalty rate for each shop\n",
    "loyalty_rate = repeat_customers / total_customers\n",
    "\n",
    "# Reset the index of the loyalty_rate Series and rename the columns\n",
    "loyalty_rate = loyalty_rate.reset_index()\n",
    "loyalty_rate.columns = [\"shop_id\", \"loyalty_rate\"]\n",
    "\n",
    "# Merge the loyalty rate with the original DataFrame on the \"shop_id\" column\n",
    "df = pd.merge(df, loyalty_rate, on=\"shop_id\")"
   ]
  },
  {
   "cell_type": "code",
   "execution_count": 11,
   "id": "410abec1",
   "metadata": {
    "execution": {
     "iopub.execute_input": "2023-04-28T14:52:22.574532Z",
     "iopub.status.busy": "2023-04-28T14:52:22.574106Z",
     "iopub.status.idle": "2023-04-28T14:52:22.585181Z",
     "shell.execute_reply": "2023-04-28T14:52:22.584105Z"
    },
    "papermill": {
     "duration": 0.031604,
     "end_time": "2023-04-28T14:52:22.588049",
     "exception": false,
     "start_time": "2023-04-28T14:52:22.556445",
     "status": "completed"
    },
    "tags": []
   },
   "outputs": [],
   "source": [
    "total_customers = total_customers.reset_index()\n",
    "\n",
    "total_customers.columns = [\"shop_id\", \"no_customers\"]\n",
    "\n",
    "\n",
    "total_invoices = total_invoices.reset_index()\n",
    "\n",
    "total_invoices.columns = [\"shop_id\", \"no_invoices\"]\n",
    "\n",
    "number = pd.merge(total_customers, total_invoices, on=\"shop_id\")"
   ]
  },
  {
   "cell_type": "code",
   "execution_count": 12,
   "id": "7444be96",
   "metadata": {
    "execution": {
     "iopub.execute_input": "2023-04-28T14:52:22.621779Z",
     "iopub.status.busy": "2023-04-28T14:52:22.621364Z",
     "iopub.status.idle": "2023-04-28T14:52:22.716130Z",
     "shell.execute_reply": "2023-04-28T14:52:22.715104Z"
    },
    "papermill": {
     "duration": 0.114775,
     "end_time": "2023-04-28T14:52:22.718820",
     "exception": false,
     "start_time": "2023-04-28T14:52:22.604045",
     "status": "completed"
    },
    "tags": []
   },
   "outputs": [],
   "source": [
    "df = df.drop([\"transaction_date\",\"invoice_id\"], axis= 1)"
   ]
  },
  {
   "cell_type": "code",
   "execution_count": 13,
   "id": "872cfd3c",
   "metadata": {
    "execution": {
     "iopub.execute_input": "2023-04-28T14:52:22.753196Z",
     "iopub.status.busy": "2023-04-28T14:52:22.752536Z",
     "iopub.status.idle": "2023-04-28T14:52:22.760616Z",
     "shell.execute_reply": "2023-04-28T14:52:22.759449Z"
    },
    "papermill": {
     "duration": 0.028752,
     "end_time": "2023-04-28T14:52:22.763336",
     "exception": false,
     "start_time": "2023-04-28T14:52:22.734584",
     "status": "completed"
    },
    "tags": []
   },
   "outputs": [],
   "source": [
    "df['total_sales'] = df['item_price'] * df['quantity_sold']"
   ]
  },
  {
   "cell_type": "code",
   "execution_count": 14,
   "id": "bbe4f5c3",
   "metadata": {
    "execution": {
     "iopub.execute_input": "2023-04-28T14:52:22.797221Z",
     "iopub.status.busy": "2023-04-28T14:52:22.796751Z",
     "iopub.status.idle": "2023-04-28T14:52:22.875657Z",
     "shell.execute_reply": "2023-04-28T14:52:22.874424Z"
    },
    "papermill": {
     "duration": 0.099849,
     "end_time": "2023-04-28T14:52:22.879176",
     "exception": false,
     "start_time": "2023-04-28T14:52:22.779327",
     "status": "completed"
    },
    "tags": []
   },
   "outputs": [],
   "source": [
    "df['week_group'] = pd.cut(df['week'], bins=[40, 45, 50], labels=['first5', 'last5'])\n",
    "\n",
    "# df['week_group'] = pd.cut(df['week'], bins=[40, 42, 44, 46, 48, 50], labels=['week1', 'week2', 'week3', 'week4', 'week5'])\n",
    "\n",
    "# Group by shop id and week group\n",
    "grouped_df = df.groupby(['shop_id', 'week_group']).agg({'total_sales': 'sum'}).reset_index()\n",
    "\n",
    "# Pivot the table to have first5 and last5 as columns\n",
    "pivot_df = grouped_df.pivot(index='shop_id', columns='week_group', values='total_sales')\n",
    "\n",
    "# Add a column to indicate whether a shop's total sales increased in the last 5 weeks compared to the first 5 weeks\n",
    "pivot_df['increased'] = pivot_df['last5'] > pivot_df['first5']\n",
    "\n",
    "# Reset the index and rename columns\n",
    "result_df = pivot_df.reset_index()\n",
    "\n",
    "result_df['percentage_increase'] = (result_df['last5'] - result_df['first5']) / result_df['first5'] * 100\n",
    "\n",
    "# result_df.to_csv('result_df.csv', index=False)\n",
    "\n",
    "# print(result_df)\n",
    "\n",
    "result_df = result_df[['shop_id','increased','percentage_increase']]\n",
    "\n"
   ]
  },
  {
   "cell_type": "code",
   "execution_count": 15,
   "id": "aa874713",
   "metadata": {
    "execution": {
     "iopub.execute_input": "2023-04-28T14:52:22.913956Z",
     "iopub.status.busy": "2023-04-28T14:52:22.913284Z",
     "iopub.status.idle": "2023-04-28T14:52:22.921025Z",
     "shell.execute_reply": "2023-04-28T14:52:22.920161Z"
    },
    "papermill": {
     "duration": 0.028553,
     "end_time": "2023-04-28T14:52:22.923548",
     "exception": false,
     "start_time": "2023-04-28T14:52:22.894995",
     "status": "completed"
    },
    "tags": []
   },
   "outputs": [],
   "source": [
    "result_df.replace([np.inf, -np.inf], np.nan, inplace=True)\n",
    "\n",
    "# Calculate the mean of the percentage_increase column\n",
    "mean_val = result_df['percentage_increase'].mean()\n",
    "\n",
    "result_df.fillna(mean_val, inplace=True)"
   ]
  },
  {
   "cell_type": "code",
   "execution_count": 16,
   "id": "21ff13a9",
   "metadata": {
    "execution": {
     "iopub.execute_input": "2023-04-28T14:52:22.957552Z",
     "iopub.status.busy": "2023-04-28T14:52:22.956809Z",
     "iopub.status.idle": "2023-04-28T14:52:22.966806Z",
     "shell.execute_reply": "2023-04-28T14:52:22.965582Z"
    },
    "papermill": {
     "duration": 0.029951,
     "end_time": "2023-04-28T14:52:22.969315",
     "exception": false,
     "start_time": "2023-04-28T14:52:22.939364",
     "status": "completed"
    },
    "tags": []
   },
   "outputs": [
    {
     "data": {
      "text/plain": [
       "array([34.11082597, 50.59327647, 23.65618528, 43.35897372, -4.76280032,\n",
       "       36.09086141, 57.22847602, 26.17966024, 29.11555441, 12.34008986,\n",
       "       10.30083789, 63.64955285, 29.993187  , 27.25620612, 43.58117782,\n",
       "        3.09498069, 31.42949408, 20.14170173, 39.80284405, 26.01663171,\n",
       "       45.50506283, 13.11777498, 24.37622169, 17.78773483, 38.06449401,\n",
       "       39.89916125, 18.84759508, 32.69981173, 59.08179236, 11.2645225 ,\n",
       "       14.18051172, 15.65402771, 16.27048859, 34.96729347, 14.56208231,\n",
       "       16.66103128, 16.04388239, 25.03735138,  8.94203853, 24.26595144,\n",
       "       22.8558252 , 20.08035658, 18.02964031, 26.59063074, 26.88998719,\n",
       "       33.26888791, -4.86264863,  7.329907  , 47.68538406, 40.48901514,\n",
       "        6.97326056, 33.05680205, 18.43471118,  5.55365179, 38.61742931,\n",
       "       26.97986757, 21.81348342, 12.23759366, 25.58171781, 27.22868769,\n",
       "       42.99452619, 41.12224595, 30.28576064, 13.16611661, 53.13697922,\n",
       "       18.86046512, 27.18708781, 47.62150982, 42.19775691, 26.66202635,\n",
       "        6.61499324, 30.32852605, 15.96600308, 13.6318724 , 36.86227596,\n",
       "       20.38687154, 35.60909717, 43.20353365, 48.32104282, 13.09081473,\n",
       "       23.55626648, 16.5664465 , 16.92763489,  3.47298734,  7.37175079,\n",
       "       25.5382855 , 16.23344323, 24.61311796, 34.08604867, 26.94104093,\n",
       "       12.52128657, 12.54634052, 30.77824127, 22.47081571, 43.51649256,\n",
       "       14.97626509, 46.32456406, 32.47515507, 32.07106089, 19.80770127,\n",
       "       13.93254869, 26.16688552, 30.16934236, 57.8453011 , 13.12425496,\n",
       "       19.28317956, 22.61147992,  7.21025732, 25.84441568, 14.24241519,\n",
       "       19.61839992, 18.50237653,  7.4792764 , 25.72368421, 28.03569002,\n",
       "       44.80730558, 34.04935522, 35.81727002, 22.75016735, 18.51838154,\n",
       "       23.90404869, 74.86624038, 10.91489093, 35.57551472])"
      ]
     },
     "execution_count": 16,
     "metadata": {},
     "output_type": "execute_result"
    }
   ],
   "source": [
    "result_df.percentage_increase.unique()"
   ]
  },
  {
   "cell_type": "code",
   "execution_count": 17,
   "id": "ef6d0574",
   "metadata": {
    "execution": {
     "iopub.execute_input": "2023-04-28T14:52:23.003357Z",
     "iopub.status.busy": "2023-04-28T14:52:23.002640Z",
     "iopub.status.idle": "2023-04-28T14:52:23.054042Z",
     "shell.execute_reply": "2023-04-28T14:52:23.053064Z"
    },
    "papermill": {
     "duration": 0.071441,
     "end_time": "2023-04-28T14:52:23.056676",
     "exception": false,
     "start_time": "2023-04-28T14:52:22.985235",
     "status": "completed"
    },
    "tags": []
   },
   "outputs": [],
   "source": [
    "total_sales_3_week = df.loc[df.week.isin ([48,49,50])].groupby('shop_id')['total_sales'].sum()"
   ]
  },
  {
   "cell_type": "code",
   "execution_count": 18,
   "id": "e46255df",
   "metadata": {
    "execution": {
     "iopub.execute_input": "2023-04-28T14:52:23.090707Z",
     "iopub.status.busy": "2023-04-28T14:52:23.089994Z",
     "iopub.status.idle": "2023-04-28T14:52:23.303986Z",
     "shell.execute_reply": "2023-04-28T14:52:23.302733Z"
    },
    "papermill": {
     "duration": 0.234619,
     "end_time": "2023-04-28T14:52:23.307074",
     "exception": false,
     "start_time": "2023-04-28T14:52:23.072455",
     "status": "completed"
    },
    "tags": []
   },
   "outputs": [],
   "source": [
    "# Group transactions by shop_id\n",
    "shop_transactions = df.groupby('shop_id')\n",
    "\n",
    "# Calculate summary statistics for each shop\n",
    "shop_summary = shop_transactions.agg({\n",
    "    'item_description': 'nunique', # number of unique items sold\n",
    "    'quantity_sold': 'sum', # total quantity sold\n",
    "    'total_sales': 'sum', # total sales\n",
    "})\n",
    "\n",
    "# Calculate loyalty rate mean for each shop\n",
    "loyalty_rate_mean = df.groupby('shop_id')['loyalty_rate'].mean()\n",
    "\n",
    "# Merge loyalty rate mean into shop_summary\n",
    "shop_summary = shop_summary.merge(loyalty_rate_mean, on='shop_id')\n",
    "\n",
    "# Group the data by shop and calculate the average item price\n",
    "avg_item_price = df.groupby(\"shop_id\")[\"item_price\"].mean()\n",
    "\n",
    "# Reset the index of the avg_item_price Series and rename the columns\n",
    "avg_item_price = avg_item_price.reset_index()\n",
    "avg_item_price.columns = [\"shop_id\", \"avg_item_price\"]\n",
    "\n",
    "# Merge the avg_item_price with the original DataFrame on the \"shop_id\" column\n",
    "shop_summary = shop_summary.merge(avg_item_price, on='shop_id')"
   ]
  },
  {
   "cell_type": "code",
   "execution_count": 19,
   "id": "d2d3e119",
   "metadata": {
    "execution": {
     "iopub.execute_input": "2023-04-28T14:52:23.342660Z",
     "iopub.status.busy": "2023-04-28T14:52:23.342227Z",
     "iopub.status.idle": "2023-04-28T14:52:23.351313Z",
     "shell.execute_reply": "2023-04-28T14:52:23.350402Z"
    },
    "papermill": {
     "duration": 0.02921,
     "end_time": "2023-04-28T14:52:23.353488",
     "exception": false,
     "start_time": "2023-04-28T14:52:23.324278",
     "status": "completed"
    },
    "tags": []
   },
   "outputs": [],
   "source": [
    "shop_summary = shop_summary.merge(total_sales_3_week, on='shop_id')\n",
    "shop_summary = shop_summary.rename(columns={'total_sales_x': 'total_sales', 'total_sales_y': 'total_sales_3_week'})"
   ]
  },
  {
   "cell_type": "code",
   "execution_count": 20,
   "id": "3bd4bb72",
   "metadata": {
    "execution": {
     "iopub.execute_input": "2023-04-28T14:52:23.388535Z",
     "iopub.status.busy": "2023-04-28T14:52:23.387190Z",
     "iopub.status.idle": "2023-04-28T14:52:23.394910Z",
     "shell.execute_reply": "2023-04-28T14:52:23.393627Z"
    },
    "papermill": {
     "duration": 0.028089,
     "end_time": "2023-04-28T14:52:23.397524",
     "exception": false,
     "start_time": "2023-04-28T14:52:23.369435",
     "status": "completed"
    },
    "tags": []
   },
   "outputs": [],
   "source": [
    "# Flatten column names\n",
    "shop_summary.columns = [''.join(col).strip() for col in shop_summary.columns.values]\n",
    "\n",
    "# Reset index to make shop_id a column again\n",
    "shop_summary = shop_summary.reset_index()"
   ]
  },
  {
   "cell_type": "code",
   "execution_count": 21,
   "id": "4ab9bdde",
   "metadata": {
    "execution": {
     "iopub.execute_input": "2023-04-28T14:52:23.432700Z",
     "iopub.status.busy": "2023-04-28T14:52:23.431896Z",
     "iopub.status.idle": "2023-04-28T14:52:23.462105Z",
     "shell.execute_reply": "2023-04-28T14:52:23.460893Z"
    },
    "papermill": {
     "duration": 0.050724,
     "end_time": "2023-04-28T14:52:23.464784",
     "exception": false,
     "start_time": "2023-04-28T14:52:23.414060",
     "status": "completed"
    },
    "tags": []
   },
   "outputs": [
    {
     "data": {
      "text/html": [
       "<div>\n",
       "<style scoped>\n",
       "    .dataframe tbody tr th:only-of-type {\n",
       "        vertical-align: middle;\n",
       "    }\n",
       "\n",
       "    .dataframe tbody tr th {\n",
       "        vertical-align: top;\n",
       "    }\n",
       "\n",
       "    .dataframe thead th {\n",
       "        text-align: right;\n",
       "    }\n",
       "</style>\n",
       "<table border=\"1\" class=\"dataframe\">\n",
       "  <thead>\n",
       "    <tr style=\"text-align: right;\">\n",
       "      <th></th>\n",
       "      <th>index</th>\n",
       "      <th>shop_id</th>\n",
       "      <th>item_description</th>\n",
       "      <th>quantity_sold</th>\n",
       "      <th>total_sales</th>\n",
       "      <th>loyalty_rate</th>\n",
       "      <th>avg_item_price</th>\n",
       "      <th>total_sales_3_week</th>\n",
       "    </tr>\n",
       "  </thead>\n",
       "  <tbody>\n",
       "    <tr>\n",
       "      <th>0</th>\n",
       "      <td>0</td>\n",
       "      <td>SHOP001</td>\n",
       "      <td>35</td>\n",
       "      <td>3752</td>\n",
       "      <td>615770</td>\n",
       "      <td>0.228752</td>\n",
       "      <td>173.231511</td>\n",
       "      <td>247650</td>\n",
       "    </tr>\n",
       "    <tr>\n",
       "      <th>1</th>\n",
       "      <td>1</td>\n",
       "      <td>SHOP002</td>\n",
       "      <td>35</td>\n",
       "      <td>9040</td>\n",
       "      <td>1532215</td>\n",
       "      <td>0.233399</td>\n",
       "      <td>172.304377</td>\n",
       "      <td>611790</td>\n",
       "    </tr>\n",
       "    <tr>\n",
       "      <th>2</th>\n",
       "      <td>2</td>\n",
       "      <td>SHOP003</td>\n",
       "      <td>36</td>\n",
       "      <td>6548</td>\n",
       "      <td>1063720</td>\n",
       "      <td>0.217370</td>\n",
       "      <td>164.974710</td>\n",
       "      <td>366665</td>\n",
       "    </tr>\n",
       "    <tr>\n",
       "      <th>3</th>\n",
       "      <td>3</td>\n",
       "      <td>SHOP004</td>\n",
       "      <td>35</td>\n",
       "      <td>5969</td>\n",
       "      <td>971270</td>\n",
       "      <td>0.268561</td>\n",
       "      <td>165.500000</td>\n",
       "      <td>380155</td>\n",
       "    </tr>\n",
       "    <tr>\n",
       "      <th>4</th>\n",
       "      <td>4</td>\n",
       "      <td>SHOP005</td>\n",
       "      <td>36</td>\n",
       "      <td>7301</td>\n",
       "      <td>1245750</td>\n",
       "      <td>0.257195</td>\n",
       "      <td>172.540407</td>\n",
       "      <td>385900</td>\n",
       "    </tr>\n",
       "    <tr>\n",
       "      <th>...</th>\n",
       "      <td>...</td>\n",
       "      <td>...</td>\n",
       "      <td>...</td>\n",
       "      <td>...</td>\n",
       "      <td>...</td>\n",
       "      <td>...</td>\n",
       "      <td>...</td>\n",
       "      <td>...</td>\n",
       "    </tr>\n",
       "    <tr>\n",
       "      <th>119</th>\n",
       "      <td>119</td>\n",
       "      <td>SHOP123</td>\n",
       "      <td>36</td>\n",
       "      <td>3629</td>\n",
       "      <td>590830</td>\n",
       "      <td>0.235808</td>\n",
       "      <td>169.430380</td>\n",
       "      <td>202225</td>\n",
       "    </tr>\n",
       "    <tr>\n",
       "      <th>120</th>\n",
       "      <td>120</td>\n",
       "      <td>SHOP124</td>\n",
       "      <td>35</td>\n",
       "      <td>8506</td>\n",
       "      <td>1309570</td>\n",
       "      <td>0.247890</td>\n",
       "      <td>164.094645</td>\n",
       "      <td>448430</td>\n",
       "    </tr>\n",
       "    <tr>\n",
       "      <th>121</th>\n",
       "      <td>121</td>\n",
       "      <td>SHOP125</td>\n",
       "      <td>36</td>\n",
       "      <td>4079</td>\n",
       "      <td>526575</td>\n",
       "      <td>0.210407</td>\n",
       "      <td>138.314405</td>\n",
       "      <td>197455</td>\n",
       "    </tr>\n",
       "    <tr>\n",
       "      <th>122</th>\n",
       "      <td>122</td>\n",
       "      <td>SHOP126</td>\n",
       "      <td>33</td>\n",
       "      <td>6246</td>\n",
       "      <td>919030</td>\n",
       "      <td>0.219862</td>\n",
       "      <td>156.680532</td>\n",
       "      <td>296315</td>\n",
       "    </tr>\n",
       "    <tr>\n",
       "      <th>123</th>\n",
       "      <td>123</td>\n",
       "      <td>SHOP127</td>\n",
       "      <td>36</td>\n",
       "      <td>8724</td>\n",
       "      <td>1278645</td>\n",
       "      <td>0.200434</td>\n",
       "      <td>159.146594</td>\n",
       "      <td>481360</td>\n",
       "    </tr>\n",
       "  </tbody>\n",
       "</table>\n",
       "<p>124 rows × 8 columns</p>\n",
       "</div>"
      ],
      "text/plain": [
       "     index  shop_id  item_description  quantity_sold  total_sales  \\\n",
       "0        0  SHOP001                35           3752       615770   \n",
       "1        1  SHOP002                35           9040      1532215   \n",
       "2        2  SHOP003                36           6548      1063720   \n",
       "3        3  SHOP004                35           5969       971270   \n",
       "4        4  SHOP005                36           7301      1245750   \n",
       "..     ...      ...               ...            ...          ...   \n",
       "119    119  SHOP123                36           3629       590830   \n",
       "120    120  SHOP124                35           8506      1309570   \n",
       "121    121  SHOP125                36           4079       526575   \n",
       "122    122  SHOP126                33           6246       919030   \n",
       "123    123  SHOP127                36           8724      1278645   \n",
       "\n",
       "     loyalty_rate  avg_item_price  total_sales_3_week  \n",
       "0        0.228752      173.231511              247650  \n",
       "1        0.233399      172.304377              611790  \n",
       "2        0.217370      164.974710              366665  \n",
       "3        0.268561      165.500000              380155  \n",
       "4        0.257195      172.540407              385900  \n",
       "..            ...             ...                 ...  \n",
       "119      0.235808      169.430380              202225  \n",
       "120      0.247890      164.094645              448430  \n",
       "121      0.210407      138.314405              197455  \n",
       "122      0.219862      156.680532              296315  \n",
       "123      0.200434      159.146594              481360  \n",
       "\n",
       "[124 rows x 8 columns]"
      ]
     },
     "execution_count": 21,
     "metadata": {},
     "output_type": "execute_result"
    }
   ],
   "source": [
    "shop_summary"
   ]
  },
  {
   "cell_type": "code",
   "execution_count": 22,
   "id": "cd48bbc4",
   "metadata": {
    "execution": {
     "iopub.execute_input": "2023-04-28T14:52:23.499880Z",
     "iopub.status.busy": "2023-04-28T14:52:23.499475Z",
     "iopub.status.idle": "2023-04-28T14:52:23.508799Z",
     "shell.execute_reply": "2023-04-28T14:52:23.507375Z"
    },
    "papermill": {
     "duration": 0.029626,
     "end_time": "2023-04-28T14:52:23.511327",
     "exception": false,
     "start_time": "2023-04-28T14:52:23.481701",
     "status": "completed"
    },
    "tags": []
   },
   "outputs": [],
   "source": [
    "shop_summary = pd.merge(shop_summary, store_info_data, on='shop_id')"
   ]
  },
  {
   "cell_type": "code",
   "execution_count": 23,
   "id": "704ea557",
   "metadata": {
    "execution": {
     "iopub.execute_input": "2023-04-28T14:52:23.545786Z",
     "iopub.status.busy": "2023-04-28T14:52:23.545363Z",
     "iopub.status.idle": "2023-04-28T14:52:23.555301Z",
     "shell.execute_reply": "2023-04-28T14:52:23.554149Z"
    },
    "papermill": {
     "duration": 0.029937,
     "end_time": "2023-04-28T14:52:23.557596",
     "exception": false,
     "start_time": "2023-04-28T14:52:23.527659",
     "status": "completed"
    },
    "tags": []
   },
   "outputs": [],
   "source": [
    "shop_summary = pd.merge(shop_summary, number, on='shop_id')"
   ]
  },
  {
   "cell_type": "code",
   "execution_count": 24,
   "id": "02dbf6f5",
   "metadata": {
    "execution": {
     "iopub.execute_input": "2023-04-28T14:52:23.591984Z",
     "iopub.status.busy": "2023-04-28T14:52:23.591574Z",
     "iopub.status.idle": "2023-04-28T14:52:23.600379Z",
     "shell.execute_reply": "2023-04-28T14:52:23.599208Z"
    },
    "papermill": {
     "duration": 0.028985,
     "end_time": "2023-04-28T14:52:23.602757",
     "exception": false,
     "start_time": "2023-04-28T14:52:23.573772",
     "status": "completed"
    },
    "tags": []
   },
   "outputs": [],
   "source": [
    "shop_summary = pd.merge(shop_summary, result_df, on='shop_id')"
   ]
  },
  {
   "cell_type": "code",
   "execution_count": 25,
   "id": "998b07cb",
   "metadata": {
    "execution": {
     "iopub.execute_input": "2023-04-28T14:52:23.637137Z",
     "iopub.status.busy": "2023-04-28T14:52:23.636669Z",
     "iopub.status.idle": "2023-04-28T14:52:23.643279Z",
     "shell.execute_reply": "2023-04-28T14:52:23.642142Z"
    },
    "papermill": {
     "duration": 0.026494,
     "end_time": "2023-04-28T14:52:23.645617",
     "exception": false,
     "start_time": "2023-04-28T14:52:23.619123",
     "status": "completed"
    },
    "tags": []
   },
   "outputs": [],
   "source": [
    "le = LabelEncoder()\n",
    "\n",
    "shop_summary['increased'] = le.fit_transform(shop_summary['increased'])"
   ]
  },
  {
   "cell_type": "code",
   "execution_count": 26,
   "id": "d806fe95",
   "metadata": {
    "execution": {
     "iopub.execute_input": "2023-04-28T14:52:23.680028Z",
     "iopub.status.busy": "2023-04-28T14:52:23.679601Z",
     "iopub.status.idle": "2023-04-28T14:52:23.686028Z",
     "shell.execute_reply": "2023-04-28T14:52:23.684873Z"
    },
    "papermill": {
     "duration": 0.026424,
     "end_time": "2023-04-28T14:52:23.688413",
     "exception": false,
     "start_time": "2023-04-28T14:52:23.661989",
     "status": "completed"
    },
    "tags": []
   },
   "outputs": [],
   "source": [
    "shop_summary['sales_per_feet'] = shop_summary['total_sales'] / shop_summary['shop_area_sq_ft']\n",
    "# shop_summary['sales_per_week'] = shop_summary['total_sales_3_week'] / 3\n",
    "# shop_summary['sales_per_week_total'] = shop_summary['total_sales'] / 10\n",
    "\n",
    "# shop_summary.to_csv('shop.csv', index=False)"
   ]
  },
  {
   "cell_type": "code",
   "execution_count": 27,
   "id": "66d3899f",
   "metadata": {
    "execution": {
     "iopub.execute_input": "2023-04-28T14:52:23.723011Z",
     "iopub.status.busy": "2023-04-28T14:52:23.722585Z",
     "iopub.status.idle": "2023-04-28T14:52:23.747690Z",
     "shell.execute_reply": "2023-04-28T14:52:23.746499Z"
    },
    "papermill": {
     "duration": 0.045414,
     "end_time": "2023-04-28T14:52:23.750042",
     "exception": false,
     "start_time": "2023-04-28T14:52:23.704628",
     "status": "completed"
    },
    "scrolled": true,
    "tags": []
   },
   "outputs": [
    {
     "data": {
      "text/html": [
       "<div>\n",
       "<style scoped>\n",
       "    .dataframe tbody tr th:only-of-type {\n",
       "        vertical-align: middle;\n",
       "    }\n",
       "\n",
       "    .dataframe tbody tr th {\n",
       "        vertical-align: top;\n",
       "    }\n",
       "\n",
       "    .dataframe thead th {\n",
       "        text-align: right;\n",
       "    }\n",
       "</style>\n",
       "<table border=\"1\" class=\"dataframe\">\n",
       "  <thead>\n",
       "    <tr style=\"text-align: right;\">\n",
       "      <th></th>\n",
       "      <th>index</th>\n",
       "      <th>shop_id</th>\n",
       "      <th>item_description</th>\n",
       "      <th>quantity_sold</th>\n",
       "      <th>total_sales</th>\n",
       "      <th>loyalty_rate</th>\n",
       "      <th>avg_item_price</th>\n",
       "      <th>total_sales_3_week</th>\n",
       "      <th>shop_area_sq_ft</th>\n",
       "      <th>shop_profile</th>\n",
       "      <th>no_customers</th>\n",
       "      <th>no_invoices</th>\n",
       "      <th>increased</th>\n",
       "      <th>percentage_increase</th>\n",
       "      <th>sales_per_feet</th>\n",
       "    </tr>\n",
       "  </thead>\n",
       "  <tbody>\n",
       "    <tr>\n",
       "      <th>0</th>\n",
       "      <td>0</td>\n",
       "      <td>SHOP001</td>\n",
       "      <td>35</td>\n",
       "      <td>3752</td>\n",
       "      <td>615770</td>\n",
       "      <td>0.228752</td>\n",
       "      <td>173.231511</td>\n",
       "      <td>247650</td>\n",
       "      <td>580</td>\n",
       "      <td>Low</td>\n",
       "      <td>1106</td>\n",
       "      <td>1542</td>\n",
       "      <td>1</td>\n",
       "      <td>34.110826</td>\n",
       "      <td>1061.672414</td>\n",
       "    </tr>\n",
       "    <tr>\n",
       "      <th>1</th>\n",
       "      <td>1</td>\n",
       "      <td>SHOP002</td>\n",
       "      <td>35</td>\n",
       "      <td>9040</td>\n",
       "      <td>1532215</td>\n",
       "      <td>0.233399</td>\n",
       "      <td>172.304377</td>\n",
       "      <td>611790</td>\n",
       "      <td>637</td>\n",
       "      <td>NaN</td>\n",
       "      <td>2545</td>\n",
       "      <td>3738</td>\n",
       "      <td>1</td>\n",
       "      <td>50.593276</td>\n",
       "      <td>2405.361068</td>\n",
       "    </tr>\n",
       "    <tr>\n",
       "      <th>2</th>\n",
       "      <td>2</td>\n",
       "      <td>SHOP003</td>\n",
       "      <td>36</td>\n",
       "      <td>6548</td>\n",
       "      <td>1063720</td>\n",
       "      <td>0.217370</td>\n",
       "      <td>164.974710</td>\n",
       "      <td>366665</td>\n",
       "      <td>810</td>\n",
       "      <td>High</td>\n",
       "      <td>2038</td>\n",
       "      <td>2858</td>\n",
       "      <td>1</td>\n",
       "      <td>23.656185</td>\n",
       "      <td>1313.234568</td>\n",
       "    </tr>\n",
       "    <tr>\n",
       "      <th>3</th>\n",
       "      <td>3</td>\n",
       "      <td>SHOP004</td>\n",
       "      <td>35</td>\n",
       "      <td>5969</td>\n",
       "      <td>971270</td>\n",
       "      <td>0.268561</td>\n",
       "      <td>165.500000</td>\n",
       "      <td>380155</td>\n",
       "      <td>516</td>\n",
       "      <td>Low</td>\n",
       "      <td>1724</td>\n",
       "      <td>2617</td>\n",
       "      <td>1</td>\n",
       "      <td>43.358974</td>\n",
       "      <td>1882.306202</td>\n",
       "    </tr>\n",
       "    <tr>\n",
       "      <th>4</th>\n",
       "      <td>4</td>\n",
       "      <td>SHOP005</td>\n",
       "      <td>36</td>\n",
       "      <td>7301</td>\n",
       "      <td>1245750</td>\n",
       "      <td>0.257195</td>\n",
       "      <td>172.540407</td>\n",
       "      <td>385900</td>\n",
       "      <td>617</td>\n",
       "      <td>Low</td>\n",
       "      <td>2189</td>\n",
       "      <td>3201</td>\n",
       "      <td>0</td>\n",
       "      <td>-4.762800</td>\n",
       "      <td>2019.043760</td>\n",
       "    </tr>\n",
       "    <tr>\n",
       "      <th>...</th>\n",
       "      <td>...</td>\n",
       "      <td>...</td>\n",
       "      <td>...</td>\n",
       "      <td>...</td>\n",
       "      <td>...</td>\n",
       "      <td>...</td>\n",
       "      <td>...</td>\n",
       "      <td>...</td>\n",
       "      <td>...</td>\n",
       "      <td>...</td>\n",
       "      <td>...</td>\n",
       "      <td>...</td>\n",
       "      <td>...</td>\n",
       "      <td>...</td>\n",
       "      <td>...</td>\n",
       "    </tr>\n",
       "    <tr>\n",
       "      <th>119</th>\n",
       "      <td>119</td>\n",
       "      <td>SHOP123</td>\n",
       "      <td>36</td>\n",
       "      <td>3629</td>\n",
       "      <td>590830</td>\n",
       "      <td>0.235808</td>\n",
       "      <td>169.430380</td>\n",
       "      <td>202225</td>\n",
       "      <td>735</td>\n",
       "      <td>Moderate</td>\n",
       "      <td>1145</td>\n",
       "      <td>1608</td>\n",
       "      <td>1</td>\n",
       "      <td>18.518382</td>\n",
       "      <td>803.850340</td>\n",
       "    </tr>\n",
       "    <tr>\n",
       "      <th>120</th>\n",
       "      <td>120</td>\n",
       "      <td>SHOP124</td>\n",
       "      <td>35</td>\n",
       "      <td>8506</td>\n",
       "      <td>1309570</td>\n",
       "      <td>0.247890</td>\n",
       "      <td>164.094645</td>\n",
       "      <td>448430</td>\n",
       "      <td>606</td>\n",
       "      <td>High</td>\n",
       "      <td>2251</td>\n",
       "      <td>3250</td>\n",
       "      <td>1</td>\n",
       "      <td>23.904049</td>\n",
       "      <td>2161.006601</td>\n",
       "    </tr>\n",
       "    <tr>\n",
       "      <th>121</th>\n",
       "      <td>121</td>\n",
       "      <td>SHOP125</td>\n",
       "      <td>36</td>\n",
       "      <td>4079</td>\n",
       "      <td>526575</td>\n",
       "      <td>0.210407</td>\n",
       "      <td>138.314405</td>\n",
       "      <td>197455</td>\n",
       "      <td>1028</td>\n",
       "      <td>High</td>\n",
       "      <td>884</td>\n",
       "      <td>1307</td>\n",
       "      <td>1</td>\n",
       "      <td>74.866240</td>\n",
       "      <td>512.232490</td>\n",
       "    </tr>\n",
       "    <tr>\n",
       "      <th>122</th>\n",
       "      <td>122</td>\n",
       "      <td>SHOP126</td>\n",
       "      <td>33</td>\n",
       "      <td>6246</td>\n",
       "      <td>919030</td>\n",
       "      <td>0.219862</td>\n",
       "      <td>156.680532</td>\n",
       "      <td>296315</td>\n",
       "      <td>328</td>\n",
       "      <td>Moderate</td>\n",
       "      <td>1742</td>\n",
       "      <td>2549</td>\n",
       "      <td>1</td>\n",
       "      <td>10.914891</td>\n",
       "      <td>2801.920732</td>\n",
       "    </tr>\n",
       "    <tr>\n",
       "      <th>123</th>\n",
       "      <td>123</td>\n",
       "      <td>SHOP127</td>\n",
       "      <td>36</td>\n",
       "      <td>8724</td>\n",
       "      <td>1278645</td>\n",
       "      <td>0.200434</td>\n",
       "      <td>159.146594</td>\n",
       "      <td>481360</td>\n",
       "      <td>848</td>\n",
       "      <td>High</td>\n",
       "      <td>2305</td>\n",
       "      <td>3227</td>\n",
       "      <td>1</td>\n",
       "      <td>35.575515</td>\n",
       "      <td>1507.836085</td>\n",
       "    </tr>\n",
       "  </tbody>\n",
       "</table>\n",
       "<p>124 rows × 15 columns</p>\n",
       "</div>"
      ],
      "text/plain": [
       "     index  shop_id  item_description  quantity_sold  total_sales  \\\n",
       "0        0  SHOP001                35           3752       615770   \n",
       "1        1  SHOP002                35           9040      1532215   \n",
       "2        2  SHOP003                36           6548      1063720   \n",
       "3        3  SHOP004                35           5969       971270   \n",
       "4        4  SHOP005                36           7301      1245750   \n",
       "..     ...      ...               ...            ...          ...   \n",
       "119    119  SHOP123                36           3629       590830   \n",
       "120    120  SHOP124                35           8506      1309570   \n",
       "121    121  SHOP125                36           4079       526575   \n",
       "122    122  SHOP126                33           6246       919030   \n",
       "123    123  SHOP127                36           8724      1278645   \n",
       "\n",
       "     loyalty_rate  avg_item_price  total_sales_3_week  shop_area_sq_ft  \\\n",
       "0        0.228752      173.231511              247650              580   \n",
       "1        0.233399      172.304377              611790              637   \n",
       "2        0.217370      164.974710              366665              810   \n",
       "3        0.268561      165.500000              380155              516   \n",
       "4        0.257195      172.540407              385900              617   \n",
       "..            ...             ...                 ...              ...   \n",
       "119      0.235808      169.430380              202225              735   \n",
       "120      0.247890      164.094645              448430              606   \n",
       "121      0.210407      138.314405              197455             1028   \n",
       "122      0.219862      156.680532              296315              328   \n",
       "123      0.200434      159.146594              481360              848   \n",
       "\n",
       "    shop_profile  no_customers  no_invoices  increased  percentage_increase  \\\n",
       "0            Low          1106         1542          1            34.110826   \n",
       "1            NaN          2545         3738          1            50.593276   \n",
       "2           High          2038         2858          1            23.656185   \n",
       "3            Low          1724         2617          1            43.358974   \n",
       "4            Low          2189         3201          0            -4.762800   \n",
       "..           ...           ...          ...        ...                  ...   \n",
       "119     Moderate          1145         1608          1            18.518382   \n",
       "120         High          2251         3250          1            23.904049   \n",
       "121         High           884         1307          1            74.866240   \n",
       "122     Moderate          1742         2549          1            10.914891   \n",
       "123         High          2305         3227          1            35.575515   \n",
       "\n",
       "     sales_per_feet  \n",
       "0       1061.672414  \n",
       "1       2405.361068  \n",
       "2       1313.234568  \n",
       "3       1882.306202  \n",
       "4       2019.043760  \n",
       "..              ...  \n",
       "119      803.850340  \n",
       "120     2161.006601  \n",
       "121      512.232490  \n",
       "122     2801.920732  \n",
       "123     1507.836085  \n",
       "\n",
       "[124 rows x 15 columns]"
      ]
     },
     "execution_count": 27,
     "metadata": {},
     "output_type": "execute_result"
    }
   ],
   "source": [
    "shop_summary"
   ]
  },
  {
   "cell_type": "code",
   "execution_count": 28,
   "id": "416b7c3a",
   "metadata": {
    "execution": {
     "iopub.execute_input": "2023-04-28T14:52:23.786812Z",
     "iopub.status.busy": "2023-04-28T14:52:23.786429Z",
     "iopub.status.idle": "2023-04-28T14:52:23.795072Z",
     "shell.execute_reply": "2023-04-28T14:52:23.793790Z"
    },
    "papermill": {
     "duration": 0.029315,
     "end_time": "2023-04-28T14:52:23.797268",
     "exception": false,
     "start_time": "2023-04-28T14:52:23.767953",
     "status": "completed"
    },
    "tags": []
   },
   "outputs": [],
   "source": [
    "from sklearn.metrics.pairwise import rbf_kernel\n",
    "\n",
    "\n",
    "# Compute the age similarity feature using the RBF kernel\n",
    "simil_617 = rbf_kernel(shop_summary[[\"shop_area_sq_ft\"]], [[617]], gamma=0.1)\n",
    "\n",
    "# Add the age similarity feature to the housing dataset\n",
    "shop_summary['simil_617'] = np.squeeze(simil_617)"
   ]
  },
  {
   "cell_type": "code",
   "execution_count": 29,
   "id": "090a0310",
   "metadata": {
    "execution": {
     "iopub.execute_input": "2023-04-28T14:52:23.832639Z",
     "iopub.status.busy": "2023-04-28T14:52:23.831947Z",
     "iopub.status.idle": "2023-04-28T14:52:23.840502Z",
     "shell.execute_reply": "2023-04-28T14:52:23.839468Z"
    },
    "papermill": {
     "duration": 0.028838,
     "end_time": "2023-04-28T14:52:23.842747",
     "exception": false,
     "start_time": "2023-04-28T14:52:23.813909",
     "status": "completed"
    },
    "tags": []
   },
   "outputs": [],
   "source": [
    "# Compute the similarity feature using the RBF kernel with center at 676\n",
    "simil_676 = rbf_kernel(shop_summary[[\"shop_area_sq_ft\"]], [[676]], gamma=0.1)\n",
    "\n",
    "# Add the similarity feature to the shop_summary dataset\n",
    "shop_summary['simil_676'] = np.squeeze(simil_676)\n"
   ]
  },
  {
   "cell_type": "code",
   "execution_count": 30,
   "id": "9eeede04",
   "metadata": {
    "execution": {
     "iopub.execute_input": "2023-04-28T14:52:23.878764Z",
     "iopub.status.busy": "2023-04-28T14:52:23.877697Z",
     "iopub.status.idle": "2023-04-28T14:52:23.886294Z",
     "shell.execute_reply": "2023-04-28T14:52:23.885051Z"
    },
    "papermill": {
     "duration": 0.028985,
     "end_time": "2023-04-28T14:52:23.888660",
     "exception": false,
     "start_time": "2023-04-28T14:52:23.859675",
     "status": "completed"
    },
    "tags": []
   },
   "outputs": [],
   "source": [
    "# shop_summary.to_csv('shop.csv', index=False)\n",
    "\n",
    "shop_summary['log_item_price'] = np.log(shop_summary['avg_item_price'])\n",
    "\n",
    "shop_summary['sqrt_avg_item_price'] = np.sqrt(shop_summary['avg_item_price'])"
   ]
  },
  {
   "cell_type": "code",
   "execution_count": null,
   "id": "7d5a5f65",
   "metadata": {
    "papermill": {
     "duration": 0.01647,
     "end_time": "2023-04-28T14:52:23.921633",
     "exception": false,
     "start_time": "2023-04-28T14:52:23.905163",
     "status": "completed"
    },
    "tags": []
   },
   "outputs": [],
   "source": []
  },
  {
   "cell_type": "code",
   "execution_count": 31,
   "id": "a60f7c6c",
   "metadata": {
    "execution": {
     "iopub.execute_input": "2023-04-28T14:52:23.956802Z",
     "iopub.status.busy": "2023-04-28T14:52:23.956357Z",
     "iopub.status.idle": "2023-04-28T14:52:23.961291Z",
     "shell.execute_reply": "2023-04-28T14:52:23.960147Z"
    },
    "papermill": {
     "duration": 0.025096,
     "end_time": "2023-04-28T14:52:23.963533",
     "exception": false,
     "start_time": "2023-04-28T14:52:23.938437",
     "status": "completed"
    },
    "tags": []
   },
   "outputs": [],
   "source": [
    "# import matplotlib.pyplot as plt\n",
    "# shop_summary.hist(bins=100, figsize=(12,8))\n",
    "# plt.show()"
   ]
  },
  {
   "cell_type": "code",
   "execution_count": 32,
   "id": "9c72f4f8",
   "metadata": {
    "execution": {
     "iopub.execute_input": "2023-04-28T14:52:23.998240Z",
     "iopub.status.busy": "2023-04-28T14:52:23.997803Z",
     "iopub.status.idle": "2023-04-28T14:52:24.013517Z",
     "shell.execute_reply": "2023-04-28T14:52:24.012291Z"
    },
    "papermill": {
     "duration": 0.035865,
     "end_time": "2023-04-28T14:52:24.016030",
     "exception": false,
     "start_time": "2023-04-28T14:52:23.980165",
     "status": "completed"
    },
    "tags": []
   },
   "outputs": [],
   "source": [
    "scaler = StandardScaler()\n",
    "\n",
    "features = ['shop_area_sq_ft', \"sqrt_avg_item_price\",\"quantity_sold\", \"no_customers\", \"no_invoices\",'loyalty_rate','total_sales','sales_per_feet', 'percentage_increase', \"simil_617\",\"simil_676\"]\n",
    "\n",
    "scaled_data = scaler.fit_transform(shop_summary[features])\n",
    "\n",
    "shop_summary = shop_summary.drop(features, axis=1)\n",
    "\n",
    "scaled_df = pd.DataFrame(scaled_data, columns=features)\n",
    "\n",
    "shop_summary = pd.concat([shop_summary, scaled_df], axis=1)"
   ]
  },
  {
   "cell_type": "code",
   "execution_count": 33,
   "id": "0d479d21",
   "metadata": {
    "execution": {
     "iopub.execute_input": "2023-04-28T14:52:24.051012Z",
     "iopub.status.busy": "2023-04-28T14:52:24.050603Z",
     "iopub.status.idle": "2023-04-28T14:52:24.055880Z",
     "shell.execute_reply": "2023-04-28T14:52:24.054768Z"
    },
    "papermill": {
     "duration": 0.025329,
     "end_time": "2023-04-28T14:52:24.058037",
     "exception": false,
     "start_time": "2023-04-28T14:52:24.032708",
     "status": "completed"
    },
    "tags": []
   },
   "outputs": [],
   "source": [
    "# # define a function to cap the values in a column using the IQR method\n",
    "# def cap_values(col):\n",
    "#     q1 = col.quantile(0.25)\n",
    "#     q3 = col.quantile(0.75)\n",
    "#     iqr = q3 - q1\n",
    "#     lower_bound = q1 - 1.5 * iqr\n",
    "#     upper_bound = q3 + 1.5 * iqr\n",
    "#     col_capped = col.clip(lower_bound, upper_bound)\n",
    "#     return col_capped\n",
    "\n",
    "# # specify the columns to cap\n",
    "# cols_to_cap = ['sales_per_feet', \"avg_item_price\",'loyalty_rate','total_sales','total_sales_3_week']\n",
    "\n",
    "# # cap the values in each specified column\n",
    "# for col in cols_to_cap:\n",
    "#     shop_summary[col] = cap_values(shop_summary[col])"
   ]
  },
  {
   "cell_type": "code",
   "execution_count": 34,
   "id": "daf63711",
   "metadata": {
    "execution": {
     "iopub.execute_input": "2023-04-28T14:52:24.092837Z",
     "iopub.status.busy": "2023-04-28T14:52:24.092411Z",
     "iopub.status.idle": "2023-04-28T14:52:24.100246Z",
     "shell.execute_reply": "2023-04-28T14:52:24.099132Z"
    },
    "papermill": {
     "duration": 0.028141,
     "end_time": "2023-04-28T14:52:24.102665",
     "exception": false,
     "start_time": "2023-04-28T14:52:24.074524",
     "status": "completed"
    },
    "tags": []
   },
   "outputs": [],
   "source": [
    "df_test = shop_summary[shop_summary['shop_profile'].isnull()]\n",
    "df_test =  df_test.reset_index(drop=True)"
   ]
  },
  {
   "cell_type": "code",
   "execution_count": 35,
   "id": "c1cedcf0",
   "metadata": {
    "execution": {
     "iopub.execute_input": "2023-04-28T14:52:24.137942Z",
     "iopub.status.busy": "2023-04-28T14:52:24.137519Z",
     "iopub.status.idle": "2023-04-28T14:52:24.144059Z",
     "shell.execute_reply": "2023-04-28T14:52:24.142909Z"
    },
    "papermill": {
     "duration": 0.02711,
     "end_time": "2023-04-28T14:52:24.146575",
     "exception": false,
     "start_time": "2023-04-28T14:52:24.119465",
     "status": "completed"
    },
    "tags": []
   },
   "outputs": [],
   "source": [
    "df_train = shop_summary[shop_summary['shop_profile'].notnull()]\n",
    "df_train =  df_train.reset_index(drop=True)"
   ]
  },
  {
   "cell_type": "code",
   "execution_count": null,
   "id": "5e265b05",
   "metadata": {
    "papermill": {
     "duration": 0.016226,
     "end_time": "2023-04-28T14:52:24.179526",
     "exception": false,
     "start_time": "2023-04-28T14:52:24.163300",
     "status": "completed"
    },
    "tags": []
   },
   "outputs": [],
   "source": []
  },
  {
   "cell_type": "code",
   "execution_count": 36,
   "id": "f8ef7346",
   "metadata": {
    "execution": {
     "iopub.execute_input": "2023-04-28T14:52:24.214827Z",
     "iopub.status.busy": "2023-04-28T14:52:24.214439Z",
     "iopub.status.idle": "2023-04-28T14:52:24.239571Z",
     "shell.execute_reply": "2023-04-28T14:52:24.238318Z"
    },
    "papermill": {
     "duration": 0.046046,
     "end_time": "2023-04-28T14:52:24.242163",
     "exception": false,
     "start_time": "2023-04-28T14:52:24.196117",
     "status": "completed"
    },
    "tags": []
   },
   "outputs": [],
   "source": [
    "from scipy import stats\n",
    "\n",
    "# define a function to remove outliers using Z-score method\n",
    "def remove_outliers_zscore(df, col):\n",
    "    # calculate the Z-score for each value in the column\n",
    "    z = np.abs(stats.zscore(df[col]))\n",
    "    # create a boolean mask where True = outlier\n",
    "    mask = (z < 3)\n",
    "    # return the dataframe with the outliers removed\n",
    "    return df[mask]\n",
    "\n",
    "# specify the columns to remove outliers\n",
    "cols_to_remove_outliers = [ 'sales_per_feet','shop_area_sq_ft', \"sqrt_avg_item_price\",'loyalty_rate', 'no_invoices','total_sales','total_sales_3_week','percentage_increase']\n",
    "\n",
    "# remove outliers using Z-score method for each specified column\n",
    "for col in cols_to_remove_outliers:\n",
    "    df_train = remove_outliers_zscore(df_train, col)\n"
   ]
  },
  {
   "cell_type": "code",
   "execution_count": 37,
   "id": "787c13aa",
   "metadata": {
    "execution": {
     "iopub.execute_input": "2023-04-28T14:52:24.277566Z",
     "iopub.status.busy": "2023-04-28T14:52:24.277153Z",
     "iopub.status.idle": "2023-04-28T14:52:24.281811Z",
     "shell.execute_reply": "2023-04-28T14:52:24.280730Z"
    },
    "papermill": {
     "duration": 0.024905,
     "end_time": "2023-04-28T14:52:24.283949",
     "exception": false,
     "start_time": "2023-04-28T14:52:24.259044",
     "status": "completed"
    },
    "tags": []
   },
   "outputs": [],
   "source": [
    "# df_train.corr()"
   ]
  },
  {
   "cell_type": "code",
   "execution_count": 38,
   "id": "ff61b2c1",
   "metadata": {
    "execution": {
     "iopub.execute_input": "2023-04-28T14:52:24.319007Z",
     "iopub.status.busy": "2023-04-28T14:52:24.318589Z",
     "iopub.status.idle": "2023-04-28T14:52:24.325024Z",
     "shell.execute_reply": "2023-04-28T14:52:24.323906Z"
    },
    "papermill": {
     "duration": 0.026692,
     "end_time": "2023-04-28T14:52:24.327463",
     "exception": false,
     "start_time": "2023-04-28T14:52:24.300771",
     "status": "completed"
    },
    "tags": []
   },
   "outputs": [],
   "source": [
    "df_xx = df_train.drop('shop_profile', axis =1)\n",
    "df_yy = df_train['shop_profile']"
   ]
  },
  {
   "cell_type": "code",
   "execution_count": 39,
   "id": "1526539f",
   "metadata": {
    "execution": {
     "iopub.execute_input": "2023-04-28T14:52:24.362637Z",
     "iopub.status.busy": "2023-04-28T14:52:24.362213Z",
     "iopub.status.idle": "2023-04-28T14:52:24.369882Z",
     "shell.execute_reply": "2023-04-28T14:52:24.369024Z"
    },
    "papermill": {
     "duration": 0.027934,
     "end_time": "2023-04-28T14:52:24.372133",
     "exception": false,
     "start_time": "2023-04-28T14:52:24.344199",
     "status": "completed"
    },
    "tags": []
   },
   "outputs": [],
   "source": [
    "df_x, X_test, df_y, y_test = train_test_split(df_xx, df_yy, test_size=0.2, random_state=42)"
   ]
  },
  {
   "cell_type": "code",
   "execution_count": 40,
   "id": "18088fdd",
   "metadata": {
    "execution": {
     "iopub.execute_input": "2023-04-28T14:52:24.407773Z",
     "iopub.status.busy": "2023-04-28T14:52:24.407327Z",
     "iopub.status.idle": "2023-04-28T14:52:24.473860Z",
     "shell.execute_reply": "2023-04-28T14:52:24.472393Z"
    },
    "papermill": {
     "duration": 0.087115,
     "end_time": "2023-04-28T14:52:24.476430",
     "exception": false,
     "start_time": "2023-04-28T14:52:24.389315",
     "status": "completed"
    },
    "tags": []
   },
   "outputs": [
    {
     "name": "stdout",
     "output_type": "stream",
     "text": [
      "['quantity_sold', 'no_customers', 'no_invoices', 'total_sales', 'sales_per_feet']\n"
     ]
    }
   ],
   "source": [
    "from sklearn.feature_selection import SelectKBest\n",
    "from sklearn.feature_selection import mutual_info_classif\n",
    "import pandas as pd\n",
    "\n",
    "# Select k best features based on mutual information score\n",
    "k = 5\n",
    "\n",
    "f = df_x.drop('shop_id', axis=1)\n",
    "\n",
    "selector = SelectKBest(mutual_info_classif, k=k)\n",
    "selector.fit(f, df_y)\n",
    "\n",
    "# Get indices of the selected features\n",
    "idxs_selected = selector.get_support(indices=True)\n",
    "\n",
    "# Get names of the selected features\n",
    "selected_features = f.columns[idxs_selected].tolist()\n",
    "\n",
    "# Print selected features\n",
    "print(selected_features)\n"
   ]
  },
  {
   "cell_type": "code",
   "execution_count": 41,
   "id": "abcf6ed3",
   "metadata": {
    "execution": {
     "iopub.execute_input": "2023-04-28T14:52:24.513190Z",
     "iopub.status.busy": "2023-04-28T14:52:24.512335Z",
     "iopub.status.idle": "2023-04-28T14:52:24.521294Z",
     "shell.execute_reply": "2023-04-28T14:52:24.520015Z"
    },
    "papermill": {
     "duration": 0.029887,
     "end_time": "2023-04-28T14:52:24.523476",
     "exception": false,
     "start_time": "2023-04-28T14:52:24.493589",
     "status": "completed"
    },
    "tags": []
   },
   "outputs": [],
   "source": [
    "# selected_features = ['shop_id','shop_area_sq_ft', \"sqrt_avg_item_price\",'loyalty_rate','total_sales','sales_per_feet', 'percentage_increase',\"simil_676\"]\n",
    "selected_features.append('shop_id')\n",
    "df_x = df_x[selected_features]\n",
    "\n",
    "df1_x = df_test.drop('shop_profile', axis =1)\n",
    "df1_x = df1_x[selected_features]"
   ]
  },
  {
   "cell_type": "code",
   "execution_count": 42,
   "id": "fbf994c8",
   "metadata": {
    "execution": {
     "iopub.execute_input": "2023-04-28T14:52:24.558883Z",
     "iopub.status.busy": "2023-04-28T14:52:24.558460Z",
     "iopub.status.idle": "2023-04-28T14:52:24.562959Z",
     "shell.execute_reply": "2023-04-28T14:52:24.561834Z"
    },
    "papermill": {
     "duration": 0.025225,
     "end_time": "2023-04-28T14:52:24.565418",
     "exception": false,
     "start_time": "2023-04-28T14:52:24.540193",
     "status": "completed"
    },
    "tags": []
   },
   "outputs": [],
   "source": [
    "# import seaborn as sns\n",
    "# import matplotlib.pyplot as plt\n",
    "\n",
    "# corr = df_x.corr()\n",
    "\n",
    "# fig, ax = plt.subplots(figsize=(10, 8))\n",
    "# sns.heatmap(corr, annot=True, cmap='coolwarm', ax=ax)\n",
    "# plt.title('Correlation Heatmap')\n",
    "# plt.show()\n"
   ]
  },
  {
   "cell_type": "code",
   "execution_count": 43,
   "id": "1eeb7f11",
   "metadata": {
    "execution": {
     "iopub.execute_input": "2023-04-28T14:52:24.600289Z",
     "iopub.status.busy": "2023-04-28T14:52:24.599826Z",
     "iopub.status.idle": "2023-04-28T14:52:24.607163Z",
     "shell.execute_reply": "2023-04-28T14:52:24.605809Z"
    },
    "papermill": {
     "duration": 0.02778,
     "end_time": "2023-04-28T14:52:24.609686",
     "exception": false,
     "start_time": "2023-04-28T14:52:24.581906",
     "status": "completed"
    },
    "tags": []
   },
   "outputs": [],
   "source": [
    "X_train = df_x.drop('shop_id', axis =1 )\n",
    "X_pred = df1_x.drop('shop_id', axis =1 )"
   ]
  },
  {
   "cell_type": "code",
   "execution_count": 44,
   "id": "f26ae391",
   "metadata": {
    "execution": {
     "iopub.execute_input": "2023-04-28T14:52:24.646011Z",
     "iopub.status.busy": "2023-04-28T14:52:24.645193Z",
     "iopub.status.idle": "2023-04-28T14:52:24.652558Z",
     "shell.execute_reply": "2023-04-28T14:52:24.651329Z"
    },
    "papermill": {
     "duration": 0.02842,
     "end_time": "2023-04-28T14:52:24.655172",
     "exception": false,
     "start_time": "2023-04-28T14:52:24.626752",
     "status": "completed"
    },
    "tags": []
   },
   "outputs": [],
   "source": [
    "X_test = X_test[selected_features]\n",
    "\n",
    "X_test = X_test.drop('shop_id', axis =1 )\n"
   ]
  },
  {
   "cell_type": "code",
   "execution_count": 45,
   "id": "4ad99983",
   "metadata": {
    "execution": {
     "iopub.execute_input": "2023-04-28T14:52:24.690701Z",
     "iopub.status.busy": "2023-04-28T14:52:24.689922Z",
     "iopub.status.idle": "2023-04-28T14:52:24.694517Z",
     "shell.execute_reply": "2023-04-28T14:52:24.693457Z"
    },
    "papermill": {
     "duration": 0.024665,
     "end_time": "2023-04-28T14:52:24.696683",
     "exception": false,
     "start_time": "2023-04-28T14:52:24.672018",
     "status": "completed"
    },
    "tags": []
   },
   "outputs": [],
   "source": [
    "# lableEncoder = LabelEncoder()\n",
    "\n",
    "# y_train = df_y\n",
    "\n",
    "# y_train = lableEncoder.fit_transform(y_train)"
   ]
  },
  {
   "cell_type": "code",
   "execution_count": 46,
   "id": "83602ffd",
   "metadata": {
    "execution": {
     "iopub.execute_input": "2023-04-28T14:52:24.731959Z",
     "iopub.status.busy": "2023-04-28T14:52:24.731539Z",
     "iopub.status.idle": "2023-04-28T14:52:24.736208Z",
     "shell.execute_reply": "2023-04-28T14:52:24.735014Z"
    },
    "papermill": {
     "duration": 0.025345,
     "end_time": "2023-04-28T14:52:24.738704",
     "exception": false,
     "start_time": "2023-04-28T14:52:24.713359",
     "status": "completed"
    },
    "tags": []
   },
   "outputs": [],
   "source": [
    "# from sklearn.preprocessing import OrdinalEncoder\n",
    "\n",
    "# encoder = OrdinalEncoder(categories=[[\"Low\", \"Moderate\", \"High\"]])\n",
    "\n",
    "# y_train = df_y\n",
    "\n",
    "# encoder.fit(y_train)\n",
    "\n",
    "# y_train = encoder.transform(y_train)\n",
    "\n",
    "# print(y_train)\n"
   ]
  },
  {
   "cell_type": "code",
   "execution_count": 47,
   "id": "72d8abbf",
   "metadata": {
    "execution": {
     "iopub.execute_input": "2023-04-28T14:52:24.774915Z",
     "iopub.status.busy": "2023-04-28T14:52:24.774538Z",
     "iopub.status.idle": "2023-04-28T14:52:24.778884Z",
     "shell.execute_reply": "2023-04-28T14:52:24.777813Z"
    },
    "papermill": {
     "duration": 0.025953,
     "end_time": "2023-04-28T14:52:24.781374",
     "exception": false,
     "start_time": "2023-04-28T14:52:24.755421",
     "status": "completed"
    },
    "scrolled": true,
    "tags": []
   },
   "outputs": [],
   "source": [
    "# y_train"
   ]
  },
  {
   "cell_type": "code",
   "execution_count": 48,
   "id": "fd51c99f",
   "metadata": {
    "execution": {
     "iopub.execute_input": "2023-04-28T14:52:24.816544Z",
     "iopub.status.busy": "2023-04-28T14:52:24.816139Z",
     "iopub.status.idle": "2023-04-28T14:52:24.822423Z",
     "shell.execute_reply": "2023-04-28T14:52:24.821166Z"
    },
    "papermill": {
     "duration": 0.02689,
     "end_time": "2023-04-28T14:52:24.824846",
     "exception": false,
     "start_time": "2023-04-28T14:52:24.797956",
     "status": "completed"
    },
    "tags": []
   },
   "outputs": [
    {
     "name": "stdout",
     "output_type": "stream",
     "text": [
      "[2, 2, 1, 1, 2, 3, 2, 3, 3, 1, 3, 1, 2, 1, 2, 1, 2, 1, 2, 3, 2, 1, 2, 2, 2, 1, 1, 3, 3, 1, 3, 3, 3, 1, 3, 1, 2, 2, 3, 3, 3, 3, 1, 3, 3, 2, 1, 2, 1, 2, 2, 1, 1, 3, 1, 3, 1, 1, 3, 1, 2, 3, 1, 1, 1, 2, 2, 3, 2, 2, 2, 3, 1, 3, 3, 1]\n"
     ]
    }
   ],
   "source": [
    "encoding = {\"Low\": 1, \"Moderate\": 2, \"High\": 3}\n",
    "y_train = list(map(encoding.get, df_y))\n",
    "\n",
    "print(y_train)"
   ]
  },
  {
   "cell_type": "code",
   "execution_count": 49,
   "id": "0434d6f0",
   "metadata": {
    "execution": {
     "iopub.execute_input": "2023-04-28T14:52:24.860526Z",
     "iopub.status.busy": "2023-04-28T14:52:24.860122Z",
     "iopub.status.idle": "2023-04-28T14:52:24.868688Z",
     "shell.execute_reply": "2023-04-28T14:52:24.867546Z"
    },
    "papermill": {
     "duration": 0.029293,
     "end_time": "2023-04-28T14:52:24.871103",
     "exception": false,
     "start_time": "2023-04-28T14:52:24.841810",
     "status": "completed"
    },
    "scrolled": true,
    "tags": []
   },
   "outputs": [
    {
     "data": {
      "text/plain": [
       "70    Moderate\n",
       "17    Moderate\n",
       "82         Low\n",
       "83         Low\n",
       "32    Moderate\n",
       "        ...   \n",
       "63        High\n",
       "75         Low\n",
       "16        High\n",
       "96        High\n",
       "54         Low\n",
       "Name: shop_profile, Length: 76, dtype: object"
      ]
     },
     "execution_count": 49,
     "metadata": {},
     "output_type": "execute_result"
    }
   ],
   "source": [
    "df_y"
   ]
  },
  {
   "cell_type": "code",
   "execution_count": 50,
   "id": "36e9740c",
   "metadata": {
    "execution": {
     "iopub.execute_input": "2023-04-28T14:52:24.907014Z",
     "iopub.status.busy": "2023-04-28T14:52:24.906633Z",
     "iopub.status.idle": "2023-04-28T14:52:24.911431Z",
     "shell.execute_reply": "2023-04-28T14:52:24.910321Z"
    },
    "papermill": {
     "duration": 0.025633,
     "end_time": "2023-04-28T14:52:24.913751",
     "exception": false,
     "start_time": "2023-04-28T14:52:24.888118",
     "status": "completed"
    },
    "tags": []
   },
   "outputs": [],
   "source": [
    "# predictors = ['shop_area_sq_ft', \"sqrt_avg_item_price\",'loyalty_rate','total_sales','sales_per_feet', 'percentage_increase',\"simil_676\"]\n",
    "# for predictor in predictors:\n",
    "#     covariance = np.cov(df_x[predictor], y_train)[0][1]\n",
    "#     print(f'Covariance between {predictor} and Outcome: {covariance:.2f}')"
   ]
  },
  {
   "cell_type": "code",
   "execution_count": 51,
   "id": "4da0e588",
   "metadata": {
    "execution": {
     "iopub.execute_input": "2023-04-28T14:52:24.949786Z",
     "iopub.status.busy": "2023-04-28T14:52:24.948975Z",
     "iopub.status.idle": "2023-04-28T14:52:24.953997Z",
     "shell.execute_reply": "2023-04-28T14:52:24.952706Z"
    },
    "papermill": {
     "duration": 0.025777,
     "end_time": "2023-04-28T14:52:24.956376",
     "exception": false,
     "start_time": "2023-04-28T14:52:24.930599",
     "status": "completed"
    },
    "tags": []
   },
   "outputs": [],
   "source": [
    "# predictors = ['shop_area_sq_ft', \"sqrt_avg_item_price\",'loyalty_rate','total_sales','sales_per_feet', 'percentage_increase',\"simil_676\"]\n",
    "# for predictor in predictors:\n",
    "#     correlation = np.corrcoef(df_x[predictor], y_train)[0][1]\n",
    "#     print(f'Correlation between {predictor} and Outcome: {correlation:.2f}')"
   ]
  },
  {
   "cell_type": "code",
   "execution_count": 52,
   "id": "d1a6b058",
   "metadata": {
    "execution": {
     "iopub.execute_input": "2023-04-28T14:52:24.992406Z",
     "iopub.status.busy": "2023-04-28T14:52:24.991430Z",
     "iopub.status.idle": "2023-04-28T14:52:24.995685Z",
     "shell.execute_reply": "2023-04-28T14:52:24.994843Z"
    },
    "papermill": {
     "duration": 0.024541,
     "end_time": "2023-04-28T14:52:24.997790",
     "exception": false,
     "start_time": "2023-04-28T14:52:24.973249",
     "status": "completed"
    },
    "tags": []
   },
   "outputs": [],
   "source": [
    "# import matplotlib.pyplot as plt\n",
    "# df_train.hist(bins=100, figsize=(12,8))\n",
    "# plt.show()"
   ]
  },
  {
   "cell_type": "code",
   "execution_count": 53,
   "id": "545d78d4",
   "metadata": {
    "execution": {
     "iopub.execute_input": "2023-04-28T14:52:25.033379Z",
     "iopub.status.busy": "2023-04-28T14:52:25.032933Z",
     "iopub.status.idle": "2023-04-28T14:52:25.037576Z",
     "shell.execute_reply": "2023-04-28T14:52:25.036358Z"
    },
    "papermill": {
     "duration": 0.025279,
     "end_time": "2023-04-28T14:52:25.039945",
     "exception": false,
     "start_time": "2023-04-28T14:52:25.014666",
     "status": "completed"
    },
    "tags": []
   },
   "outputs": [],
   "source": [
    "# X_train[\"increased\"].value_counts()"
   ]
  },
  {
   "cell_type": "code",
   "execution_count": 54,
   "id": "ba6af6da",
   "metadata": {
    "execution": {
     "iopub.execute_input": "2023-04-28T14:52:25.075541Z",
     "iopub.status.busy": "2023-04-28T14:52:25.074829Z",
     "iopub.status.idle": "2023-04-28T14:52:25.090774Z",
     "shell.execute_reply": "2023-04-28T14:52:25.089581Z"
    },
    "papermill": {
     "duration": 0.036424,
     "end_time": "2023-04-28T14:52:25.093200",
     "exception": false,
     "start_time": "2023-04-28T14:52:25.056776",
     "status": "completed"
    },
    "tags": []
   },
   "outputs": [
    {
     "data": {
      "text/html": [
       "<div>\n",
       "<style scoped>\n",
       "    .dataframe tbody tr th:only-of-type {\n",
       "        vertical-align: middle;\n",
       "    }\n",
       "\n",
       "    .dataframe tbody tr th {\n",
       "        vertical-align: top;\n",
       "    }\n",
       "\n",
       "    .dataframe thead th {\n",
       "        text-align: right;\n",
       "    }\n",
       "</style>\n",
       "<table border=\"1\" class=\"dataframe\">\n",
       "  <thead>\n",
       "    <tr style=\"text-align: right;\">\n",
       "      <th></th>\n",
       "      <th>quantity_sold</th>\n",
       "      <th>no_customers</th>\n",
       "      <th>no_invoices</th>\n",
       "      <th>total_sales</th>\n",
       "      <th>sales_per_feet</th>\n",
       "    </tr>\n",
       "  </thead>\n",
       "  <tbody>\n",
       "    <tr>\n",
       "      <th>70</th>\n",
       "      <td>-1.356385</td>\n",
       "      <td>-1.128613</td>\n",
       "      <td>-1.245715</td>\n",
       "      <td>-1.280011</td>\n",
       "      <td>-1.433682</td>\n",
       "    </tr>\n",
       "    <tr>\n",
       "      <th>17</th>\n",
       "      <td>0.966431</td>\n",
       "      <td>0.598369</td>\n",
       "      <td>0.779314</td>\n",
       "      <td>1.220954</td>\n",
       "      <td>0.913026</td>\n",
       "    </tr>\n",
       "    <tr>\n",
       "      <th>82</th>\n",
       "      <td>-0.594035</td>\n",
       "      <td>-0.677243</td>\n",
       "      <td>-0.507360</td>\n",
       "      <td>-0.256118</td>\n",
       "      <td>0.734429</td>\n",
       "    </tr>\n",
       "    <tr>\n",
       "      <th>83</th>\n",
       "      <td>-0.259405</td>\n",
       "      <td>0.038171</td>\n",
       "      <td>-0.060716</td>\n",
       "      <td>-0.036316</td>\n",
       "      <td>-0.128877</td>\n",
       "    </tr>\n",
       "    <tr>\n",
       "      <th>32</th>\n",
       "      <td>-0.576887</td>\n",
       "      <td>-0.728981</td>\n",
       "      <td>-0.605404</td>\n",
       "      <td>-0.486221</td>\n",
       "      <td>-0.160501</td>\n",
       "    </tr>\n",
       "    <tr>\n",
       "      <th>...</th>\n",
       "      <td>...</td>\n",
       "      <td>...</td>\n",
       "      <td>...</td>\n",
       "      <td>...</td>\n",
       "      <td>...</td>\n",
       "    </tr>\n",
       "    <tr>\n",
       "      <th>63</th>\n",
       "      <td>1.573959</td>\n",
       "      <td>1.749096</td>\n",
       "      <td>1.838429</td>\n",
       "      <td>1.589223</td>\n",
       "      <td>1.732090</td>\n",
       "    </tr>\n",
       "    <tr>\n",
       "      <th>75</th>\n",
       "      <td>0.536751</td>\n",
       "      <td>0.080988</td>\n",
       "      <td>0.601382</td>\n",
       "      <td>0.835082</td>\n",
       "      <td>0.285697</td>\n",
       "    </tr>\n",
       "    <tr>\n",
       "      <th>16</th>\n",
       "      <td>2.185896</td>\n",
       "      <td>1.192466</td>\n",
       "      <td>1.373629</td>\n",
       "      <td>1.746622</td>\n",
       "      <td>1.348647</td>\n",
       "    </tr>\n",
       "    <tr>\n",
       "      <th>96</th>\n",
       "      <td>0.766534</td>\n",
       "      <td>0.460996</td>\n",
       "      <td>0.418609</td>\n",
       "      <td>0.609484</td>\n",
       "      <td>0.466870</td>\n",
       "    </tr>\n",
       "    <tr>\n",
       "      <th>54</th>\n",
       "      <td>0.762125</td>\n",
       "      <td>0.598369</td>\n",
       "      <td>0.720003</td>\n",
       "      <td>1.058005</td>\n",
       "      <td>0.777989</td>\n",
       "    </tr>\n",
       "  </tbody>\n",
       "</table>\n",
       "<p>76 rows × 5 columns</p>\n",
       "</div>"
      ],
      "text/plain": [
       "    quantity_sold  no_customers  no_invoices  total_sales  sales_per_feet\n",
       "70      -1.356385     -1.128613    -1.245715    -1.280011       -1.433682\n",
       "17       0.966431      0.598369     0.779314     1.220954        0.913026\n",
       "82      -0.594035     -0.677243    -0.507360    -0.256118        0.734429\n",
       "83      -0.259405      0.038171    -0.060716    -0.036316       -0.128877\n",
       "32      -0.576887     -0.728981    -0.605404    -0.486221       -0.160501\n",
       "..            ...           ...          ...          ...             ...\n",
       "63       1.573959      1.749096     1.838429     1.589223        1.732090\n",
       "75       0.536751      0.080988     0.601382     0.835082        0.285697\n",
       "16       2.185896      1.192466     1.373629     1.746622        1.348647\n",
       "96       0.766534      0.460996     0.418609     0.609484        0.466870\n",
       "54       0.762125      0.598369     0.720003     1.058005        0.777989\n",
       "\n",
       "[76 rows x 5 columns]"
      ]
     },
     "execution_count": 54,
     "metadata": {},
     "output_type": "execute_result"
    }
   ],
   "source": [
    "X_train"
   ]
  },
  {
   "cell_type": "code",
   "execution_count": 55,
   "id": "ccda43fa",
   "metadata": {
    "execution": {
     "iopub.execute_input": "2023-04-28T14:52:25.129848Z",
     "iopub.status.busy": "2023-04-28T14:52:25.129154Z",
     "iopub.status.idle": "2023-04-28T14:52:25.133335Z",
     "shell.execute_reply": "2023-04-28T14:52:25.132600Z"
    },
    "papermill": {
     "duration": 0.025182,
     "end_time": "2023-04-28T14:52:25.135581",
     "exception": false,
     "start_time": "2023-04-28T14:52:25.110399",
     "status": "completed"
    },
    "tags": []
   },
   "outputs": [],
   "source": [
    "# X_test"
   ]
  },
  {
   "cell_type": "code",
   "execution_count": 56,
   "id": "dfb61c69",
   "metadata": {
    "execution": {
     "iopub.execute_input": "2023-04-28T14:52:25.172101Z",
     "iopub.status.busy": "2023-04-28T14:52:25.171302Z",
     "iopub.status.idle": "2023-04-28T14:52:25.176896Z",
     "shell.execute_reply": "2023-04-28T14:52:25.175786Z"
    },
    "papermill": {
     "duration": 0.026487,
     "end_time": "2023-04-28T14:52:25.179249",
     "exception": false,
     "start_time": "2023-04-28T14:52:25.152762",
     "status": "completed"
    },
    "tags": []
   },
   "outputs": [],
   "source": [
    "# max_depths = [2*i for i in range(1,15)]\n",
    "# min_samples_splits = [2,4,8]\n",
    "# min_samples_leafs =  [1,2,4]\n",
    "# n_estimator = 100\n",
    "# best_score = 0\n",
    "\n",
    "# for max_depth in max_depths:\n",
    "#     for min_samples_split in min_samples_splits:\n",
    "#         for min_samples_leaf in min_samples_leafs:\n",
    "#             random_forest = RandomForestClassifier( max_depth=max_depth, min_samples_split=min_samples_split, min_samples_leaf=min_samples_leaf)\n",
    "\n",
    "#             accuracy_list = cross_val_score(random_forest, X_train, y_train, cv=10)\n",
    "#             accuracy = accuracy_list.mean()\n",
    "\n",
    "#             if accuracy > best_score:\n",
    "#                 best_score = accuracy\n",
    "#                 best_params = {'max_depth': max_depth, 'min_samples_split': min_samples_split, 'min_samples_leaf': min_samples_leaf}\n",
    "#                 print(f'Best hyperparameters: {best_params}')\n",
    "#                 print(f'Accuracy: {best_score}')\n",
    "\n",
    "\n",
    "# print(f'Best hyperparameters: {best_params}')\n",
    "# print(f'Accuracy: {best_score}')"
   ]
  },
  {
   "cell_type": "code",
   "execution_count": 57,
   "id": "147dccd7",
   "metadata": {
    "execution": {
     "iopub.execute_input": "2023-04-28T14:52:25.215496Z",
     "iopub.status.busy": "2023-04-28T14:52:25.214698Z",
     "iopub.status.idle": "2023-04-28T14:52:25.220071Z",
     "shell.execute_reply": "2023-04-28T14:52:25.218848Z"
    },
    "papermill": {
     "duration": 0.026255,
     "end_time": "2023-04-28T14:52:25.222579",
     "exception": false,
     "start_time": "2023-04-28T14:52:25.196324",
     "status": "completed"
    },
    "tags": []
   },
   "outputs": [],
   "source": [
    "# print(X_test.info())"
   ]
  },
  {
   "cell_type": "code",
   "execution_count": 58,
   "id": "10f6f07c",
   "metadata": {
    "execution": {
     "iopub.execute_input": "2023-04-28T14:52:25.258855Z",
     "iopub.status.busy": "2023-04-28T14:52:25.258471Z",
     "iopub.status.idle": "2023-04-28T14:52:26.598707Z",
     "shell.execute_reply": "2023-04-28T14:52:26.597379Z"
    },
    "papermill": {
     "duration": 1.361849,
     "end_time": "2023-04-28T14:52:26.601585",
     "exception": false,
     "start_time": "2023-04-28T14:52:25.239736",
     "status": "completed"
    },
    "tags": []
   },
   "outputs": [
    {
     "name": "stdout",
     "output_type": "stream",
     "text": [
      "Best Hyperparameters: {'C': 10, 'max_iter': 100}\n",
      "Best Score: 0.605\n"
     ]
    }
   ],
   "source": [
    "from sklearn.linear_model import LogisticRegression\n",
    "from sklearn.model_selection import train_test_split\n",
    "from sklearn.metrics import accuracy_score\n",
    "import numpy as np\n",
    "from sklearn.model_selection import train_test_split, GridSearchCV\n",
    "\n",
    "# create a Logistic Regression model\n",
    "mmodel = LogisticRegression(multi_class='multinomial', solver='lbfgs', max_iter=1000)\n",
    "\n",
    "param_grid = {\n",
    "    'C': [0.01, 0.1, 1, 10, 100],\n",
    "    'max_iter': [100, 500, 1000, 5000],\n",
    "}\n",
    "\n",
    "\n",
    "# perform grid search to find the best hyperparameters\n",
    "grid_search = GridSearchCV(mmodel, param_grid, cv=5, scoring='accuracy')\n",
    "grid_search.fit(X_train, y_train)\n",
    "\n",
    "# print the best hyperparameters and corresponding score\n",
    "print(\"Best Hyperparameters:\", grid_search.best_params_)\n",
    "print(\"Best Score:\", grid_search.best_score_)\n",
    "\n",
    "# make predictions on the test data using the best model\n",
    "model = grid_search.best_estimator_\n",
    "# y_pred = model.predict(X_test)\n",
    "\n",
    "# train the model on the training data\n",
    "# model.fit(X_train, y_train)"
   ]
  },
  {
   "cell_type": "code",
   "execution_count": 59,
   "id": "6e2d5998",
   "metadata": {
    "execution": {
     "iopub.execute_input": "2023-04-28T14:52:26.639126Z",
     "iopub.status.busy": "2023-04-28T14:52:26.637985Z",
     "iopub.status.idle": "2023-04-28T14:52:26.643726Z",
     "shell.execute_reply": "2023-04-28T14:52:26.642709Z"
    },
    "papermill": {
     "duration": 0.026591,
     "end_time": "2023-04-28T14:52:26.645958",
     "exception": false,
     "start_time": "2023-04-28T14:52:26.619367",
     "status": "completed"
    },
    "tags": []
   },
   "outputs": [],
   "source": [
    "#  model = DecisionTreeClassifier()\n",
    "# # model = RandomForestClassifier(max_depth= 8, min_samples_split= 2, min_samples_leaf= 1)\n",
    "# # max_depth= 6, min_samples_split= 4, min_samples_leaf= 1\n",
    "# # n_estimators = 100, max_depth=16, min_samples_split=2, min_samples_leaf=1\n",
    "\n",
    "# model.fit(X_train, y_train)"
   ]
  },
  {
   "cell_type": "code",
   "execution_count": 60,
   "id": "a220cc4e",
   "metadata": {
    "execution": {
     "iopub.execute_input": "2023-04-28T14:52:26.682299Z",
     "iopub.status.busy": "2023-04-28T14:52:26.681885Z",
     "iopub.status.idle": "2023-04-28T14:52:26.694489Z",
     "shell.execute_reply": "2023-04-28T14:52:26.693238Z"
    },
    "papermill": {
     "duration": 0.03386,
     "end_time": "2023-04-28T14:52:26.697131",
     "exception": false,
     "start_time": "2023-04-28T14:52:26.663271",
     "status": "completed"
    },
    "tags": []
   },
   "outputs": [
    {
     "name": "stdout",
     "output_type": "stream",
     "text": [
      "<class 'pandas.core.frame.DataFrame'>\n",
      "Int64Index: 76 entries, 70 to 54\n",
      "Data columns (total 5 columns):\n",
      " #   Column          Non-Null Count  Dtype  \n",
      "---  ------          --------------  -----  \n",
      " 0   quantity_sold   76 non-null     float64\n",
      " 1   no_customers    76 non-null     float64\n",
      " 2   no_invoices     76 non-null     float64\n",
      " 3   total_sales     76 non-null     float64\n",
      " 4   sales_per_feet  76 non-null     float64\n",
      "dtypes: float64(5)\n",
      "memory usage: 3.6 KB\n"
     ]
    }
   ],
   "source": [
    "X_train.info()"
   ]
  },
  {
   "cell_type": "code",
   "execution_count": 61,
   "id": "2bda2d99",
   "metadata": {
    "execution": {
     "iopub.execute_input": "2023-04-28T14:52:26.735686Z",
     "iopub.status.busy": "2023-04-28T14:52:26.735312Z",
     "iopub.status.idle": "2023-04-28T14:52:26.739696Z",
     "shell.execute_reply": "2023-04-28T14:52:26.738486Z"
    },
    "papermill": {
     "duration": 0.026391,
     "end_time": "2023-04-28T14:52:26.741989",
     "exception": false,
     "start_time": "2023-04-28T14:52:26.715598",
     "status": "completed"
    },
    "tags": []
   },
   "outputs": [],
   "source": [
    "# import xgboost as xgb\n",
    "# from sklearn.metrics import accuracy_score, precision_score, recall_score, f1_score\n",
    "\n",
    "# model = xgb.XGBClassifier()\n",
    "# # colsample_bytree = 0.75, learning_rate= 0.1, max_depth= 3, n_estimators = 100, subsample= 0.75\n",
    "# model.fit(X_train, y_train)"
   ]
  },
  {
   "cell_type": "code",
   "execution_count": 62,
   "id": "1ef68005",
   "metadata": {
    "execution": {
     "iopub.execute_input": "2023-04-28T14:52:26.779340Z",
     "iopub.status.busy": "2023-04-28T14:52:26.778942Z",
     "iopub.status.idle": "2023-04-28T14:52:26.790202Z",
     "shell.execute_reply": "2023-04-28T14:52:26.788928Z"
    },
    "papermill": {
     "duration": 0.033285,
     "end_time": "2023-04-28T14:52:26.792628",
     "exception": false,
     "start_time": "2023-04-28T14:52:26.759343",
     "status": "completed"
    },
    "tags": []
   },
   "outputs": [
    {
     "name": "stdout",
     "output_type": "stream",
     "text": [
      "Accuracy: 0.5263157894736842\n"
     ]
    }
   ],
   "source": [
    "# make predictions on the test data\n",
    "y_pred_test = model.predict(X_test)\n",
    "\n",
    "reverse_encoding = {v: k for k, v in encoding.items()}\n",
    "\n",
    "y_pred_test = [reverse_encoding[val] for val in y_pred_test]\n",
    "\n",
    "# # evaluate the accuracy of the model\n",
    "accuracy = accuracy_score(y_pred_test, y_test)\n",
    "print(\"Accuracy:\", accuracy)\n",
    "\n",
    "y_pred = model.predict(X_pred)"
   ]
  },
  {
   "cell_type": "code",
   "execution_count": 63,
   "id": "48a89fc5",
   "metadata": {
    "execution": {
     "iopub.execute_input": "2023-04-28T14:52:26.828639Z",
     "iopub.status.busy": "2023-04-28T14:52:26.828196Z",
     "iopub.status.idle": "2023-04-28T14:52:26.929518Z",
     "shell.execute_reply": "2023-04-28T14:52:26.928158Z"
    },
    "papermill": {
     "duration": 0.122056,
     "end_time": "2023-04-28T14:52:26.931917",
     "exception": false,
     "start_time": "2023-04-28T14:52:26.809861",
     "status": "completed"
    },
    "tags": []
   },
   "outputs": [
    {
     "name": "stdout",
     "output_type": "stream",
     "text": [
      "Cross-validation scores: [0.625      0.46666667 0.66666667 0.53333333 0.73333333]\n",
      "Mean cross-validation score: 0.605\n"
     ]
    }
   ],
   "source": [
    "scores = cross_val_score(model, X_train, y_train, cv=5)                                   \n",
    "print(\"Cross-validation scores:\", scores)\n",
    "print(\"Mean cross-validation score:\", scores.mean())"
   ]
  },
  {
   "cell_type": "code",
   "execution_count": 64,
   "id": "870f70b5",
   "metadata": {
    "execution": {
     "iopub.execute_input": "2023-04-28T14:52:26.968273Z",
     "iopub.status.busy": "2023-04-28T14:52:26.967812Z",
     "iopub.status.idle": "2023-04-28T14:52:26.982387Z",
     "shell.execute_reply": "2023-04-28T14:52:26.980883Z"
    },
    "papermill": {
     "duration": 0.035704,
     "end_time": "2023-04-28T14:52:26.984732",
     "exception": false,
     "start_time": "2023-04-28T14:52:26.949028",
     "status": "completed"
    },
    "scrolled": true,
    "tags": []
   },
   "outputs": [
    {
     "name": "stdout",
     "output_type": "stream",
     "text": [
      "['High', 'Low', 'Low', 'Low', 'Moderate', 'Moderate', 'Low', 'Moderate', 'Moderate', 'Low', 'High', 'Low', 'Low', 'High', 'Low', 'Moderate', 'High', 'Moderate', 'High', 'Low', 'Moderate', 'Moderate', 'Low', 'High']\n"
     ]
    }
   ],
   "source": [
    "reverse_encoding = {v: k for k, v in encoding.items()}\n",
    "\n",
    "y_pred = [reverse_encoding[val] for val in y_pred]\n",
    "\n",
    "print(y_pred)\n",
    "\n",
    "shop_profile = pd.DataFrame({'shop_profile': y_pred})\n",
    "\n",
    "df_concat = pd.concat([df1_x, shop_profile], axis=1)\n",
    "\n",
    "store_info = store_info_data.drop('shop_profile', axis =1)\n",
    "\n",
    "df_concat = pd.merge(df_concat, store_info , on=\"shop_id\" , how=\"left\")"
   ]
  },
  {
   "cell_type": "code",
   "execution_count": 65,
   "id": "ccbd877f",
   "metadata": {
    "execution": {
     "iopub.execute_input": "2023-04-28T14:52:27.021212Z",
     "iopub.status.busy": "2023-04-28T14:52:27.020749Z",
     "iopub.status.idle": "2023-04-28T14:52:27.031597Z",
     "shell.execute_reply": "2023-04-28T14:52:27.029933Z"
    },
    "papermill": {
     "duration": 0.031772,
     "end_time": "2023-04-28T14:52:27.033854",
     "exception": false,
     "start_time": "2023-04-28T14:52:27.002082",
     "status": "completed"
    },
    "tags": []
   },
   "outputs": [
    {
     "name": "stdout",
     "output_type": "stream",
     "text": [
      "    shop_id shop_profile\n",
      "0   SHOP002         High\n",
      "1   SHOP019          Low\n",
      "2   SHOP023          Low\n",
      "3   SHOP024          Low\n",
      "4   SHOP029     Moderate\n",
      "5   SHOP030     Moderate\n",
      "6   SHOP038          Low\n",
      "7   SHOP044     Moderate\n",
      "8   SHOP046     Moderate\n",
      "9   SHOP050          Low\n",
      "10  SHOP056         High\n",
      "11  SHOP061          Low\n",
      "12  SHOP070          Low\n",
      "13  SHOP074         High\n",
      "14  SHOP076          Low\n",
      "15  SHOP080     Moderate\n",
      "16  SHOP081         High\n",
      "17  SHOP087     Moderate\n",
      "18  SHOP092         High\n",
      "19  SHOP096          Low\n",
      "20  SHOP097     Moderate\n",
      "21  SHOP107     Moderate\n",
      "22  SHOP108          Low\n",
      "23  SHOP114         High\n"
     ]
    }
   ],
   "source": [
    "output = df_concat[['shop_id','shop_profile']]\n",
    "print(output)"
   ]
  },
  {
   "cell_type": "code",
   "execution_count": 66,
   "id": "444aef37",
   "metadata": {
    "execution": {
     "iopub.execute_input": "2023-04-28T14:52:27.071037Z",
     "iopub.status.busy": "2023-04-28T14:52:27.070296Z",
     "iopub.status.idle": "2023-04-28T14:52:27.171039Z",
     "shell.execute_reply": "2023-04-28T14:52:27.169501Z"
    },
    "papermill": {
     "duration": 0.122065,
     "end_time": "2023-04-28T14:52:27.173578",
     "exception": false,
     "start_time": "2023-04-28T14:52:27.051513",
     "status": "completed"
    },
    "tags": []
   },
   "outputs": [
    {
     "name": "stdout",
     "output_type": "stream",
     "text": [
      "Mean F1-score: 0.5845125245125246\n",
      "Standard deviation: 0.08145473193433564\n"
     ]
    }
   ],
   "source": [
    "from sklearn.model_selection import cross_val_score\n",
    "from sklearn.metrics import f1_score, make_scorer\n",
    "\n",
    "# define cross-validation\n",
    "cv = 5\n",
    "\n",
    "# define F1-score with macro averaging as scoring metric\n",
    "scoring = make_scorer(f1_score, average='macro')\n",
    "\n",
    "# perform cross-validation\n",
    "scores = cross_val_score(model, X_train, y_train, cv=cv, scoring=scoring)\n",
    "\n",
    "# print mean F1-score and standard deviation\n",
    "print('Mean F1-score:', scores.mean())\n",
    "print('Standard deviation:', scores.std())"
   ]
  },
  {
   "cell_type": "code",
   "execution_count": 67,
   "id": "0fedf3bf",
   "metadata": {
    "execution": {
     "iopub.execute_input": "2023-04-28T14:52:27.211144Z",
     "iopub.status.busy": "2023-04-28T14:52:27.210328Z",
     "iopub.status.idle": "2023-04-28T14:52:27.222659Z",
     "shell.execute_reply": "2023-04-28T14:52:27.221557Z"
    },
    "papermill": {
     "duration": 0.03404,
     "end_time": "2023-04-28T14:52:27.225327",
     "exception": false,
     "start_time": "2023-04-28T14:52:27.191287",
     "status": "completed"
    },
    "tags": []
   },
   "outputs": [],
   "source": [
    "# Save test predictions to file\n",
    "\n",
    "output.to_csv('submission.csv', index=False)"
   ]
  },
  {
   "cell_type": "code",
   "execution_count": null,
   "id": "f37494dc",
   "metadata": {
    "papermill": {
     "duration": 0.017309,
     "end_time": "2023-04-28T14:52:27.260493",
     "exception": false,
     "start_time": "2023-04-28T14:52:27.243184",
     "status": "completed"
    },
    "tags": []
   },
   "outputs": [],
   "source": []
  },
  {
   "cell_type": "code",
   "execution_count": null,
   "id": "e0fc3c4c",
   "metadata": {
    "papermill": {
     "duration": 0.017297,
     "end_time": "2023-04-28T14:52:27.295564",
     "exception": false,
     "start_time": "2023-04-28T14:52:27.278267",
     "status": "completed"
    },
    "tags": []
   },
   "outputs": [],
   "source": []
  },
  {
   "cell_type": "code",
   "execution_count": null,
   "id": "8f4302fc",
   "metadata": {
    "papermill": {
     "duration": 0.017269,
     "end_time": "2023-04-28T14:52:27.330324",
     "exception": false,
     "start_time": "2023-04-28T14:52:27.313055",
     "status": "completed"
    },
    "tags": []
   },
   "outputs": [],
   "source": []
  }
 ],
 "metadata": {
  "kernelspec": {
   "display_name": "Python 3",
   "language": "python",
   "name": "python3"
  },
  "language_info": {
   "codemirror_mode": {
    "name": "ipython",
    "version": 3
   },
   "file_extension": ".py",
   "mimetype": "text/x-python",
   "name": "python",
   "nbconvert_exporter": "python",
   "pygments_lexer": "ipython3",
   "version": "3.7.12"
  },
  "papermill": {
   "default_parameters": {},
   "duration": 28.164275,
   "end_time": "2023-04-28T14:52:28.170624",
   "environment_variables": {},
   "exception": null,
   "input_path": "__notebook__.ipynb",
   "output_path": "__notebook__.ipynb",
   "parameters": {},
   "start_time": "2023-04-28T14:52:00.006349",
   "version": "2.4.0"
  }
 },
 "nbformat": 4,
 "nbformat_minor": 5
}
